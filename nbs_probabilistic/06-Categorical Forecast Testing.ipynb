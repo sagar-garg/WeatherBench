{
 "cells": [
  {
   "cell_type": "markdown",
   "metadata": {},
   "source": [
    "#Notes:\n",
    "- Using pandas.cut for binning. bin_min=-inf, bin_max=inf. Binning on normalized data only.* (Other option to explore: sklearn KBinsDiscretizer. Issue is that bins cant be predefined. We need same bins for each batch of y. advantage: inverse is easily available)\n",
    "\n",
    "- Changing y to categorical only for training. not for valid, test. so shape of y will be different. shape[batch_size, lat, lon, variable, member] Is shape ok?\n",
    "\n",
    "- Please check custom loss function in networks.py\n",
    "- create_predictions() function changed.\n",
    "- currently works only for 2 output variables. ToDO.\n",
    "- couldnt implement weighted loss.\n",
    "\n",
    "\n",
    "ToDo: change prediction to xarray with each bin as 'member' having value=mid-point of bin. (This was easier with Kbinsdiscretizer since it had an inverse function, now will have to do manually). Then use rmse, crps, rank-histogram evaluation. Not doing right now, since prediction is bad.\n",
    "\n",
    "- Stuff I read:\n",
    "    - too many bins may lead to overfitting (also slow). need to tune.\n",
    "    - high cardinality of data is a problem with OneHot."
   ]
  },
  {
   "cell_type": "markdown",
   "metadata": {},
   "source": [
    "#Questions\n",
    "- should we remove the last 'leaky relu' activation layer? wont make much difference.\n",
    "\n",
    "- should I change the data_generator and load_data fn. directly? currently i made a data_generator_categorical.py"
   ]
  },
  {
   "cell_type": "code",
   "execution_count": null,
   "metadata": {},
   "outputs": [],
   "source": []
  },
  {
   "cell_type": "code",
   "execution_count": 27,
   "metadata": {},
   "outputs": [
    {
     "name": "stdout",
     "output_type": "stream",
     "text": [
      "The autoreload extension is already loaded. To reload it, use:\n",
      "  %reload_ext autoreload\n"
     ]
    }
   ],
   "source": [
    "%load_ext autoreload\n",
    "%autoreload 2"
   ]
  },
  {
   "cell_type": "code",
   "execution_count": 28,
   "metadata": {},
   "outputs": [],
   "source": [
    "import xarray as xr\n",
    "import numpy as np\n",
    "import matplotlib.pyplot as plt\n",
    "from src.data_generator import *\n",
    "from src.train import *\n",
    "from src.utils import *\n",
    "from src.networks import *"
   ]
  },
  {
   "cell_type": "code",
   "execution_count": 29,
   "metadata": {},
   "outputs": [
    {
     "name": "stderr",
     "output_type": "stream",
     "text": [
      "/home/garg/miniconda3/envs/weatherbench/lib/python3.7/site-packages/tensorflow_core/python/client/session.py:1750: UserWarning: An interactive session is already active. This can cause out-of-memory errors in some cases. You must explicitly call `InteractiveSession.close()` to release resources held by the other session(s).\n",
      "  warnings.warn('An interactive session is already active. This can '\n"
     ]
    }
   ],
   "source": [
    "os.environ[\"CUDA_VISIBLE_DEVICES\"]=str(0)\n",
    "limit_mem()"
   ]
  },
  {
   "cell_type": "code",
   "execution_count": 30,
   "metadata": {},
   "outputs": [],
   "source": [
    "args = load_args('../nn_configs/B/81.1-resnet_d3_dr_0.1.yml')"
   ]
  },
  {
   "cell_type": "code",
   "execution_count": 31,
   "metadata": {},
   "outputs": [],
   "source": [
    "args['train_years']=['2017']\n",
    "args['valid_years']=['2018']\n",
    "args['test_years']=['2018']\n",
    "args['model_save_dir'] ='/home/garg/data/WeatherBench/predictions/saved_models'\n",
    "args['datadir']='/home/garg/data/WeatherBench/5.625deg'"
   ]
  },
  {
   "cell_type": "code",
   "execution_count": 32,
   "metadata": {},
   "outputs": [],
   "source": [
    "exp_id=args['exp_id']\n",
    "var_dict=args['var_dict']\n",
    "batch_size=args['batch_size']\n",
    "output_vars=args['output_vars']\n",
    "    \n",
    "data_subsample=args['data_subsample']\n",
    "norm_subsample=args['norm_subsample']\n",
    "nt_in=args['nt_in']\n",
    "dt_in=args['dt_in']\n",
    "train_years=args['train_years']\n",
    "valid_years=args['valid_years']\n",
    "test_years=args['test_years']\n",
    "lead_time=args['lead_time']\n",
    "\n",
    "#changing paths\n",
    "model_save_dir=args['model_save_dir']\n",
    "datadir=args['datadir']"
   ]
  },
  {
   "cell_type": "code",
   "execution_count": 33,
   "metadata": {},
   "outputs": [],
   "source": [
    "ds = xr.merge([xr.open_mfdataset(f'{datadir}/{var}/*.nc', combine='by_coords') for var in var_dict.keys()])\n",
    "mean = xr.open_dataarray(f'{model_save_dir}/{exp_id}_mean.nc') \n",
    "std = xr.open_dataarray(f'{model_save_dir}/{exp_id}_std.nc')"
   ]
  },
  {
   "cell_type": "code",
   "execution_count": 34,
   "metadata": {},
   "outputs": [],
   "source": [
    "ds_train= ds.sel(time=slice(train_years[0],train_years[-1]))\n",
    "ds_valid= ds.sel(time=slice(valid_years[0],valid_years[-1]))"
   ]
  },
  {
   "cell_type": "code",
   "execution_count": 35,
   "metadata": {},
   "outputs": [],
   "source": [
    "#ds_train"
   ]
  },
  {
   "cell_type": "code",
   "execution_count": 36,
   "metadata": {},
   "outputs": [
    {
     "data": {
      "text/plain": [
       "array([-5. , -4.5, -4. , -3.5, -3. , -2.5, -2. , -1.5, -1. , -0.5,  0. ,\n",
       "        0.5,  1. ,  1.5,  2. ,  2.5,  3. ,  3.5,  4. ,  4.5,  5. ])"
      ]
     },
     "execution_count": 36,
     "metadata": {},
     "output_type": "execute_result"
    }
   ],
   "source": [
    "num_bins=20\n",
    "bins=np.linspace(-5,5,num_bins+1)\n",
    "bins"
   ]
  },
  {
   "cell_type": "code",
   "execution_count": 37,
   "metadata": {},
   "outputs": [],
   "source": [
    "dg_train = DataGenerator(\n",
    "            ds_train, var_dict, lead_time, batch_size=batch_size, output_vars=output_vars,\n",
    "            data_subsample=data_subsample, norm_subsample=norm_subsample, nt_in=nt_in, dt_in=dt_in,\n",
    "            mean=mean, std=std, shuffle=True, \n",
    "            is_categorical=True, num_bins=num_bins\n",
    "        )"
   ]
  },
  {
   "cell_type": "code",
   "execution_count": 115,
   "metadata": {},
   "outputs": [
    {
     "data": {
      "text/plain": [
       "((32, 32, 64, 114), (32, 32, 64, 2, 20))"
      ]
     },
     "execution_count": 115,
     "metadata": {},
     "output_type": "execute_result"
    }
   ],
   "source": [
    "x,y=dg_train[0]\n",
    "x.shape, y.shape"
   ]
  },
  {
   "cell_type": "code",
   "execution_count": 116,
   "metadata": {},
   "outputs": [
    {
     "data": {
      "text/plain": [
       "(32, 32, 64, 20)"
      ]
     },
     "execution_count": 116,
     "metadata": {},
     "output_type": "execute_result"
    }
   ],
   "source": [
    "y[:,:,:,0,:].shape"
   ]
  },
  {
   "cell_type": "code",
   "execution_count": 39,
   "metadata": {},
   "outputs": [],
   "source": [
    "args['filters'] = [128, 128, 128, 128, 128, 128, 128, 128, \n",
    "                   128, 128, 128, 128, 128, 128, 128, 128, \n",
    "                   128, 128, 128, 128, 2*num_bins]"
   ]
  },
  {
   "cell_type": "code",
   "execution_count": 57,
   "metadata": {},
   "outputs": [
    {
     "data": {
      "text/plain": [
       "40"
      ]
     },
     "execution_count": 57,
     "metadata": {},
     "output_type": "execute_result"
    }
   ],
   "source": [
    "filters=args['filters']; filters[-1]"
   ]
  },
  {
   "cell_type": "code",
   "execution_count": 41,
   "metadata": {},
   "outputs": [
    {
     "data": {
      "text/plain": [
       "['z_500', 't_850']"
      ]
     },
     "execution_count": 41,
     "metadata": {},
     "output_type": "execute_result"
    }
   ],
   "source": [
    "args['output_vars']"
   ]
  },
  {
   "cell_type": "code",
   "execution_count": 71,
   "metadata": {},
   "outputs": [
    {
     "data": {
      "text/plain": [
       "20"
      ]
     },
     "execution_count": 71,
     "metadata": {},
     "output_type": "execute_result"
    }
   ],
   "source": [
    "output_bins=int(0.5*filters[-1])\n",
    "output_bins"
   ]
  },
  {
   "cell_type": "code",
   "execution_count": 72,
   "metadata": {},
   "outputs": [],
   "source": [
    "def build_resnet(filters, kernels, input_shape, bn_position=None, use_bias=True, l2=0,\n",
    "                 skip=True, dropout=0, activation='relu', **kwargs):\n",
    "    x = input = Input(shape=input_shape)\n",
    "\n",
    "    # First conv block to get up to shape\n",
    "    x = convblock(\n",
    "        x, filters[0], kernels[0], bn_position=bn_position, l2=l2, use_bias=use_bias,\n",
    "        dropout=dropout, activation=activation\n",
    "    )\n",
    "\n",
    "    # Resblocks\n",
    "    for f, k in zip(filters[1:-1], kernels[1:-1]):\n",
    "        x = resblock(x, f, k, bn_position=bn_position, l2=l2, use_bias=use_bias,\n",
    "                dropout=dropout, skip=skip, activation=activation)\n",
    "\n",
    "    # Final convolution\n",
    "    output = PeriodicConv2D(\n",
    "        filters[-1], kernels[-1],\n",
    "        conv_kwargs={'kernel_regularizer': regularizers.l2(l2)},\n",
    "    )(x)\n",
    "    #output = Activation('linear', dtype='float32')(output)\n",
    "    #removing linear activation. wont make much diff\n",
    "    \n",
    "    output_bins=int(0.5*filters[-1]) #works only for 2 variables.\n",
    "    \n",
    "    output1 = Activation('softmax', dtype='float32')(output[...,0:output_bins])\n",
    "    output2 = Activation('softmax', dtype='float32')(output[...,output_bins:filters[-1]]) #only for 2 features!\n",
    "    #output= tf.keras.backend.concatenate((output1, output2), axis=-1)\n",
    "    output= tf.keras.backend.stack((output1, output2), axis=3)\n",
    "    return keras.models.Model(input, output)"
   ]
  },
  {
   "cell_type": "code",
   "execution_count": 73,
   "metadata": {
    "collapsed": true
   },
   "outputs": [
    {
     "name": "stdout",
     "output_type": "stream",
     "text": [
      "Model: \"model_6\"\n",
      "__________________________________________________________________________________________________\n",
      "Layer (type)                    Output Shape         Param #     Connected to                     \n",
      "==================================================================================================\n",
      "input_9 (InputLayer)            [(None, 32, 64, 114) 0                                            \n",
      "__________________________________________________________________________________________________\n",
      "periodic_conv2d_320 (PeriodicCo (None, 32, 64, 128)  715136      input_9[0][0]                    \n",
      "__________________________________________________________________________________________________\n",
      "leaky_re_lu_312 (LeakyReLU)     (None, 32, 64, 128)  0           periodic_conv2d_320[0][0]        \n",
      "__________________________________________________________________________________________________\n",
      "batch_normalization_312 (BatchN (None, 32, 64, 128)  512         leaky_re_lu_312[0][0]            \n",
      "__________________________________________________________________________________________________\n",
      "dropout_312 (Dropout)           (None, 32, 64, 128)  0           batch_normalization_312[0][0]    \n",
      "__________________________________________________________________________________________________\n",
      "periodic_conv2d_321 (PeriodicCo (None, 32, 64, 128)  147584      dropout_312[0][0]                \n",
      "__________________________________________________________________________________________________\n",
      "leaky_re_lu_313 (LeakyReLU)     (None, 32, 64, 128)  0           periodic_conv2d_321[0][0]        \n",
      "__________________________________________________________________________________________________\n",
      "batch_normalization_313 (BatchN (None, 32, 64, 128)  512         leaky_re_lu_313[0][0]            \n",
      "__________________________________________________________________________________________________\n",
      "dropout_313 (Dropout)           (None, 32, 64, 128)  0           batch_normalization_313[0][0]    \n",
      "__________________________________________________________________________________________________\n",
      "periodic_conv2d_322 (PeriodicCo (None, 32, 64, 128)  147584      dropout_313[0][0]                \n",
      "__________________________________________________________________________________________________\n",
      "leaky_re_lu_314 (LeakyReLU)     (None, 32, 64, 128)  0           periodic_conv2d_322[0][0]        \n",
      "__________________________________________________________________________________________________\n",
      "batch_normalization_314 (BatchN (None, 32, 64, 128)  512         leaky_re_lu_314[0][0]            \n",
      "__________________________________________________________________________________________________\n",
      "dropout_314 (Dropout)           (None, 32, 64, 128)  0           batch_normalization_314[0][0]    \n",
      "__________________________________________________________________________________________________\n",
      "add_152 (Add)                   (None, 32, 64, 128)  0           dropout_312[0][0]                \n",
      "                                                                 dropout_314[0][0]                \n",
      "__________________________________________________________________________________________________\n",
      "periodic_conv2d_323 (PeriodicCo (None, 32, 64, 128)  147584      add_152[0][0]                    \n",
      "__________________________________________________________________________________________________\n",
      "leaky_re_lu_315 (LeakyReLU)     (None, 32, 64, 128)  0           periodic_conv2d_323[0][0]        \n",
      "__________________________________________________________________________________________________\n",
      "batch_normalization_315 (BatchN (None, 32, 64, 128)  512         leaky_re_lu_315[0][0]            \n",
      "__________________________________________________________________________________________________\n",
      "dropout_315 (Dropout)           (None, 32, 64, 128)  0           batch_normalization_315[0][0]    \n",
      "__________________________________________________________________________________________________\n",
      "periodic_conv2d_324 (PeriodicCo (None, 32, 64, 128)  147584      dropout_315[0][0]                \n",
      "__________________________________________________________________________________________________\n",
      "leaky_re_lu_316 (LeakyReLU)     (None, 32, 64, 128)  0           periodic_conv2d_324[0][0]        \n",
      "__________________________________________________________________________________________________\n",
      "batch_normalization_316 (BatchN (None, 32, 64, 128)  512         leaky_re_lu_316[0][0]            \n",
      "__________________________________________________________________________________________________\n",
      "dropout_316 (Dropout)           (None, 32, 64, 128)  0           batch_normalization_316[0][0]    \n",
      "__________________________________________________________________________________________________\n",
      "add_153 (Add)                   (None, 32, 64, 128)  0           add_152[0][0]                    \n",
      "                                                                 dropout_316[0][0]                \n",
      "__________________________________________________________________________________________________\n",
      "periodic_conv2d_325 (PeriodicCo (None, 32, 64, 128)  147584      add_153[0][0]                    \n",
      "__________________________________________________________________________________________________\n",
      "leaky_re_lu_317 (LeakyReLU)     (None, 32, 64, 128)  0           periodic_conv2d_325[0][0]        \n",
      "__________________________________________________________________________________________________\n",
      "batch_normalization_317 (BatchN (None, 32, 64, 128)  512         leaky_re_lu_317[0][0]            \n",
      "__________________________________________________________________________________________________\n",
      "dropout_317 (Dropout)           (None, 32, 64, 128)  0           batch_normalization_317[0][0]    \n",
      "__________________________________________________________________________________________________\n",
      "periodic_conv2d_326 (PeriodicCo (None, 32, 64, 128)  147584      dropout_317[0][0]                \n",
      "__________________________________________________________________________________________________\n",
      "leaky_re_lu_318 (LeakyReLU)     (None, 32, 64, 128)  0           periodic_conv2d_326[0][0]        \n",
      "__________________________________________________________________________________________________\n",
      "batch_normalization_318 (BatchN (None, 32, 64, 128)  512         leaky_re_lu_318[0][0]            \n",
      "__________________________________________________________________________________________________\n",
      "dropout_318 (Dropout)           (None, 32, 64, 128)  0           batch_normalization_318[0][0]    \n",
      "__________________________________________________________________________________________________\n",
      "add_154 (Add)                   (None, 32, 64, 128)  0           add_153[0][0]                    \n",
      "                                                                 dropout_318[0][0]                \n",
      "__________________________________________________________________________________________________\n",
      "periodic_conv2d_327 (PeriodicCo (None, 32, 64, 128)  147584      add_154[0][0]                    \n",
      "__________________________________________________________________________________________________\n",
      "leaky_re_lu_319 (LeakyReLU)     (None, 32, 64, 128)  0           periodic_conv2d_327[0][0]        \n",
      "__________________________________________________________________________________________________\n",
      "batch_normalization_319 (BatchN (None, 32, 64, 128)  512         leaky_re_lu_319[0][0]            \n",
      "__________________________________________________________________________________________________\n",
      "dropout_319 (Dropout)           (None, 32, 64, 128)  0           batch_normalization_319[0][0]    \n",
      "__________________________________________________________________________________________________\n",
      "periodic_conv2d_328 (PeriodicCo (None, 32, 64, 128)  147584      dropout_319[0][0]                \n",
      "__________________________________________________________________________________________________\n",
      "leaky_re_lu_320 (LeakyReLU)     (None, 32, 64, 128)  0           periodic_conv2d_328[0][0]        \n",
      "__________________________________________________________________________________________________\n",
      "batch_normalization_320 (BatchN (None, 32, 64, 128)  512         leaky_re_lu_320[0][0]            \n",
      "__________________________________________________________________________________________________\n",
      "dropout_320 (Dropout)           (None, 32, 64, 128)  0           batch_normalization_320[0][0]    \n",
      "__________________________________________________________________________________________________\n",
      "add_155 (Add)                   (None, 32, 64, 128)  0           add_154[0][0]                    \n",
      "                                                                 dropout_320[0][0]                \n",
      "__________________________________________________________________________________________________\n",
      "periodic_conv2d_329 (PeriodicCo (None, 32, 64, 128)  147584      add_155[0][0]                    \n",
      "__________________________________________________________________________________________________\n",
      "leaky_re_lu_321 (LeakyReLU)     (None, 32, 64, 128)  0           periodic_conv2d_329[0][0]        \n",
      "__________________________________________________________________________________________________\n",
      "batch_normalization_321 (BatchN (None, 32, 64, 128)  512         leaky_re_lu_321[0][0]            \n",
      "__________________________________________________________________________________________________\n",
      "dropout_321 (Dropout)           (None, 32, 64, 128)  0           batch_normalization_321[0][0]    \n",
      "__________________________________________________________________________________________________\n",
      "periodic_conv2d_330 (PeriodicCo (None, 32, 64, 128)  147584      dropout_321[0][0]                \n",
      "__________________________________________________________________________________________________\n",
      "leaky_re_lu_322 (LeakyReLU)     (None, 32, 64, 128)  0           periodic_conv2d_330[0][0]        \n",
      "__________________________________________________________________________________________________\n",
      "batch_normalization_322 (BatchN (None, 32, 64, 128)  512         leaky_re_lu_322[0][0]            \n",
      "__________________________________________________________________________________________________\n",
      "dropout_322 (Dropout)           (None, 32, 64, 128)  0           batch_normalization_322[0][0]    \n",
      "__________________________________________________________________________________________________\n",
      "add_156 (Add)                   (None, 32, 64, 128)  0           add_155[0][0]                    \n",
      "                                                                 dropout_322[0][0]                \n",
      "__________________________________________________________________________________________________\n",
      "periodic_conv2d_331 (PeriodicCo (None, 32, 64, 128)  147584      add_156[0][0]                    \n",
      "__________________________________________________________________________________________________\n",
      "leaky_re_lu_323 (LeakyReLU)     (None, 32, 64, 128)  0           periodic_conv2d_331[0][0]        \n",
      "__________________________________________________________________________________________________\n",
      "batch_normalization_323 (BatchN (None, 32, 64, 128)  512         leaky_re_lu_323[0][0]            \n",
      "__________________________________________________________________________________________________\n",
      "dropout_323 (Dropout)           (None, 32, 64, 128)  0           batch_normalization_323[0][0]    \n",
      "__________________________________________________________________________________________________\n",
      "periodic_conv2d_332 (PeriodicCo (None, 32, 64, 128)  147584      dropout_323[0][0]                \n",
      "__________________________________________________________________________________________________\n",
      "leaky_re_lu_324 (LeakyReLU)     (None, 32, 64, 128)  0           periodic_conv2d_332[0][0]        \n",
      "__________________________________________________________________________________________________\n",
      "batch_normalization_324 (BatchN (None, 32, 64, 128)  512         leaky_re_lu_324[0][0]            \n",
      "__________________________________________________________________________________________________\n",
      "dropout_324 (Dropout)           (None, 32, 64, 128)  0           batch_normalization_324[0][0]    \n",
      "__________________________________________________________________________________________________\n",
      "add_157 (Add)                   (None, 32, 64, 128)  0           add_156[0][0]                    \n",
      "                                                                 dropout_324[0][0]                \n",
      "__________________________________________________________________________________________________\n",
      "periodic_conv2d_333 (PeriodicCo (None, 32, 64, 128)  147584      add_157[0][0]                    \n",
      "__________________________________________________________________________________________________\n",
      "leaky_re_lu_325 (LeakyReLU)     (None, 32, 64, 128)  0           periodic_conv2d_333[0][0]        \n",
      "__________________________________________________________________________________________________\n",
      "batch_normalization_325 (BatchN (None, 32, 64, 128)  512         leaky_re_lu_325[0][0]            \n",
      "__________________________________________________________________________________________________\n",
      "dropout_325 (Dropout)           (None, 32, 64, 128)  0           batch_normalization_325[0][0]    \n",
      "__________________________________________________________________________________________________\n",
      "periodic_conv2d_334 (PeriodicCo (None, 32, 64, 128)  147584      dropout_325[0][0]                \n",
      "__________________________________________________________________________________________________\n",
      "leaky_re_lu_326 (LeakyReLU)     (None, 32, 64, 128)  0           periodic_conv2d_334[0][0]        \n",
      "__________________________________________________________________________________________________\n",
      "batch_normalization_326 (BatchN (None, 32, 64, 128)  512         leaky_re_lu_326[0][0]            \n",
      "__________________________________________________________________________________________________\n",
      "dropout_326 (Dropout)           (None, 32, 64, 128)  0           batch_normalization_326[0][0]    \n",
      "__________________________________________________________________________________________________\n",
      "add_158 (Add)                   (None, 32, 64, 128)  0           add_157[0][0]                    \n",
      "                                                                 dropout_326[0][0]                \n",
      "__________________________________________________________________________________________________\n",
      "periodic_conv2d_335 (PeriodicCo (None, 32, 64, 128)  147584      add_158[0][0]                    \n",
      "__________________________________________________________________________________________________\n",
      "leaky_re_lu_327 (LeakyReLU)     (None, 32, 64, 128)  0           periodic_conv2d_335[0][0]        \n",
      "__________________________________________________________________________________________________\n",
      "batch_normalization_327 (BatchN (None, 32, 64, 128)  512         leaky_re_lu_327[0][0]            \n",
      "__________________________________________________________________________________________________\n",
      "dropout_327 (Dropout)           (None, 32, 64, 128)  0           batch_normalization_327[0][0]    \n",
      "__________________________________________________________________________________________________\n",
      "periodic_conv2d_336 (PeriodicCo (None, 32, 64, 128)  147584      dropout_327[0][0]                \n",
      "__________________________________________________________________________________________________\n",
      "leaky_re_lu_328 (LeakyReLU)     (None, 32, 64, 128)  0           periodic_conv2d_336[0][0]        \n",
      "__________________________________________________________________________________________________\n",
      "batch_normalization_328 (BatchN (None, 32, 64, 128)  512         leaky_re_lu_328[0][0]            \n",
      "__________________________________________________________________________________________________\n",
      "dropout_328 (Dropout)           (None, 32, 64, 128)  0           batch_normalization_328[0][0]    \n",
      "__________________________________________________________________________________________________\n",
      "add_159 (Add)                   (None, 32, 64, 128)  0           add_158[0][0]                    \n",
      "                                                                 dropout_328[0][0]                \n",
      "__________________________________________________________________________________________________\n",
      "periodic_conv2d_337 (PeriodicCo (None, 32, 64, 128)  147584      add_159[0][0]                    \n",
      "__________________________________________________________________________________________________\n",
      "leaky_re_lu_329 (LeakyReLU)     (None, 32, 64, 128)  0           periodic_conv2d_337[0][0]        \n",
      "__________________________________________________________________________________________________\n",
      "batch_normalization_329 (BatchN (None, 32, 64, 128)  512         leaky_re_lu_329[0][0]            \n",
      "__________________________________________________________________________________________________\n",
      "dropout_329 (Dropout)           (None, 32, 64, 128)  0           batch_normalization_329[0][0]    \n",
      "__________________________________________________________________________________________________\n",
      "periodic_conv2d_338 (PeriodicCo (None, 32, 64, 128)  147584      dropout_329[0][0]                \n",
      "__________________________________________________________________________________________________\n",
      "leaky_re_lu_330 (LeakyReLU)     (None, 32, 64, 128)  0           periodic_conv2d_338[0][0]        \n",
      "__________________________________________________________________________________________________\n",
      "batch_normalization_330 (BatchN (None, 32, 64, 128)  512         leaky_re_lu_330[0][0]            \n",
      "__________________________________________________________________________________________________\n",
      "dropout_330 (Dropout)           (None, 32, 64, 128)  0           batch_normalization_330[0][0]    \n",
      "__________________________________________________________________________________________________\n",
      "add_160 (Add)                   (None, 32, 64, 128)  0           add_159[0][0]                    \n",
      "                                                                 dropout_330[0][0]                \n",
      "__________________________________________________________________________________________________\n",
      "periodic_conv2d_339 (PeriodicCo (None, 32, 64, 128)  147584      add_160[0][0]                    \n",
      "__________________________________________________________________________________________________\n",
      "leaky_re_lu_331 (LeakyReLU)     (None, 32, 64, 128)  0           periodic_conv2d_339[0][0]        \n",
      "__________________________________________________________________________________________________\n",
      "batch_normalization_331 (BatchN (None, 32, 64, 128)  512         leaky_re_lu_331[0][0]            \n",
      "__________________________________________________________________________________________________\n",
      "dropout_331 (Dropout)           (None, 32, 64, 128)  0           batch_normalization_331[0][0]    \n",
      "__________________________________________________________________________________________________\n",
      "periodic_conv2d_340 (PeriodicCo (None, 32, 64, 128)  147584      dropout_331[0][0]                \n",
      "__________________________________________________________________________________________________\n",
      "leaky_re_lu_332 (LeakyReLU)     (None, 32, 64, 128)  0           periodic_conv2d_340[0][0]        \n",
      "__________________________________________________________________________________________________\n",
      "batch_normalization_332 (BatchN (None, 32, 64, 128)  512         leaky_re_lu_332[0][0]            \n",
      "__________________________________________________________________________________________________\n",
      "dropout_332 (Dropout)           (None, 32, 64, 128)  0           batch_normalization_332[0][0]    \n",
      "__________________________________________________________________________________________________\n",
      "add_161 (Add)                   (None, 32, 64, 128)  0           add_160[0][0]                    \n",
      "                                                                 dropout_332[0][0]                \n",
      "__________________________________________________________________________________________________\n",
      "periodic_conv2d_341 (PeriodicCo (None, 32, 64, 128)  147584      add_161[0][0]                    \n",
      "__________________________________________________________________________________________________\n",
      "leaky_re_lu_333 (LeakyReLU)     (None, 32, 64, 128)  0           periodic_conv2d_341[0][0]        \n",
      "__________________________________________________________________________________________________\n",
      "batch_normalization_333 (BatchN (None, 32, 64, 128)  512         leaky_re_lu_333[0][0]            \n",
      "__________________________________________________________________________________________________\n",
      "dropout_333 (Dropout)           (None, 32, 64, 128)  0           batch_normalization_333[0][0]    \n",
      "__________________________________________________________________________________________________\n",
      "periodic_conv2d_342 (PeriodicCo (None, 32, 64, 128)  147584      dropout_333[0][0]                \n",
      "__________________________________________________________________________________________________\n",
      "leaky_re_lu_334 (LeakyReLU)     (None, 32, 64, 128)  0           periodic_conv2d_342[0][0]        \n",
      "__________________________________________________________________________________________________\n",
      "batch_normalization_334 (BatchN (None, 32, 64, 128)  512         leaky_re_lu_334[0][0]            \n",
      "__________________________________________________________________________________________________\n",
      "dropout_334 (Dropout)           (None, 32, 64, 128)  0           batch_normalization_334[0][0]    \n",
      "__________________________________________________________________________________________________\n",
      "add_162 (Add)                   (None, 32, 64, 128)  0           add_161[0][0]                    \n",
      "                                                                 dropout_334[0][0]                \n",
      "__________________________________________________________________________________________________\n",
      "periodic_conv2d_343 (PeriodicCo (None, 32, 64, 128)  147584      add_162[0][0]                    \n",
      "__________________________________________________________________________________________________\n",
      "leaky_re_lu_335 (LeakyReLU)     (None, 32, 64, 128)  0           periodic_conv2d_343[0][0]        \n",
      "__________________________________________________________________________________________________\n",
      "batch_normalization_335 (BatchN (None, 32, 64, 128)  512         leaky_re_lu_335[0][0]            \n",
      "__________________________________________________________________________________________________\n",
      "dropout_335 (Dropout)           (None, 32, 64, 128)  0           batch_normalization_335[0][0]    \n",
      "__________________________________________________________________________________________________\n",
      "periodic_conv2d_344 (PeriodicCo (None, 32, 64, 128)  147584      dropout_335[0][0]                \n",
      "__________________________________________________________________________________________________\n",
      "leaky_re_lu_336 (LeakyReLU)     (None, 32, 64, 128)  0           periodic_conv2d_344[0][0]        \n",
      "__________________________________________________________________________________________________\n",
      "batch_normalization_336 (BatchN (None, 32, 64, 128)  512         leaky_re_lu_336[0][0]            \n",
      "__________________________________________________________________________________________________\n",
      "dropout_336 (Dropout)           (None, 32, 64, 128)  0           batch_normalization_336[0][0]    \n",
      "__________________________________________________________________________________________________\n",
      "add_163 (Add)                   (None, 32, 64, 128)  0           add_162[0][0]                    \n",
      "                                                                 dropout_336[0][0]                \n",
      "__________________________________________________________________________________________________\n",
      "periodic_conv2d_345 (PeriodicCo (None, 32, 64, 128)  147584      add_163[0][0]                    \n",
      "__________________________________________________________________________________________________\n",
      "leaky_re_lu_337 (LeakyReLU)     (None, 32, 64, 128)  0           periodic_conv2d_345[0][0]        \n",
      "__________________________________________________________________________________________________\n",
      "batch_normalization_337 (BatchN (None, 32, 64, 128)  512         leaky_re_lu_337[0][0]            \n",
      "__________________________________________________________________________________________________\n",
      "dropout_337 (Dropout)           (None, 32, 64, 128)  0           batch_normalization_337[0][0]    \n",
      "__________________________________________________________________________________________________\n",
      "periodic_conv2d_346 (PeriodicCo (None, 32, 64, 128)  147584      dropout_337[0][0]                \n",
      "__________________________________________________________________________________________________\n",
      "leaky_re_lu_338 (LeakyReLU)     (None, 32, 64, 128)  0           periodic_conv2d_346[0][0]        \n",
      "__________________________________________________________________________________________________\n",
      "batch_normalization_338 (BatchN (None, 32, 64, 128)  512         leaky_re_lu_338[0][0]            \n",
      "__________________________________________________________________________________________________\n",
      "dropout_338 (Dropout)           (None, 32, 64, 128)  0           batch_normalization_338[0][0]    \n",
      "__________________________________________________________________________________________________\n",
      "add_164 (Add)                   (None, 32, 64, 128)  0           add_163[0][0]                    \n",
      "                                                                 dropout_338[0][0]                \n",
      "__________________________________________________________________________________________________\n",
      "periodic_conv2d_347 (PeriodicCo (None, 32, 64, 128)  147584      add_164[0][0]                    \n",
      "__________________________________________________________________________________________________\n",
      "leaky_re_lu_339 (LeakyReLU)     (None, 32, 64, 128)  0           periodic_conv2d_347[0][0]        \n",
      "__________________________________________________________________________________________________\n",
      "batch_normalization_339 (BatchN (None, 32, 64, 128)  512         leaky_re_lu_339[0][0]            \n",
      "__________________________________________________________________________________________________\n",
      "dropout_339 (Dropout)           (None, 32, 64, 128)  0           batch_normalization_339[0][0]    \n",
      "__________________________________________________________________________________________________\n",
      "periodic_conv2d_348 (PeriodicCo (None, 32, 64, 128)  147584      dropout_339[0][0]                \n",
      "__________________________________________________________________________________________________\n",
      "leaky_re_lu_340 (LeakyReLU)     (None, 32, 64, 128)  0           periodic_conv2d_348[0][0]        \n",
      "__________________________________________________________________________________________________\n",
      "batch_normalization_340 (BatchN (None, 32, 64, 128)  512         leaky_re_lu_340[0][0]            \n",
      "__________________________________________________________________________________________________\n",
      "dropout_340 (Dropout)           (None, 32, 64, 128)  0           batch_normalization_340[0][0]    \n",
      "__________________________________________________________________________________________________\n",
      "add_165 (Add)                   (None, 32, 64, 128)  0           add_164[0][0]                    \n",
      "                                                                 dropout_340[0][0]                \n",
      "__________________________________________________________________________________________________\n",
      "periodic_conv2d_349 (PeriodicCo (None, 32, 64, 128)  147584      add_165[0][0]                    \n",
      "__________________________________________________________________________________________________\n",
      "leaky_re_lu_341 (LeakyReLU)     (None, 32, 64, 128)  0           periodic_conv2d_349[0][0]        \n",
      "__________________________________________________________________________________________________\n",
      "batch_normalization_341 (BatchN (None, 32, 64, 128)  512         leaky_re_lu_341[0][0]            \n",
      "__________________________________________________________________________________________________\n",
      "dropout_341 (Dropout)           (None, 32, 64, 128)  0           batch_normalization_341[0][0]    \n",
      "__________________________________________________________________________________________________\n",
      "periodic_conv2d_350 (PeriodicCo (None, 32, 64, 128)  147584      dropout_341[0][0]                \n",
      "__________________________________________________________________________________________________\n",
      "leaky_re_lu_342 (LeakyReLU)     (None, 32, 64, 128)  0           periodic_conv2d_350[0][0]        \n",
      "__________________________________________________________________________________________________\n",
      "batch_normalization_342 (BatchN (None, 32, 64, 128)  512         leaky_re_lu_342[0][0]            \n",
      "__________________________________________________________________________________________________\n",
      "dropout_342 (Dropout)           (None, 32, 64, 128)  0           batch_normalization_342[0][0]    \n",
      "__________________________________________________________________________________________________\n",
      "add_166 (Add)                   (None, 32, 64, 128)  0           add_165[0][0]                    \n",
      "                                                                 dropout_342[0][0]                \n",
      "__________________________________________________________________________________________________\n",
      "periodic_conv2d_351 (PeriodicCo (None, 32, 64, 128)  147584      add_166[0][0]                    \n",
      "__________________________________________________________________________________________________\n",
      "leaky_re_lu_343 (LeakyReLU)     (None, 32, 64, 128)  0           periodic_conv2d_351[0][0]        \n",
      "__________________________________________________________________________________________________\n",
      "batch_normalization_343 (BatchN (None, 32, 64, 128)  512         leaky_re_lu_343[0][0]            \n",
      "__________________________________________________________________________________________________\n",
      "dropout_343 (Dropout)           (None, 32, 64, 128)  0           batch_normalization_343[0][0]    \n",
      "__________________________________________________________________________________________________\n",
      "periodic_conv2d_352 (PeriodicCo (None, 32, 64, 128)  147584      dropout_343[0][0]                \n",
      "__________________________________________________________________________________________________\n",
      "leaky_re_lu_344 (LeakyReLU)     (None, 32, 64, 128)  0           periodic_conv2d_352[0][0]        \n",
      "__________________________________________________________________________________________________\n",
      "batch_normalization_344 (BatchN (None, 32, 64, 128)  512         leaky_re_lu_344[0][0]            \n",
      "__________________________________________________________________________________________________\n",
      "dropout_344 (Dropout)           (None, 32, 64, 128)  0           batch_normalization_344[0][0]    \n",
      "__________________________________________________________________________________________________\n",
      "add_167 (Add)                   (None, 32, 64, 128)  0           add_166[0][0]                    \n",
      "                                                                 dropout_344[0][0]                \n",
      "__________________________________________________________________________________________________\n",
      "periodic_conv2d_353 (PeriodicCo (None, 32, 64, 128)  147584      add_167[0][0]                    \n",
      "__________________________________________________________________________________________________\n",
      "leaky_re_lu_345 (LeakyReLU)     (None, 32, 64, 128)  0           periodic_conv2d_353[0][0]        \n",
      "__________________________________________________________________________________________________\n",
      "batch_normalization_345 (BatchN (None, 32, 64, 128)  512         leaky_re_lu_345[0][0]            \n",
      "__________________________________________________________________________________________________\n",
      "dropout_345 (Dropout)           (None, 32, 64, 128)  0           batch_normalization_345[0][0]    \n",
      "__________________________________________________________________________________________________\n",
      "periodic_conv2d_354 (PeriodicCo (None, 32, 64, 128)  147584      dropout_345[0][0]                \n",
      "__________________________________________________________________________________________________\n",
      "leaky_re_lu_346 (LeakyReLU)     (None, 32, 64, 128)  0           periodic_conv2d_354[0][0]        \n",
      "__________________________________________________________________________________________________\n",
      "batch_normalization_346 (BatchN (None, 32, 64, 128)  512         leaky_re_lu_346[0][0]            \n",
      "__________________________________________________________________________________________________\n",
      "dropout_346 (Dropout)           (None, 32, 64, 128)  0           batch_normalization_346[0][0]    \n",
      "__________________________________________________________________________________________________\n",
      "add_168 (Add)                   (None, 32, 64, 128)  0           add_167[0][0]                    \n",
      "                                                                 dropout_346[0][0]                \n",
      "__________________________________________________________________________________________________\n",
      "periodic_conv2d_355 (PeriodicCo (None, 32, 64, 128)  147584      add_168[0][0]                    \n",
      "__________________________________________________________________________________________________\n",
      "leaky_re_lu_347 (LeakyReLU)     (None, 32, 64, 128)  0           periodic_conv2d_355[0][0]        \n",
      "__________________________________________________________________________________________________\n",
      "batch_normalization_347 (BatchN (None, 32, 64, 128)  512         leaky_re_lu_347[0][0]            \n",
      "__________________________________________________________________________________________________\n",
      "dropout_347 (Dropout)           (None, 32, 64, 128)  0           batch_normalization_347[0][0]    \n",
      "__________________________________________________________________________________________________\n",
      "periodic_conv2d_356 (PeriodicCo (None, 32, 64, 128)  147584      dropout_347[0][0]                \n",
      "__________________________________________________________________________________________________\n",
      "leaky_re_lu_348 (LeakyReLU)     (None, 32, 64, 128)  0           periodic_conv2d_356[0][0]        \n",
      "__________________________________________________________________________________________________\n",
      "batch_normalization_348 (BatchN (None, 32, 64, 128)  512         leaky_re_lu_348[0][0]            \n",
      "__________________________________________________________________________________________________\n",
      "dropout_348 (Dropout)           (None, 32, 64, 128)  0           batch_normalization_348[0][0]    \n",
      "__________________________________________________________________________________________________\n",
      "add_169 (Add)                   (None, 32, 64, 128)  0           add_168[0][0]                    \n",
      "                                                                 dropout_348[0][0]                \n",
      "__________________________________________________________________________________________________\n",
      "periodic_conv2d_357 (PeriodicCo (None, 32, 64, 128)  147584      add_169[0][0]                    \n",
      "__________________________________________________________________________________________________\n",
      "leaky_re_lu_349 (LeakyReLU)     (None, 32, 64, 128)  0           periodic_conv2d_357[0][0]        \n",
      "__________________________________________________________________________________________________\n",
      "batch_normalization_349 (BatchN (None, 32, 64, 128)  512         leaky_re_lu_349[0][0]            \n",
      "__________________________________________________________________________________________________\n",
      "dropout_349 (Dropout)           (None, 32, 64, 128)  0           batch_normalization_349[0][0]    \n",
      "__________________________________________________________________________________________________\n",
      "periodic_conv2d_358 (PeriodicCo (None, 32, 64, 128)  147584      dropout_349[0][0]                \n",
      "__________________________________________________________________________________________________\n",
      "leaky_re_lu_350 (LeakyReLU)     (None, 32, 64, 128)  0           periodic_conv2d_358[0][0]        \n",
      "__________________________________________________________________________________________________\n",
      "batch_normalization_350 (BatchN (None, 32, 64, 128)  512         leaky_re_lu_350[0][0]            \n",
      "__________________________________________________________________________________________________\n",
      "dropout_350 (Dropout)           (None, 32, 64, 128)  0           batch_normalization_350[0][0]    \n",
      "__________________________________________________________________________________________________\n",
      "add_170 (Add)                   (None, 32, 64, 128)  0           add_169[0][0]                    \n",
      "                                                                 dropout_350[0][0]                \n",
      "__________________________________________________________________________________________________\n",
      "periodic_conv2d_359 (PeriodicCo (None, 32, 64, 40)   46120       add_170[0][0]                    \n",
      "__________________________________________________________________________________________________\n",
      "tf_op_layer_strided_slice_14 (T [(None, 32, 64, 20)] 0           periodic_conv2d_359[0][0]        \n",
      "__________________________________________________________________________________________________\n",
      "tf_op_layer_strided_slice_15 (T [(None, 32, 64, 20)] 0           periodic_conv2d_359[0][0]        \n",
      "__________________________________________________________________________________________________\n",
      "activation_15 (Activation)      (None, 32, 64, 20)   0           tf_op_layer_strided_slice_14[0][0\n",
      "__________________________________________________________________________________________________\n",
      "activation_16 (Activation)      (None, 32, 64, 20)   0           tf_op_layer_strided_slice_15[0][0\n",
      "__________________________________________________________________________________________________\n",
      "tf_op_layer_stack_7 (TensorFlow [(None, 32, 64, 2, 2 0           activation_15[0][0]              \n",
      "                                                                 activation_16[0][0]              \n",
      "==================================================================================================\n",
      "Total params: 6,389,416\n",
      "Trainable params: 6,379,432\n",
      "Non-trainable params: 9,984\n",
      "__________________________________________________________________________________________________\n"
     ]
    }
   ],
   "source": [
    "model = build_resnet(\n",
    "    **args, input_shape=dg_train.shape,\n",
    ")\n",
    "model.summary()"
   ]
  },
  {
   "cell_type": "code",
   "execution_count": 74,
   "metadata": {},
   "outputs": [],
   "source": [
    "#ToDo: Solve assert issue. make it general for len(output_vars)\n",
    "def categorical_loss(y_true, y_pred):    \n",
    "    cce=tf.keras.losses.CategoricalCrossentropy()\n",
    "    cce1=cce(y_true[:,:,:,0,:], y_pred[:,:,:,0,:])\n",
    "    cce2=cce(y_true[:,:,:,1,:], y_pred[:,:,:,1,:])\n",
    "    loss=cce1+cc2\n",
    "    return categorical_loss"
   ]
  },
  {
   "cell_type": "code",
   "execution_count": 91,
   "metadata": {},
   "outputs": [],
   "source": [
    "def categorical_loss(y_true, y_pred):    \n",
    "        cce=tf.keras.losses.CategoricalCrossentropy()\n",
    "        n_vars=2\n",
    "        loss=0\n",
    "        for i in range(n_vars):\n",
    "            loss +=cce(y_true[:,:,:,i,:], y_pred[:,:,:,i,:])\n",
    "        return loss"
   ]
  },
  {
   "cell_type": "code",
   "execution_count": 97,
   "metadata": {},
   "outputs": [],
   "source": [
    "x,y=dg_valid[0]\n",
    "prediction=model.predict(dg_valid[0])"
   ]
  },
  {
   "cell_type": "code",
   "execution_count": null,
   "metadata": {},
   "outputs": [],
   "source": []
  },
  {
   "cell_type": "code",
   "execution_count": 94,
   "metadata": {},
   "outputs": [
    {
     "data": {
      "text/plain": [
       "'adam'"
      ]
     },
     "execution_count": 94,
     "metadata": {},
     "output_type": "execute_result"
    }
   ],
   "source": [
    "args['optimizer']"
   ]
  },
  {
   "cell_type": "code",
   "execution_count": 95,
   "metadata": {},
   "outputs": [],
   "source": [
    "model.compile(keras.optimizers.Adam(1e-3), categorical_loss) \n",
    "#accuracy metrics?"
   ]
  },
  {
   "cell_type": "code",
   "execution_count": 96,
   "metadata": {},
   "outputs": [
    {
     "name": "stdout",
     "output_type": "stream",
     "text": [
      "Train for 136 steps\n",
      "136/136 [==============================] - 68s 501ms/step - loss: 4.1995\n"
     ]
    },
    {
     "data": {
      "text/plain": [
       "<tensorflow.python.keras.callbacks.History at 0x7f6df3789390>"
      ]
     },
     "execution_count": 96,
     "metadata": {},
     "output_type": "execute_result"
    }
   ],
   "source": [
    "model.fit(dg_train, epochs=1, shuffle=False)"
   ]
  },
  {
   "cell_type": "code",
   "execution_count": 23,
   "metadata": {},
   "outputs": [
    {
     "name": "stdout",
     "output_type": "stream",
     "text": [
      "WARNING:tensorflow:From /home/garg/miniconda3/envs/weatherbench/lib/python3.7/site-packages/tensorflow_core/python/ops/resource_variable_ops.py:1781: calling BaseResourceVariable.__init__ (from tensorflow.python.ops.resource_variable_ops) with constraint is deprecated and will be removed in a future version.\n",
      "Instructions for updating:\n",
      "If using Keras pass *_constraint arguments to layers.\n",
      "INFO:tensorflow:Assets written to: /home/garg/data/WeatherBench/predictions/saved_models/categorical_v1/assets\n"
     ]
    }
   ],
   "source": [
    "model_save_dir\n",
    "model.save(f'{model_save_dir}/categorical_v1')"
   ]
  },
  {
   "cell_type": "markdown",
   "metadata": {},
   "source": [
    "### Evaluation:\n",
    "for a basic evaluation, using y as a onehot vector. ideally would not change y but change prediction values to mid-points of each bin. and call each bin as a 'member'"
   ]
  },
  {
   "cell_type": "code",
   "execution_count": 80,
   "metadata": {},
   "outputs": [],
   "source": [
    "dg_valid = DataGenerator(\n",
    "            ds_valid, var_dict, lead_time, batch_size=batch_size,\n",
    "            data_subsample=data_subsample,\n",
    "            mean=dg_train.mean, std=dg_train.std,shuffle=False, \n",
    "            output_vars=output_vars, nt_in=nt_in, \n",
    "            dt_in=dt_in, is_categorical=True, num_bins=num_bins\n",
    "        )"
   ]
  },
  {
   "cell_type": "code",
   "execution_count": 55,
   "metadata": {},
   "outputs": [
    {
     "data": {
      "text/plain": [
       "<src.data_generator_categorical.DataGenerator at 0x7f1b4f28c210>"
      ]
     },
     "execution_count": 55,
     "metadata": {},
     "output_type": "execute_result"
    }
   ],
   "source": [
    "dg_valid"
   ]
  },
  {
   "cell_type": "code",
   "execution_count": 56,
   "metadata": {},
   "outputs": [],
   "source": [
    "prediction=model.predict(dg_valid)"
   ]
  },
  {
   "cell_type": "code",
   "execution_count": 57,
   "metadata": {},
   "outputs": [
    {
     "data": {
      "text/plain": [
       "(4342, 32, 64, 2, 20)"
      ]
     },
     "execution_count": 57,
     "metadata": {},
     "output_type": "execute_result"
    }
   ],
   "source": [
    "prediction.shape"
   ]
  },
  {
   "cell_type": "code",
   "execution_count": 60,
   "metadata": {},
   "outputs": [],
   "source": [
    "x,y=dg_valid[0]\n",
    "pred=model.predict(x)"
   ]
  },
  {
   "cell_type": "code",
   "execution_count": 61,
   "metadata": {},
   "outputs": [
    {
     "data": {
      "text/plain": [
       "((32, 32, 64, 2, 20), (32, 32, 64, 2, 20))"
      ]
     },
     "execution_count": 61,
     "metadata": {},
     "output_type": "execute_result"
    }
   ],
   "source": [
    "pred.shape, y.shape"
   ]
  },
  {
   "cell_type": "code",
   "execution_count": 62,
   "metadata": {},
   "outputs": [
    {
     "data": {
      "text/plain": [
       "(1.0, 0.0)"
      ]
     },
     "execution_count": 62,
     "metadata": {},
     "output_type": "execute_result"
    }
   ],
   "source": [
    "y.max(), y.min()"
   ]
  },
  {
   "cell_type": "code",
   "execution_count": 66,
   "metadata": {},
   "outputs": [],
   "source": [
    "predicted_class=pred.argmax(axis=4)\n",
    "truth_class=y.argmax(axis=4)"
   ]
  },
  {
   "cell_type": "code",
   "execution_count": 67,
   "metadata": {},
   "outputs": [
    {
     "data": {
      "text/plain": [
       "((32, 32, 64, 2), (32, 32, 64, 2))"
      ]
     },
     "execution_count": 67,
     "metadata": {},
     "output_type": "execute_result"
    }
   ],
   "source": [
    "predicted_class.shape, truth_class.shape"
   ]
  },
  {
   "cell_type": "code",
   "execution_count": 69,
   "metadata": {},
   "outputs": [],
   "source": [
    "accuracy = (predicted_class == truth_class).mean()"
   ]
  },
  {
   "cell_type": "code",
   "execution_count": 70,
   "metadata": {},
   "outputs": [
    {
     "data": {
      "text/plain": [
       "0.5965118408203125"
      ]
     },
     "execution_count": 70,
     "metadata": {},
     "output_type": "execute_result"
    }
   ],
   "source": [
    "accuracy #pretty bad."
   ]
  },
  {
   "cell_type": "code",
   "execution_count": null,
   "metadata": {},
   "outputs": [],
   "source": []
  },
  {
   "cell_type": "code",
   "execution_count": null,
   "metadata": {},
   "outputs": [],
   "source": []
  },
  {
   "cell_type": "code",
   "execution_count": null,
   "metadata": {},
   "outputs": [],
   "source": []
  },
  {
   "cell_type": "markdown",
   "metadata": {},
   "source": [
    "### Code Testing. Ignore all below."
   ]
  },
  {
   "cell_type": "code",
   "execution_count": 3,
   "metadata": {},
   "outputs": [],
   "source": [
    "#from sklearn.preprocessing import OneHotEncoder\n",
    "#from sklearn.preprocessing import LabelEncoder\n",
    "from sklearn.preprocessing import KBinsDiscretizer\n",
    "#import keras_preprocessing"
   ]
  },
  {
   "cell_type": "code",
   "execution_count": 4,
   "metadata": {},
   "outputs": [],
   "source": [
    "args = load_args('../nn_configs/B/81.1-resnet_d3_dr_0.1.yml')"
   ]
  },
  {
   "cell_type": "code",
   "execution_count": 5,
   "metadata": {},
   "outputs": [],
   "source": [
    "args['model_save_dir'] ='/home/garg/data/WeatherBench/predictions/saved_models'\n",
    "args['datadir']='/home/garg/data/WeatherBench/5.625deg'"
   ]
  },
  {
   "cell_type": "code",
   "execution_count": 6,
   "metadata": {
    "scrolled": true
   },
   "outputs": [],
   "source": [
    "#args['train_years'] = ['2017']\n",
    "#dg_train, dg_valid, dg_test = load_data(**args)"
   ]
  },
  {
   "cell_type": "code",
   "execution_count": 7,
   "metadata": {},
   "outputs": [],
   "source": [
    "#args['var_dict']"
   ]
  },
  {
   "cell_type": "code",
   "execution_count": 8,
   "metadata": {},
   "outputs": [],
   "source": [
    "args['var_dict']={'geopotential': ('z', [50, 250, 500, 600, 700, 850, 925]),\n",
    " 'temperature': ('t', [50, 250, 500, 600, 700, 850, 925]),\n",
    " 'u_component_of_wind': ('u', [50, 250, 500, 600, 700, 850, 925]),\n",
    " 'v_component_of_wind': ('v', [50, 250, 500, 600, 700, 850, 925]),\n",
    " 'constants': ['lsm', 'orography', 'lat2d']}"
   ]
  },
  {
   "cell_type": "code",
   "execution_count": 9,
   "metadata": {},
   "outputs": [],
   "source": [
    "var_dict=args['var_dict']; datadir=args['datadir']"
   ]
  },
  {
   "cell_type": "code",
   "execution_count": 10,
   "metadata": {},
   "outputs": [],
   "source": [
    "args['train_years']=['2017']\n",
    "args['valid_years']=['2018']\n",
    "args['test_years']=['2018']"
   ]
  },
  {
   "cell_type": "code",
   "execution_count": 12,
   "metadata": {},
   "outputs": [],
   "source": [
    "dg_train, dg_valid, dg_test = load_data(**args)"
   ]
  },
  {
   "cell_type": "code",
   "execution_count": null,
   "metadata": {},
   "outputs": [],
   "source": []
  },
  {
   "cell_type": "code",
   "execution_count": 12,
   "metadata": {},
   "outputs": [],
   "source": [
    "X, y = dg_train[0]"
   ]
  },
  {
   "cell_type": "code",
   "execution_count": 15,
   "metadata": {},
   "outputs": [
    {
     "data": {
      "text/plain": [
       "(2.6023862, -3.7825012)"
      ]
     },
     "execution_count": 15,
     "metadata": {},
     "output_type": "execute_result"
    }
   ],
   "source": [
    "y.max(), y.min()"
   ]
  },
  {
   "cell_type": "code",
   "execution_count": 187,
   "metadata": {},
   "outputs": [],
   "source": [
    "X,y =dg_train[0]\n",
    "for i in range(30):\n",
    "    X_batch,y_batch=dg_train[i+1]\n",
    "    X=np.append(X,X_batch,axis=0)\n",
    "    y=np.append(y,y_batch,axis=0)"
   ]
  },
  {
   "cell_type": "code",
   "execution_count": 14,
   "metadata": {},
   "outputs": [
    {
     "data": {
      "text/plain": [
       "((992, 32, 64, 93), (992, 32, 64, 2))"
      ]
     },
     "execution_count": 14,
     "metadata": {},
     "output_type": "execute_result"
    }
   ],
   "source": [
    "X.shape, y.shape"
   ]
  },
  {
   "cell_type": "code",
   "execution_count": 16,
   "metadata": {},
   "outputs": [],
   "source": [
    "n_bins=10"
   ]
  },
  {
   "cell_type": "code",
   "execution_count": 23,
   "metadata": {},
   "outputs": [
    {
     "name": "stdout",
     "output_type": "stream",
     "text": [
      "(4063232, 1)\n",
      "(4063232, 10)\n"
     ]
    }
   ],
   "source": [
    "\n",
    "#z=y[:,:,:,0] #Single feature\n",
    "z=y #both features.\n",
    "z=z.reshape(-1,1)\n",
    "#z=z.reshape(y.shape[0],-1)\n",
    "print(z.shape)\n",
    "\n",
    "discretizer = KBinsDiscretizer(n_bins=n_bins, encode='onehot', \n",
    "                               strategy='quantile') #may change to uniform\n",
    "\n",
    "zbinned=discretizer.fit_transform(z)\n",
    "print(zbinned.shape)"
   ]
  },
  {
   "cell_type": "code",
   "execution_count": 24,
   "metadata": {},
   "outputs": [
    {
     "data": {
      "text/plain": [
       "<4063232x10 sparse matrix of type '<class 'numpy.float64'>'\n",
       "\twith 4063232 stored elements in Compressed Sparse Row format>"
      ]
     },
     "execution_count": 24,
     "metadata": {},
     "output_type": "execute_result"
    }
   ],
   "source": [
    "zbinned"
   ]
  },
  {
   "cell_type": "code",
   "execution_count": 25,
   "metadata": {},
   "outputs": [
    {
     "name": "stdout",
     "output_type": "stream",
     "text": [
      "(4063232, 10)\n"
     ]
    }
   ],
   "source": [
    "zbinned=zbinned.toarray(); print(zbinned.shape)"
   ]
  },
  {
   "cell_type": "code",
   "execution_count": 26,
   "metadata": {},
   "outputs": [
    {
     "name": "stdout",
     "output_type": "stream",
     "text": [
      "(992, 32, 64, 2, 10)\n"
     ]
    }
   ],
   "source": [
    "#zbinned=zbinned.reshape(y.shape[0],y.shape[1],y.shape[2],2*n_bins)#both features\n",
    "zbinned=zbinned.reshape(y.shape[0],y.shape[1],y.shape[2],2, n_bins)#both features\n",
    "#zbinned=zbinned.reshape(y.shape[0],y.shape[1],y.shape[2],n_bins)#single feature\n",
    "\n",
    "print(zbinned.shape)"
   ]
  },
  {
   "cell_type": "code",
   "execution_count": 27,
   "metadata": {},
   "outputs": [
    {
     "data": {
      "text/plain": [
       "(0.0, 1.0, 0.1)"
      ]
     },
     "execution_count": 27,
     "metadata": {},
     "output_type": "execute_result"
    }
   ],
   "source": [
    "zbinned.min(), zbinned.max(), zbinned.mean()"
   ]
  },
  {
   "cell_type": "code",
   "execution_count": 128,
   "metadata": {},
   "outputs": [],
   "source": [
    "#maybe we should always keep features normalized before binning. so bin edges are similar proportioned in all dimensions\n",
    "#dont know how quantiles will work when loading data in batches. bin edges should be same for each batch.\n",
    "#should we have different edges for each feature.?"
   ]
  },
  {
   "cell_type": "code",
   "execution_count": 30,
   "metadata": {},
   "outputs": [
    {
     "data": {
      "text/plain": [
       "(10,\n",
       " array([array([-3.78250122, -1.52675844, -1.00765502, -0.56459385, -0.14745411,\n",
       "         0.27951834,  0.69605088,  1.01107681,  1.11988294,  1.19609022,\n",
       "         2.60238624])], dtype=object))"
      ]
     },
     "execution_count": 30,
     "metadata": {},
     "output_type": "execute_result"
    }
   ],
   "source": [
    "discretizer.n_bins, discretizer.bin_edges_"
   ]
  },
  {
   "cell_type": "code",
   "execution_count": 31,
   "metadata": {},
   "outputs": [
    {
     "data": {
      "text/plain": [
       "(-3.7825012, 2.6023862)"
      ]
     },
     "execution_count": 31,
     "metadata": {},
     "output_type": "execute_result"
    }
   ],
   "source": [
    "z.min(), z.max()"
   ]
  },
  {
   "cell_type": "code",
   "execution_count": 133,
   "metadata": {},
   "outputs": [],
   "source": [
    "# inverse=discretizer.inverse_transform(zbinned)\n",
    "# inverse, print((-3.70667171 + -1.57529008)/2) #middle point of each bucket."
   ]
  },
  {
   "cell_type": "code",
   "execution_count": 33,
   "metadata": {},
   "outputs": [],
   "source": []
  },
  {
   "cell_type": "code",
   "execution_count": 36,
   "metadata": {},
   "outputs": [],
   "source": [
    "# #Another Method\n",
    "# from sklearn.preprocessing import LabelEncoder\n",
    "# import tensorflow.keras.utils\n",
    "\n",
    "# y.shape\n",
    "# encoder=LabelEncoder()\n",
    "# z=y.reshape(-1,1)\n",
    "\n",
    "\n",
    "# encoder.fit(z)\n",
    "# encoded_Y = encoder.transform(z)\n",
    "# # convert integers to dummy variables (i.e. one hot encoded)\n",
    "# dummy_y = tensorflow.keras.utils.to_categorical(encoded_Y)"
   ]
  },
  {
   "cell_type": "code",
   "execution_count": null,
   "metadata": {},
   "outputs": [],
   "source": [
    "#another method to convert from integer labels (1,2..10) to onehot.\n",
    "#y_train = np_utils.to_categorical(y=y_train, num_classes=10)"
   ]
  },
  {
   "cell_type": "code",
   "execution_count": 135,
   "metadata": {},
   "outputs": [],
   "source": [
    "#Input done. ToDo: make same bin sizes for each batch of input data.\n",
    "#Now change model last layer. Add softmax (not sigmoid)."
   ]
  },
  {
   "cell_type": "code",
   "execution_count": 48,
   "metadata": {},
   "outputs": [
    {
     "name": "stdout",
     "output_type": "stream",
     "text": [
      "(5, 4, 3, 4)\n"
     ]
    }
   ],
   "source": [
    "a=np.zeros((5,4,3,2))\n",
    "b=np.zeros((5,4,3,2))\n",
    "c=np.concatenate((a,b), axis=-1)\n",
    "print(c.shape)"
   ]
  },
  {
   "cell_type": "code",
   "execution_count": 49,
   "metadata": {},
   "outputs": [],
   "source": [
    "d=np.stack((a,b), axis=3)"
   ]
  },
  {
   "cell_type": "code",
   "execution_count": 50,
   "metadata": {},
   "outputs": [
    {
     "data": {
      "text/plain": [
       "(5, 4, 3, 2, 2)"
      ]
     },
     "execution_count": 50,
     "metadata": {},
     "output_type": "execute_result"
    }
   ],
   "source": [
    "d.shape"
   ]
  },
  {
   "cell_type": "code",
   "execution_count": 32,
   "metadata": {},
   "outputs": [],
   "source": [
    "def build_resnet(filters, kernels, input_shape, bn_position=None, use_bias=True, l2=0,\n",
    "                 skip=True, dropout=0, activation='relu', **kwargs):\n",
    "    x = input = Input(shape=input_shape)\n",
    "\n",
    "    # First conv block to get up to shape\n",
    "    x = convblock(\n",
    "        x, filters[0], kernels[0], bn_position=bn_position, l2=l2, use_bias=use_bias,\n",
    "        dropout=dropout, activation=activation\n",
    "    )\n",
    "\n",
    "    # Resblocks\n",
    "    for f, k in zip(filters[1:-1], kernels[1:-1]):\n",
    "        x = resblock(x, f, k, bn_position=bn_position, l2=l2, use_bias=use_bias,\n",
    "                dropout=dropout, skip=skip, activation=activation)\n",
    "\n",
    "    # Final convolution\n",
    "    output = PeriodicConv2D(\n",
    "        filters[-1], kernels[-1],\n",
    "        conv_kwargs={'kernel_regularizer': regularizers.l2(l2)},\n",
    "    )(x)\n",
    "    output = Activation('linear', dtype='float32')(output)\n",
    "    #output = Activation('linear')(output) \n",
    "    #should we remove linear activation? wont make much diff i think\n",
    "    output1 = Activation('softmax', dtype='float32')(output)\n",
    "    output2 = Activation('softmax', dtype='float32')(output) #for 2 features?\n",
    "    #output= tf.keras.backend.concatenate((output1, output2), axis=-1)\n",
    "    output= tf.keras.backend.stack((output1, output2), axis=3)\n",
    "    return keras.models.Model(input, output)"
   ]
  },
  {
   "cell_type": "code",
   "execution_count": 55,
   "metadata": {},
   "outputs": [],
   "source": [
    "args['filters'] = [128, 128, 128, 128, 128, 128, 128, 128, \n",
    "                   128, 128, 128, 128, 128, 128, 128, 128, \n",
    "                   128, 128, 128, 128, 2*num_bins]"
   ]
  },
  {
   "cell_type": "code",
   "execution_count": 56,
   "metadata": {},
   "outputs": [
    {
     "name": "stdout",
     "output_type": "stream",
     "text": [
      "Model: \"model_1\"\n",
      "__________________________________________________________________________________________________\n",
      "Layer (type)                    Output Shape         Param #     Connected to                     \n",
      "==================================================================================================\n",
      "input_3 (InputLayer)            [(None, 32, 64, 114) 0                                            \n",
      "__________________________________________________________________________________________________\n",
      "periodic_conv2d_80 (PeriodicCon (None, 32, 64, 128)  715136      input_3[0][0]                    \n",
      "__________________________________________________________________________________________________\n",
      "leaky_re_lu_78 (LeakyReLU)      (None, 32, 64, 128)  0           periodic_conv2d_80[0][0]         \n",
      "__________________________________________________________________________________________________\n",
      "batch_normalization_78 (BatchNo (None, 32, 64, 128)  512         leaky_re_lu_78[0][0]             \n",
      "__________________________________________________________________________________________________\n",
      "dropout_78 (Dropout)            (None, 32, 64, 128)  0           batch_normalization_78[0][0]     \n",
      "__________________________________________________________________________________________________\n",
      "periodic_conv2d_81 (PeriodicCon (None, 32, 64, 128)  147584      dropout_78[0][0]                 \n",
      "__________________________________________________________________________________________________\n",
      "leaky_re_lu_79 (LeakyReLU)      (None, 32, 64, 128)  0           periodic_conv2d_81[0][0]         \n",
      "__________________________________________________________________________________________________\n",
      "batch_normalization_79 (BatchNo (None, 32, 64, 128)  512         leaky_re_lu_79[0][0]             \n",
      "__________________________________________________________________________________________________\n",
      "dropout_79 (Dropout)            (None, 32, 64, 128)  0           batch_normalization_79[0][0]     \n",
      "__________________________________________________________________________________________________\n",
      "periodic_conv2d_82 (PeriodicCon (None, 32, 64, 128)  147584      dropout_79[0][0]                 \n",
      "__________________________________________________________________________________________________\n",
      "leaky_re_lu_80 (LeakyReLU)      (None, 32, 64, 128)  0           periodic_conv2d_82[0][0]         \n",
      "__________________________________________________________________________________________________\n",
      "batch_normalization_80 (BatchNo (None, 32, 64, 128)  512         leaky_re_lu_80[0][0]             \n",
      "__________________________________________________________________________________________________\n",
      "dropout_80 (Dropout)            (None, 32, 64, 128)  0           batch_normalization_80[0][0]     \n",
      "__________________________________________________________________________________________________\n",
      "add_38 (Add)                    (None, 32, 64, 128)  0           dropout_78[0][0]                 \n",
      "                                                                 dropout_80[0][0]                 \n",
      "__________________________________________________________________________________________________\n",
      "periodic_conv2d_83 (PeriodicCon (None, 32, 64, 128)  147584      add_38[0][0]                     \n",
      "__________________________________________________________________________________________________\n",
      "leaky_re_lu_81 (LeakyReLU)      (None, 32, 64, 128)  0           periodic_conv2d_83[0][0]         \n",
      "__________________________________________________________________________________________________\n",
      "batch_normalization_81 (BatchNo (None, 32, 64, 128)  512         leaky_re_lu_81[0][0]             \n",
      "__________________________________________________________________________________________________\n",
      "dropout_81 (Dropout)            (None, 32, 64, 128)  0           batch_normalization_81[0][0]     \n",
      "__________________________________________________________________________________________________\n",
      "periodic_conv2d_84 (PeriodicCon (None, 32, 64, 128)  147584      dropout_81[0][0]                 \n",
      "__________________________________________________________________________________________________\n",
      "leaky_re_lu_82 (LeakyReLU)      (None, 32, 64, 128)  0           periodic_conv2d_84[0][0]         \n",
      "__________________________________________________________________________________________________\n",
      "batch_normalization_82 (BatchNo (None, 32, 64, 128)  512         leaky_re_lu_82[0][0]             \n",
      "__________________________________________________________________________________________________\n",
      "dropout_82 (Dropout)            (None, 32, 64, 128)  0           batch_normalization_82[0][0]     \n",
      "__________________________________________________________________________________________________\n",
      "add_39 (Add)                    (None, 32, 64, 128)  0           add_38[0][0]                     \n",
      "                                                                 dropout_82[0][0]                 \n",
      "__________________________________________________________________________________________________\n",
      "periodic_conv2d_85 (PeriodicCon (None, 32, 64, 128)  147584      add_39[0][0]                     \n",
      "__________________________________________________________________________________________________\n",
      "leaky_re_lu_83 (LeakyReLU)      (None, 32, 64, 128)  0           periodic_conv2d_85[0][0]         \n",
      "__________________________________________________________________________________________________\n",
      "batch_normalization_83 (BatchNo (None, 32, 64, 128)  512         leaky_re_lu_83[0][0]             \n",
      "__________________________________________________________________________________________________\n",
      "dropout_83 (Dropout)            (None, 32, 64, 128)  0           batch_normalization_83[0][0]     \n",
      "__________________________________________________________________________________________________\n",
      "periodic_conv2d_86 (PeriodicCon (None, 32, 64, 128)  147584      dropout_83[0][0]                 \n",
      "__________________________________________________________________________________________________\n",
      "leaky_re_lu_84 (LeakyReLU)      (None, 32, 64, 128)  0           periodic_conv2d_86[0][0]         \n",
      "__________________________________________________________________________________________________\n",
      "batch_normalization_84 (BatchNo (None, 32, 64, 128)  512         leaky_re_lu_84[0][0]             \n",
      "__________________________________________________________________________________________________\n",
      "dropout_84 (Dropout)            (None, 32, 64, 128)  0           batch_normalization_84[0][0]     \n",
      "__________________________________________________________________________________________________\n",
      "add_40 (Add)                    (None, 32, 64, 128)  0           add_39[0][0]                     \n",
      "                                                                 dropout_84[0][0]                 \n",
      "__________________________________________________________________________________________________\n",
      "periodic_conv2d_87 (PeriodicCon (None, 32, 64, 128)  147584      add_40[0][0]                     \n",
      "__________________________________________________________________________________________________\n",
      "leaky_re_lu_85 (LeakyReLU)      (None, 32, 64, 128)  0           periodic_conv2d_87[0][0]         \n",
      "__________________________________________________________________________________________________\n",
      "batch_normalization_85 (BatchNo (None, 32, 64, 128)  512         leaky_re_lu_85[0][0]             \n",
      "__________________________________________________________________________________________________\n",
      "dropout_85 (Dropout)            (None, 32, 64, 128)  0           batch_normalization_85[0][0]     \n",
      "__________________________________________________________________________________________________\n",
      "periodic_conv2d_88 (PeriodicCon (None, 32, 64, 128)  147584      dropout_85[0][0]                 \n",
      "__________________________________________________________________________________________________\n",
      "leaky_re_lu_86 (LeakyReLU)      (None, 32, 64, 128)  0           periodic_conv2d_88[0][0]         \n",
      "__________________________________________________________________________________________________\n",
      "batch_normalization_86 (BatchNo (None, 32, 64, 128)  512         leaky_re_lu_86[0][0]             \n",
      "__________________________________________________________________________________________________\n",
      "dropout_86 (Dropout)            (None, 32, 64, 128)  0           batch_normalization_86[0][0]     \n",
      "__________________________________________________________________________________________________\n",
      "add_41 (Add)                    (None, 32, 64, 128)  0           add_40[0][0]                     \n",
      "                                                                 dropout_86[0][0]                 \n",
      "__________________________________________________________________________________________________\n",
      "periodic_conv2d_89 (PeriodicCon (None, 32, 64, 128)  147584      add_41[0][0]                     \n",
      "__________________________________________________________________________________________________\n",
      "leaky_re_lu_87 (LeakyReLU)      (None, 32, 64, 128)  0           periodic_conv2d_89[0][0]         \n",
      "__________________________________________________________________________________________________\n",
      "batch_normalization_87 (BatchNo (None, 32, 64, 128)  512         leaky_re_lu_87[0][0]             \n",
      "__________________________________________________________________________________________________\n",
      "dropout_87 (Dropout)            (None, 32, 64, 128)  0           batch_normalization_87[0][0]     \n",
      "__________________________________________________________________________________________________\n",
      "periodic_conv2d_90 (PeriodicCon (None, 32, 64, 128)  147584      dropout_87[0][0]                 \n",
      "__________________________________________________________________________________________________\n",
      "leaky_re_lu_88 (LeakyReLU)      (None, 32, 64, 128)  0           periodic_conv2d_90[0][0]         \n",
      "__________________________________________________________________________________________________\n",
      "batch_normalization_88 (BatchNo (None, 32, 64, 128)  512         leaky_re_lu_88[0][0]             \n",
      "__________________________________________________________________________________________________\n",
      "dropout_88 (Dropout)            (None, 32, 64, 128)  0           batch_normalization_88[0][0]     \n",
      "__________________________________________________________________________________________________\n",
      "add_42 (Add)                    (None, 32, 64, 128)  0           add_41[0][0]                     \n",
      "                                                                 dropout_88[0][0]                 \n",
      "__________________________________________________________________________________________________\n",
      "periodic_conv2d_91 (PeriodicCon (None, 32, 64, 128)  147584      add_42[0][0]                     \n",
      "__________________________________________________________________________________________________\n",
      "leaky_re_lu_89 (LeakyReLU)      (None, 32, 64, 128)  0           periodic_conv2d_91[0][0]         \n",
      "__________________________________________________________________________________________________\n",
      "batch_normalization_89 (BatchNo (None, 32, 64, 128)  512         leaky_re_lu_89[0][0]             \n",
      "__________________________________________________________________________________________________\n",
      "dropout_89 (Dropout)            (None, 32, 64, 128)  0           batch_normalization_89[0][0]     \n",
      "__________________________________________________________________________________________________\n",
      "periodic_conv2d_92 (PeriodicCon (None, 32, 64, 128)  147584      dropout_89[0][0]                 \n",
      "__________________________________________________________________________________________________\n",
      "leaky_re_lu_90 (LeakyReLU)      (None, 32, 64, 128)  0           periodic_conv2d_92[0][0]         \n",
      "__________________________________________________________________________________________________\n",
      "batch_normalization_90 (BatchNo (None, 32, 64, 128)  512         leaky_re_lu_90[0][0]             \n",
      "__________________________________________________________________________________________________\n",
      "dropout_90 (Dropout)            (None, 32, 64, 128)  0           batch_normalization_90[0][0]     \n",
      "__________________________________________________________________________________________________\n",
      "add_43 (Add)                    (None, 32, 64, 128)  0           add_42[0][0]                     \n",
      "                                                                 dropout_90[0][0]                 \n",
      "__________________________________________________________________________________________________\n",
      "periodic_conv2d_93 (PeriodicCon (None, 32, 64, 128)  147584      add_43[0][0]                     \n",
      "__________________________________________________________________________________________________\n",
      "leaky_re_lu_91 (LeakyReLU)      (None, 32, 64, 128)  0           periodic_conv2d_93[0][0]         \n",
      "__________________________________________________________________________________________________\n",
      "batch_normalization_91 (BatchNo (None, 32, 64, 128)  512         leaky_re_lu_91[0][0]             \n",
      "__________________________________________________________________________________________________\n",
      "dropout_91 (Dropout)            (None, 32, 64, 128)  0           batch_normalization_91[0][0]     \n",
      "__________________________________________________________________________________________________\n",
      "periodic_conv2d_94 (PeriodicCon (None, 32, 64, 128)  147584      dropout_91[0][0]                 \n",
      "__________________________________________________________________________________________________\n",
      "leaky_re_lu_92 (LeakyReLU)      (None, 32, 64, 128)  0           periodic_conv2d_94[0][0]         \n",
      "__________________________________________________________________________________________________\n",
      "batch_normalization_92 (BatchNo (None, 32, 64, 128)  512         leaky_re_lu_92[0][0]             \n",
      "__________________________________________________________________________________________________\n",
      "dropout_92 (Dropout)            (None, 32, 64, 128)  0           batch_normalization_92[0][0]     \n",
      "__________________________________________________________________________________________________\n",
      "add_44 (Add)                    (None, 32, 64, 128)  0           add_43[0][0]                     \n",
      "                                                                 dropout_92[0][0]                 \n",
      "__________________________________________________________________________________________________\n",
      "periodic_conv2d_95 (PeriodicCon (None, 32, 64, 128)  147584      add_44[0][0]                     \n",
      "__________________________________________________________________________________________________\n",
      "leaky_re_lu_93 (LeakyReLU)      (None, 32, 64, 128)  0           periodic_conv2d_95[0][0]         \n",
      "__________________________________________________________________________________________________\n",
      "batch_normalization_93 (BatchNo (None, 32, 64, 128)  512         leaky_re_lu_93[0][0]             \n",
      "__________________________________________________________________________________________________\n",
      "dropout_93 (Dropout)            (None, 32, 64, 128)  0           batch_normalization_93[0][0]     \n",
      "__________________________________________________________________________________________________\n",
      "periodic_conv2d_96 (PeriodicCon (None, 32, 64, 128)  147584      dropout_93[0][0]                 \n",
      "__________________________________________________________________________________________________\n",
      "leaky_re_lu_94 (LeakyReLU)      (None, 32, 64, 128)  0           periodic_conv2d_96[0][0]         \n",
      "__________________________________________________________________________________________________\n",
      "batch_normalization_94 (BatchNo (None, 32, 64, 128)  512         leaky_re_lu_94[0][0]             \n",
      "__________________________________________________________________________________________________\n",
      "dropout_94 (Dropout)            (None, 32, 64, 128)  0           batch_normalization_94[0][0]     \n",
      "__________________________________________________________________________________________________\n",
      "add_45 (Add)                    (None, 32, 64, 128)  0           add_44[0][0]                     \n",
      "                                                                 dropout_94[0][0]                 \n",
      "__________________________________________________________________________________________________\n",
      "periodic_conv2d_97 (PeriodicCon (None, 32, 64, 128)  147584      add_45[0][0]                     \n",
      "__________________________________________________________________________________________________\n",
      "leaky_re_lu_95 (LeakyReLU)      (None, 32, 64, 128)  0           periodic_conv2d_97[0][0]         \n",
      "__________________________________________________________________________________________________\n",
      "batch_normalization_95 (BatchNo (None, 32, 64, 128)  512         leaky_re_lu_95[0][0]             \n",
      "__________________________________________________________________________________________________\n",
      "dropout_95 (Dropout)            (None, 32, 64, 128)  0           batch_normalization_95[0][0]     \n",
      "__________________________________________________________________________________________________\n",
      "periodic_conv2d_98 (PeriodicCon (None, 32, 64, 128)  147584      dropout_95[0][0]                 \n",
      "__________________________________________________________________________________________________\n",
      "leaky_re_lu_96 (LeakyReLU)      (None, 32, 64, 128)  0           periodic_conv2d_98[0][0]         \n",
      "__________________________________________________________________________________________________\n",
      "batch_normalization_96 (BatchNo (None, 32, 64, 128)  512         leaky_re_lu_96[0][0]             \n",
      "__________________________________________________________________________________________________\n",
      "dropout_96 (Dropout)            (None, 32, 64, 128)  0           batch_normalization_96[0][0]     \n",
      "__________________________________________________________________________________________________\n",
      "add_46 (Add)                    (None, 32, 64, 128)  0           add_45[0][0]                     \n",
      "                                                                 dropout_96[0][0]                 \n",
      "__________________________________________________________________________________________________\n",
      "periodic_conv2d_99 (PeriodicCon (None, 32, 64, 128)  147584      add_46[0][0]                     \n",
      "__________________________________________________________________________________________________\n",
      "leaky_re_lu_97 (LeakyReLU)      (None, 32, 64, 128)  0           periodic_conv2d_99[0][0]         \n",
      "__________________________________________________________________________________________________\n",
      "batch_normalization_97 (BatchNo (None, 32, 64, 128)  512         leaky_re_lu_97[0][0]             \n",
      "__________________________________________________________________________________________________\n",
      "dropout_97 (Dropout)            (None, 32, 64, 128)  0           batch_normalization_97[0][0]     \n",
      "__________________________________________________________________________________________________\n",
      "periodic_conv2d_100 (PeriodicCo (None, 32, 64, 128)  147584      dropout_97[0][0]                 \n",
      "__________________________________________________________________________________________________\n",
      "leaky_re_lu_98 (LeakyReLU)      (None, 32, 64, 128)  0           periodic_conv2d_100[0][0]        \n",
      "__________________________________________________________________________________________________\n",
      "batch_normalization_98 (BatchNo (None, 32, 64, 128)  512         leaky_re_lu_98[0][0]             \n",
      "__________________________________________________________________________________________________\n",
      "dropout_98 (Dropout)            (None, 32, 64, 128)  0           batch_normalization_98[0][0]     \n",
      "__________________________________________________________________________________________________\n",
      "add_47 (Add)                    (None, 32, 64, 128)  0           add_46[0][0]                     \n",
      "                                                                 dropout_98[0][0]                 \n",
      "__________________________________________________________________________________________________\n",
      "periodic_conv2d_101 (PeriodicCo (None, 32, 64, 128)  147584      add_47[0][0]                     \n",
      "__________________________________________________________________________________________________\n",
      "leaky_re_lu_99 (LeakyReLU)      (None, 32, 64, 128)  0           periodic_conv2d_101[0][0]        \n",
      "__________________________________________________________________________________________________\n",
      "batch_normalization_99 (BatchNo (None, 32, 64, 128)  512         leaky_re_lu_99[0][0]             \n",
      "__________________________________________________________________________________________________\n",
      "dropout_99 (Dropout)            (None, 32, 64, 128)  0           batch_normalization_99[0][0]     \n",
      "__________________________________________________________________________________________________\n",
      "periodic_conv2d_102 (PeriodicCo (None, 32, 64, 128)  147584      dropout_99[0][0]                 \n",
      "__________________________________________________________________________________________________\n",
      "leaky_re_lu_100 (LeakyReLU)     (None, 32, 64, 128)  0           periodic_conv2d_102[0][0]        \n",
      "__________________________________________________________________________________________________\n",
      "batch_normalization_100 (BatchN (None, 32, 64, 128)  512         leaky_re_lu_100[0][0]            \n",
      "__________________________________________________________________________________________________\n",
      "dropout_100 (Dropout)           (None, 32, 64, 128)  0           batch_normalization_100[0][0]    \n",
      "__________________________________________________________________________________________________\n",
      "add_48 (Add)                    (None, 32, 64, 128)  0           add_47[0][0]                     \n",
      "                                                                 dropout_100[0][0]                \n",
      "__________________________________________________________________________________________________\n",
      "periodic_conv2d_103 (PeriodicCo (None, 32, 64, 128)  147584      add_48[0][0]                     \n",
      "__________________________________________________________________________________________________\n",
      "leaky_re_lu_101 (LeakyReLU)     (None, 32, 64, 128)  0           periodic_conv2d_103[0][0]        \n",
      "__________________________________________________________________________________________________\n",
      "batch_normalization_101 (BatchN (None, 32, 64, 128)  512         leaky_re_lu_101[0][0]            \n",
      "__________________________________________________________________________________________________\n",
      "dropout_101 (Dropout)           (None, 32, 64, 128)  0           batch_normalization_101[0][0]    \n",
      "__________________________________________________________________________________________________\n",
      "periodic_conv2d_104 (PeriodicCo (None, 32, 64, 128)  147584      dropout_101[0][0]                \n",
      "__________________________________________________________________________________________________\n",
      "leaky_re_lu_102 (LeakyReLU)     (None, 32, 64, 128)  0           periodic_conv2d_104[0][0]        \n",
      "__________________________________________________________________________________________________\n",
      "batch_normalization_102 (BatchN (None, 32, 64, 128)  512         leaky_re_lu_102[0][0]            \n",
      "__________________________________________________________________________________________________\n",
      "dropout_102 (Dropout)           (None, 32, 64, 128)  0           batch_normalization_102[0][0]    \n",
      "__________________________________________________________________________________________________\n",
      "add_49 (Add)                    (None, 32, 64, 128)  0           add_48[0][0]                     \n",
      "                                                                 dropout_102[0][0]                \n",
      "__________________________________________________________________________________________________\n",
      "periodic_conv2d_105 (PeriodicCo (None, 32, 64, 128)  147584      add_49[0][0]                     \n",
      "__________________________________________________________________________________________________\n",
      "leaky_re_lu_103 (LeakyReLU)     (None, 32, 64, 128)  0           periodic_conv2d_105[0][0]        \n",
      "__________________________________________________________________________________________________\n",
      "batch_normalization_103 (BatchN (None, 32, 64, 128)  512         leaky_re_lu_103[0][0]            \n",
      "__________________________________________________________________________________________________\n",
      "dropout_103 (Dropout)           (None, 32, 64, 128)  0           batch_normalization_103[0][0]    \n",
      "__________________________________________________________________________________________________\n",
      "periodic_conv2d_106 (PeriodicCo (None, 32, 64, 128)  147584      dropout_103[0][0]                \n",
      "__________________________________________________________________________________________________\n",
      "leaky_re_lu_104 (LeakyReLU)     (None, 32, 64, 128)  0           periodic_conv2d_106[0][0]        \n",
      "__________________________________________________________________________________________________\n",
      "batch_normalization_104 (BatchN (None, 32, 64, 128)  512         leaky_re_lu_104[0][0]            \n",
      "__________________________________________________________________________________________________\n",
      "dropout_104 (Dropout)           (None, 32, 64, 128)  0           batch_normalization_104[0][0]    \n",
      "__________________________________________________________________________________________________\n",
      "add_50 (Add)                    (None, 32, 64, 128)  0           add_49[0][0]                     \n",
      "                                                                 dropout_104[0][0]                \n",
      "__________________________________________________________________________________________________\n",
      "periodic_conv2d_107 (PeriodicCo (None, 32, 64, 128)  147584      add_50[0][0]                     \n",
      "__________________________________________________________________________________________________\n",
      "leaky_re_lu_105 (LeakyReLU)     (None, 32, 64, 128)  0           periodic_conv2d_107[0][0]        \n",
      "__________________________________________________________________________________________________\n",
      "batch_normalization_105 (BatchN (None, 32, 64, 128)  512         leaky_re_lu_105[0][0]            \n",
      "__________________________________________________________________________________________________\n",
      "dropout_105 (Dropout)           (None, 32, 64, 128)  0           batch_normalization_105[0][0]    \n",
      "__________________________________________________________________________________________________\n",
      "periodic_conv2d_108 (PeriodicCo (None, 32, 64, 128)  147584      dropout_105[0][0]                \n",
      "__________________________________________________________________________________________________\n",
      "leaky_re_lu_106 (LeakyReLU)     (None, 32, 64, 128)  0           periodic_conv2d_108[0][0]        \n",
      "__________________________________________________________________________________________________\n",
      "batch_normalization_106 (BatchN (None, 32, 64, 128)  512         leaky_re_lu_106[0][0]            \n",
      "__________________________________________________________________________________________________\n",
      "dropout_106 (Dropout)           (None, 32, 64, 128)  0           batch_normalization_106[0][0]    \n",
      "__________________________________________________________________________________________________\n",
      "add_51 (Add)                    (None, 32, 64, 128)  0           add_50[0][0]                     \n",
      "                                                                 dropout_106[0][0]                \n",
      "__________________________________________________________________________________________________\n",
      "periodic_conv2d_109 (PeriodicCo (None, 32, 64, 128)  147584      add_51[0][0]                     \n",
      "__________________________________________________________________________________________________\n",
      "leaky_re_lu_107 (LeakyReLU)     (None, 32, 64, 128)  0           periodic_conv2d_109[0][0]        \n",
      "__________________________________________________________________________________________________\n",
      "batch_normalization_107 (BatchN (None, 32, 64, 128)  512         leaky_re_lu_107[0][0]            \n",
      "__________________________________________________________________________________________________\n",
      "dropout_107 (Dropout)           (None, 32, 64, 128)  0           batch_normalization_107[0][0]    \n",
      "__________________________________________________________________________________________________\n",
      "periodic_conv2d_110 (PeriodicCo (None, 32, 64, 128)  147584      dropout_107[0][0]                \n",
      "__________________________________________________________________________________________________\n",
      "leaky_re_lu_108 (LeakyReLU)     (None, 32, 64, 128)  0           periodic_conv2d_110[0][0]        \n",
      "__________________________________________________________________________________________________\n",
      "batch_normalization_108 (BatchN (None, 32, 64, 128)  512         leaky_re_lu_108[0][0]            \n",
      "__________________________________________________________________________________________________\n",
      "dropout_108 (Dropout)           (None, 32, 64, 128)  0           batch_normalization_108[0][0]    \n",
      "__________________________________________________________________________________________________\n",
      "add_52 (Add)                    (None, 32, 64, 128)  0           add_51[0][0]                     \n",
      "                                                                 dropout_108[0][0]                \n",
      "__________________________________________________________________________________________________\n",
      "periodic_conv2d_111 (PeriodicCo (None, 32, 64, 128)  147584      add_52[0][0]                     \n",
      "__________________________________________________________________________________________________\n",
      "leaky_re_lu_109 (LeakyReLU)     (None, 32, 64, 128)  0           periodic_conv2d_111[0][0]        \n",
      "__________________________________________________________________________________________________\n",
      "batch_normalization_109 (BatchN (None, 32, 64, 128)  512         leaky_re_lu_109[0][0]            \n",
      "__________________________________________________________________________________________________\n",
      "dropout_109 (Dropout)           (None, 32, 64, 128)  0           batch_normalization_109[0][0]    \n",
      "__________________________________________________________________________________________________\n",
      "periodic_conv2d_112 (PeriodicCo (None, 32, 64, 128)  147584      dropout_109[0][0]                \n",
      "__________________________________________________________________________________________________\n",
      "leaky_re_lu_110 (LeakyReLU)     (None, 32, 64, 128)  0           periodic_conv2d_112[0][0]        \n",
      "__________________________________________________________________________________________________\n",
      "batch_normalization_110 (BatchN (None, 32, 64, 128)  512         leaky_re_lu_110[0][0]            \n",
      "__________________________________________________________________________________________________\n",
      "dropout_110 (Dropout)           (None, 32, 64, 128)  0           batch_normalization_110[0][0]    \n",
      "__________________________________________________________________________________________________\n",
      "add_53 (Add)                    (None, 32, 64, 128)  0           add_52[0][0]                     \n",
      "                                                                 dropout_110[0][0]                \n",
      "__________________________________________________________________________________________________\n",
      "periodic_conv2d_113 (PeriodicCo (None, 32, 64, 128)  147584      add_53[0][0]                     \n",
      "__________________________________________________________________________________________________\n",
      "leaky_re_lu_111 (LeakyReLU)     (None, 32, 64, 128)  0           periodic_conv2d_113[0][0]        \n",
      "__________________________________________________________________________________________________\n",
      "batch_normalization_111 (BatchN (None, 32, 64, 128)  512         leaky_re_lu_111[0][0]            \n",
      "__________________________________________________________________________________________________\n",
      "dropout_111 (Dropout)           (None, 32, 64, 128)  0           batch_normalization_111[0][0]    \n",
      "__________________________________________________________________________________________________\n",
      "periodic_conv2d_114 (PeriodicCo (None, 32, 64, 128)  147584      dropout_111[0][0]                \n",
      "__________________________________________________________________________________________________\n",
      "leaky_re_lu_112 (LeakyReLU)     (None, 32, 64, 128)  0           periodic_conv2d_114[0][0]        \n",
      "__________________________________________________________________________________________________\n",
      "batch_normalization_112 (BatchN (None, 32, 64, 128)  512         leaky_re_lu_112[0][0]            \n",
      "__________________________________________________________________________________________________\n",
      "dropout_112 (Dropout)           (None, 32, 64, 128)  0           batch_normalization_112[0][0]    \n",
      "__________________________________________________________________________________________________\n",
      "add_54 (Add)                    (None, 32, 64, 128)  0           add_53[0][0]                     \n",
      "                                                                 dropout_112[0][0]                \n",
      "__________________________________________________________________________________________________\n",
      "periodic_conv2d_115 (PeriodicCo (None, 32, 64, 128)  147584      add_54[0][0]                     \n",
      "__________________________________________________________________________________________________\n",
      "leaky_re_lu_113 (LeakyReLU)     (None, 32, 64, 128)  0           periodic_conv2d_115[0][0]        \n",
      "__________________________________________________________________________________________________\n",
      "batch_normalization_113 (BatchN (None, 32, 64, 128)  512         leaky_re_lu_113[0][0]            \n",
      "__________________________________________________________________________________________________\n",
      "dropout_113 (Dropout)           (None, 32, 64, 128)  0           batch_normalization_113[0][0]    \n",
      "__________________________________________________________________________________________________\n",
      "periodic_conv2d_116 (PeriodicCo (None, 32, 64, 128)  147584      dropout_113[0][0]                \n",
      "__________________________________________________________________________________________________\n",
      "leaky_re_lu_114 (LeakyReLU)     (None, 32, 64, 128)  0           periodic_conv2d_116[0][0]        \n",
      "__________________________________________________________________________________________________\n",
      "batch_normalization_114 (BatchN (None, 32, 64, 128)  512         leaky_re_lu_114[0][0]            \n",
      "__________________________________________________________________________________________________\n",
      "dropout_114 (Dropout)           (None, 32, 64, 128)  0           batch_normalization_114[0][0]    \n",
      "__________________________________________________________________________________________________\n",
      "add_55 (Add)                    (None, 32, 64, 128)  0           add_54[0][0]                     \n",
      "                                                                 dropout_114[0][0]                \n",
      "__________________________________________________________________________________________________\n",
      "periodic_conv2d_117 (PeriodicCo (None, 32, 64, 128)  147584      add_55[0][0]                     \n",
      "__________________________________________________________________________________________________\n",
      "leaky_re_lu_115 (LeakyReLU)     (None, 32, 64, 128)  0           periodic_conv2d_117[0][0]        \n",
      "__________________________________________________________________________________________________\n",
      "batch_normalization_115 (BatchN (None, 32, 64, 128)  512         leaky_re_lu_115[0][0]            \n",
      "__________________________________________________________________________________________________\n",
      "dropout_115 (Dropout)           (None, 32, 64, 128)  0           batch_normalization_115[0][0]    \n",
      "__________________________________________________________________________________________________\n",
      "periodic_conv2d_118 (PeriodicCo (None, 32, 64, 128)  147584      dropout_115[0][0]                \n",
      "__________________________________________________________________________________________________\n",
      "leaky_re_lu_116 (LeakyReLU)     (None, 32, 64, 128)  0           periodic_conv2d_118[0][0]        \n",
      "__________________________________________________________________________________________________\n",
      "batch_normalization_116 (BatchN (None, 32, 64, 128)  512         leaky_re_lu_116[0][0]            \n",
      "__________________________________________________________________________________________________\n",
      "dropout_116 (Dropout)           (None, 32, 64, 128)  0           batch_normalization_116[0][0]    \n",
      "__________________________________________________________________________________________________\n",
      "add_56 (Add)                    (None, 32, 64, 128)  0           add_55[0][0]                     \n",
      "                                                                 dropout_116[0][0]                \n",
      "__________________________________________________________________________________________________\n",
      "periodic_conv2d_119 (PeriodicCo (None, 32, 64, 40)   46120       add_56[0][0]                     \n",
      "__________________________________________________________________________________________________\n",
      "tf_op_layer_strided_slice_2 (Te [(None, 32, 64, 40)] 0           periodic_conv2d_119[0][0]        \n",
      "__________________________________________________________________________________________________\n",
      "tf_op_layer_strided_slice_3 (Te [(None, 32, 64, 40)] 0           periodic_conv2d_119[0][0]        \n",
      "__________________________________________________________________________________________________\n",
      "activation_3 (Activation)       (None, 32, 64, 40)   0           tf_op_layer_strided_slice_2[0][0]\n",
      "__________________________________________________________________________________________________\n",
      "activation_4 (Activation)       (None, 32, 64, 40)   0           tf_op_layer_strided_slice_3[0][0]\n",
      "__________________________________________________________________________________________________\n",
      "tf_op_layer_stack_1 (TensorFlow [(None, 32, 64, 2, 4 0           activation_3[0][0]               \n",
      "                                                                 activation_4[0][0]               \n",
      "==================================================================================================\n",
      "Total params: 6,389,416\n",
      "Trainable params: 6,379,432\n",
      "Non-trainable params: 9,984\n",
      "__________________________________________________________________________________________________\n"
     ]
    }
   ],
   "source": [
    "model2 = build_resnet(\n",
    "    **args, input_shape=dg_train.shape,\n",
    ")\n",
    "\n",
    "model2.summary()"
   ]
  },
  {
   "cell_type": "code",
   "execution_count": 161,
   "metadata": {},
   "outputs": [
    {
     "data": {
      "text/plain": [
       "(tf.float32, TensorShape([2, 32, 64, 2, 10]))"
      ]
     },
     "execution_count": 161,
     "metadata": {},
     "output_type": "execute_result"
    }
   ],
   "source": [
    "pred=model2(X[0:2])\n",
    "pred.dtype, pred.shape"
   ]
  },
  {
   "cell_type": "code",
   "execution_count": 46,
   "metadata": {
    "scrolled": true
   },
   "outputs": [
    {
     "data": {
      "text/plain": [
       "(<tf.Tensor: id=12194, shape=(), dtype=float32, numpy=0.0>,\n",
       " <tf.Tensor: id=12196, shape=(), dtype=float32, numpy=1.0>,\n",
       " <tf.Tensor: id=12198, shape=(), dtype=float32, numpy=0.1>)"
      ]
     },
     "execution_count": 46,
     "metadata": {},
     "output_type": "execute_result"
    }
   ],
   "source": [
    "tf.reduce_min(pred), tf.reduce_max(pred), tf.reduce_mean(pred)"
   ]
  },
  {
   "cell_type": "code",
   "execution_count": 48,
   "metadata": {},
   "outputs": [
    {
     "name": "stdout",
     "output_type": "stream",
     "text": [
      "tf.Tensor(\n",
      "[8.1115775e-03 3.1604444e-19 1.2055289e-33 9.9101175e-22 1.6745210e-27\n",
      " 2.5492799e-35 9.9188846e-01 4.5411613e-31 0.0000000e+00 2.5258964e-10], shape=(10,), dtype=float32)\n",
      "tf.Tensor(1.0, shape=(), dtype=float32)\n",
      "tf.Tensor(1.0, shape=(), dtype=float32)\n"
     ]
    }
   ],
   "source": [
    "print(pred[0,0,0,0,:]) \n",
    "print(tf.reduce_sum(pred[0,0,0,0,0:10]))\n",
    "print(tf.reduce_sum(pred[0,0,0,1,0:10]))"
   ]
  },
  {
   "cell_type": "code",
   "execution_count": 49,
   "metadata": {},
   "outputs": [],
   "source": [
    "#Loss Fn.\n",
    "categorical_loss=tf.keras.losses.CategoricalCrossentropy()"
   ]
  },
  {
   "cell_type": "code",
   "execution_count": null,
   "metadata": {},
   "outputs": [],
   "source": []
  },
  {
   "cell_type": "code",
   "execution_count": 103,
   "metadata": {},
   "outputs": [],
   "source": [
    "y_true=zbinned[0:2,...]\n",
    "y_pred=pred"
   ]
  },
  {
   "cell_type": "code",
   "execution_count": 95,
   "metadata": {},
   "outputs": [],
   "source": [
    "#y_true=tf.convert_to_tensor(zbinned.toarray(), dtype='float32')\n",
    "#y_pred=tf.reshape(pred, shape=(y_true.shape))"
   ]
  },
  {
   "cell_type": "code",
   "execution_count": 106,
   "metadata": {},
   "outputs": [
    {
     "data": {
      "text/plain": [
       "((2, 32, 64, 2, 10),\n",
       " TensorShape([2, 32, 64, 2, 10]),\n",
       " <tf.Tensor: id=14107, shape=(), dtype=float64, numpy=0.1>)"
      ]
     },
     "execution_count": 106,
     "metadata": {},
     "output_type": "execute_result"
    }
   ],
   "source": [
    "y_true.shape, y_pred.shape, tf.reduce_mean(y_true)"
   ]
  },
  {
   "cell_type": "code",
   "execution_count": 107,
   "metadata": {},
   "outputs": [
    {
     "data": {
      "text/plain": [
       "(TensorShape([2, 32, 64, 2, 10]),\n",
       " <tf.Tensor: id=14109, shape=(), dtype=float32, numpy=0.1>)"
      ]
     },
     "execution_count": 107,
     "metadata": {},
     "output_type": "execute_result"
    }
   ],
   "source": [
    "y_pred.shape, tf.reduce_mean(y_pred)"
   ]
  },
  {
   "cell_type": "code",
   "execution_count": 108,
   "metadata": {},
   "outputs": [],
   "source": [
    "cce1=categorical_loss(y_true, y_pred)\n",
    "cce2=categorical_loss(y_true[:,:,:,0,:], y_pred[:,:,:,0,:])+categorical_loss(y_true[:,:,:,1,:], y_pred[:,:,:,1,:])"
   ]
  },
  {
   "cell_type": "code",
   "execution_count": 109,
   "metadata": {},
   "outputs": [
    {
     "data": {
      "text/plain": [
       "(<tf.Tensor: id=14142, shape=(), dtype=float32, numpy=14.252204>,\n",
       " <tf.Tensor: id=14217, shape=(), dtype=float32, numpy=28.504414>)"
      ]
     },
     "execution_count": 109,
     "metadata": {},
     "output_type": "execute_result"
    }
   ],
   "source": [
    "cce1, cce2 #need to ensure if this is correct"
   ]
  },
  {
   "cell_type": "code",
   "execution_count": 110,
   "metadata": {},
   "outputs": [
    {
     "data": {
      "text/plain": [
       "((2, 32, 64, 20), TensorShape([2, 32, 64, 20]))"
      ]
     },
     "execution_count": 110,
     "metadata": {},
     "output_type": "execute_result"
    }
   ],
   "source": [
    "y_true3=y_true.reshape(y_true.shape[0], y_true.shape[1], y_true.shape[2], 2*y_true.shape[4])\n",
    "pred3=tf.reshape(pred, (pred.shape[0], pred.shape[1], pred.shape[2], 2*pred.shape[4]))\n",
    "y_true2.shape, pred2.shape"
   ]
  },
  {
   "cell_type": "code",
   "execution_count": 111,
   "metadata": {},
   "outputs": [
    {
     "data": {
      "text/plain": [
       "<tf.Tensor: id=14252, shape=(), dtype=float32, numpy=28.726276>"
      ]
     },
     "execution_count": 111,
     "metadata": {},
     "output_type": "execute_result"
    }
   ],
   "source": [
    "cce3=categorical_loss(y_true3, pred3)\n",
    "cce3"
   ]
  },
  {
   "cell_type": "code",
   "execution_count": 112,
   "metadata": {},
   "outputs": [
    {
     "data": {
      "text/plain": [
       "((4096, 20), TensorShape([4096, 20]))"
      ]
     },
     "execution_count": 112,
     "metadata": {},
     "output_type": "execute_result"
    }
   ],
   "source": [
    "y_true4=y_true.reshape(-1, 2*y_true.shape[4])\n",
    "pred4=tf.reshape(pred, (-1, 2*pred.shape[4]))\n",
    "y_true4.shape, pred4.shape"
   ]
  },
  {
   "cell_type": "code",
   "execution_count": 113,
   "metadata": {},
   "outputs": [
    {
     "data": {
      "text/plain": [
       "<tf.Tensor: id=14287, shape=(), dtype=float32, numpy=28.726276>"
      ]
     },
     "execution_count": 113,
     "metadata": {},
     "output_type": "execute_result"
    }
   ],
   "source": [
    "cce4=categorical_loss(y_true4, pred4)\n",
    "cce4"
   ]
  },
  {
   "cell_type": "code",
   "execution_count": 114,
   "metadata": {},
   "outputs": [
    {
     "data": {
      "text/plain": [
       "(2, 32, 64, 2, 10)"
      ]
     },
     "execution_count": 114,
     "metadata": {},
     "output_type": "execute_result"
    }
   ],
   "source": [
    "y_true.shape"
   ]
  },
  {
   "cell_type": "code",
   "execution_count": 115,
   "metadata": {},
   "outputs": [],
   "source": [
    "y_true5_1=y_true[:,:,:,0,:].reshape(-1, n_bins)\n",
    "y_true5_2=y_true[:,:,:,1,:].reshape(-1, n_bins)\n",
    "\n",
    "\n",
    "pred5_1=tf.reshape(pred[:,:,:,0,:],(-1, n_bins))\n",
    "pred5_2=tf.reshape(pred[:,:,:,1,:],(-1, n_bins))"
   ]
  },
  {
   "cell_type": "code",
   "execution_count": 119,
   "metadata": {},
   "outputs": [
    {
     "data": {
      "text/plain": [
       "((4096, 10), TensorShape([4096, 10]))"
      ]
     },
     "execution_count": 119,
     "metadata": {},
     "output_type": "execute_result"
    }
   ],
   "source": [
    "y_true5_1.shape, pred5_1.shape"
   ]
  },
  {
   "cell_type": "code",
   "execution_count": 116,
   "metadata": {},
   "outputs": [
    {
     "data": {
      "text/plain": [
       "<tf.Tensor: id=14366, shape=(), dtype=float32, numpy=28.504414>"
      ]
     },
     "execution_count": 116,
     "metadata": {},
     "output_type": "execute_result"
    }
   ],
   "source": [
    "cce5=categorical_loss(y_true5_1, pred5_1)+categorical_loss(y_true5_2, pred5_2)\n",
    "cce5"
   ]
  },
  {
   "cell_type": "code",
   "execution_count": 117,
   "metadata": {},
   "outputs": [
    {
     "name": "stdout",
     "output_type": "stream",
     "text": [
      "tf.Tensor(14.252204, shape=(), dtype=float32) \n",
      " tf.Tensor(28.504414, shape=(), dtype=float32) \n",
      " tf.Tensor(28.726276, shape=(), dtype=float32) \n",
      " tf.Tensor(28.726276, shape=(), dtype=float32) \n",
      " tf.Tensor(28.504414, shape=(), dtype=float32)\n"
     ]
    }
   ],
   "source": [
    "print(cce1, '\\n', cce2, '\\n',cce3, '\\n',cce4, '\\n',cce5)"
   ]
  },
  {
   "cell_type": "code",
   "execution_count": null,
   "metadata": {},
   "outputs": [],
   "source": [
    "#so it matters if its [..., 2, 10] or [..., 20] but doesnt matter if [2,32,64,...] or [4096, ...]"
   ]
  },
  {
   "cell_type": "code",
   "execution_count": 135,
   "metadata": {},
   "outputs": [],
   "source": [
    "assert y_pred.ndim==5"
   ]
  },
  {
   "cell_type": "code",
   "execution_count": 138,
   "metadata": {},
   "outputs": [],
   "source": [
    "perdasds=tf.reshape(y_pred[:,:,:,0,:], (-1, y_pred.shape[4]))"
   ]
  },
  {
   "cell_type": "code",
   "execution_count": 141,
   "metadata": {},
   "outputs": [
    {
     "data": {
      "text/plain": [
       "TensorShape([2, 32, 64, 10])"
      ]
     },
     "execution_count": 141,
     "metadata": {},
     "output_type": "execute_result"
    }
   ],
   "source": [
    "y_pred[:,:,:,0,:].shape"
   ]
  },
  {
   "cell_type": "code",
   "execution_count": 146,
   "metadata": {},
   "outputs": [
    {
     "data": {
      "text/plain": [
       "2"
      ]
     },
     "execution_count": 146,
     "metadata": {},
     "output_type": "execute_result"
    }
   ],
   "source": [
    "len(args['output_vars'])"
   ]
  },
  {
   "cell_type": "code",
   "execution_count": 167,
   "metadata": {},
   "outputs": [
    {
     "data": {
      "text/plain": [
       "<tf.Tensor: id=15847, shape=(), dtype=int32, numpy=2>"
      ]
     },
     "execution_count": 167,
     "metadata": {},
     "output_type": "execute_result"
    }
   ],
   "source": [
    "tf.shape(pred)[3]"
   ]
  },
  {
   "cell_type": "code",
   "execution_count": 174,
   "metadata": {},
   "outputs": [],
   "source": [
    "def custom_categorical_loss(y_true, y_pred):\n",
    "    #assert tf.shape(y_true)==tf.shape(y_pred)\n",
    "    #assert tf.rank(y_true)==5 #[batch_size, lat, lon, 2, ]\n",
    "    #assert tf.shape(y_true)[3]==2 #len(args['outpt_vars'])\n",
    "    \n",
    "    cce=tf.keras.losses.CategoricalCrossentropy()\n",
    "    cce1=cce(y_true[:,:,:,0,:], y_pred[:,:,:,0,:])\n",
    "    cce2=cce(y_true[:,:,:,1,:], y_pred[:,:,:,1,:])\n",
    "    return (cce1+cce2)"
   ]
  },
  {
   "cell_type": "code",
   "execution_count": 175,
   "metadata": {},
   "outputs": [
    {
     "data": {
      "text/plain": [
       "'adam'"
      ]
     },
     "execution_count": 175,
     "metadata": {},
     "output_type": "execute_result"
    }
   ],
   "source": [
    "args['optimizer']"
   ]
  },
  {
   "cell_type": "code",
   "execution_count": 176,
   "metadata": {},
   "outputs": [],
   "source": [
    "model2.compile(keras.optimizers.Adam(1e-3), custom_categorical_loss) #metrics?"
   ]
  },
  {
   "cell_type": "code",
   "execution_count": 190,
   "metadata": {},
   "outputs": [
    {
     "data": {
      "text/plain": [
       "(992, 32, 64, 2, 10)"
      ]
     },
     "execution_count": 190,
     "metadata": {},
     "output_type": "execute_result"
    }
   ],
   "source": [
    "y_true=zbinned\n",
    "y_true.shape"
   ]
  },
  {
   "cell_type": "code",
   "execution_count": 179,
   "metadata": {},
   "outputs": [
    {
     "name": "stdout",
     "output_type": "stream",
     "text": [
      "Train on 992 samples\n",
      "Epoch 1/10\n",
      "992/992 [==============================] - 20s 20ms/sample - loss: 14.4971\n",
      "Epoch 2/10\n",
      "992/992 [==============================] - 12s 12ms/sample - loss: 7.1829\n",
      "Epoch 3/10\n",
      "992/992 [==============================] - 12s 12ms/sample - loss: 3.2941\n",
      "Epoch 4/10\n",
      "992/992 [==============================] - 12s 12ms/sample - loss: 2.9438\n",
      "Epoch 5/10\n",
      "992/992 [==============================] - 12s 12ms/sample - loss: 2.7901\n",
      "Epoch 6/10\n",
      "992/992 [==============================] - 12s 12ms/sample - loss: 2.9497\n",
      "Epoch 7/10\n",
      "992/992 [==============================] - 13s 13ms/sample - loss: 2.8081\n",
      "Epoch 8/10\n",
      "992/992 [==============================] - 13s 13ms/sample - loss: 2.6714\n",
      "Epoch 9/10\n",
      "992/992 [==============================] - 13s 13ms/sample - loss: 2.5916\n",
      "Epoch 10/10\n",
      "992/992 [==============================] - 13s 13ms/sample - loss: 2.5506\n"
     ]
    },
    {
     "data": {
      "text/plain": [
       "<tensorflow.python.keras.callbacks.History at 0x7ff9752a1550>"
      ]
     },
     "execution_count": 179,
     "metadata": {},
     "output_type": "execute_result"
    }
   ],
   "source": [
    "model2.fit(X, y_true, \n",
    "          batch_size=32, epochs=10, verbose=1)"
   ]
  },
  {
   "cell_type": "code",
   "execution_count": 180,
   "metadata": {},
   "outputs": [],
   "source": [
    "pred=model2.predict(X)"
   ]
  },
  {
   "cell_type": "code",
   "execution_count": 191,
   "metadata": {},
   "outputs": [
    {
     "name": "stdout",
     "output_type": "stream",
     "text": [
      "(992, 32, 64, 2, 10)\n",
      "pred:\n",
      "tf.Tensor(0.074389875, shape=(), dtype=float32)\n",
      "tf.Tensor(0.098409444, shape=(), dtype=float32)\n",
      "tf.Tensor(0.107323214, shape=(), dtype=float32)\n",
      "tf.Tensor(0.094795525, shape=(), dtype=float32)\n",
      "tf.Tensor(0.10606819, shape=(), dtype=float32)\n",
      "tf.Tensor(0.1469336, shape=(), dtype=float32)\n",
      "tf.Tensor(0.13323091, shape=(), dtype=float32)\n",
      "tf.Tensor(0.13979475, shape=(), dtype=float32)\n",
      "tf.Tensor(0.062539145, shape=(), dtype=float32)\n",
      "tf.Tensor(0.03651534, shape=(), dtype=float32)\n",
      "\n",
      " truth:\n",
      "tf.Tensor(0.09998887585055444, shape=(), dtype=float64)\n",
      "tf.Tensor(0.09991135135773689, shape=(), dtype=float64)\n",
      "tf.Tensor(0.10008141302293347, shape=(), dtype=float64)\n",
      "tf.Tensor(0.09999675135458669, shape=(), dtype=float64)\n",
      "tf.Tensor(0.0999539283014113, shape=(), dtype=float64)\n",
      "tf.Tensor(0.09996697210496472, shape=(), dtype=float64)\n",
      "tf.Tensor(0.10007501417590726, shape=(), dtype=float64)\n",
      "tf.Tensor(0.09956556750882056, shape=(), dtype=float64)\n",
      "tf.Tensor(0.10016189082976311, shape=(), dtype=float64)\n",
      "tf.Tensor(0.10029823549332158, shape=(), dtype=float64)\n"
     ]
    }
   ],
   "source": [
    "print(pred.shape)\n",
    "print(\"pred:\")\n",
    "for i in range(10):\n",
    "    print(tf.reduce_mean(pred[...,i]))\n",
    "print (\"\\n truth:\")\n",
    "for i in range(10):\n",
    "    print(tf.reduce_mean(y_true[...,i]))"
   ]
  },
  {
   "cell_type": "code",
   "execution_count": 192,
   "metadata": {},
   "outputs": [
    {
     "data": {
      "text/plain": [
       "array([array([-3.78250122, -1.52675844, -1.00765502, -0.56459385, -0.14745411,\n",
       "        0.27951834,  0.69605088,  1.01107681,  1.11988294,  1.19609022,\n",
       "        2.60238624])], dtype=object)"
      ]
     },
     "execution_count": 192,
     "metadata": {},
     "output_type": "execute_result"
    }
   ],
   "source": [
    "discretizer.bin_edges_"
   ]
  },
  {
   "cell_type": "code",
   "execution_count": 193,
   "metadata": {},
   "outputs": [
    {
     "data": {
      "text/plain": [
       "(4063232, 10)"
      ]
     },
     "execution_count": 193,
     "metadata": {},
     "output_type": "execute_result"
    }
   ],
   "source": [
    "#Plotting\n",
    "pred.shape; pred1=pred.reshape(-1,10); pred1.shape"
   ]
  },
  {
   "cell_type": "code",
   "execution_count": 199,
   "metadata": {},
   "outputs": [
    {
     "data": {
      "text/plain": [
       "<tf.Tensor: id=34533, shape=(10,), dtype=float32, numpy=\n",
       "array([0.0743898 , 0.09840944, 0.1073232 , 0.09479552, 0.10606818,\n",
       "       0.14693357, 0.13323088, 0.1397947 , 0.06253915, 0.03651533],\n",
       "      dtype=float32)>"
      ]
     },
     "execution_count": 199,
     "metadata": {},
     "output_type": "execute_result"
    }
   ],
   "source": [
    "pred_mean=tf.reduce_mean(pred1,axis=0)\n",
    "\n",
    "pred_mean"
   ]
  },
  {
   "cell_type": "code",
   "execution_count": 196,
   "metadata": {},
   "outputs": [
    {
     "data": {
      "text/plain": [
       "[<matplotlib.lines.Line2D at 0x7ff864c6efd0>]"
      ]
     },
     "execution_count": 196,
     "metadata": {},
     "output_type": "execute_result"
    },
    {
     "data": {
      "image/png": "[encoded data removed]",
      "text/plain": [
       "<Figure size 432x288 with 1 Axes>"
      ]
     },
     "metadata": {
      "needs_background": "light"
     },
     "output_type": "display_data"
    }
   ],
   "source": [
    "plt.plot(pred_mean) \n",
    "#should ideally be a flat line since we are doing binning by quantiles"
   ]
  },
  {
   "cell_type": "code",
   "execution_count": 200,
   "metadata": {},
   "outputs": [
    {
     "data": {
      "text/plain": [
       "[<matplotlib.lines.Line2D at 0x7ff864b30650>,\n",
       " <matplotlib.lines.Line2D at 0x7ff864b30850>]"
      ]
     },
     "execution_count": 200,
     "metadata": {},
     "output_type": "execute_result"
    },
    {
     "data": {
      "image/png": "[encoded data removed]",
      "text/plain": [
       "<Figure size 432x288 with 1 Axes>"
      ]
     },
     "metadata": {
      "needs_background": "light"
     },
     "output_type": "display_data"
    }
   ],
   "source": [
    "#Plotting single point\n",
    "plt.plot(pred[20,5,20,0,:], 'r', y_true[20,5,20,0,:], 'bs')"
   ]
  },
  {
   "cell_type": "code",
   "execution_count": null,
   "metadata": {},
   "outputs": [],
   "source": []
  },
  {
   "cell_type": "code",
   "execution_count": null,
   "metadata": {},
   "outputs": [],
   "source": []
  },
  {
   "cell_type": "code",
   "execution_count": 204,
   "metadata": {
    "scrolled": true
   },
   "outputs": [],
   "source": [
    "#pred_inverse=discretizer.inverse_transform(tf.reshape(pred, (-1,10)))"
   ]
  },
  {
   "cell_type": "code",
   "execution_count": 386,
   "metadata": {},
   "outputs": [],
   "source": [
    "#plt.hist(pred_inverse, bins=discretizer.bin_edges_[0]) "
   ]
  },
  {
   "cell_type": "code",
   "execution_count": null,
   "metadata": {},
   "outputs": [],
   "source": []
  },
  {
   "cell_type": "code",
   "execution_count": null,
   "metadata": {},
   "outputs": [],
   "source": [
    "#Another method to discretize.\n",
    "# import pandas as pd\n",
    "\n",
    "# z3=z.flatten()\n",
    "# z3.shape\n",
    "# bins2=pd.qcut(z3, 10, labels=False,retbins=True) \n",
    "# #quantiles based method. ensures almost equal items per bin\n",
    "# bins2\n",
    "# bins2[0].shape, bins2[1].shape #bins, bin-edges\n",
    "\n",
    "# from collections import Counter\n",
    "# recounted=Counter(bins2[0])\n",
    "# recounted\n",
    "\n",
    "# #this is useless. we had to do onehot encoding.\n",
    "\n",
    "#another method\n",
    "\n",
    "# z4=bins2[0]\n",
    "# z4.shape, type(z4)\n",
    "# values = z4\n",
    "# #print(values)\n",
    "# # integer encode\n",
    "# label_encoder = LabelEncoder()\n",
    "# integer_encoded = label_encoder.fit_transform(values)\n",
    "# #print(integer_encoded)\n",
    "# # binary encode\n",
    "# onehot_encoder = OneHotEncoder(sparse=False)\n",
    "# integer_encoded = integer_encoded.reshape(len(integer_encoded), 1)\n",
    "# onehot_encoded = onehot_encoder.fit_transform(integer_encoded)\n",
    "# print(onehot_encoded)\n",
    "# # # invert first example\n",
    "# # inverted = label_encoder.inverse_transform([argmax(onehot_encoded[0, :])])\n",
    "# # print(inverted)\n",
    "\n",
    "# values=z4\n",
    "# onehot_encoder = OneHotEncoder(sparse=False)\n",
    "# values = values.reshape(len(values), 1)\n",
    "# onehot_encoded = onehot_encoder.fit_transform(values)\n",
    "\n",
    "# print(values.shape, values[6000])\n",
    "# print('min:', values.min(), 'max:', values.max())\n",
    "\n",
    "# onehot_encoded.shape, onehot_encoded[6000]"
   ]
  },
  {
   "cell_type": "code",
   "execution_count": null,
   "metadata": {},
   "outputs": [],
   "source": []
  },
  {
   "cell_type": "code",
   "execution_count": null,
   "metadata": {},
   "outputs": [],
   "source": [
    "#ATTEMPTING UNIFORM BINNING"
   ]
  },
  {
   "cell_type": "code",
   "execution_count": 176,
   "metadata": {},
   "outputs": [
    {
     "data": {
      "text/plain": [
       "((992, 32, 64, 93), (992, 32, 64, 2))"
      ]
     },
     "execution_count": 176,
     "metadata": {},
     "output_type": "execute_result"
    }
   ],
   "source": [
    "X.shape, y.shape"
   ]
  },
  {
   "cell_type": "code",
   "execution_count": 188,
   "metadata": {},
   "outputs": [
    {
     "data": {
      "text/plain": [
       "(-3.7825012, 2.6023862)"
      ]
     },
     "execution_count": 188,
     "metadata": {},
     "output_type": "execute_result"
    }
   ],
   "source": [
    "y.min(), y.max()"
   ]
  },
  {
   "cell_type": "code",
   "execution_count": 189,
   "metadata": {},
   "outputs": [
    {
     "data": {
      "text/plain": [
       "array([-4. , -3.6, -3.2, -2.8, -2.4, -2. , -1.6, -1.2, -0.8, -0.4,  0. ,\n",
       "        0.4,  0.8,  1.2,  1.6,  2. ,  2.4,  2.8,  3.2,  3.6,  4. ])"
      ]
     },
     "execution_count": 189,
     "metadata": {},
     "output_type": "execute_result"
    }
   ],
   "source": [
    "bins=np.linspace(-4, 4, 21)\n",
    "bins"
   ]
  },
  {
   "cell_type": "code",
   "execution_count": 217,
   "metadata": {},
   "outputs": [],
   "source": [
    "bins[0]=-np.inf; bins[-1]=np.inf"
   ]
  },
  {
   "cell_type": "code",
   "execution_count": 218,
   "metadata": {},
   "outputs": [
    {
     "data": {
      "text/plain": [
       "array([-inf, -3.6, -3.2, -2.8, -2.4, -2. , -1.6, -1.2, -0.8, -0.4,  0. ,\n",
       "        0.4,  0.8,  1.2,  1.6,  2. ,  2.4,  2.8,  3.2,  3.6,  inf])"
      ]
     },
     "execution_count": 218,
     "metadata": {},
     "output_type": "execute_result"
    }
   ],
   "source": [
    "bins"
   ]
  },
  {
   "cell_type": "code",
   "execution_count": 219,
   "metadata": {},
   "outputs": [],
   "source": [
    "import pandas as pd"
   ]
  },
  {
   "cell_type": "code",
   "execution_count": 220,
   "metadata": {},
   "outputs": [
    {
     "data": {
      "text/plain": [
       "(4063232,)"
      ]
     },
     "execution_count": 220,
     "metadata": {},
     "output_type": "execute_result"
    }
   ],
   "source": [
    "y.reshape(-1).shape"
   ]
  },
  {
   "cell_type": "code",
   "execution_count": 221,
   "metadata": {},
   "outputs": [
    {
     "data": {
      "text/plain": [
       "(4.7, -3.7825012)"
      ]
     },
     "execution_count": 221,
     "metadata": {},
     "output_type": "execute_result"
    }
   ],
   "source": [
    "y.max(), y.min()"
   ]
  },
  {
   "cell_type": "code",
   "execution_count": 222,
   "metadata": {},
   "outputs": [],
   "source": [
    "y1=y"
   ]
  },
  {
   "cell_type": "code",
   "execution_count": 223,
   "metadata": {},
   "outputs": [],
   "source": [
    "y1[0,0,0,0]=4.7"
   ]
  },
  {
   "cell_type": "code",
   "execution_count": 224,
   "metadata": {},
   "outputs": [
    {
     "data": {
      "text/plain": [
       "4.7"
      ]
     },
     "execution_count": 224,
     "metadata": {},
     "output_type": "execute_result"
    }
   ],
   "source": [
    "y[0,0,0,0]"
   ]
  },
  {
   "cell_type": "code",
   "execution_count": 235,
   "metadata": {},
   "outputs": [],
   "source": [
    "a=pd.cut(y1.reshape(-1), bins, labels=False)"
   ]
  },
  {
   "cell_type": "code",
   "execution_count": 236,
   "metadata": {},
   "outputs": [
    {
     "data": {
      "text/plain": [
       "array([19,  6,  6, ...,  7,  7,  8])"
      ]
     },
     "execution_count": 236,
     "metadata": {},
     "output_type": "execute_result"
    }
   ],
   "source": [
    "a"
   ]
  },
  {
   "cell_type": "code",
   "execution_count": 227,
   "metadata": {},
   "outputs": [
    {
     "data": {
      "text/plain": [
       "(4063232,)"
      ]
     },
     "execution_count": 227,
     "metadata": {},
     "output_type": "execute_result"
    }
   ],
   "source": [
    "a.shape"
   ]
  },
  {
   "cell_type": "code",
   "execution_count": 228,
   "metadata": {},
   "outputs": [
    {
     "data": {
      "text/plain": [
       "(0, 19)"
      ]
     },
     "execution_count": 228,
     "metadata": {},
     "output_type": "execute_result"
    }
   ],
   "source": [
    "a.min(), a.max()"
   ]
  },
  {
   "cell_type": "code",
   "execution_count": 237,
   "metadata": {},
   "outputs": [
    {
     "data": {
      "text/plain": [
       "(992, 32, 64, 2)"
      ]
     },
     "execution_count": 237,
     "metadata": {},
     "output_type": "execute_result"
    }
   ],
   "source": [
    "d=a.reshape(y.shape)\n",
    "d.shape"
   ]
  },
  {
   "cell_type": "code",
   "execution_count": 230,
   "metadata": {},
   "outputs": [],
   "source": [
    "import tensorflow.keras.utils as np_utils"
   ]
  },
  {
   "cell_type": "code",
   "execution_count": 231,
   "metadata": {},
   "outputs": [],
   "source": [
    "c=np_utils.to_categorical(d, num_classes=20)"
   ]
  },
  {
   "cell_type": "code",
   "execution_count": 232,
   "metadata": {},
   "outputs": [
    {
     "data": {
      "text/plain": [
       "(1.0, 0.0)"
      ]
     },
     "execution_count": 232,
     "metadata": {},
     "output_type": "execute_result"
    }
   ],
   "source": [
    "c.max(), c.min()"
   ]
  },
  {
   "cell_type": "code",
   "execution_count": 233,
   "metadata": {},
   "outputs": [
    {
     "data": {
      "text/plain": [
       "(992, 32, 64, 2, 20)"
      ]
     },
     "execution_count": 233,
     "metadata": {},
     "output_type": "execute_result"
    }
   ],
   "source": [
    "c.shape"
   ]
  },
  {
   "cell_type": "code",
   "execution_count": 234,
   "metadata": {},
   "outputs": [
    {
     "data": {
      "text/plain": [
       "array([0., 0., 0., 0., 0., 0., 0., 0., 0., 0., 0., 0., 0., 0., 0., 0., 0.,\n",
       "       0., 0., 1.], dtype=float32)"
      ]
     },
     "execution_count": 234,
     "metadata": {},
     "output_type": "execute_result"
    }
   ],
   "source": [
    "c[0,0,0,0,:]"
   ]
  },
  {
   "cell_type": "code",
   "execution_count": null,
   "metadata": {},
   "outputs": [],
   "source": []
  },
  {
   "cell_type": "code",
   "execution_count": 43,
   "metadata": {
    "scrolled": true
   },
   "outputs": [],
   "source": [
    "from src.data_generator_categorical import *"
   ]
  },
  {
   "cell_type": "code",
   "execution_count": 85,
   "metadata": {},
   "outputs": [],
   "source": [
    "def custom_categorical_loss(y_true, y_pred):\n",
    "    #assert tf.shape(y_true)==tf.shape(y_pred)\n",
    "    #assert tf.rank(y_true)==5 #[batch_size, lat, lon, 2, ]\n",
    "    #assert tf.shape(y_true)[3]==2 #len(args['outpt_vars'])\n",
    "    \n",
    "    cce=tf.keras.losses.CategoricalCrossentropy()\n",
    "    cce1=cce(y_true[:,:,:,0,:], y_pred[:,:,:,0,:])\n",
    "    cce2=cce(y_true[:,:,:,1,:], y_pred[:,:,:,1,:])\n",
    "    return (cce1+cce2)"
   ]
  },
  {
   "cell_type": "code",
   "execution_count": null,
   "metadata": {},
   "outputs": [],
   "source": []
  }
 ],
 "metadata": {
  "kernelspec": {
   "display_name": "Python 3",
   "language": "python",
   "name": "python3"
  },
  "language_info": {
   "codemirror_mode": {
    "name": "ipython",
    "version": 3
   },
   "file_extension": ".py",
   "mimetype": "text/x-python",
   "name": "python",
   "nbconvert_exporter": "python",
   "pygments_lexer": "ipython3",
   "version": "3.6.10"
  }
 },
 "nbformat": 4,
 "nbformat_minor": 4
}
