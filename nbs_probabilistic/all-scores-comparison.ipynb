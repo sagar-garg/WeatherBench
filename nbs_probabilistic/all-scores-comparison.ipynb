{
 "cells": [
  {
   "cell_type": "code",
   "execution_count": null,
   "metadata": {},
   "outputs": [],
   "source": [
    "#Comparing Scores for tigge, deterministic, parametric & test-time dropout models"
   ]
  },
  {
   "cell_type": "code",
   "execution_count": 2,
   "metadata": {},
   "outputs": [],
   "source": [
    "%load_ext autoreload\n",
    "%autoreload 2"
   ]
  },
  {
   "cell_type": "code",
   "execution_count": 3,
   "metadata": {},
   "outputs": [],
   "source": [
    "import xarray as xr\n",
    "import xskillscore as xs\n",
    "import matplotlib.pyplot as plt\n",
    "from src.data_generator import *\n",
    "from src.train import *\n",
    "from src.utils import *\n",
    "from src.networks import *\n",
    "from src.score import *"
   ]
  },
  {
   "cell_type": "code",
   "execution_count": 4,
   "metadata": {},
   "outputs": [],
   "source": [
    "os.environ[\"CUDA_VISIBLE_DEVICES\"]=str(0)\n",
    "limit_mem()"
   ]
  },
  {
   "cell_type": "code",
   "execution_count": 6,
   "metadata": {},
   "outputs": [],
   "source": [
    "model_save_dir='/home/garg/data/WeatherBench/predictions/saved_models'\n",
    "datadir='/home/garg/data/WeatherBench/5.625deg'\n",
    "pred_save_dir='/home/garg/data/WeatherBench/predictions'"
   ]
  },
  {
   "cell_type": "code",
   "execution_count": 7,
   "metadata": {},
   "outputs": [
    {
     "name": "stdout",
     "output_type": "stream",
     "text": [
      "01-resnet_baseline.nc\t   81.2-resnet_d3_dr_0.1.nc\r\n",
      "02-resnet_2dt.nc\t   81.3-resnet_d3_dr_0.1.nc\r\n",
      "100-resnet_d3_param.nc\t   81-resnet_d3_dr_0.1_fixed.nc\r\n",
      "105-resnet_d3_dr_0.5.nc    81-resnet_d3_dr_0.1.nc\r\n",
      "80.1-resnet_d3_dr_0.05.nc  82.1-resnet_d3_dr_0.2.nc\r\n",
      "80-resnet_d3_dr_0.05.nc    82-resnet_d3_dr_0.2.nc\r\n",
      "81.1-resnet_d3_dr_0.1.nc   saved_models\r\n"
     ]
    }
   ],
   "source": [
    "!ls $pred_save_dir"
   ]
  },
  {
   "cell_type": "code",
   "execution_count": null,
   "metadata": {},
   "outputs": [],
   "source": []
  },
  {
   "cell_type": "code",
   "execution_count": null,
   "metadata": {},
   "outputs": [],
   "source": []
  },
  {
   "cell_type": "code",
   "execution_count": null,
   "metadata": {},
   "outputs": [],
   "source": []
  },
  {
   "cell_type": "code",
   "execution_count": null,
   "metadata": {},
   "outputs": [],
   "source": []
  },
  {
   "cell_type": "code",
   "execution_count": null,
   "metadata": {},
   "outputs": [],
   "source": []
  }
 ],
 "metadata": {
  "kernelspec": {
   "display_name": "Python 3",
   "language": "python",
   "name": "python3"
  },
  "language_info": {
   "codemirror_mode": {
    "name": "ipython",
    "version": 3
   },
   "file_extension": ".py",
   "mimetype": "text/x-python",
   "name": "python",
   "nbconvert_exporter": "python",
   "pygments_lexer": "ipython3",
   "version": "3.7.7"
  }
 },
 "nbformat": 4,
 "nbformat_minor": 4
}
