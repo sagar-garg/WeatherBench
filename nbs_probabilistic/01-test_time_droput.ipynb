{
 "cells": [
  {
   "cell_type": "markdown",
   "metadata": {},
   "source": [
    "# Test-time dropout script\n",
    "\n",
    "The goal is to develop a function with a command line interface that takes a trained model with dropout and returns an ensemble prediction, so I imagine something like:\n",
    "\n",
    "```\n",
    "python create_dropout_ensemble.py --exp_id 44-resnet_deeper2 --members 100 ...\n",
    "```\n",
    "\n",
    "The script should return and save a xarray dataset just like `create_prediction` but with an added dimension `ens_member`.\n",
    "\n",
    "You basically already did the work in the starter exercise I gave you. You can also check out my solution. Now it's just a matter of creating a convenient script. For examples of command line scripts I wrote, check out `src/extract_level.py` using `argparse` or `scripts/download_tigge.py` using Google's `fire`. Also, see whether your or my method of implementing the test-time dropout is more convenient. Whatever requires fewer changes to the rest of the code (probably yours).\n",
    "\n",
    "As mentioned in the WeatherBench paper, testing is done using the years 2017 and 2018. This means the ensemble predictions also have to be created for these two years. The data can be downloaded here: https://mediatum.ub.tum.de/1524895. However, the files, which contain all years, are quite large, so you probably don't want to download it to your laptop. I uploaded just the last two years for each variable here: To come...\n",
    "\n",
    "Next, you need a trained model. I number my experiments (see Dropbox document). You can find two different models in the link above. \n",
    "\n",
    "As mentioned in the Dropbox document, I would suggest developing the main function in the notebook. Once that works, you can create a CLI around it and save the script. \n",
    "\n",
    "Also, let's use `tensorflow>=2.0`."
   ]
  },
  {
   "cell_type": "markdown",
   "metadata": {},
   "source": [
    "#NOTE: This notebook is just for testing. Script saved as create_dropout_ensemble.py"
   ]
  },
  {
   "cell_type": "markdown",
   "metadata": {},
   "source": [
    "ToDo:\n",
    "- make it work for all networks. #(Differences: custom_objects, -can be done with an if conditon on load_model(), #output_vars, test_years, lead_time?, anything else?\n",
    "- load full data instead of batches. output for full size of X.\n",
    "- pass optional arguments. like is_normalized, start_date, end_date, test_years\n",
    "- solve eager_execution problem"
   ]
  },
  {
   "cell_type": "code",
   "execution_count": 1,
   "metadata": {},
   "outputs": [],
   "source": [
    "# Here is a useful tip: Using autoreload allows you to make changes to an imported module\n",
    "# which are then automatically updated in this notebook. This is how I start all my notebooks.\n",
    "%load_ext autoreload\n",
    "%autoreload 2 # Every two seconds"
   ]
  },
  {
   "cell_type": "code",
   "execution_count": 2,
   "metadata": {},
   "outputs": [],
   "source": [
    "import fire\n",
    "from fire import Fire\n",
    "import xarray as xr\n",
    "import numpy as np\n",
    "from src.data_generator import *\n",
    "from src.train import *\n",
    "from src.networks import *\n",
    "from src.utils import *\n",
    "from tensorflow.keras import backend as K"
   ]
  },
  {
   "cell_type": "code",
   "execution_count": 3,
   "metadata": {},
   "outputs": [],
   "source": [
    "# You only need this if you are using a GPU\n",
    "os.environ[\"CUDA_VISIBLE_DEVICES\"]=str(0)\n",
    "limit_mem()"
   ]
  },
  {
   "cell_type": "code",
   "execution_count": null,
   "metadata": {},
   "outputs": [],
   "source": [
    "#Final Working Script\n",
    "# exp_id_path='/home/garg/WeatherBench/nn_configs/B/63-resnet_d3_best.yml'\n",
    "# model_save_dir='/home/garg/data/WeatherBench/predictions/saved_models'\n",
    "# datadir='/home/garg/data/WeatherBench/5.625deg'\n",
    "# pred_save_dir='/home/garg/data/WeatherBench/predictions'\n",
    "\n",
    "# !python create_dropout_ensemble.py 5 {exp_id_path} {datadir} {model_save_dir} {pred_save_dir}\n",
    "\n",
    "#Everything from below is just for practice. CAN IGNORE!"
   ]
  },
  {
   "cell_type": "code",
   "execution_count": null,
   "metadata": {},
   "outputs": [],
   "source": [
    "#use conda-forge\n",
    "#!conda uninstall tensorflow --y\n",
    "#!conda install -c conda-forge tensorflow-gpu=2.0.0\n",
    "#check CUDA compatibility: https://www.tensorflow.org/install/source#tested_build_configurations"
   ]
  },
  {
   "cell_type": "code",
   "execution_count": null,
   "metadata": {},
   "outputs": [],
   "source": [
    "# from tensorflow.python.client import device_lib\n",
    "# print(device_lib.list_local_devices())"
   ]
  },
  {
   "cell_type": "code",
   "execution_count": 4,
   "metadata": {},
   "outputs": [
    {
     "name": "stdout",
     "output_type": "stream",
     "text": [
      "Num GPUs Available:  1\n"
     ]
    }
   ],
   "source": [
    "import tensorflow as tf\n",
    "print(\"Num GPUs Available: \", len(tf.config.experimental.list_physical_devices('GPU')))"
   ]
  },
  {
   "cell_type": "code",
   "execution_count": 5,
   "metadata": {
    "scrolled": true
   },
   "outputs": [
    {
     "data": {
      "text/plain": [
       "'2.0.0'"
      ]
     },
     "execution_count": 5,
     "metadata": {},
     "output_type": "execute_result"
    }
   ],
   "source": [
    "tf.compat.v1.disable_eager_execution() #needed \n",
    "tf.__version__\n",
    "# tf.debugging.set_log_device_placement(True)"
   ]
  },
  {
   "cell_type": "code",
   "execution_count": 6,
   "metadata": {},
   "outputs": [
    {
     "name": "stdout",
     "output_type": "stream",
     "text": [
      "/home/garg/WeatherBench/nn_configs/B/80.1-resnet_d3_dr_0.05.yml\r\n"
     ]
    }
   ],
   "source": [
    "exp_id_path='/home/garg/WeatherBench/nn_configs/B/80.1-resnet_d3_dr_0.05.yml'\n",
    "!ls {exp_id_path}"
   ]
  },
  {
   "cell_type": "code",
   "execution_count": 7,
   "metadata": {},
   "outputs": [],
   "source": [
    "    args=load_args(exp_id_path)\n",
    "    exp_id=args['exp_id']\n",
    "    var_dict=args['var_dict']\n",
    "    batch_size=args['batch_size']\n",
    "    output_vars=args['output_vars']\n",
    "    \n",
    "    #Question: how to optionally  input data_subsample, norm_subsample, nt_in, dt_in, test_years?\n",
    "    data_subsample=args['data_subsample']\n",
    "    norm_subsample=args['norm_subsample']\n",
    "    nt_in=args['nt_in']\n",
    "    #nt_in=args['nt']\n",
    "    dt_in=args['dt_in']\n",
    "    test_years=args['test_years']\n",
    "    lead_time=args['lead_time']\n",
    "    #changing paths\n",
    "    model_save_dir='/home/garg/data/WeatherBench/predictions/saved_models'\n",
    "    datadir='/home/garg/data/WeatherBench/5.625deg'"
   ]
  },
  {
   "cell_type": "code",
   "execution_count": 8,
   "metadata": {},
   "outputs": [
    {
     "data": {
      "text/plain": [
       "{'geopotential': ('z', [50, 250, 500, 600, 700, 850, 925]),\n",
       " 'temperature': ('t', [50, 250, 500, 600, 700, 850, 925]),\n",
       " 'u_component_of_wind': ('u', [50, 250, 500, 600, 700, 850, 925]),\n",
       " 'v_component_of_wind': ('v', [50, 250, 500, 600, 700, 850, 925]),\n",
       " 'specific_humidity': ('q', [50, 250, 500, 600, 700, 850, 925]),\n",
       " 'constants': ['lsm', 'orography', 'lat2d']}"
      ]
     },
     "execution_count": 8,
     "metadata": {},
     "output_type": "execute_result"
    }
   ],
   "source": [
    "var_dict"
   ]
  },
  {
   "cell_type": "code",
   "execution_count": 9,
   "metadata": {},
   "outputs": [
    {
     "data": {
      "text/plain": [
       "3"
      ]
     },
     "execution_count": 9,
     "metadata": {},
     "output_type": "execute_result"
    }
   ],
   "source": [
    "nt_in#Ques: difference b/w nt and nt_in \n",
    "# --> A: nt = number of time steps corresponding to forecast leat time\n",
    "# nt_in = number of time steps in the input"
   ]
  },
  {
   "cell_type": "code",
   "execution_count": 10,
   "metadata": {},
   "outputs": [],
   "source": [
    "ds = xr.merge([xr.open_mfdataset(f'{datadir}/{var}/*.nc', combine='by_coords') for var in var_dict.keys()])\n",
    "mean = xr.open_dataarray(f'{model_save_dir}/{exp_id}_mean.nc') \n",
    "std = xr.open_dataarray(f'{model_save_dir}/{exp_id}_std.nc')"
   ]
  },
  {
   "cell_type": "code",
   "execution_count": 11,
   "metadata": {},
   "outputs": [
    {
     "data": {
      "text/plain": [
       "2"
      ]
     },
     "execution_count": 11,
     "metadata": {},
     "output_type": "execute_result"
    }
   ],
   "source": [
    "data_subsample"
   ]
  },
  {
   "cell_type": "code",
   "execution_count": 12,
   "metadata": {},
   "outputs": [],
   "source": [
    "start_date='2017-01-01';end_date='2017-12-31'\n",
    "#start_date=None;end_date=None"
   ]
  },
  {
   "cell_type": "code",
   "execution_count": 13,
   "metadata": {},
   "outputs": [],
   "source": [
    "#Ques:  shuffle should be false? since its testing  --> Correct\n",
    "#Question: Should we input data_subsample, norm_subsample, nt_in, dt_in? \n",
    "#for instance, dt_in not always provided in config file.\n",
    "# nt_in, data_subsample is needed. \n",
    "# predictions for every time step. norm_subsample doesn't matter since we pass an external mean/std file\n",
    "if (start_date and end_date)!=None:\n",
    "    ds_test=ds.sel(time=slice(start_date,end_date))\n",
    "else:\n",
    "    ds_test= ds.sel(time=slice(test_years[0],test_years[-1]))\n",
    "dg_test = DataGenerator(ds_test, var_dict, lead_time, batch_size=batch_size, shuffle=False, load=True,\n",
    "                 mean=mean, std=std, output_vars=output_vars, nt_in=nt_in, dt_in=dt_in, data_subsample = data_subsample) \n",
    "# dg_test = DataGenerator(\n",
    "#     ds_test, var_dict, lead_time, batch_size=batch_size, mean=mean, std=std,\n",
    "#     shuffle=False, output_vars=output_vars)"
   ]
  },
  {
   "cell_type": "code",
   "execution_count": 14,
   "metadata": {},
   "outputs": [],
   "source": [
    "#NOT a good idea to load whole data at once. rather load a batch, make prediction, and so on make a loop.\n",
    "\n",
    "# X,y=dg_test[0]\n",
    "# for i in range(len(dg_test)):\n",
    "#     X_batch,y_batch=dg_test[i+1]\n",
    "#     X=np.append(X,X_batch,axis=0)\n",
    "#     y=np.append(y,y_batch,axis=0)"
   ]
  },
  {
   "cell_type": "code",
   "execution_count": 15,
   "metadata": {},
   "outputs": [
    {
     "data": {
      "text/plain": [
       "(4380,)"
      ]
     },
     "execution_count": 15,
     "metadata": {},
     "output_type": "execute_result"
    }
   ],
   "source": [
    "# Number of time steps in the data set\n",
    "dg_test.data.time.shape"
   ]
  },
  {
   "cell_type": "code",
   "execution_count": 16,
   "metadata": {},
   "outputs": [
    {
     "data": {
      "text/plain": [
       "36"
      ]
     },
     "execution_count": 16,
     "metadata": {},
     "output_type": "execute_result"
    }
   ],
   "source": [
    "# Number of time steps to forecast\n",
    "dg_test.nt"
   ]
  },
  {
   "cell_type": "code",
   "execution_count": 17,
   "metadata": {},
   "outputs": [
    {
     "data": {
      "text/plain": [
       "(4344, 4344)"
      ]
     },
     "execution_count": 17,
     "metadata": {},
     "output_type": "execute_result"
    }
   ],
   "source": [
    "# Number of samples (because we need a y for every x)\n",
    "# But this isn't the actual number of samples (yeah, legacy code...)\n",
    "dg_test.n_samples, dg_test.data.time.shape[0] - dg_test.nt"
   ]
  },
  {
   "cell_type": "code",
   "execution_count": 18,
   "metadata": {},
   "outputs": [
    {
     "data": {
      "text/plain": [
       "(4342, 4342)"
      ]
     },
     "execution_count": 18,
     "metadata": {},
     "output_type": "execute_result"
    }
   ],
   "source": [
    "# For the actual number of sample you also have to subtract the number of input time steps (-1) = nt_offset\n",
    "# Yeah, this could probably be cleaned up.\n",
    "len(dg_test.idxs), dg_test.data.time.shape[0] - dg_test.nt - dg_test.nt_offset"
   ]
  },
  {
   "cell_type": "code",
   "execution_count": 19,
   "metadata": {},
   "outputs": [],
   "source": [
    "# dg_test.data.time.isel(time=slice(None,X.shape[0])) #would work for any size of x"
   ]
  },
  {
   "cell_type": "code",
   "execution_count": 20,
   "metadata": {},
   "outputs": [
    {
     "data": {
      "text/plain": [
       "(src.networks.PeriodicConv2D,\n",
       " <function tensorflow.python.keras.losses.mean_squared_error(y_true, y_pred)>)"
      ]
     },
     "execution_count": 20,
     "metadata": {},
     "output_type": "execute_result"
    }
   ],
   "source": [
    "PeriodicConv2D, tf.keras.losses.mse"
   ]
  },
  {
   "cell_type": "code",
   "execution_count": null,
   "metadata": {},
   "outputs": [],
   "source": [
    "# policy = mixed_precision.Policy('mixed_float16')\n",
    "# mixed_precision.set_policy(policy)"
   ]
  },
  {
   "cell_type": "code",
   "execution_count": null,
   "metadata": {},
   "outputs": [],
   "source": [
    "# #ToDo: add other loss functions to custom_objects. doesn't matter if it is not used in the model itself, only so that load_model() doesn't break)\n",
    "# #Since we dont build again, we dont need to pass model params like kernel, filters, activation, dropout,loss and other details to the network?\n",
    "# saved_model_path=f'{model_save_dir}/{exp_id}.h5'\n",
    "# substr=['resnet','unet_google','unet']\n",
    "# assert any(x in exp_id for x in substr)\n",
    "# # model=tf.keras.models.load_model(saved_model_path, custom_objects={'PeriodicConv2D':PeriodicConv2D})\n",
    "# model=tf.keras.models.load_model(saved_model_path,\n",
    "#                                 custom_objects={'PeriodicConv2D':PeriodicConv2D,'lat_mse': tf.keras.losses.mse})"
   ]
  },
  {
   "cell_type": "code",
   "execution_count": null,
   "metadata": {},
   "outputs": [],
   "source": [
    "# %debug"
   ]
  },
  {
   "cell_type": "code",
   "execution_count": 21,
   "metadata": {},
   "outputs": [
    {
     "data": {
      "text/plain": [
       "(32, 64, 114)"
      ]
     },
     "execution_count": 21,
     "metadata": {},
     "output_type": "execute_result"
    }
   ],
   "source": [
    "dg_test.shape"
   ]
  },
  {
   "cell_type": "code",
   "execution_count": 22,
   "metadata": {},
   "outputs": [],
   "source": [
    "def convblock(inputs, filters, kernel=3, stride=1, bn_position=None, l2=0,\n",
    "              use_bias=True, dropout=0, activation='relu', test_dropout=False):\n",
    "    x = inputs\n",
    "    if bn_position == 'pre': x = BatchNormalization()(x)\n",
    "    x = PeriodicConv2D(\n",
    "        filters, kernel, conv_kwargs={\n",
    "            'kernel_regularizer': regularizers.l2(l2),\n",
    "            'use_bias': use_bias\n",
    "        }\n",
    "    )(x)\n",
    "    if bn_position == 'mid': x = BatchNormalization()(x)\n",
    "    x = LeakyReLU()(x) if activation == 'leakyrelu' else Activation(activation)(x) \n",
    "    if bn_position == 'post': x = BatchNormalization()(x)\n",
    "    if dropout > 0: x = Dropout(dropout)(x, training=test_dropout)\n",
    "    return x\n",
    "\n",
    "def resblock(inputs, filters, kernel, bn_position=None, l2=0, use_bias=True,\n",
    "             dropout=0, skip=True, activation='relu', down=False, up=False, test_dropout=False):\n",
    "    x = inputs\n",
    "    if down:\n",
    "        x = MaxPooling2D()(x)\n",
    "    for i in range(2):\n",
    "        x = convblock(\n",
    "            x, filters, kernel, bn_position=bn_position, l2=l2, use_bias=use_bias,\n",
    "            dropout=dropout, activation=activation, test_dropout=test_dropout\n",
    "        )\n",
    "    if down or up:\n",
    "        inputs = PeriodicConv2D(\n",
    "            filters, kernel, conv_kwargs={\n",
    "                'kernel_regularizer': regularizers.l2(l2),\n",
    "                'use_bias': use_bias,\n",
    "                'strides': 2 if down else 1\n",
    "            }\n",
    "        )(inputs)\n",
    "    if skip: x = Add()([inputs, x])\n",
    "    return x\n",
    "\n",
    "def build_resnet(filters, kernels, input_shape, bn_position=None, use_bias=True, l2=0,\n",
    "                 skip=True, dropout=0, activation='relu', test_dropout=False, **kwargs):\n",
    "    x = input = Input(shape=input_shape)\n",
    "\n",
    "    # First conv block to get up to shape\n",
    "    x = convblock(\n",
    "        x, filters[0], kernels[0], bn_position=bn_position, l2=l2, use_bias=use_bias,\n",
    "        dropout=dropout, activation=activation, test_dropout=test_dropout\n",
    "    )\n",
    "\n",
    "    # Resblocks\n",
    "    for f, k in zip(filters[1:-1], kernels[1:-1]):\n",
    "        x = resblock(x, f, k, bn_position=bn_position, l2=l2, use_bias=use_bias,\n",
    "                dropout=dropout, skip=skip, activation=activation, test_dropout=test_dropout)\n",
    "\n",
    "    # Final convolution\n",
    "    output = PeriodicConv2D(\n",
    "        filters[-1], kernels[-1],\n",
    "        conv_kwargs={'kernel_regularizer': regularizers.l2(l2)},\n",
    "    )(x)\n",
    "    output = Activation('linear', dtype='float32')(output)\n",
    "    return keras.models.Model(input, output)"
   ]
  },
  {
   "cell_type": "code",
   "execution_count": 23,
   "metadata": {},
   "outputs": [
    {
     "name": "stdout",
     "output_type": "stream",
     "text": [
      "WARNING:tensorflow:From /home/garg/miniconda3/envs/weatherbench/lib/python3.7/site-packages/tensorflow_core/python/ops/resource_variable_ops.py:1630: calling BaseResourceVariable.__init__ (from tensorflow.python.ops.resource_variable_ops) with constraint is deprecated and will be removed in a future version.\n",
      "Instructions for updating:\n",
      "If using Keras pass *_constraint arguments to layers.\n"
     ]
    }
   ],
   "source": [
    "model=build_resnet(args['filters'],\n",
    "    args['kernels'],\n",
    "    dg_test.shape,\n",
    "    bn_position=args['bn_position'],\n",
    "    use_bias=args['use_bias'],\n",
    "    l2=args['l2'],\n",
    "    skip=args['skip'],\n",
    "    dropout=args['dropout'],\n",
    "    activation=args['activation'],\n",
    "    test_dropout=True)"
   ]
  },
  {
   "cell_type": "code",
   "execution_count": 24,
   "metadata": {},
   "outputs": [],
   "source": [
    "model.load_weights(f'{model_save_dir}/{exp_id}_weights.h5')"
   ]
  },
  {
   "cell_type": "code",
   "execution_count": 25,
   "metadata": {},
   "outputs": [
    {
     "name": "stdout",
     "output_type": "stream",
     "text": [
      "Model: \"model\"\n",
      "__________________________________________________________________________________________________\n",
      "Layer (type)                    Output Shape         Param #     Connected to                     \n",
      "==================================================================================================\n",
      "input_1 (InputLayer)            [(None, 32, 64, 114) 0                                            \n",
      "__________________________________________________________________________________________________\n",
      "periodic_conv2d (PeriodicConv2D (None, 32, 64, 128)  715136      input_1[0][0]                    \n",
      "__________________________________________________________________________________________________\n",
      "leaky_re_lu (LeakyReLU)         (None, 32, 64, 128)  0           periodic_conv2d[0][0]            \n",
      "__________________________________________________________________________________________________\n",
      "batch_normalization (BatchNorma (None, 32, 64, 128)  512         leaky_re_lu[0][0]                \n",
      "__________________________________________________________________________________________________\n",
      "dropout (Dropout)               (None, 32, 64, 128)  0           batch_normalization[0][0]        \n",
      "__________________________________________________________________________________________________\n",
      "periodic_conv2d_1 (PeriodicConv (None, 32, 64, 128)  147584      dropout[0][0]                    \n",
      "__________________________________________________________________________________________________\n",
      "leaky_re_lu_1 (LeakyReLU)       (None, 32, 64, 128)  0           periodic_conv2d_1[0][0]          \n",
      "__________________________________________________________________________________________________\n",
      "batch_normalization_1 (BatchNor (None, 32, 64, 128)  512         leaky_re_lu_1[0][0]              \n",
      "__________________________________________________________________________________________________\n",
      "dropout_1 (Dropout)             (None, 32, 64, 128)  0           batch_normalization_1[0][0]      \n",
      "__________________________________________________________________________________________________\n",
      "periodic_conv2d_2 (PeriodicConv (None, 32, 64, 128)  147584      dropout_1[0][0]                  \n",
      "__________________________________________________________________________________________________\n",
      "leaky_re_lu_2 (LeakyReLU)       (None, 32, 64, 128)  0           periodic_conv2d_2[0][0]          \n",
      "__________________________________________________________________________________________________\n",
      "batch_normalization_2 (BatchNor (None, 32, 64, 128)  512         leaky_re_lu_2[0][0]              \n",
      "__________________________________________________________________________________________________\n",
      "dropout_2 (Dropout)             (None, 32, 64, 128)  0           batch_normalization_2[0][0]      \n",
      "__________________________________________________________________________________________________\n",
      "add (Add)                       (None, 32, 64, 128)  0           dropout[0][0]                    \n",
      "                                                                 dropout_2[0][0]                  \n",
      "__________________________________________________________________________________________________\n",
      "periodic_conv2d_3 (PeriodicConv (None, 32, 64, 128)  147584      add[0][0]                        \n",
      "__________________________________________________________________________________________________\n",
      "leaky_re_lu_3 (LeakyReLU)       (None, 32, 64, 128)  0           periodic_conv2d_3[0][0]          \n",
      "__________________________________________________________________________________________________\n",
      "batch_normalization_3 (BatchNor (None, 32, 64, 128)  512         leaky_re_lu_3[0][0]              \n",
      "__________________________________________________________________________________________________\n",
      "dropout_3 (Dropout)             (None, 32, 64, 128)  0           batch_normalization_3[0][0]      \n",
      "__________________________________________________________________________________________________\n",
      "periodic_conv2d_4 (PeriodicConv (None, 32, 64, 128)  147584      dropout_3[0][0]                  \n",
      "__________________________________________________________________________________________________\n",
      "leaky_re_lu_4 (LeakyReLU)       (None, 32, 64, 128)  0           periodic_conv2d_4[0][0]          \n",
      "__________________________________________________________________________________________________\n",
      "batch_normalization_4 (BatchNor (None, 32, 64, 128)  512         leaky_re_lu_4[0][0]              \n",
      "__________________________________________________________________________________________________\n",
      "dropout_4 (Dropout)             (None, 32, 64, 128)  0           batch_normalization_4[0][0]      \n",
      "__________________________________________________________________________________________________\n",
      "add_1 (Add)                     (None, 32, 64, 128)  0           add[0][0]                        \n",
      "                                                                 dropout_4[0][0]                  \n",
      "__________________________________________________________________________________________________\n",
      "periodic_conv2d_5 (PeriodicConv (None, 32, 64, 128)  147584      add_1[0][0]                      \n",
      "__________________________________________________________________________________________________\n",
      "leaky_re_lu_5 (LeakyReLU)       (None, 32, 64, 128)  0           periodic_conv2d_5[0][0]          \n",
      "__________________________________________________________________________________________________\n",
      "batch_normalization_5 (BatchNor (None, 32, 64, 128)  512         leaky_re_lu_5[0][0]              \n",
      "__________________________________________________________________________________________________\n",
      "dropout_5 (Dropout)             (None, 32, 64, 128)  0           batch_normalization_5[0][0]      \n",
      "__________________________________________________________________________________________________\n",
      "periodic_conv2d_6 (PeriodicConv (None, 32, 64, 128)  147584      dropout_5[0][0]                  \n",
      "__________________________________________________________________________________________________\n",
      "leaky_re_lu_6 (LeakyReLU)       (None, 32, 64, 128)  0           periodic_conv2d_6[0][0]          \n",
      "__________________________________________________________________________________________________\n",
      "batch_normalization_6 (BatchNor (None, 32, 64, 128)  512         leaky_re_lu_6[0][0]              \n",
      "__________________________________________________________________________________________________\n",
      "dropout_6 (Dropout)             (None, 32, 64, 128)  0           batch_normalization_6[0][0]      \n",
      "__________________________________________________________________________________________________\n",
      "add_2 (Add)                     (None, 32, 64, 128)  0           add_1[0][0]                      \n",
      "                                                                 dropout_6[0][0]                  \n",
      "__________________________________________________________________________________________________\n",
      "periodic_conv2d_7 (PeriodicConv (None, 32, 64, 128)  147584      add_2[0][0]                      \n",
      "__________________________________________________________________________________________________\n",
      "leaky_re_lu_7 (LeakyReLU)       (None, 32, 64, 128)  0           periodic_conv2d_7[0][0]          \n",
      "__________________________________________________________________________________________________\n",
      "batch_normalization_7 (BatchNor (None, 32, 64, 128)  512         leaky_re_lu_7[0][0]              \n",
      "__________________________________________________________________________________________________\n",
      "dropout_7 (Dropout)             (None, 32, 64, 128)  0           batch_normalization_7[0][0]      \n",
      "__________________________________________________________________________________________________\n",
      "periodic_conv2d_8 (PeriodicConv (None, 32, 64, 128)  147584      dropout_7[0][0]                  \n",
      "__________________________________________________________________________________________________\n",
      "leaky_re_lu_8 (LeakyReLU)       (None, 32, 64, 128)  0           periodic_conv2d_8[0][0]          \n",
      "__________________________________________________________________________________________________\n",
      "batch_normalization_8 (BatchNor (None, 32, 64, 128)  512         leaky_re_lu_8[0][0]              \n",
      "__________________________________________________________________________________________________\n",
      "dropout_8 (Dropout)             (None, 32, 64, 128)  0           batch_normalization_8[0][0]      \n",
      "__________________________________________________________________________________________________\n",
      "add_3 (Add)                     (None, 32, 64, 128)  0           add_2[0][0]                      \n",
      "                                                                 dropout_8[0][0]                  \n",
      "__________________________________________________________________________________________________\n",
      "periodic_conv2d_9 (PeriodicConv (None, 32, 64, 128)  147584      add_3[0][0]                      \n",
      "__________________________________________________________________________________________________\n",
      "leaky_re_lu_9 (LeakyReLU)       (None, 32, 64, 128)  0           periodic_conv2d_9[0][0]          \n",
      "__________________________________________________________________________________________________\n",
      "batch_normalization_9 (BatchNor (None, 32, 64, 128)  512         leaky_re_lu_9[0][0]              \n",
      "__________________________________________________________________________________________________\n",
      "dropout_9 (Dropout)             (None, 32, 64, 128)  0           batch_normalization_9[0][0]      \n",
      "__________________________________________________________________________________________________\n",
      "periodic_conv2d_10 (PeriodicCon (None, 32, 64, 128)  147584      dropout_9[0][0]                  \n",
      "__________________________________________________________________________________________________\n",
      "leaky_re_lu_10 (LeakyReLU)      (None, 32, 64, 128)  0           periodic_conv2d_10[0][0]         \n",
      "__________________________________________________________________________________________________\n",
      "batch_normalization_10 (BatchNo (None, 32, 64, 128)  512         leaky_re_lu_10[0][0]             \n",
      "__________________________________________________________________________________________________\n",
      "dropout_10 (Dropout)            (None, 32, 64, 128)  0           batch_normalization_10[0][0]     \n",
      "__________________________________________________________________________________________________\n",
      "add_4 (Add)                     (None, 32, 64, 128)  0           add_3[0][0]                      \n",
      "                                                                 dropout_10[0][0]                 \n",
      "__________________________________________________________________________________________________\n",
      "periodic_conv2d_11 (PeriodicCon (None, 32, 64, 128)  147584      add_4[0][0]                      \n",
      "__________________________________________________________________________________________________\n",
      "leaky_re_lu_11 (LeakyReLU)      (None, 32, 64, 128)  0           periodic_conv2d_11[0][0]         \n",
      "__________________________________________________________________________________________________\n",
      "batch_normalization_11 (BatchNo (None, 32, 64, 128)  512         leaky_re_lu_11[0][0]             \n",
      "__________________________________________________________________________________________________\n",
      "dropout_11 (Dropout)            (None, 32, 64, 128)  0           batch_normalization_11[0][0]     \n",
      "__________________________________________________________________________________________________\n",
      "periodic_conv2d_12 (PeriodicCon (None, 32, 64, 128)  147584      dropout_11[0][0]                 \n",
      "__________________________________________________________________________________________________\n",
      "leaky_re_lu_12 (LeakyReLU)      (None, 32, 64, 128)  0           periodic_conv2d_12[0][0]         \n",
      "__________________________________________________________________________________________________\n",
      "batch_normalization_12 (BatchNo (None, 32, 64, 128)  512         leaky_re_lu_12[0][0]             \n",
      "__________________________________________________________________________________________________\n",
      "dropout_12 (Dropout)            (None, 32, 64, 128)  0           batch_normalization_12[0][0]     \n",
      "__________________________________________________________________________________________________\n",
      "add_5 (Add)                     (None, 32, 64, 128)  0           add_4[0][0]                      \n",
      "                                                                 dropout_12[0][0]                 \n",
      "__________________________________________________________________________________________________\n",
      "periodic_conv2d_13 (PeriodicCon (None, 32, 64, 128)  147584      add_5[0][0]                      \n",
      "__________________________________________________________________________________________________\n",
      "leaky_re_lu_13 (LeakyReLU)      (None, 32, 64, 128)  0           periodic_conv2d_13[0][0]         \n",
      "__________________________________________________________________________________________________\n",
      "batch_normalization_13 (BatchNo (None, 32, 64, 128)  512         leaky_re_lu_13[0][0]             \n",
      "__________________________________________________________________________________________________\n",
      "dropout_13 (Dropout)            (None, 32, 64, 128)  0           batch_normalization_13[0][0]     \n",
      "__________________________________________________________________________________________________\n",
      "periodic_conv2d_14 (PeriodicCon (None, 32, 64, 128)  147584      dropout_13[0][0]                 \n",
      "__________________________________________________________________________________________________\n",
      "leaky_re_lu_14 (LeakyReLU)      (None, 32, 64, 128)  0           periodic_conv2d_14[0][0]         \n",
      "__________________________________________________________________________________________________\n",
      "batch_normalization_14 (BatchNo (None, 32, 64, 128)  512         leaky_re_lu_14[0][0]             \n",
      "__________________________________________________________________________________________________\n",
      "dropout_14 (Dropout)            (None, 32, 64, 128)  0           batch_normalization_14[0][0]     \n",
      "__________________________________________________________________________________________________\n",
      "add_6 (Add)                     (None, 32, 64, 128)  0           add_5[0][0]                      \n",
      "                                                                 dropout_14[0][0]                 \n",
      "__________________________________________________________________________________________________\n",
      "periodic_conv2d_15 (PeriodicCon (None, 32, 64, 128)  147584      add_6[0][0]                      \n",
      "__________________________________________________________________________________________________\n",
      "leaky_re_lu_15 (LeakyReLU)      (None, 32, 64, 128)  0           periodic_conv2d_15[0][0]         \n",
      "__________________________________________________________________________________________________\n",
      "batch_normalization_15 (BatchNo (None, 32, 64, 128)  512         leaky_re_lu_15[0][0]             \n",
      "__________________________________________________________________________________________________\n",
      "dropout_15 (Dropout)            (None, 32, 64, 128)  0           batch_normalization_15[0][0]     \n",
      "__________________________________________________________________________________________________\n",
      "periodic_conv2d_16 (PeriodicCon (None, 32, 64, 128)  147584      dropout_15[0][0]                 \n",
      "__________________________________________________________________________________________________\n",
      "leaky_re_lu_16 (LeakyReLU)      (None, 32, 64, 128)  0           periodic_conv2d_16[0][0]         \n",
      "__________________________________________________________________________________________________\n",
      "batch_normalization_16 (BatchNo (None, 32, 64, 128)  512         leaky_re_lu_16[0][0]             \n",
      "__________________________________________________________________________________________________\n",
      "dropout_16 (Dropout)            (None, 32, 64, 128)  0           batch_normalization_16[0][0]     \n",
      "__________________________________________________________________________________________________\n",
      "add_7 (Add)                     (None, 32, 64, 128)  0           add_6[0][0]                      \n",
      "                                                                 dropout_16[0][0]                 \n",
      "__________________________________________________________________________________________________\n",
      "periodic_conv2d_17 (PeriodicCon (None, 32, 64, 128)  147584      add_7[0][0]                      \n",
      "__________________________________________________________________________________________________\n",
      "leaky_re_lu_17 (LeakyReLU)      (None, 32, 64, 128)  0           periodic_conv2d_17[0][0]         \n",
      "__________________________________________________________________________________________________\n",
      "batch_normalization_17 (BatchNo (None, 32, 64, 128)  512         leaky_re_lu_17[0][0]             \n",
      "__________________________________________________________________________________________________\n",
      "dropout_17 (Dropout)            (None, 32, 64, 128)  0           batch_normalization_17[0][0]     \n",
      "__________________________________________________________________________________________________\n",
      "periodic_conv2d_18 (PeriodicCon (None, 32, 64, 128)  147584      dropout_17[0][0]                 \n",
      "__________________________________________________________________________________________________\n",
      "leaky_re_lu_18 (LeakyReLU)      (None, 32, 64, 128)  0           periodic_conv2d_18[0][0]         \n",
      "__________________________________________________________________________________________________\n",
      "batch_normalization_18 (BatchNo (None, 32, 64, 128)  512         leaky_re_lu_18[0][0]             \n",
      "__________________________________________________________________________________________________\n",
      "dropout_18 (Dropout)            (None, 32, 64, 128)  0           batch_normalization_18[0][0]     \n",
      "__________________________________________________________________________________________________\n",
      "add_8 (Add)                     (None, 32, 64, 128)  0           add_7[0][0]                      \n",
      "                                                                 dropout_18[0][0]                 \n",
      "__________________________________________________________________________________________________\n",
      "periodic_conv2d_19 (PeriodicCon (None, 32, 64, 128)  147584      add_8[0][0]                      \n",
      "__________________________________________________________________________________________________\n",
      "leaky_re_lu_19 (LeakyReLU)      (None, 32, 64, 128)  0           periodic_conv2d_19[0][0]         \n",
      "__________________________________________________________________________________________________\n",
      "batch_normalization_19 (BatchNo (None, 32, 64, 128)  512         leaky_re_lu_19[0][0]             \n",
      "__________________________________________________________________________________________________\n",
      "dropout_19 (Dropout)            (None, 32, 64, 128)  0           batch_normalization_19[0][0]     \n",
      "__________________________________________________________________________________________________\n",
      "periodic_conv2d_20 (PeriodicCon (None, 32, 64, 128)  147584      dropout_19[0][0]                 \n",
      "__________________________________________________________________________________________________\n",
      "leaky_re_lu_20 (LeakyReLU)      (None, 32, 64, 128)  0           periodic_conv2d_20[0][0]         \n",
      "__________________________________________________________________________________________________\n",
      "batch_normalization_20 (BatchNo (None, 32, 64, 128)  512         leaky_re_lu_20[0][0]             \n",
      "__________________________________________________________________________________________________\n",
      "dropout_20 (Dropout)            (None, 32, 64, 128)  0           batch_normalization_20[0][0]     \n",
      "__________________________________________________________________________________________________\n",
      "add_9 (Add)                     (None, 32, 64, 128)  0           add_8[0][0]                      \n",
      "                                                                 dropout_20[0][0]                 \n",
      "__________________________________________________________________________________________________\n",
      "periodic_conv2d_21 (PeriodicCon (None, 32, 64, 128)  147584      add_9[0][0]                      \n",
      "__________________________________________________________________________________________________\n",
      "leaky_re_lu_21 (LeakyReLU)      (None, 32, 64, 128)  0           periodic_conv2d_21[0][0]         \n",
      "__________________________________________________________________________________________________\n",
      "batch_normalization_21 (BatchNo (None, 32, 64, 128)  512         leaky_re_lu_21[0][0]             \n",
      "__________________________________________________________________________________________________\n",
      "dropout_21 (Dropout)            (None, 32, 64, 128)  0           batch_normalization_21[0][0]     \n",
      "__________________________________________________________________________________________________\n",
      "periodic_conv2d_22 (PeriodicCon (None, 32, 64, 128)  147584      dropout_21[0][0]                 \n",
      "__________________________________________________________________________________________________\n",
      "leaky_re_lu_22 (LeakyReLU)      (None, 32, 64, 128)  0           periodic_conv2d_22[0][0]         \n",
      "__________________________________________________________________________________________________\n",
      "batch_normalization_22 (BatchNo (None, 32, 64, 128)  512         leaky_re_lu_22[0][0]             \n",
      "__________________________________________________________________________________________________\n",
      "dropout_22 (Dropout)            (None, 32, 64, 128)  0           batch_normalization_22[0][0]     \n",
      "__________________________________________________________________________________________________\n",
      "add_10 (Add)                    (None, 32, 64, 128)  0           add_9[0][0]                      \n",
      "                                                                 dropout_22[0][0]                 \n",
      "__________________________________________________________________________________________________\n",
      "periodic_conv2d_23 (PeriodicCon (None, 32, 64, 128)  147584      add_10[0][0]                     \n",
      "__________________________________________________________________________________________________\n",
      "leaky_re_lu_23 (LeakyReLU)      (None, 32, 64, 128)  0           periodic_conv2d_23[0][0]         \n",
      "__________________________________________________________________________________________________\n",
      "batch_normalization_23 (BatchNo (None, 32, 64, 128)  512         leaky_re_lu_23[0][0]             \n",
      "__________________________________________________________________________________________________\n",
      "dropout_23 (Dropout)            (None, 32, 64, 128)  0           batch_normalization_23[0][0]     \n",
      "__________________________________________________________________________________________________\n",
      "periodic_conv2d_24 (PeriodicCon (None, 32, 64, 128)  147584      dropout_23[0][0]                 \n",
      "__________________________________________________________________________________________________\n",
      "leaky_re_lu_24 (LeakyReLU)      (None, 32, 64, 128)  0           periodic_conv2d_24[0][0]         \n",
      "__________________________________________________________________________________________________\n",
      "batch_normalization_24 (BatchNo (None, 32, 64, 128)  512         leaky_re_lu_24[0][0]             \n",
      "__________________________________________________________________________________________________\n",
      "dropout_24 (Dropout)            (None, 32, 64, 128)  0           batch_normalization_24[0][0]     \n",
      "__________________________________________________________________________________________________\n",
      "add_11 (Add)                    (None, 32, 64, 128)  0           add_10[0][0]                     \n",
      "                                                                 dropout_24[0][0]                 \n",
      "__________________________________________________________________________________________________\n",
      "periodic_conv2d_25 (PeriodicCon (None, 32, 64, 128)  147584      add_11[0][0]                     \n",
      "__________________________________________________________________________________________________\n",
      "leaky_re_lu_25 (LeakyReLU)      (None, 32, 64, 128)  0           periodic_conv2d_25[0][0]         \n",
      "__________________________________________________________________________________________________\n",
      "batch_normalization_25 (BatchNo (None, 32, 64, 128)  512         leaky_re_lu_25[0][0]             \n",
      "__________________________________________________________________________________________________\n",
      "dropout_25 (Dropout)            (None, 32, 64, 128)  0           batch_normalization_25[0][0]     \n",
      "__________________________________________________________________________________________________\n",
      "periodic_conv2d_26 (PeriodicCon (None, 32, 64, 128)  147584      dropout_25[0][0]                 \n",
      "__________________________________________________________________________________________________\n",
      "leaky_re_lu_26 (LeakyReLU)      (None, 32, 64, 128)  0           periodic_conv2d_26[0][0]         \n",
      "__________________________________________________________________________________________________\n",
      "batch_normalization_26 (BatchNo (None, 32, 64, 128)  512         leaky_re_lu_26[0][0]             \n",
      "__________________________________________________________________________________________________\n",
      "dropout_26 (Dropout)            (None, 32, 64, 128)  0           batch_normalization_26[0][0]     \n",
      "__________________________________________________________________________________________________\n",
      "add_12 (Add)                    (None, 32, 64, 128)  0           add_11[0][0]                     \n",
      "                                                                 dropout_26[0][0]                 \n",
      "__________________________________________________________________________________________________\n",
      "periodic_conv2d_27 (PeriodicCon (None, 32, 64, 128)  147584      add_12[0][0]                     \n",
      "__________________________________________________________________________________________________\n",
      "leaky_re_lu_27 (LeakyReLU)      (None, 32, 64, 128)  0           periodic_conv2d_27[0][0]         \n",
      "__________________________________________________________________________________________________\n",
      "batch_normalization_27 (BatchNo (None, 32, 64, 128)  512         leaky_re_lu_27[0][0]             \n",
      "__________________________________________________________________________________________________\n",
      "dropout_27 (Dropout)            (None, 32, 64, 128)  0           batch_normalization_27[0][0]     \n",
      "__________________________________________________________________________________________________\n",
      "periodic_conv2d_28 (PeriodicCon (None, 32, 64, 128)  147584      dropout_27[0][0]                 \n",
      "__________________________________________________________________________________________________\n",
      "leaky_re_lu_28 (LeakyReLU)      (None, 32, 64, 128)  0           periodic_conv2d_28[0][0]         \n",
      "__________________________________________________________________________________________________\n",
      "batch_normalization_28 (BatchNo (None, 32, 64, 128)  512         leaky_re_lu_28[0][0]             \n",
      "__________________________________________________________________________________________________\n",
      "dropout_28 (Dropout)            (None, 32, 64, 128)  0           batch_normalization_28[0][0]     \n",
      "__________________________________________________________________________________________________\n",
      "add_13 (Add)                    (None, 32, 64, 128)  0           add_12[0][0]                     \n",
      "                                                                 dropout_28[0][0]                 \n",
      "__________________________________________________________________________________________________\n",
      "periodic_conv2d_29 (PeriodicCon (None, 32, 64, 128)  147584      add_13[0][0]                     \n",
      "__________________________________________________________________________________________________\n",
      "leaky_re_lu_29 (LeakyReLU)      (None, 32, 64, 128)  0           periodic_conv2d_29[0][0]         \n",
      "__________________________________________________________________________________________________\n",
      "batch_normalization_29 (BatchNo (None, 32, 64, 128)  512         leaky_re_lu_29[0][0]             \n",
      "__________________________________________________________________________________________________\n",
      "dropout_29 (Dropout)            (None, 32, 64, 128)  0           batch_normalization_29[0][0]     \n",
      "__________________________________________________________________________________________________\n",
      "periodic_conv2d_30 (PeriodicCon (None, 32, 64, 128)  147584      dropout_29[0][0]                 \n",
      "__________________________________________________________________________________________________\n",
      "leaky_re_lu_30 (LeakyReLU)      (None, 32, 64, 128)  0           periodic_conv2d_30[0][0]         \n",
      "__________________________________________________________________________________________________\n",
      "batch_normalization_30 (BatchNo (None, 32, 64, 128)  512         leaky_re_lu_30[0][0]             \n",
      "__________________________________________________________________________________________________\n",
      "dropout_30 (Dropout)            (None, 32, 64, 128)  0           batch_normalization_30[0][0]     \n",
      "__________________________________________________________________________________________________\n",
      "add_14 (Add)                    (None, 32, 64, 128)  0           add_13[0][0]                     \n",
      "                                                                 dropout_30[0][0]                 \n",
      "__________________________________________________________________________________________________\n",
      "periodic_conv2d_31 (PeriodicCon (None, 32, 64, 128)  147584      add_14[0][0]                     \n",
      "__________________________________________________________________________________________________\n",
      "leaky_re_lu_31 (LeakyReLU)      (None, 32, 64, 128)  0           periodic_conv2d_31[0][0]         \n",
      "__________________________________________________________________________________________________\n",
      "batch_normalization_31 (BatchNo (None, 32, 64, 128)  512         leaky_re_lu_31[0][0]             \n",
      "__________________________________________________________________________________________________\n",
      "dropout_31 (Dropout)            (None, 32, 64, 128)  0           batch_normalization_31[0][0]     \n",
      "__________________________________________________________________________________________________\n",
      "periodic_conv2d_32 (PeriodicCon (None, 32, 64, 128)  147584      dropout_31[0][0]                 \n",
      "__________________________________________________________________________________________________\n",
      "leaky_re_lu_32 (LeakyReLU)      (None, 32, 64, 128)  0           periodic_conv2d_32[0][0]         \n",
      "__________________________________________________________________________________________________\n",
      "batch_normalization_32 (BatchNo (None, 32, 64, 128)  512         leaky_re_lu_32[0][0]             \n",
      "__________________________________________________________________________________________________\n",
      "dropout_32 (Dropout)            (None, 32, 64, 128)  0           batch_normalization_32[0][0]     \n",
      "__________________________________________________________________________________________________\n",
      "add_15 (Add)                    (None, 32, 64, 128)  0           add_14[0][0]                     \n",
      "                                                                 dropout_32[0][0]                 \n",
      "__________________________________________________________________________________________________\n",
      "periodic_conv2d_33 (PeriodicCon (None, 32, 64, 128)  147584      add_15[0][0]                     \n",
      "__________________________________________________________________________________________________\n",
      "leaky_re_lu_33 (LeakyReLU)      (None, 32, 64, 128)  0           periodic_conv2d_33[0][0]         \n",
      "__________________________________________________________________________________________________\n",
      "batch_normalization_33 (BatchNo (None, 32, 64, 128)  512         leaky_re_lu_33[0][0]             \n",
      "__________________________________________________________________________________________________\n",
      "dropout_33 (Dropout)            (None, 32, 64, 128)  0           batch_normalization_33[0][0]     \n",
      "__________________________________________________________________________________________________\n",
      "periodic_conv2d_34 (PeriodicCon (None, 32, 64, 128)  147584      dropout_33[0][0]                 \n",
      "__________________________________________________________________________________________________\n",
      "leaky_re_lu_34 (LeakyReLU)      (None, 32, 64, 128)  0           periodic_conv2d_34[0][0]         \n",
      "__________________________________________________________________________________________________\n",
      "batch_normalization_34 (BatchNo (None, 32, 64, 128)  512         leaky_re_lu_34[0][0]             \n",
      "__________________________________________________________________________________________________\n",
      "dropout_34 (Dropout)            (None, 32, 64, 128)  0           batch_normalization_34[0][0]     \n",
      "__________________________________________________________________________________________________\n",
      "add_16 (Add)                    (None, 32, 64, 128)  0           add_15[0][0]                     \n",
      "                                                                 dropout_34[0][0]                 \n",
      "__________________________________________________________________________________________________\n",
      "periodic_conv2d_35 (PeriodicCon (None, 32, 64, 128)  147584      add_16[0][0]                     \n",
      "__________________________________________________________________________________________________\n",
      "leaky_re_lu_35 (LeakyReLU)      (None, 32, 64, 128)  0           periodic_conv2d_35[0][0]         \n",
      "__________________________________________________________________________________________________\n",
      "batch_normalization_35 (BatchNo (None, 32, 64, 128)  512         leaky_re_lu_35[0][0]             \n",
      "__________________________________________________________________________________________________\n",
      "dropout_35 (Dropout)            (None, 32, 64, 128)  0           batch_normalization_35[0][0]     \n",
      "__________________________________________________________________________________________________\n",
      "periodic_conv2d_36 (PeriodicCon (None, 32, 64, 128)  147584      dropout_35[0][0]                 \n",
      "__________________________________________________________________________________________________\n",
      "leaky_re_lu_36 (LeakyReLU)      (None, 32, 64, 128)  0           periodic_conv2d_36[0][0]         \n",
      "__________________________________________________________________________________________________\n",
      "batch_normalization_36 (BatchNo (None, 32, 64, 128)  512         leaky_re_lu_36[0][0]             \n",
      "__________________________________________________________________________________________________\n",
      "dropout_36 (Dropout)            (None, 32, 64, 128)  0           batch_normalization_36[0][0]     \n",
      "__________________________________________________________________________________________________\n",
      "add_17 (Add)                    (None, 32, 64, 128)  0           add_16[0][0]                     \n",
      "                                                                 dropout_36[0][0]                 \n",
      "__________________________________________________________________________________________________\n",
      "periodic_conv2d_37 (PeriodicCon (None, 32, 64, 128)  147584      add_17[0][0]                     \n",
      "__________________________________________________________________________________________________\n",
      "leaky_re_lu_37 (LeakyReLU)      (None, 32, 64, 128)  0           periodic_conv2d_37[0][0]         \n",
      "__________________________________________________________________________________________________\n",
      "batch_normalization_37 (BatchNo (None, 32, 64, 128)  512         leaky_re_lu_37[0][0]             \n",
      "__________________________________________________________________________________________________\n",
      "dropout_37 (Dropout)            (None, 32, 64, 128)  0           batch_normalization_37[0][0]     \n",
      "__________________________________________________________________________________________________\n",
      "periodic_conv2d_38 (PeriodicCon (None, 32, 64, 128)  147584      dropout_37[0][0]                 \n",
      "__________________________________________________________________________________________________\n",
      "leaky_re_lu_38 (LeakyReLU)      (None, 32, 64, 128)  0           periodic_conv2d_38[0][0]         \n",
      "__________________________________________________________________________________________________\n",
      "batch_normalization_38 (BatchNo (None, 32, 64, 128)  512         leaky_re_lu_38[0][0]             \n",
      "__________________________________________________________________________________________________\n",
      "dropout_38 (Dropout)            (None, 32, 64, 128)  0           batch_normalization_38[0][0]     \n",
      "__________________________________________________________________________________________________\n",
      "add_18 (Add)                    (None, 32, 64, 128)  0           add_17[0][0]                     \n",
      "                                                                 dropout_38[0][0]                 \n",
      "__________________________________________________________________________________________________\n",
      "periodic_conv2d_39 (PeriodicCon (None, 32, 64, 2)    2306        add_18[0][0]                     \n",
      "__________________________________________________________________________________________________\n",
      "activation (Activation)         (None, 32, 64, 2)    0           periodic_conv2d_39[0][0]         \n",
      "==================================================================================================\n",
      "Total params: 6,345,602\n",
      "Trainable params: 6,335,618\n",
      "Non-trainable params: 9,984\n",
      "__________________________________________________________________________________________________\n"
     ]
    }
   ],
   "source": [
    "model.summary()"
   ]
  },
  {
   "cell_type": "code",
   "execution_count": 26,
   "metadata": {},
   "outputs": [
    {
     "data": {
      "text/plain": [
       "'80.1-resnet_d3_dr_0.05'"
      ]
     },
     "execution_count": 26,
     "metadata": {},
     "output_type": "execute_result"
    }
   ],
   "source": [
    "exp_id"
   ]
  },
  {
   "cell_type": "code",
   "execution_count": null,
   "metadata": {},
   "outputs": [],
   "source": [
    "# exp_id='82-resnet_d3_dr_0.2'\n",
    "# saved_model_path=f'{model_save_dir}/{exp_id}.h5'\n",
    "# substr=['resnet','unet_google','unet']\n",
    "# assert any(x in exp_id for x in substr)\n",
    "\n",
    "# model1=tf.keras.models.load_model(saved_model_path,\n",
    "#                                  custom_objects={'PeriodicConv2D':PeriodicConv2D,'lat_mse': tf.keras.losses.mse})\n",
    "\n",
    "# model1.summary()\n",
    "\n",
    "# pred1=model1.predict(dg_test, verbose=1)"
   ]
  },
  {
   "cell_type": "code",
   "execution_count": 27,
   "metadata": {},
   "outputs": [
    {
     "data": {
      "application/vnd.jupyter.widget-view+json": {
       "model_id": "06ca95ac9b434b7d9917eb5ba57709ac",
       "version_major": 2,
       "version_minor": 0
      },
      "text/plain": [
       "HBox(children=(FloatProgress(value=0.0), HTML(value='')))"
      ]
     },
     "metadata": {},
     "output_type": "display_data"
    },
    {
     "name": "stdout",
     "output_type": "stream",
     "text": [
      "\n"
     ]
    }
   ],
   "source": [
    "ensemble_size = 100 # 50\n",
    "preds = []\n",
    "for _ in tqdm(range(ensemble_size)):\n",
    "    preds.append(model.predict(dg_test))\n",
    "    \n",
    "pred_ensemble = np.array(preds)\n",
    "pred_ensemble=(pred_ensemble * dg_test.std.isel(level=dg_test.output_idxs).values +\n",
    "                   dg_test.mean.isel(level=dg_test.output_idxs).values)\n",
    "\n",
    "preds = xr.Dataset()\n",
    "for i,var in enumerate(output_vars):\n",
    "    da= xr.DataArray(pred_ensemble[...,i], \n",
    "                         coords={'member': np.arange(ensemble_size),\n",
    "                                 'time': dg_test.valid_time,\n",
    "                                 'lat': dg_test.data.lat, 'lon': dg_test.data.lon,}, \n",
    "                         dims=['member', 'time','lat', 'lon'])\n",
    "    preds[var]=da"
   ]
  },
  {
   "cell_type": "code",
   "execution_count": 28,
   "metadata": {},
   "outputs": [
    {
     "data": {
      "text/plain": [
       "'80.1-resnet_d3_dr_0.05'"
      ]
     },
     "execution_count": 28,
     "metadata": {},
     "output_type": "execute_result"
    }
   ],
   "source": [
    "exp_id"
   ]
  },
  {
   "cell_type": "code",
   "execution_count": null,
   "metadata": {},
   "outputs": [],
   "source": [
    "preds.to_netcdf(f'../../data/WeatherBench/predictions/{exp_id}.nc')"
   ]
  },
  {
   "cell_type": "code",
   "execution_count": null,
   "metadata": {},
   "outputs": [],
   "source": [
    "preds"
   ]
  },
  {
   "cell_type": "code",
   "execution_count": null,
   "metadata": {},
   "outputs": [],
   "source": []
  },
  {
   "cell_type": "code",
   "execution_count": null,
   "metadata": {},
   "outputs": [],
   "source": []
  },
  {
   "cell_type": "code",
   "execution_count": null,
   "metadata": {},
   "outputs": [],
   "source": []
  },
  {
   "cell_type": "code",
   "execution_count": null,
   "metadata": {},
   "outputs": [],
   "source": []
  },
  {
   "cell_type": "code",
   "execution_count": null,
   "metadata": {},
   "outputs": [],
   "source": [
    "#OLD"
   ]
  },
  {
   "cell_type": "code",
   "execution_count": null,
   "metadata": {},
   "outputs": [],
   "source": [
    "preds = model.predict(dg_test, verbose=1) #deterministic\n",
    "preds=preds* dg_test.std.isel(level=dg_test.output_idxs).values+dg_test.mean.isel(level=dg_test.output_idxs).values"
   ]
  },
  {
   "cell_type": "code",
   "execution_count": null,
   "metadata": {},
   "outputs": [],
   "source": [
    "#numpy -->xarray\n",
    "preds_d = xr.Dataset()\n",
    "for i,var in enumerate(output_vars):\n",
    "    da= xr.DataArray(preds[...,i], \n",
    "                     coords={\n",
    "                             'time': dg_test.valid_time,\n",
    "                             'lat': dg_test.data.lat, 'lon': dg_test.data.lon,}, \n",
    "                     dims=['time','lat', 'lon'])\n",
    "    preds_d[var]=da"
   ]
  },
  {
   "cell_type": "code",
   "execution_count": null,
   "metadata": {},
   "outputs": [],
   "source": [
    "preds_d=xr.Dataset.expand_dims(preds_d,'member')"
   ]
  },
  {
   "cell_type": "code",
   "execution_count": null,
   "metadata": {},
   "outputs": [],
   "source": [
    "preds_d.t_850"
   ]
  },
  {
   "cell_type": "code",
   "execution_count": null,
   "metadata": {},
   "outputs": [],
   "source": [
    "print(len(dg_test))\n",
    "X,y=dg_test[len(dg_test)-1]\n",
    "X.shape, y.shape"
   ]
  },
  {
   "cell_type": "code",
   "execution_count": null,
   "metadata": {},
   "outputs": [],
   "source": [
    "X, y = dg_test[0]"
   ]
  },
  {
   "cell_type": "code",
   "execution_count": null,
   "metadata": {},
   "outputs": [],
   "source": [
    "import tqdm"
   ]
  },
  {
   "cell_type": "code",
   "execution_count": null,
   "metadata": {},
   "outputs": [],
   "source": [
    "%%time\n",
    "p = model.predict(dg_test, verbose=1) #deterministic"
   ]
  },
  {
   "cell_type": "code",
   "execution_count": null,
   "metadata": {},
   "outputs": [],
   "source": [
    "p"
   ]
  },
  {
   "cell_type": "code",
   "execution_count": null,
   "metadata": {},
   "outputs": [],
   "source": [
    "# func = K.function(model.inputs + [K.learning_phase()], model.outputs) #slow method\n",
    "\n",
    "# preds = []\n",
    "# for X, y in tqdm.tqdm(dg_test): \n",
    "#     preds.append(np.asarray(func([X] + [1.]), dtype=np.float32).squeeze())"
   ]
  },
  {
   "cell_type": "code",
   "execution_count": null,
   "metadata": {},
   "outputs": [],
   "source": [
    "# So unfortunately this is much slower. Not entirely sure why but I think this means that we do not want to use K.function after all. \n",
    "# Below is a workaround that allows us to load the model and then change the training attribute afterwards. \n",
    "# Super ugly but I really can't think of a better way."
   ]
  },
  {
   "cell_type": "code",
   "execution_count": null,
   "metadata": {},
   "outputs": [],
   "source": [
    "# model=tf.keras.models.load_model(saved_model_path,\n",
    "#                                  custom_objects={'PeriodicConv2D':PeriodicConv2D,'lat_mse': tf.keras.losses.mse})"
   ]
  },
  {
   "cell_type": "code",
   "execution_count": null,
   "metadata": {},
   "outputs": [],
   "source": [
    "[model.predict(X[:1])[0, 0, 0,0] for _ in range(3)]   # Always the same output, no test time dropout"
   ]
  },
  {
   "cell_type": "code",
   "execution_count": null,
   "metadata": {},
   "outputs": [],
   "source": [
    "# c = model.get_config()"
   ]
  },
  {
   "cell_type": "code",
   "execution_count": null,
   "metadata": {},
   "outputs": [],
   "source": [
    "# c"
   ]
  },
  {
   "cell_type": "code",
   "execution_count": null,
   "metadata": {},
   "outputs": [],
   "source": [
    "# for l in c['layers']:\n",
    "#     if l['class_name'] == 'Dropout':\n",
    "#         l['inbound_nodes'][0][0][-1] = {'training': True}"
   ]
  },
  {
   "cell_type": "code",
   "execution_count": null,
   "metadata": {},
   "outputs": [],
   "source": [
    "# model=keras.models.Model.from_config(c, custom_objects={'PeriodicConv2D':PeriodicConv2D,'lat_mse': tf.keras.losses.mse})"
   ]
  },
  {
   "cell_type": "code",
   "execution_count": null,
   "metadata": {},
   "outputs": [],
   "source": [
    "# model2 = keras.models.Model.from_config(c, custom_objects={'PeriodicConv2D':PeriodicConv2D,'lat_mse': tf.keras.losses.mse})\n",
    "\n",
    "# model2.set_weights(model.get_weights())\n",
    "\n",
    "# model=model2"
   ]
  },
  {
   "cell_type": "code",
   "execution_count": null,
   "metadata": {},
   "outputs": [],
   "source": [
    "# [model.predict(X[:1])[0, 0, 0,1] for _ in range(3)]   # Different output everytime = dropout on :)"
   ]
  },
  {
   "cell_type": "code",
   "execution_count": null,
   "metadata": {},
   "outputs": [],
   "source": [
    "%%time\n",
    "p = model.predict(dg_test, verbose=1)   # Maybe slightly slower because of dropout"
   ]
  },
  {
   "cell_type": "code",
   "execution_count": null,
   "metadata": {},
   "outputs": [],
   "source": [
    "p.shape"
   ]
  },
  {
   "cell_type": "code",
   "execution_count": null,
   "metadata": {},
   "outputs": [],
   "source": [
    "from tqdm import tqdm"
   ]
  },
  {
   "cell_type": "code",
   "execution_count": null,
   "metadata": {},
   "outputs": [],
   "source": [
    "# Here is a new version without K.function. Much easier thankfully\n",
    "ensemble_size = 4 # 50\n",
    "preds = []\n",
    "for _ in tqdm(range(ensemble_size)):\n",
    "    preds.append(model.predict(dg_test))"
   ]
  },
  {
   "cell_type": "code",
   "execution_count": null,
   "metadata": {},
   "outputs": [],
   "source": [
    "pred_ensemble = np.array(preds)\n",
    "pred_ensemble.shape   # No transposing necessary"
   ]
  },
  {
   "cell_type": "code",
   "execution_count": null,
   "metadata": {},
   "outputs": [],
   "source": [
    "#observation y\n",
    "z500_valid = load_test_data(f'{datadir}/geopotential_500', 'z')\n",
    "t850_valid=load_test_data(f'{datadir}/temperature_850','t')\n",
    "\n",
    "observation=xr.Dataset()\n",
    "observation['z_500']=z500_valid\n",
    "observation['t_850']=t850_valid\n",
    "observation=observation.astype('float64')\n",
    "observation=observation.drop('level')\n",
    "\n",
    "observation"
   ]
  },
  {
   "cell_type": "code",
   "execution_count": null,
   "metadata": {},
   "outputs": [],
   "source": []
  },
  {
   "cell_type": "code",
   "execution_count": null,
   "metadata": {},
   "outputs": [],
   "source": [
    "dg_test.valid_time"
   ]
  },
  {
   "cell_type": "code",
   "execution_count": null,
   "metadata": {},
   "outputs": [],
   "source": [
    "z500_valid.sel(time=dg_test.valid_time) #dg_test.valid_time is what you need."
   ]
  },
  {
   "cell_type": "code",
   "execution_count": null,
   "metadata": {},
   "outputs": [],
   "source": [
    "pred_ensemble.shape"
   ]
  },
  {
   "cell_type": "code",
   "execution_count": null,
   "metadata": {},
   "outputs": [],
   "source": [
    "pred_ensemble_reserve=pred_ensemble\n",
    "#observation_reserve=y\n",
    "#observation=y"
   ]
  },
  {
   "cell_type": "code",
   "execution_count": null,
   "metadata": {},
   "outputs": [],
   "source": [
    "#unnormalize\n",
    "pred_ensemble=pred_ensemble* dg_test.std.isel(level=dg_test.output_idxs).values+dg_test.mean.isel(level=dg_test.output_idxs).values\n",
    "#observation=observation* dg_test.std.isel(level=dg_test.output_idxs).values+dg_test.mean.isel(level=dg_test.output_idxs).values"
   ]
  },
  {
   "cell_type": "code",
   "execution_count": null,
   "metadata": {},
   "outputs": [],
   "source": [
    "pred_ensemble.shape[1]"
   ]
  },
  {
   "cell_type": "code",
   "execution_count": null,
   "metadata": {},
   "outputs": [],
   "source": [
    "number_of_forecasts=4"
   ]
  },
  {
   "cell_type": "code",
   "execution_count": null,
   "metadata": {},
   "outputs": [],
   "source": [
    "dg_test.data.time.sel(time=dg_test.valid_time)"
   ]
  },
  {
   "cell_type": "code",
   "execution_count": null,
   "metadata": {},
   "outputs": [],
   "source": [
    "preds = xr.Dataset()\n",
    "for i,var in enumerate(output_vars):\n",
    "    da= xr.DataArray(pred_ensemble[...,i], \n",
    "                     coords={'member': np.arange(number_of_forecasts),\n",
    "                             'time': dg_test.data.time.sel(time=dg_test.valid_time),\n",
    "                             'lat': dg_test.data.lat, 'lon': dg_test.data.lon,}, \n",
    "                     dims=['member', 'time','lat', 'lon'])\n",
    "    preds[var]=da\n",
    "    print(i)\n",
    "    print(var)"
   ]
  },
  {
   "cell_type": "code",
   "execution_count": null,
   "metadata": {},
   "outputs": [],
   "source": [
    "preds"
   ]
  },
  {
   "cell_type": "code",
   "execution_count": null,
   "metadata": {},
   "outputs": [],
   "source": [
    "#pred_dataset"
   ]
  },
  {
   "cell_type": "code",
   "execution_count": null,
   "metadata": {},
   "outputs": [],
   "source": [
    "#xr.Dataset.equals(pred_dataset,preds)"
   ]
  },
  {
   "cell_type": "code",
   "execution_count": null,
   "metadata": {},
   "outputs": [],
   "source": [
    "#observation"
   ]
  },
  {
   "cell_type": "code",
   "execution_count": null,
   "metadata": {},
   "outputs": [],
   "source": [
    "#preds.t850.isel(time=0,forecast_number=0,lat=0,lon=0).values"
   ]
  },
  {
   "cell_type": "code",
   "execution_count": null,
   "metadata": {},
   "outputs": [],
   "source": [
    "exp_id='82.1-resnet_d3_dr_0.2'"
   ]
  },
  {
   "cell_type": "code",
   "execution_count": null,
   "metadata": {},
   "outputs": [],
   "source": [
    "preds.to_netcdf(f'../../data/WeatherBench/predictions/{exp_id}.nc')"
   ]
  },
  {
   "cell_type": "code",
   "execution_count": null,
   "metadata": {},
   "outputs": [],
   "source": [
    "preds.t_850"
   ]
  },
  {
   "cell_type": "code",
   "execution_count": null,
   "metadata": {},
   "outputs": [],
   "source": [
    "def compute_weighted_crps(da_fc, da_true, mean_dims=xr.ALL_DIMS):\n",
    "    weights_lat = np.cos(np.deg2rad(da_fc.lat))\n",
    "    weights_lat /= weights_lat.mean()\n",
    "    crps = xs.crps_ensemble(da_true, da_fc)\n",
    "    crps = (crps * weights_lat).mean(mean_dims)\n",
    "    return crps"
   ]
  },
  {
   "cell_type": "code",
   "execution_count": null,
   "metadata": {},
   "outputs": [],
   "source": [
    "crps=compute_weighted_crps(preds, observation.sel(time=preds.time))"
   ]
  },
  {
   "cell_type": "code",
   "execution_count": null,
   "metadata": {},
   "outputs": [],
   "source": [
    "crps.z_500.values, crps.t_850.values"
   ]
  },
  {
   "cell_type": "code",
   "execution_count": null,
   "metadata": {},
   "outputs": [],
   "source": [
    "from ranky import rankz\n",
    "\n",
    "obs = np.asarray(observation.to_array(), dtype=np.float32).squeeze();\n",
    "obs_z500=obs[0,...].squeeze()\n",
    "obs_t850=obs[1,...].squeeze()\n",
    "\n",
    "pred=np.asarray(preds.to_array(), dtype=np.float32).squeeze();\n",
    "pred_z500=pred[0,...].squeeze() \n",
    "pred_t850=pred[1,...].squeeze() \n",
    "\n",
    "mask=np.ones(obs_z500.shape) #useless\n",
    "# feed into rankz function\n",
    "result = rankz(obs_z500, pred_z500, mask)\n",
    "# plot histogram\n",
    "plt.bar(range(1,pred_z500.shape[0]+2), result[0])\n",
    "# view histogram\n",
    "plt.show() ##overconfident (underdispersive)"
   ]
  },
  {
   "cell_type": "code",
   "execution_count": null,
   "metadata": {},
   "outputs": [],
   "source": []
  }
 ],
 "metadata": {
  "kernelspec": {
   "display_name": "Python 3",
   "language": "python",
   "name": "python3"
  },
  "language_info": {
   "codemirror_mode": {
    "name": "ipython",
    "version": 3
   },
   "file_extension": ".py",
   "mimetype": "text/x-python",
   "name": "python",
   "nbconvert_exporter": "python",
   "pygments_lexer": "ipython3",
   "version": "3.7.7"
  }
 },
 "nbformat": 4,
 "nbformat_minor": 4
}
