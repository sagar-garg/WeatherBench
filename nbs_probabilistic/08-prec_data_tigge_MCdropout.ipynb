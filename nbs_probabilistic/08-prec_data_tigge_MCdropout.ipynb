{
 "cells": [
  {
   "cell_type": "code",
   "execution_count": 11,
   "metadata": {},
   "outputs": [],
   "source": [
    "%load_ext autoreload\n",
    "%autoreload 2"
   ]
  },
  {
   "cell_type": "code",
   "execution_count": 12,
   "metadata": {},
   "outputs": [],
   "source": [
    "import re, os\n",
    "import numpy as np\n",
    "import xarray as xr\n",
    "import tensorflow.keras as keras\n",
    "import datetime\n",
    "import pdb\n",
    "import matplotlib.pyplot as plt\n",
    "from src.utils import *\n",
    "from src.score import *\n",
    "from src.data_generator import *\n",
    "from src.networks import *\n",
    "from src.train import *\n",
    "#import cartopy.crs as ccrs\n",
    "import seaborn as sns\n",
    "from src.regrid import *"
   ]
  },
  {
   "cell_type": "code",
   "execution_count": 13,
   "metadata": {},
   "outputs": [
    {
     "name": "stdout",
     "output_type": "stream",
     "text": [
      "/home/garg/WeatherBench/nbs_probabilistic\r\n"
     ]
    }
   ],
   "source": [
    "!pwd"
   ]
  },
  {
   "cell_type": "code",
   "execution_count": 15,
   "metadata": {},
   "outputs": [
    {
     "name": "stderr",
     "output_type": "stream",
     "text": [
      "usage: ipykernel_launcher.py [-h] [-c MY_CONFIG] --datadir DATADIR --exp_id\n",
      "                             EXP_ID --model_save_dir MODEL_SAVE_DIR\n",
      "                             --pred_save_dir PRED_SAVE_DIR --var_dict VAR_DICT\n",
      "                             [--output_vars OUTPUT_VARS [OUTPUT_VARS ...]]\n",
      "                             --filters FILTERS [FILTERS ...]\n",
      "                             [--kernels KERNELS [KERNELS ...]] --lead_time\n",
      "                             LEAD_TIME [--lr LR] [--activation ACTIVATION]\n",
      "                             [--batch_size BATCH_SIZE] [--epochs EPOCHS]\n",
      "                             [--optimizer OPTIMIZER]\n",
      "                             [--early_stopping_patience EARLY_STOPPING_PATIENCE]\n",
      "                             [--min_es_delta MIN_ES_DELTA]\n",
      "                             [--restore_best_weights RESTORE_BEST_WEIGHTS]\n",
      "                             [--reduce_lr_patience REDUCE_LR_PATIENCE]\n",
      "                             [--reduce_lr_factor REDUCE_LR_FACTOR]\n",
      "                             [--min_lr_times MIN_LR_TIMES] [--lr_step LR_STEP]\n",
      "                             [--lr_divide LR_DIVIDE] [--loss LOSS]\n",
      "                             [--train_years TRAIN_YEARS [TRAIN_YEARS ...]]\n",
      "                             [--valid_years VALID_YEARS [VALID_YEARS ...]]\n",
      "                             [--test_years TEST_YEARS [TEST_YEARS ...]]\n",
      "                             [--data_subsample DATA_SUBSAMPLE]\n",
      "                             [--norm_subsample NORM_SUBSAMPLE]\n",
      "                             [--gpu GPU [GPU ...]]\n",
      "                             [--network_type NETWORK_TYPE]\n",
      "                             [--bn_position BN_POSITION] [--nt_in NT_IN]\n",
      "                             [--dt_in DT_IN] [--use_bias USE_BIAS] [--l2 L2]\n",
      "                             [--momentum MOMENTUM] [--dropout DROPOUT]\n",
      "                             [--skip SKIP] [--unres UNRES [UNRES ...]]\n",
      "                             [--cmip CMIP]\n",
      "                             [--cmip_dir CMIP_DIR [CMIP_DIR ...]]\n",
      "                             [--pretrained_model PRETRAINED_MODEL]\n",
      "                             [--last_pretrained_layer LAST_PRETRAINED_LAYER]\n",
      "                             [--last_trainable_layer LAST_TRAINABLE_LAYER]\n",
      "                             [--ext_mean EXT_MEAN] [--ext_std EXT_STD]\n",
      "                             [--cont_time CONT_TIME] [--multi_dt MULTI_DT]\n",
      "                             [--parametric PARAMETRIC] [--one_cycle ONE_CYCLE]\n",
      "                             [--las_kernel LAS_KERNEL]\n",
      "                             [--las_gauss_std LAS_GAUSS_STD]\n",
      "                             [--is_categorical IS_CATEGORICAL]\n",
      "                             [--num_bins NUM_BINS] [--bin_min BIN_MIN]\n",
      "                             [--bin_max BIN_MAX]\n",
      "ipykernel_launcher.py: error: unrecognized arguments: --relu_idxs=0 --tp_log=0.001 --discard_first=24\n"
     ]
    },
    {
     "ename": "SystemExit",
     "evalue": "2",
     "output_type": "error",
     "traceback": [
      "An exception has occurred, use %tb to see the full traceback.\n",
      "\u001b[0;31mSystemExit\u001b[0m\u001b[0;31m:\u001b[0m 2\n"
     ]
    }
   ],
   "source": [
    "args = load_args('../nn_configs/B/138-resnet_prec.yml')"
   ]
  },
  {
   "cell_type": "code",
   "execution_count": null,
   "metadata": {},
   "outputs": [],
   "source": []
  },
  {
   "cell_type": "code",
   "execution_count": null,
   "metadata": {},
   "outputs": [],
   "source": []
  },
  {
   "cell_type": "code",
   "execution_count": null,
   "metadata": {},
   "outputs": [],
   "source": []
  },
  {
   "cell_type": "code",
   "execution_count": null,
   "metadata": {},
   "outputs": [],
   "source": []
  },
  {
   "cell_type": "code",
   "execution_count": null,
   "metadata": {},
   "outputs": [],
   "source": []
  }
 ],
 "metadata": {
  "kernelspec": {
   "display_name": "Python 3",
   "language": "python",
   "name": "python3"
  },
  "language_info": {
   "codemirror_mode": {
    "name": "ipython",
    "version": 3
   },
   "file_extension": ".py",
   "mimetype": "text/x-python",
   "name": "python",
   "nbconvert_exporter": "python",
   "pygments_lexer": "ipython3",
   "version": "3.6.10"
  }
 },
 "nbformat": 4,
 "nbformat_minor": 4
}
