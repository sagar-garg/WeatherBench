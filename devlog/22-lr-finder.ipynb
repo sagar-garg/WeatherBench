{
 "cells": [
  {
   "cell_type": "code",
   "execution_count": 1,
   "metadata": {},
   "outputs": [],
   "source": [
    "%load_ext autoreload\n",
    "%autoreload 2"
   ]
  },
  {
   "cell_type": "code",
   "execution_count": 2,
   "metadata": {},
   "outputs": [],
   "source": [
    "import re, os\n",
    "import numpy as np\n",
    "import xarray as xr\n",
    "import tensorflow.keras as keras\n",
    "import datetime\n",
    "import pdb\n",
    "import matplotlib.pyplot as plt\n",
    "from src.utils import *\n",
    "from src.score import *\n",
    "from src.data_generator import *\n",
    "from src.networks import *\n",
    "from src.train import *\n",
    "from src.clr import LRFinder"
   ]
  },
  {
   "cell_type": "code",
   "execution_count": 3,
   "metadata": {},
   "outputs": [],
   "source": [
    "os.environ[\"CUDA_VISIBLE_DEVICES\"]=str(3)\n",
    "limit_mem()"
   ]
  },
  {
   "cell_type": "code",
   "execution_count": 4,
   "metadata": {},
   "outputs": [],
   "source": [
    "policy = mixed_precision.Policy('mixed_float16')\n",
    "mixed_precision.set_policy(policy)"
   ]
  },
  {
   "cell_type": "code",
   "execution_count": 5,
   "metadata": {},
   "outputs": [],
   "source": [
    "def test_lr(exp_id):\n",
    "    args = load_args(f'../nn_configs/B/{exp_id}.yml')\n",
    "    args['train_years'] = ['2014', '2015']\n",
    "    dg_train, dg_valid, dg_test = load_data(**args)\n",
    "    if args['network_type'] == 'resnet':\n",
    "        model = build_resnet(\n",
    "            **args, input_shape=dg_train.shape,\n",
    "        )\n",
    "    elif args['network_type'] == 'uresnet':\n",
    "        model = build_uresnet(\n",
    "            **args, input_shape=dg_train.shape,\n",
    "        )\n",
    "    if args['loss'] == 'lat_mse':\n",
    "        loss = create_lat_mse(dg_train.data.lat)\n",
    "    if args['loss'] == 'lat_rmse':\n",
    "        loss = create_lat_rmse(dg_train.data.lat)\n",
    "    if args['optimizer'] == 'adam':\n",
    "        opt = keras.optimizers.Adam(args['lr'])\n",
    "    elif args['optimizer'] =='adadelta':\n",
    "        opt = keras.optimizers.Adadelta(args['lr'])\n",
    "    model.compile(opt, loss, metrics=['mse'])\n",
    "    lrf = LRFinder(\n",
    "        dg_train.n_samples, args['batch_size'],\n",
    "        minimum_lr=1e-6, maximum_lr=1e-3,\n",
    "        lr_scale='exp', save_dir='./', verbose=0)\n",
    "    model.fit(dg_train, epochs=1, callbacks=[lrf])\n",
    "    return lrf"
   ]
  },
  {
   "cell_type": "code",
   "execution_count": 7,
   "metadata": {},
   "outputs": [],
   "source": [
    "args = load_args(f'../nn_configs/B/103-resnet_d3_clr_sgd.yml')"
   ]
  },
  {
   "cell_type": "code",
   "execution_count": 8,
   "metadata": {},
   "outputs": [],
   "source": [
    "args['train_years'] = ['2014', '2015']"
   ]
  },
  {
   "cell_type": "code",
   "execution_count": 9,
   "metadata": {},
   "outputs": [
    {
     "data": {
      "text/plain": [
       "5e-05"
      ]
     },
     "execution_count": 9,
     "metadata": {},
     "output_type": "execute_result"
    }
   ],
   "source": [
    "args['lr']"
   ]
  },
  {
   "cell_type": "code",
   "execution_count": 10,
   "metadata": {},
   "outputs": [],
   "source": [
    "dg_train, dg_valid, dg_test = load_data(**args)"
   ]
  },
  {
   "cell_type": "code",
   "execution_count": 19,
   "metadata": {},
   "outputs": [],
   "source": [
    "if args['network_type'] == 'resnet':\n",
    "    model = build_resnet(\n",
    "        **args, input_shape=dg_train.shape,\n",
    "    )\n",
    "elif args['network_type'] == 'uresnet':\n",
    "    model = build_uresnet(\n",
    "        **args, input_shape=dg_train.shape,\n",
    "    )"
   ]
  },
  {
   "cell_type": "code",
   "execution_count": 20,
   "metadata": {},
   "outputs": [],
   "source": [
    "args['optimizer'] = 'rmsprop'\n",
    "args['momentum'] = 0.0"
   ]
  },
  {
   "cell_type": "code",
   "execution_count": 21,
   "metadata": {},
   "outputs": [],
   "source": [
    "if args['loss'] == 'lat_mse':\n",
    "    loss = create_lat_mse(dg_train.data.lat)\n",
    "if args['loss'] == 'lat_rmse':\n",
    "    loss = create_lat_rmse(dg_train.data.lat)\n",
    "if args['optimizer'] == 'adam':\n",
    "    opt = keras.optimizers.Adam(args['lr'])\n",
    "elif args['optimizer'] =='adadelta':\n",
    "    opt = keras.optimizers.Adadelta(args['lr'])\n",
    "elif args['optimizer'] =='sgd':\n",
    "    opt = keras.optimizers.SGD(args['lr'], momentum=args['momentum'])\n",
    "elif args['optimizer'] =='rmsprop':\n",
    "    opt = keras.optimizers.SGD(args['lr'], momentum=args['momentum'])\n",
    "model.compile(opt, loss, metrics=['mse'])"
   ]
  },
  {
   "cell_type": "code",
   "execution_count": 22,
   "metadata": {},
   "outputs": [],
   "source": [
    "lrf = LRFinder(\n",
    "    dg_train.n_samples, args['batch_size'],\n",
    "    minimum_lr=1e-6, maximum_lr=1e-3,\n",
    "    lr_scale='exp', save_dir='./', verbose=0)"
   ]
  },
  {
   "cell_type": "code",
   "execution_count": 23,
   "metadata": {},
   "outputs": [
    {
     "name": "stdout",
     "output_type": "stream",
     "text": [
      "WARNING:tensorflow:sample_weight modes were coerced from\n",
      "  ...\n",
      "    to  \n",
      "  ['...']\n",
      "Train for 273 steps\n",
      "273/273 [==============================] - 60s 219ms/step - loss: 40.2996 - mse: 41.0223\n"
     ]
    },
    {
     "data": {
      "text/plain": [
       "<tensorflow.python.keras.callbacks.History at 0x7fa5b80745d0>"
      ]
     },
     "execution_count": 23,
     "metadata": {},
     "output_type": "execute_result"
    }
   ],
   "source": [
    "model.fit(dg_train, epochs=1, callbacks=[lrf])"
   ]
  },
  {
   "cell_type": "code",
   "execution_count": 24,
   "metadata": {},
   "outputs": [],
   "source": [
    "import matplotlib.ticker as ticker\n",
    "def plot_lr_find(lrf, xlim=None, ylim=None, log=False):\n",
    "    fig, ax = plt.subplots(figsize=(8, 8))\n",
    "    plt.plot(10**lrf.lrs, lrf.losses)\n",
    "    plt.xlabel('lr'); plt.ylabel('loss')\n",
    "    if log: plt.yscale('log')\n",
    "    if ylim is not None: plt.ylim(ylim)\n",
    "    if xlim is not None: plt.xlim(xlim)\n",
    "    x_labels = ax.get_xticks()\n",
    "    ax.xaxis.set_major_formatter(ticker.FormatStrFormatter('%0.0e'))"
   ]
  },
  {
   "cell_type": "code",
   "execution_count": 25,
   "metadata": {},
   "outputs": [
    {
     "data": {
      "text/plain": [
       "<matplotlib.lines.Line2D at 0x7fa550392d50>"
      ]
     },
     "execution_count": 25,
     "metadata": {},
     "output_type": "execute_result"
    },
    {
     "data": {
      "image/png": "[encoded data removed]",
      "text/plain": [
       "<Figure size 576x576 with 1 Axes>"
      ]
     },
     "metadata": {
      "needs_background": "light"
     },
     "output_type": "display_data"
    }
   ],
   "source": [
    "plot_lr_find(lrf, log=True)\n",
    "plt.axvline(args['lr'])"
   ]
  },
  {
   "cell_type": "markdown",
   "metadata": {},
   "source": [
    "### RMSE loss"
   ]
  },
  {
   "cell_type": "code",
   "execution_count": 194,
   "metadata": {},
   "outputs": [],
   "source": [
    "args = load_args(f'../nn_configs/B/71-resnet_d3_best_5d.yml')"
   ]
  },
  {
   "cell_type": "code",
   "execution_count": 195,
   "metadata": {},
   "outputs": [],
   "source": [
    "args['loss'] = 'lat_rmse'"
   ]
  },
  {
   "cell_type": "code",
   "execution_count": 196,
   "metadata": {},
   "outputs": [],
   "source": [
    "if args['network_type'] == 'resnet':\n",
    "    model = build_resnet(\n",
    "        **args, input_shape=dg_train.shape,\n",
    "    )\n",
    "elif args['network_type'] == 'uresnet':\n",
    "    model = build_uresnet(\n",
    "        **args, input_shape=dg_train.shape,\n",
    "    )"
   ]
  },
  {
   "cell_type": "code",
   "execution_count": 197,
   "metadata": {},
   "outputs": [],
   "source": [
    "if args['loss'] == 'lat_mse':\n",
    "    loss = create_lat_mse(dg_train.data.lat)\n",
    "if args['loss'] == 'lat_rmse':\n",
    "    loss = create_lat_rmse(dg_train.data.lat)\n",
    "if args['optimizer'] == 'adam':\n",
    "    opt = keras.optimizers.Adam(args['lr'])\n",
    "elif args['optimizer'] =='adadelta':\n",
    "    opt = keras.optimizers.Adadelta(args['lr'])\n",
    "model.compile(opt, loss, metrics=['mse'])"
   ]
  },
  {
   "cell_type": "code",
   "execution_count": 198,
   "metadata": {},
   "outputs": [],
   "source": [
    "lrf = LRFinder(\n",
    "    dg_train.n_samples, args['batch_size'],\n",
    "    minimum_lr=1e-4, maximum_lr=1e-1,\n",
    "    lr_scale='exp', save_dir='./', verbose=0)"
   ]
  },
  {
   "cell_type": "code",
   "execution_count": 213,
   "metadata": {},
   "outputs": [],
   "source": [
    "if args['network_type'] == 'resnet':\n",
    "    model = build_resnet(\n",
    "        **args, input_shape=dg_train.shape,\n",
    "    )\n",
    "elif args['network_type'] == 'uresnet':\n",
    "    model = build_uresnet(\n",
    "        **args, input_shape=dg_train.shape,\n",
    "    )"
   ]
  },
  {
   "cell_type": "code",
   "execution_count": 214,
   "metadata": {},
   "outputs": [],
   "source": [
    "if args['loss'] == 'lat_mse':\n",
    "    loss = create_lat_mse(dg_train.data.lat)\n",
    "if args['loss'] == 'lat_rmse':\n",
    "    loss = create_lat_rmse(dg_train.data.lat)\n",
    "if args['optimizer'] == 'adam':\n",
    "    opt = keras.optimizers.Adam(args['lr'])\n",
    "elif args['optimizer'] =='adadelta':\n",
    "    opt = keras.optimizers.Adadelta(args['lr'])\n",
    "model.compile(opt, loss, metrics=['mse'])"
   ]
  },
  {
   "cell_type": "code",
   "execution_count": 215,
   "metadata": {},
   "outputs": [],
   "source": [
    "dg_train.lead_time = 72"
   ]
  },
  {
   "cell_type": "code",
   "execution_count": 216,
   "metadata": {},
   "outputs": [],
   "source": [
    "lrf2 = LRFinder(\n",
    "    dg_train.n_samples, args['batch_size'],\n",
    "    minimum_lr=1e-4, maximum_lr=10,\n",
    "    lr_scale='exp', save_dir='./', verbose=0)"
   ]
  },
  {
   "cell_type": "code",
   "execution_count": 217,
   "metadata": {},
   "outputs": [
    {
     "name": "stdout",
     "output_type": "stream",
     "text": [
      "WARNING:tensorflow:sample_weight modes were coerced from\n",
      "  ...\n",
      "    to  \n",
      "  ['...']\n",
      "Train for 957 steps\n",
      "957/957 [==============================] - 308s 322ms/step - loss: 1.0021 - mse: 4.0153\n"
     ]
    },
    {
     "data": {
      "text/plain": [
       "<tensorflow.python.keras.callbacks.History at 0x7f3ae89af790>"
      ]
     },
     "execution_count": 217,
     "metadata": {},
     "output_type": "execute_result"
    }
   ],
   "source": [
    "model.fit(dg_train, epochs=1, callbacks=[lrf2])"
   ]
  },
  {
   "cell_type": "code",
   "execution_count": 218,
   "metadata": {},
   "outputs": [
    {
     "data": {
      "text/plain": [
       "<matplotlib.lines.Line2D at 0x7f3ade25da10>"
      ]
     },
     "execution_count": 218,
     "metadata": {},
     "output_type": "execute_result"
    },
    {
     "data": {
      "image/png": "[encoded data removed]",
      "text/plain": [
       "<Figure size 576x576 with 1 Axes>"
      ]
     },
     "metadata": {
      "needs_background": "light"
     },
     "output_type": "display_data"
    }
   ],
   "source": [
    "# plot_lr_find(lrf, log=True, xlim=(0, 5e-3))\n",
    "plot_lr_find(lrf2, log=True)\n",
    "plt.axvline(args['lr'])\n",
    "plt.axvline(2.5e-4)\n",
    "plt.axvline(5e-4)"
   ]
  },
  {
   "cell_type": "markdown",
   "metadata": {},
   "source": [
    "## Cont"
   ]
  },
  {
   "cell_type": "code",
   "execution_count": 110,
   "metadata": {},
   "outputs": [],
   "source": [
    "args = load_args(f'../nn_configs/B/91-resnet_cont.yml')"
   ]
  },
  {
   "cell_type": "code",
   "execution_count": 111,
   "metadata": {},
   "outputs": [],
   "source": [
    "args['train_years'] = ['2012', '2015']"
   ]
  },
  {
   "cell_type": "code",
   "execution_count": 112,
   "metadata": {},
   "outputs": [
    {
     "data": {
      "text/plain": [
       "5e-05"
      ]
     },
     "execution_count": 112,
     "metadata": {},
     "output_type": "execute_result"
    }
   ],
   "source": [
    "args['lr']"
   ]
  },
  {
   "cell_type": "code",
   "execution_count": 88,
   "metadata": {},
   "outputs": [
    {
     "name": "stdout",
     "output_type": "stream",
     "text": [
      "DG start 10:35:55.161787\n",
      "DG normalize 10:35:55.196297\n",
      "DG load 10:35:58.888618\n",
      "Loading data into RAM\n",
      "DG done 10:36:14.617195\n",
      "DG start 10:36:14.617694\n",
      "DG normalize 10:36:14.655248\n",
      "DG load 10:36:14.660069\n",
      "Loading data into RAM\n",
      "DG done 10:36:19.094943\n",
      "DG start 10:36:19.095116\n",
      "DG normalize 10:36:19.128030\n",
      "DG load 10:36:19.132689\n",
      "Loading data into RAM\n",
      "DG done 10:36:27.216143\n",
      "Mean = <xarray.DataArray 'z' (level: 38)>\n",
      "array([ 1.98850334e+05,  1.00647899e+05,  5.37345081e+04,  4.03433032e+04,\n",
      "        2.86856888e+04,  1.35914929e+04,  6.89669485e+03,  2.13328973e+02,\n",
      "        2.22363584e+02,  2.51554127e+02,  2.59735673e+02,  2.66296472e+02,\n",
      "        2.73474321e+02,  2.76108070e+02,  6.45990310e+00,  1.56439640e+01,\n",
      "        7.96277357e+00,  5.93391784e+00,  4.41566095e+00,  2.33716326e+00,\n",
      "        1.32865927e+00,  1.36206561e-01,  3.08954923e-01,  7.38044085e-02,\n",
      "        5.53576819e-02, -1.22827285e-01, -1.07512490e-01, -1.28308157e-01,\n",
      "        1.36206561e-01,  3.08954923e-01,  7.38044085e-02,  5.53576819e-02,\n",
      "       -1.22827285e-01, -1.07512490e-01, -1.28308157e-01,  3.37078289e-01,\n",
      "        3.79497583e+02,  0.00000000e+00])\n",
      "Coordinates:\n",
      "  * level        (level) int64 50 250 500 600 700 850 925 ... 700 850 925 1 1 1\n",
      "    level_names  (level) <U9 'z_50' 'z_250' 'z_500' ... 'orography' 'lat2d'; Std = <xarray.DataArray 'z' (level: 38)>\n",
      "array([5.11956164e+03, 5.73494070e+03, 3.45824994e+03, 2.76261930e+03,\n",
      "       2.18267130e+03, 1.50448099e+03, 1.26509729e+03, 1.28432576e+01,\n",
      "       8.30616452e+00, 1.38860669e+01, 1.40686156e+01, 1.44249513e+01,\n",
      "       1.46788375e+01, 1.53361724e+01, 1.27424304e+01, 1.74280164e+01,\n",
      "       1.19320968e+01, 1.04101863e+01, 9.23855310e+00, 8.35042558e+00,\n",
      "       8.12745847e+00, 6.28121147e+00, 1.21147846e+01, 8.07853799e+00,\n",
      "       6.79795032e+00, 6.20132948e+00, 5.90778979e+00, 6.13872008e+00,\n",
      "       6.28121147e+00, 1.21147846e+01, 8.07853799e+00, 6.79795032e+00,\n",
      "       6.20132948e+00, 5.90778979e+00, 6.13872008e+00, 4.59003773e-01,\n",
      "       8.59872249e+02, 5.19361462e+01])\n",
      "Coordinates:\n",
      "  * level        (level) int64 50 250 500 600 700 850 925 ... 700 850 925 1 1 1\n",
      "    level_names  (level) <U9 'z_50' 'z_250' 'z_500' ... 'orography' 'lat2d'\n"
     ]
    }
   ],
   "source": [
    "dg_train, dg_valid, dg_test = load_data(**args)"
   ]
  },
  {
   "cell_type": "code",
   "execution_count": 113,
   "metadata": {},
   "outputs": [],
   "source": [
    "args['loss'] = 'lat_mse'"
   ]
  },
  {
   "cell_type": "code",
   "execution_count": 114,
   "metadata": {},
   "outputs": [],
   "source": [
    "if args['network_type'] == 'resnet':\n",
    "    model = build_resnet(\n",
    "        **args, input_shape=dg_train.shape,\n",
    "    )\n",
    "elif args['network_type'] == 'uresnet':\n",
    "    model = build_uresnet(\n",
    "        **args, input_shape=dg_train.shape,\n",
    "    )"
   ]
  },
  {
   "cell_type": "code",
   "execution_count": 115,
   "metadata": {},
   "outputs": [],
   "source": [
    "if args['loss'] == 'lat_mse':\n",
    "    loss = create_lat_mse(dg_train.data.lat)\n",
    "if args['loss'] == 'lat_rmse':\n",
    "    loss = create_lat_rmse(dg_train.data.lat)\n",
    "if args['optimizer'] == 'adam':\n",
    "    opt = keras.optimizers.Adam(args['lr'])\n",
    "elif args['optimizer'] =='adadelta':\n",
    "    opt = keras.optimizers.Adadelta(args['lr'])\n",
    "model.compile(opt, loss, metrics=['mse'])"
   ]
  },
  {
   "cell_type": "code",
   "execution_count": 116,
   "metadata": {},
   "outputs": [],
   "source": [
    "lrf = LRFinder(\n",
    "    dg_train.n_samples, args['batch_size'],\n",
    "    minimum_lr=1e-6, maximum_lr=1e-1,\n",
    "    lr_scale='exp', save_dir='./', verbose=0)"
   ]
  },
  {
   "cell_type": "code",
   "execution_count": 117,
   "metadata": {},
   "outputs": [
    {
     "name": "stdout",
     "output_type": "stream",
     "text": [
      "WARNING:tensorflow:sample_weight modes were coerced from\n",
      "  ...\n",
      "    to  \n",
      "  ['...']\n",
      "Train for 546 steps\n",
      "546/546 [==============================] - 101s 185ms/step - loss: 106.2952 - mse: 118.5001\n"
     ]
    },
    {
     "data": {
      "text/plain": [
       "<tensorflow.python.keras.callbacks.History at 0x7f3b3ce731d0>"
      ]
     },
     "execution_count": 117,
     "metadata": {},
     "output_type": "execute_result"
    }
   ],
   "source": [
    "model.fit(dg_train, epochs=1, callbacks=[lrf])"
   ]
  },
  {
   "cell_type": "raw",
   "metadata": {},
   "source": []
  },
  {
   "cell_type": "code",
   "execution_count": 118,
   "metadata": {},
   "outputs": [],
   "source": [
    "args['loss'] = 'lat_rmse'"
   ]
  },
  {
   "cell_type": "code",
   "execution_count": 119,
   "metadata": {},
   "outputs": [],
   "source": [
    "if args['network_type'] == 'resnet':\n",
    "    model = build_resnet(\n",
    "        **args, input_shape=dg_train.shape,\n",
    "    )\n",
    "elif args['network_type'] == 'uresnet':\n",
    "    model = build_uresnet(\n",
    "        **args, input_shape=dg_train.shape,\n",
    "    )"
   ]
  },
  {
   "cell_type": "code",
   "execution_count": 120,
   "metadata": {},
   "outputs": [],
   "source": [
    "if args['loss'] == 'lat_mse':\n",
    "    loss = create_lat_mse(dg_train.data.lat)\n",
    "if args['loss'] == 'lat_rmse':\n",
    "    loss = create_lat_rmse(dg_train.data.lat)\n",
    "if args['optimizer'] == 'adam':\n",
    "    opt = keras.optimizers.Adam(args['lr'])\n",
    "elif args['optimizer'] =='adadelta':\n",
    "    opt = keras.optimizers.Adadelta(args['lr'])\n",
    "model.compile(opt, loss, metrics=['mse'])"
   ]
  },
  {
   "cell_type": "code",
   "execution_count": 121,
   "metadata": {},
   "outputs": [],
   "source": [
    "lrf2 = LRFinder(\n",
    "    dg_train.n_samples, args['batch_size'],\n",
    "    minimum_lr=1e-6, maximum_lr=1e-1,\n",
    "    lr_scale='exp', save_dir='./', verbose=0)"
   ]
  },
  {
   "cell_type": "code",
   "execution_count": 122,
   "metadata": {},
   "outputs": [
    {
     "name": "stdout",
     "output_type": "stream",
     "text": [
      "WARNING:tensorflow:sample_weight modes were coerced from\n",
      "  ...\n",
      "    to  \n",
      "  ['...']\n",
      "Train for 546 steps\n",
      "546/546 [==============================] - 100s 184ms/step - loss: 1.7444 - mse: 12.6005\n"
     ]
    },
    {
     "data": {
      "text/plain": [
       "<tensorflow.python.keras.callbacks.History at 0x7f3b34acc310>"
      ]
     },
     "execution_count": 122,
     "metadata": {},
     "output_type": "execute_result"
    }
   ],
   "source": [
    "model.fit(dg_train, epochs=1, callbacks=[lrf2])"
   ]
  },
  {
   "cell_type": "code",
   "execution_count": 130,
   "metadata": {},
   "outputs": [
    {
     "data": {
      "text/plain": [
       "<matplotlib.lines.Line2D at 0x7f3b2a0cae90>"
      ]
     },
     "execution_count": 130,
     "metadata": {},
     "output_type": "execute_result"
    },
    {
     "data": {
      "image/png": "[encoded data removed]",
      "text/plain": [
       "<Figure size 576x576 with 1 Axes>"
      ]
     },
     "metadata": {
      "needs_background": "light"
     },
     "output_type": "display_data"
    },
    {
     "data": {
      "image/png": "[encoded data removed]",
      "text/plain": [
       "<Figure size 576x576 with 1 Axes>"
      ]
     },
     "metadata": {
      "needs_background": "light"
     },
     "output_type": "display_data"
    }
   ],
   "source": [
    "plot_lr_find(lrf, log=True, xlim=(0, 5e-3))\n",
    "plot_lr_find(lrf2, log=True, xlim=(0, 5e-3))\n",
    "plt.axvline(args['lr'])\n",
    "plt.axvline(1e-4)\n",
    "plt.axvline(2.5e-4)\n",
    "plt.axvline(5e-4)"
   ]
  },
  {
   "cell_type": "markdown",
   "metadata": {},
   "source": [
    "## Uresnet"
   ]
  },
  {
   "cell_type": "code",
   "execution_count": 131,
   "metadata": {},
   "outputs": [],
   "source": [
    "args = load_args(f'../nn_configs/B/94-uresnet2.yml')"
   ]
  },
  {
   "cell_type": "code",
   "execution_count": 132,
   "metadata": {},
   "outputs": [],
   "source": [
    "args['train_years'] = ['2012', '2015']"
   ]
  },
  {
   "cell_type": "code",
   "execution_count": 133,
   "metadata": {},
   "outputs": [
    {
     "data": {
      "text/plain": [
       "5e-05"
      ]
     },
     "execution_count": 133,
     "metadata": {},
     "output_type": "execute_result"
    }
   ],
   "source": [
    "args['lr']"
   ]
  },
  {
   "cell_type": "code",
   "execution_count": 134,
   "metadata": {},
   "outputs": [
    {
     "name": "stdout",
     "output_type": "stream",
     "text": [
      "DG start 10:45:59.813864\n",
      "DG normalize 10:45:59.853385\n",
      "DG load 10:46:03.654669\n",
      "Loading data into RAM\n",
      "DG done 10:46:19.795516\n",
      "DG start 10:46:19.795800\n",
      "DG normalize 10:46:19.834163\n",
      "DG load 10:46:19.839253\n",
      "Loading data into RAM\n",
      "DG done 10:46:24.554171\n",
      "DG start 10:46:24.554627\n",
      "DG normalize 10:46:24.594325\n",
      "DG load 10:46:24.600322\n",
      "Loading data into RAM\n",
      "DG done 10:46:33.391179\n",
      "Mean = <xarray.DataArray 'z' (level: 38)>\n",
      "array([ 1.98850334e+05,  1.00647899e+05,  5.37345081e+04,  4.03433032e+04,\n",
      "        2.86856888e+04,  1.35914929e+04,  6.89669485e+03,  2.13328973e+02,\n",
      "        2.22363584e+02,  2.51554127e+02,  2.59735673e+02,  2.66296472e+02,\n",
      "        2.73474321e+02,  2.76108070e+02,  6.45990310e+00,  1.56439640e+01,\n",
      "        7.96277357e+00,  5.93391784e+00,  4.41566095e+00,  2.33716326e+00,\n",
      "        1.32865927e+00,  1.36206561e-01,  3.08954923e-01,  7.38044085e-02,\n",
      "        5.53576819e-02, -1.22827285e-01, -1.07512490e-01, -1.28308157e-01,\n",
      "        1.36206561e-01,  3.08954923e-01,  7.38044085e-02,  5.53576819e-02,\n",
      "       -1.22827285e-01, -1.07512490e-01, -1.28308157e-01,  3.37078289e-01,\n",
      "        3.79497583e+02,  0.00000000e+00])\n",
      "Coordinates:\n",
      "  * level        (level) int64 50 250 500 600 700 850 925 ... 700 850 925 1 1 1\n",
      "    level_names  (level) <U9 'z_50' 'z_250' 'z_500' ... 'orography' 'lat2d'; Std = <xarray.DataArray 'z' (level: 38)>\n",
      "array([5.11956164e+03, 5.73494070e+03, 3.45824994e+03, 2.76261930e+03,\n",
      "       2.18267130e+03, 1.50448099e+03, 1.26509729e+03, 1.28432576e+01,\n",
      "       8.30616452e+00, 1.38860669e+01, 1.40686156e+01, 1.44249513e+01,\n",
      "       1.46788375e+01, 1.53361724e+01, 1.27424304e+01, 1.74280164e+01,\n",
      "       1.19320968e+01, 1.04101863e+01, 9.23855310e+00, 8.35042558e+00,\n",
      "       8.12745847e+00, 6.28121147e+00, 1.21147846e+01, 8.07853799e+00,\n",
      "       6.79795032e+00, 6.20132948e+00, 5.90778979e+00, 6.13872008e+00,\n",
      "       6.28121147e+00, 1.21147846e+01, 8.07853799e+00, 6.79795032e+00,\n",
      "       6.20132948e+00, 5.90778979e+00, 6.13872008e+00, 4.59003773e-01,\n",
      "       8.59872249e+02, 5.19361462e+01])\n",
      "Coordinates:\n",
      "  * level        (level) int64 50 250 500 600 700 850 925 ... 700 850 925 1 1 1\n",
      "    level_names  (level) <U9 'z_50' 'z_250' 'z_500' ... 'orography' 'lat2d'\n"
     ]
    }
   ],
   "source": [
    "dg_train, dg_valid, dg_test = load_data(**args)"
   ]
  },
  {
   "cell_type": "code",
   "execution_count": 135,
   "metadata": {},
   "outputs": [],
   "source": [
    "args['loss'] = 'lat_mse'"
   ]
  },
  {
   "cell_type": "code",
   "execution_count": 137,
   "metadata": {},
   "outputs": [],
   "source": [
    "if args['network_type'] == 'resnet':\n",
    "    model = build_resnet(\n",
    "        **args, input_shape=dg_train.shape,\n",
    "    )\n",
    "elif args['network_type'] == 'uresnet':\n",
    "    model = build_uresnet(\n",
    "        **args, input_shape=dg_train.shape,\n",
    "    )"
   ]
  },
  {
   "cell_type": "code",
   "execution_count": 138,
   "metadata": {},
   "outputs": [],
   "source": [
    "if args['loss'] == 'lat_mse':\n",
    "    loss = create_lat_mse(dg_train.data.lat)\n",
    "if args['loss'] == 'lat_rmse':\n",
    "    loss = create_lat_rmse(dg_train.data.lat)\n",
    "if args['optimizer'] == 'adam':\n",
    "    opt = keras.optimizers.Adam(args['lr'])\n",
    "elif args['optimizer'] =='adadelta':\n",
    "    opt = keras.optimizers.Adadelta(args['lr'])\n",
    "model.compile(opt, loss, metrics=['mse'])"
   ]
  },
  {
   "cell_type": "code",
   "execution_count": 139,
   "metadata": {},
   "outputs": [],
   "source": [
    "lrf = LRFinder(\n",
    "    dg_train.n_samples, args['batch_size'],\n",
    "    minimum_lr=1e-6, maximum_lr=1e-1,\n",
    "    lr_scale='exp', save_dir='./', verbose=0)"
   ]
  },
  {
   "cell_type": "code",
   "execution_count": 140,
   "metadata": {},
   "outputs": [
    {
     "name": "stdout",
     "output_type": "stream",
     "text": [
      "WARNING:tensorflow:sample_weight modes were coerced from\n",
      "  ...\n",
      "    to  \n",
      "  ['...']\n",
      "Train for 547 steps\n",
      "547/547 [==============================] - 112s 206ms/step - loss: 637382.1197 - mse: 500897.9062\n"
     ]
    },
    {
     "data": {
      "text/plain": [
       "<tensorflow.python.keras.callbacks.History at 0x7f3b285cdc50>"
      ]
     },
     "execution_count": 140,
     "metadata": {},
     "output_type": "execute_result"
    }
   ],
   "source": [
    "model.fit(dg_train, epochs=1, callbacks=[lrf])"
   ]
  },
  {
   "cell_type": "raw",
   "metadata": {},
   "source": []
  },
  {
   "cell_type": "code",
   "execution_count": 141,
   "metadata": {},
   "outputs": [],
   "source": [
    "args['loss'] = 'lat_rmse'"
   ]
  },
  {
   "cell_type": "code",
   "execution_count": 142,
   "metadata": {},
   "outputs": [],
   "source": [
    "if args['network_type'] == 'resnet':\n",
    "    model = build_resnet(\n",
    "        **args, input_shape=dg_train.shape,\n",
    "    )\n",
    "elif args['network_type'] == 'uresnet':\n",
    "    model = build_uresnet(\n",
    "        **args, input_shape=dg_train.shape,\n",
    "    )"
   ]
  },
  {
   "cell_type": "code",
   "execution_count": 143,
   "metadata": {},
   "outputs": [],
   "source": [
    "if args['loss'] == 'lat_mse':\n",
    "    loss = create_lat_mse(dg_train.data.lat)\n",
    "if args['loss'] == 'lat_rmse':\n",
    "    loss = create_lat_rmse(dg_train.data.lat)\n",
    "if args['optimizer'] == 'adam':\n",
    "    opt = keras.optimizers.Adam(args['lr'])\n",
    "elif args['optimizer'] =='adadelta':\n",
    "    opt = keras.optimizers.Adadelta(args['lr'])\n",
    "model.compile(opt, loss, metrics=['mse'])"
   ]
  },
  {
   "cell_type": "code",
   "execution_count": 144,
   "metadata": {},
   "outputs": [],
   "source": [
    "lrf2 = LRFinder(\n",
    "    dg_train.n_samples, args['batch_size'],\n",
    "    minimum_lr=1e-6, maximum_lr=1e-1,\n",
    "    lr_scale='exp', save_dir='./', verbose=0)"
   ]
  },
  {
   "cell_type": "code",
   "execution_count": 145,
   "metadata": {},
   "outputs": [
    {
     "name": "stdout",
     "output_type": "stream",
     "text": [
      "WARNING:tensorflow:sample_weight modes were coerced from\n",
      "  ...\n",
      "    to  \n",
      "  ['...']\n",
      "Train for 547 steps\n",
      "547/547 [==============================] - 110s 201ms/step - loss: nan - mse: nan\n"
     ]
    },
    {
     "data": {
      "text/plain": [
       "<tensorflow.python.keras.callbacks.History at 0x7f3b21622990>"
      ]
     },
     "execution_count": 145,
     "metadata": {},
     "output_type": "execute_result"
    }
   ],
   "source": [
    "model.fit(dg_train, epochs=1, callbacks=[lrf2])"
   ]
  },
  {
   "cell_type": "code",
   "execution_count": 146,
   "metadata": {},
   "outputs": [
    {
     "data": {
      "text/plain": [
       "<matplotlib.lines.Line2D at 0x7f3b0fffef90>"
      ]
     },
     "execution_count": 146,
     "metadata": {},
     "output_type": "execute_result"
    },
    {
     "data": {
      "image/png": "[encoded data removed]",
      "text/plain": [
       "<Figure size 576x576 with 1 Axes>"
      ]
     },
     "metadata": {
      "needs_background": "light"
     },
     "output_type": "display_data"
    },
    {
     "data": {
      "image/png": "[encoded data removed]",
      "text/plain": [
       "<Figure size 576x576 with 1 Axes>"
      ]
     },
     "metadata": {
      "needs_background": "light"
     },
     "output_type": "display_data"
    }
   ],
   "source": [
    "plot_lr_find(lrf, log=True, xlim=(0, 5e-3))\n",
    "plot_lr_find(lrf2, log=True, xlim=(0, 5e-3))\n",
    "plt.axvline(args['lr'])\n",
    "plt.axvline(2.5e-4)\n",
    "plt.axvline(5e-4)"
   ]
  },
  {
   "cell_type": "code",
   "execution_count": null,
   "metadata": {},
   "outputs": [],
   "source": []
  },
  {
   "cell_type": "markdown",
   "metadata": {},
   "source": [
    "## Batch size"
   ]
  },
  {
   "cell_type": "code",
   "execution_count": 162,
   "metadata": {},
   "outputs": [],
   "source": [
    "args = load_args(f'../nn_configs/B/71-resnet_d3_best_5d.yml')"
   ]
  },
  {
   "cell_type": "code",
   "execution_count": 178,
   "metadata": {},
   "outputs": [],
   "source": [
    "args['train_years'] = ['2009', '2015']"
   ]
  },
  {
   "cell_type": "code",
   "execution_count": 179,
   "metadata": {},
   "outputs": [
    {
     "data": {
      "text/plain": [
       "5e-05"
      ]
     },
     "execution_count": 179,
     "metadata": {},
     "output_type": "execute_result"
    }
   ],
   "source": [
    "args['lr']"
   ]
  },
  {
   "cell_type": "code",
   "execution_count": 180,
   "metadata": {},
   "outputs": [
    {
     "name": "stdout",
     "output_type": "stream",
     "text": [
      "DG start 11:16:48.585253\n",
      "DG normalize 11:16:48.624971\n",
      "DG load 11:16:59.213772\n",
      "Loading data into RAM\n",
      "DG done 11:25:33.931058\n",
      "DG start 11:25:33.931652\n",
      "DG normalize 11:25:33.981327\n",
      "DG load 11:25:33.990172\n",
      "Loading data into RAM\n",
      "DG done 11:25:43.864193\n",
      "DG start 11:25:43.864447\n",
      "DG normalize 11:25:43.899051\n",
      "DG load 11:25:43.903993\n",
      "Loading data into RAM\n",
      "DG done 11:26:32.505014\n",
      "Mean = <xarray.DataArray 'z' (level: 38)>\n",
      "array([ 1.98563018e+05,  1.00862017e+05,  5.39005666e+04,  4.04794142e+04,\n",
      "        2.88004891e+04,  1.36804299e+04,  6.97225127e+03,  2.11968039e+02,\n",
      "        2.21935342e+02,  2.52136976e+02,  2.60228186e+02,  2.66619135e+02,\n",
      "        2.73762989e+02,  2.76530903e+02,  8.83048653e+00,  1.43643226e+01,\n",
      "        7.18708628e+00,  5.32244119e+00,  3.63854516e+00,  1.51709643e+00,\n",
      "        7.71447725e-01, -1.99429539e-01,  1.62770717e-01,  1.55475059e-02,\n",
      "       -8.87346349e-02, -6.18164722e-02,  7.62959584e-02, -7.40862973e-03,\n",
      "       -1.99429539e-01,  1.62770717e-01,  1.55475059e-02, -8.87346349e-02,\n",
      "       -6.18164722e-02,  7.62959584e-02, -7.40862973e-03,  3.37078289e-01,\n",
      "        3.79497583e+02,  0.00000000e+00])\n",
      "Coordinates:\n",
      "  * level        (level) int64 50 250 500 600 700 850 925 ... 700 850 925 1 1 1\n",
      "    level_names  (level) <U9 'z_50' 'z_250' 'z_500' ... 'orography' 'lat2d'; Std = <xarray.DataArray 'z' (level: 38)>\n",
      "array([5.45685897e+03, 5.52742353e+03, 3.35158639e+03, 2.69592515e+03,\n",
      "       2.14576427e+03, 1.51101227e+03, 1.29473677e+03, 9.63135803e+00,\n",
      "       8.34549363e+00, 1.31022902e+01, 1.34898777e+01, 1.41983303e+01,\n",
      "       1.47022674e+01, 1.49977191e+01, 1.43264501e+01, 1.77953802e+01,\n",
      "       1.18034109e+01, 1.02332299e+01, 9.16818074e+00, 8.14156634e+00,\n",
      "       7.75648868e+00, 7.82410966e+00, 1.30270488e+01, 9.06063517e+00,\n",
      "       7.86437644e+00, 6.85695201e+00, 6.22842363e+00, 6.42276303e+00,\n",
      "       7.82410966e+00, 1.30270488e+01, 9.06063517e+00, 7.86437644e+00,\n",
      "       6.85695201e+00, 6.22842363e+00, 6.42276303e+00, 4.59003773e-01,\n",
      "       8.59872249e+02, 5.19361462e+01])\n",
      "Coordinates:\n",
      "  * level        (level) int64 50 250 500 600 700 850 925 ... 700 850 925 1 1 1\n",
      "    level_names  (level) <U9 'z_50' 'z_250' 'z_500' ... 'orography' 'lat2d'\n"
     ]
    }
   ],
   "source": [
    "dg_train, dg_valid, dg_test = load_data(**args)"
   ]
  },
  {
   "cell_type": "code",
   "execution_count": 181,
   "metadata": {},
   "outputs": [],
   "source": [
    "if args['network_type'] == 'resnet':\n",
    "    model = build_resnet(\n",
    "        **args, input_shape=dg_train.shape,\n",
    "    )\n",
    "elif args['network_type'] == 'uresnet':\n",
    "    model = build_uresnet(\n",
    "        **args, input_shape=dg_train.shape,\n",
    "    )"
   ]
  },
  {
   "cell_type": "code",
   "execution_count": 182,
   "metadata": {},
   "outputs": [
    {
     "data": {
      "text/plain": [
       "32"
      ]
     },
     "execution_count": 182,
     "metadata": {},
     "output_type": "execute_result"
    }
   ],
   "source": [
    "args['batch_size']"
   ]
  },
  {
   "cell_type": "code",
   "execution_count": 183,
   "metadata": {},
   "outputs": [],
   "source": [
    "if args['loss'] == 'lat_mse':\n",
    "    loss = create_lat_mse(dg_train.data.lat)\n",
    "if args['loss'] == 'lat_rmse':\n",
    "    loss = create_lat_rmse(dg_train.data.lat)\n",
    "if args['optimizer'] == 'adam':\n",
    "    opt = keras.optimizers.Adam(args['lr'])\n",
    "elif args['optimizer'] =='adadelta':\n",
    "    opt = keras.optimizers.Adadelta(args['lr'])\n",
    "model.compile(opt, loss, metrics=['mse'])"
   ]
  },
  {
   "cell_type": "code",
   "execution_count": 184,
   "metadata": {},
   "outputs": [
    {
     "data": {
      "text/plain": [
       "61224"
      ]
     },
     "execution_count": 184,
     "metadata": {},
     "output_type": "execute_result"
    }
   ],
   "source": [
    "dg_train.n_samples"
   ]
  },
  {
   "cell_type": "code",
   "execution_count": 185,
   "metadata": {},
   "outputs": [],
   "source": [
    "lrf = LRFinder(\n",
    "    dg_train.n_samples, args['batch_size'],\n",
    "    minimum_lr=1e-5, maximum_lr=1e-1,\n",
    "    lr_scale='exp', save_dir='./', verbose=0)"
   ]
  },
  {
   "cell_type": "code",
   "execution_count": 186,
   "metadata": {},
   "outputs": [
    {
     "name": "stdout",
     "output_type": "stream",
     "text": [
      "WARNING:tensorflow:sample_weight modes were coerced from\n",
      "  ...\n",
      "    to  \n",
      "  ['...']\n",
      "Train for 1914 steps\n",
      "1914/1914 [==============================] - 337s 176ms/step - loss: 2.5648 - mse: 3.6517\n"
     ]
    },
    {
     "data": {
      "text/plain": [
       "<tensorflow.python.keras.callbacks.History at 0x7f3b12ccfe50>"
      ]
     },
     "execution_count": 186,
     "metadata": {},
     "output_type": "execute_result"
    }
   ],
   "source": [
    "model.fit(dg_train, epochs=1, callbacks=[lrf])"
   ]
  },
  {
   "cell_type": "code",
   "execution_count": 187,
   "metadata": {},
   "outputs": [],
   "source": [
    "dg_train.batch_size = 64"
   ]
  },
  {
   "cell_type": "code",
   "execution_count": 188,
   "metadata": {},
   "outputs": [],
   "source": [
    "if args['network_type'] == 'resnet':\n",
    "    model = build_resnet(\n",
    "        **args, input_shape=dg_train.shape,\n",
    "    )\n",
    "elif args['network_type'] == 'uresnet':\n",
    "    model = build_uresnet(\n",
    "        **args, input_shape=dg_train.shape,\n",
    "    )"
   ]
  },
  {
   "cell_type": "code",
   "execution_count": 189,
   "metadata": {},
   "outputs": [],
   "source": [
    "if args['loss'] == 'lat_mse':\n",
    "    loss = create_lat_mse(dg_train.data.lat)\n",
    "if args['loss'] == 'lat_rmse':\n",
    "    loss = create_lat_rmse(dg_train.data.lat)\n",
    "if args['optimizer'] == 'adam':\n",
    "    opt = keras.optimizers.Adam(args['lr'])\n",
    "elif args['optimizer'] =='adadelta':\n",
    "    opt = keras.optimizers.Adadelta(args['lr'])\n",
    "model.compile(opt, loss, metrics=['mse'])"
   ]
  },
  {
   "cell_type": "code",
   "execution_count": 190,
   "metadata": {},
   "outputs": [],
   "source": [
    "lrf2 = LRFinder(\n",
    "    dg_train.n_samples, args['batch_size'],\n",
    "    minimum_lr=1e-5, maximum_lr=1e-1,\n",
    "    lr_scale='exp', save_dir='./', verbose=0)"
   ]
  },
  {
   "cell_type": "code",
   "execution_count": 191,
   "metadata": {},
   "outputs": [
    {
     "name": "stdout",
     "output_type": "stream",
     "text": [
      "WARNING:tensorflow:sample_weight modes were coerced from\n",
      "  ...\n",
      "    to  \n",
      "  ['...']\n",
      "Train for 957 steps\n",
      "957/957 [==============================] - 306s 320ms/step - loss: 3.1562 - mse: 4.4805\n"
     ]
    },
    {
     "data": {
      "text/plain": [
       "<tensorflow.python.keras.callbacks.History at 0x7f3b0bc19750>"
      ]
     },
     "execution_count": 191,
     "metadata": {},
     "output_type": "execute_result"
    }
   ],
   "source": [
    "model.fit(dg_train, epochs=1, callbacks=[lrf2])"
   ]
  },
  {
   "cell_type": "code",
   "execution_count": 192,
   "metadata": {},
   "outputs": [
    {
     "data": {
      "text/plain": [
       "<matplotlib.lines.Line2D at 0x7f3b09515710>"
      ]
     },
     "execution_count": 192,
     "metadata": {},
     "output_type": "execute_result"
    },
    {
     "data": {
      "image/png": "[encoded data removed]",
      "text/plain": [
       "<Figure size 576x576 with 1 Axes>"
      ]
     },
     "metadata": {
      "needs_background": "light"
     },
     "output_type": "display_data"
    },
    {
     "data": {
      "image/png": "[encoded data removed]",
      "text/plain": [
       "<Figure size 576x576 with 1 Axes>"
      ]
     },
     "metadata": {
      "needs_background": "light"
     },
     "output_type": "display_data"
    }
   ],
   "source": [
    "plot_lr_find(lrf, log=True, xlim=(0, 5e-3))\n",
    "plot_lr_find(lrf2, log=True, xlim=(0, 5e-3))\n",
    "plt.axvline(args['lr'])\n",
    "plt.axvline(1e-4)\n",
    "plt.axvline(2.5e-4)\n",
    "plt.axvline(5e-4)"
   ]
  },
  {
   "cell_type": "code",
   "execution_count": null,
   "metadata": {},
   "outputs": [],
   "source": []
  }
 ],
 "metadata": {
  "kernelspec": {
   "display_name": "Python 3",
   "language": "python",
   "name": "python3"
  },
  "language_info": {
   "codemirror_mode": {
    "name": "ipython",
    "version": 3
   },
   "file_extension": ".py",
   "mimetype": "text/x-python",
   "name": "python",
   "nbconvert_exporter": "python",
   "pygments_lexer": "ipython3",
   "version": "3.6.10"
  }
 },
 "nbformat": 4,
 "nbformat_minor": 4
}
