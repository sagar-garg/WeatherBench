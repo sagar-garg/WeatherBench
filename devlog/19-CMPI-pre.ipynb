{
 "cells": [
  {
   "cell_type": "code",
   "execution_count": 1,
   "metadata": {},
   "outputs": [],
   "source": [
    "%load_ext autoreload\n",
    "%autoreload 2"
   ]
  },
  {
   "cell_type": "code",
   "execution_count": 2,
   "metadata": {},
   "outputs": [],
   "source": [
    "import re, os\n",
    "import numpy as np\n",
    "import xarray as xr\n",
    "import tensorflow.keras as keras\n",
    "import datetime\n",
    "import pdb\n",
    "import matplotlib.pyplot as plt\n",
    "from src.utils import *\n",
    "from src.score import *\n",
    "from src.data_generator import *\n",
    "from src.networks import *\n",
    "from src.train import *"
   ]
  },
  {
   "cell_type": "code",
   "execution_count": 3,
   "metadata": {},
   "outputs": [],
   "source": [
    "os.environ[\"CUDA_VISIBLE_DEVICES\"]=str(0)\n",
    "limit_mem()"
   ]
  },
  {
   "cell_type": "code",
   "execution_count": 12,
   "metadata": {},
   "outputs": [],
   "source": [
    "valdir = '/data/stephan/WeatherBench/5.625deg/'"
   ]
  },
  {
   "cell_type": "code",
   "execution_count": 13,
   "metadata": {},
   "outputs": [],
   "source": [
    "z500_valid = load_test_data(f'{valdir}geopotential_500', 'z')\n",
    "t850_valid = load_test_data(f'{valdir}temperature_850', 't')"
   ]
  },
  {
   "cell_type": "code",
   "execution_count": 14,
   "metadata": {},
   "outputs": [
    {
     "name": "stdout",
     "output_type": "stream",
     "text": [
      "../nn_configs/B/66-resnet_d3_cmip_MPI-ESM.yml\n",
      "../nn_configs/B/67-resnet_d3_cmip_MPI-ESM_ext.yml\n",
      "../nn_configs/B/68-resnet_d3_cmip_MIROC6.yml\n",
      "../nn_configs/B/69-resnet_d3_cmip_MIROC6_ext.yml\n",
      "../nn_configs/B/72-resnet_d3_cmip_M2.yml\n",
      "../nn_configs/B/73-resnet_d3_cmip_M2_ext.yml\n"
     ]
    }
   ],
   "source": [
    "!ls ../nn_configs/B/*resnet_d3_cmip*"
   ]
  },
  {
   "cell_type": "code",
   "execution_count": 15,
   "metadata": {},
   "outputs": [],
   "source": [
    "args = {}\n",
    "args = load_args('../nn_configs/B/63-resnet_d3_best.yml')"
   ]
  },
  {
   "cell_type": "code",
   "execution_count": 16,
   "metadata": {},
   "outputs": [],
   "source": [
    "mean = xr.open_dataarray(f\"{args['model_save_dir']}/{args['exp_id']}_mean.nc\")\n",
    "std = xr.open_dataarray(f\"{args['model_save_dir']}/{args['exp_id']}_std.nc\")"
   ]
  },
  {
   "cell_type": "code",
   "execution_count": 20,
   "metadata": {},
   "outputs": [],
   "source": [
    "args['ext_mean'] = mean\n",
    "args['ext_std'] = std\n",
    "args['test_years'] = ['2017', '2017']"
   ]
  },
  {
   "cell_type": "code",
   "execution_count": 21,
   "metadata": {},
   "outputs": [
    {
     "name": "stdout",
     "output_type": "stream",
     "text": [
      "DG start 21:39:15.395913\n",
      "DG normalize 21:39:15.422620\n",
      "DG load 21:39:15.441338\n",
      "Loading data into RAM\n",
      "DG done 21:39:23.102115\n"
     ]
    }
   ],
   "source": [
    "dg_test = load_data(**args, only_test=True)"
   ]
  },
  {
   "cell_type": "code",
   "execution_count": 23,
   "metadata": {},
   "outputs": [],
   "source": [
    "def get_scores(exp_id):\n",
    "    model = keras.models.load_model(\n",
    "        f'/home/rasp/data/myWeatherBench/predictions/saved_models/{exp_id}.h5',\n",
    "        custom_objects={'PeriodicConv2D': PeriodicConv2D, 'lat_mse': tf.keras.losses.mse}\n",
    "    )\n",
    "    preds = create_predictions(model, dg_test)\n",
    "    print(compute_weighted_rmse(\n",
    "        preds.z.sel(level=500) if hasattr(preds, 'level') else preds.z, z500_valid\n",
    "    ).load())\n",
    "    print(compute_weighted_rmse(\n",
    "        preds.t.sel(level=850) if hasattr(preds, 'level') else preds.t, t850_valid\n",
    "    ).load())"
   ]
  },
  {
   "cell_type": "code",
   "execution_count": 24,
   "metadata": {},
   "outputs": [
    {
     "name": "stdout",
     "output_type": "stream",
     "text": [
      "<xarray.DataArray 'z_rmse' ()>\n",
      "array(382.86692906)\n",
      "Coordinates:\n",
      "    level    int32 500\n",
      "<xarray.DataArray 't_rmse' ()>\n",
      "array(2.24228372)\n",
      "Coordinates:\n",
      "    level    int32 850\n"
     ]
    }
   ],
   "source": [
    "get_scores('66-resnet_d3_cmip_MPI-ESM')"
   ]
  },
  {
   "cell_type": "code",
   "execution_count": 25,
   "metadata": {},
   "outputs": [
    {
     "name": "stdout",
     "output_type": "stream",
     "text": [
      "<xarray.DataArray 'z_rmse' ()>\n",
      "array(337.74384929)\n",
      "Coordinates:\n",
      "    level    int32 500\n",
      "<xarray.DataArray 't_rmse' ()>\n",
      "array(2.10604679)\n",
      "Coordinates:\n",
      "    level    int32 850\n"
     ]
    }
   ],
   "source": [
    "get_scores('67-resnet_d3_cmip_MPI-ESM_ext')"
   ]
  },
  {
   "cell_type": "code",
   "execution_count": 26,
   "metadata": {},
   "outputs": [
    {
     "name": "stdout",
     "output_type": "stream",
     "text": [
      "<xarray.DataArray 'z_rmse' ()>\n",
      "array(461.67684631)\n",
      "Coordinates:\n",
      "    level    int32 500\n",
      "<xarray.DataArray 't_rmse' ()>\n",
      "array(2.8312586)\n",
      "Coordinates:\n",
      "    level    int32 850\n"
     ]
    }
   ],
   "source": [
    "get_scores('68-resnet_d3_cmip_MIROC6')"
   ]
  },
  {
   "cell_type": "code",
   "execution_count": 27,
   "metadata": {},
   "outputs": [
    {
     "name": "stdout",
     "output_type": "stream",
     "text": [
      "<xarray.DataArray 'z_rmse' ()>\n",
      "array(359.38601098)\n",
      "Coordinates:\n",
      "    level    int32 500\n",
      "<xarray.DataArray 't_rmse' ()>\n",
      "array(2.63872553)\n",
      "Coordinates:\n",
      "    level    int32 850\n"
     ]
    }
   ],
   "source": [
    "get_scores('69-resnet_d3_cmip_MIROC6_ext')"
   ]
  },
  {
   "cell_type": "code",
   "execution_count": 28,
   "metadata": {},
   "outputs": [
    {
     "name": "stdout",
     "output_type": "stream",
     "text": [
      "<xarray.DataArray 'z_rmse' ()>\n",
      "array(369.32633307)\n",
      "Coordinates:\n",
      "    level    int32 500\n",
      "<xarray.DataArray 't_rmse' ()>\n",
      "array(2.22884998)\n",
      "Coordinates:\n",
      "    level    int32 850\n"
     ]
    }
   ],
   "source": [
    "get_scores('72-resnet_d3_cmip_M2')"
   ]
  },
  {
   "cell_type": "code",
   "execution_count": 29,
   "metadata": {},
   "outputs": [
    {
     "name": "stdout",
     "output_type": "stream",
     "text": [
      "<xarray.DataArray 'z_rmse' ()>\n",
      "array(327.74158608)\n",
      "Coordinates:\n",
      "    level    int32 500\n",
      "<xarray.DataArray 't_rmse' ()>\n",
      "array(2.07897274)\n",
      "Coordinates:\n",
      "    level    int32 850\n"
     ]
    }
   ],
   "source": [
    "get_scores('73-resnet_d3_cmip_M2_ext')"
   ]
  },
  {
   "cell_type": "code",
   "execution_count": 31,
   "metadata": {},
   "outputs": [],
   "source": [
    "model = keras.models.load_model(\n",
    "        f'/home/rasp/data/myWeatherBench/predictions/saved_models/73-resnet_d3_cmip_M2_ext.h5',\n",
    "        custom_objects={'PeriodicConv2D': PeriodicConv2D, 'lat_mse': tf.keras.losses.mse}\n",
    "    )"
   ]
  },
  {
   "cell_type": "code",
   "execution_count": 39,
   "metadata": {},
   "outputs": [
    {
     "data": {
      "text/plain": [
       "177"
      ]
     },
     "execution_count": 39,
     "metadata": {},
     "output_type": "execute_result"
    }
   ],
   "source": [
    "len(model.layers)"
   ]
  },
  {
   "cell_type": "code",
   "execution_count": 36,
   "metadata": {},
   "outputs": [
    {
     "data": {
      "text/plain": [
       "139"
      ]
     },
     "execution_count": 36,
     "metadata": {},
     "output_type": "execute_result"
    }
   ],
   "source": [
    "[l.name for l in model.layers].index('add_14')"
   ]
  },
  {
   "cell_type": "code",
   "execution_count": 40,
   "metadata": {},
   "outputs": [],
   "source": [
    "model.compile('adam', 'mae')"
   ]
  },
  {
   "cell_type": "code",
   "execution_count": 42,
   "metadata": {},
   "outputs": [
    {
     "data": {
      "text/plain": [
       "[<tensorflow.python.keras.losses.LossFunctionWrapper at 0x7f50180ef510>]"
      ]
     },
     "execution_count": 42,
     "metadata": {},
     "output_type": "execute_result"
    }
   ],
   "source": [
    "model.loss_functions"
   ]
  },
  {
   "cell_type": "code",
   "execution_count": null,
   "metadata": {},
   "outputs": [],
   "source": []
  }
 ],
 "metadata": {
  "kernelspec": {
   "display_name": "Python 3",
   "language": "python",
   "name": "python3"
  },
  "language_info": {
   "codemirror_mode": {
    "name": "ipython",
    "version": 3
   },
   "file_extension": ".py",
   "mimetype": "text/x-python",
   "name": "python",
   "nbconvert_exporter": "python",
   "pygments_lexer": "ipython3",
   "version": "3.7.7"
  }
 },
 "nbformat": 4,
 "nbformat_minor": 4
}
