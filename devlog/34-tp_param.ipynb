{
 "cells": [
  {
   "cell_type": "code",
   "execution_count": 1,
   "metadata": {},
   "outputs": [],
   "source": [
    "%load_ext autoreload\n",
    "%autoreload 2"
   ]
  },
  {
   "cell_type": "code",
   "execution_count": 2,
   "metadata": {},
   "outputs": [],
   "source": [
    "import ast\n",
    "import xarray as xr\n",
    "import matplotlib.pyplot as plt\n",
    "from src.data_generator import *\n",
    "from src.train import *\n",
    "from src.utils import *\n",
    "from src.clr import *\n",
    "from scipy.stats import genextreme\n",
    "from scipy.special import gamma, gammainc"
   ]
  },
  {
   "cell_type": "code",
   "execution_count": 3,
   "metadata": {},
   "outputs": [],
   "source": [
    "os.environ[\"CUDA_VISIBLE_DEVICES\"]=str(1)"
   ]
  },
  {
   "cell_type": "code",
   "execution_count": 4,
   "metadata": {},
   "outputs": [],
   "source": [
    "policy = mixed_precision.Policy('mixed_float16')\n",
    "mixed_precision.set_policy(policy)"
   ]
  },
  {
   "cell_type": "markdown",
   "metadata": {
    "heading_collapsed": true
   },
   "source": [
    "## GEV"
   ]
  },
  {
   "cell_type": "code",
   "execution_count": 36,
   "metadata": {
    "hidden": true
   },
   "outputs": [],
   "source": [
    "x = np.linspace(-4, 4, 100)"
   ]
  },
  {
   "cell_type": "code",
   "execution_count": 37,
   "metadata": {
    "hidden": true
   },
   "outputs": [],
   "source": [
    "loc = 0\n",
    "scale = 1\n",
    "shape = -0.5"
   ]
  },
  {
   "cell_type": "code",
   "execution_count": 38,
   "metadata": {
    "hidden": true
   },
   "outputs": [],
   "source": [
    "rv = genextreme(shape, loc=loc, scale=scale)"
   ]
  },
  {
   "cell_type": "code",
   "execution_count": 39,
   "metadata": {
    "hidden": true
   },
   "outputs": [],
   "source": [
    "def gev_cdf(x, mu, sigma, xi):\n",
    "    x = np.atleast_1d(x)\n",
    "    t = (1+xi*((x-mu)/sigma))**(-1/xi)\n",
    "    g = np.exp(-t)\n",
    "    support = mu - sigma/xi\n",
    "    if xi > 0:\n",
    "        g[x<support] = 0\n",
    "    if xi < 0:\n",
    "        g[x>support] = 1\n",
    "    return g"
   ]
  },
  {
   "cell_type": "code",
   "execution_count": 40,
   "metadata": {
    "hidden": true
   },
   "outputs": [],
   "source": [
    "a = 5"
   ]
  },
  {
   "cell_type": "code",
   "execution_count": 41,
   "metadata": {
    "hidden": true
   },
   "outputs": [
    {
     "data": {
      "text/plain": [
       "array(5)"
      ]
     },
     "execution_count": 41,
     "metadata": {},
     "output_type": "execute_result"
    }
   ],
   "source": [
    "np.array(a)"
   ]
  },
  {
   "cell_type": "code",
   "execution_count": 42,
   "metadata": {
    "hidden": true
   },
   "outputs": [],
   "source": [
    "shape=0.1\n",
    "loc=-2"
   ]
  },
  {
   "cell_type": "code",
   "execution_count": 43,
   "metadata": {
    "hidden": true
   },
   "outputs": [
    {
     "data": {
      "text/plain": [
       "[<matplotlib.lines.Line2D at 0x7f0b40793650>]"
      ]
     },
     "execution_count": 43,
     "metadata": {},
     "output_type": "execute_result"
    },
    {
     "data": {
      "image/png": "[encoded data removed]",
      "text/plain": [
       "<Figure size 432x288 with 1 Axes>"
      ]
     },
     "metadata": {
      "needs_background": "light"
     },
     "output_type": "display_data"
    }
   ],
   "source": [
    "rv = genextreme(-shape, loc=loc, scale=scale)\n",
    "truth = rv.cdf(x)\n",
    "mine = gev_cdf(x, loc, scale, shape)\n",
    "plt.plot(x, truth)\n",
    "plt.plot(x, mine)"
   ]
  },
  {
   "cell_type": "code",
   "execution_count": 44,
   "metadata": {
    "hidden": true
   },
   "outputs": [
    {
     "data": {
      "text/plain": [
       "array([0.85086178])"
      ]
     },
     "execution_count": 44,
     "metadata": {},
     "output_type": "execute_result"
    }
   ],
   "source": [
    "gev_cdf(0, loc, scale, shape)"
   ]
  },
  {
   "cell_type": "code",
   "execution_count": 45,
   "metadata": {
    "hidden": true
   },
   "outputs": [],
   "source": [
    "def crps_gev(y, mu, sigma, xi):\n",
    "#     pdb.set_trace()\n",
    "    py = gev_cdf2(y, mu, sigma, xi)\n",
    "    p0 = gev_cdf2(np.array([0.]), mu, sigma, xi)\n",
    "\n",
    "    crps = (mu - y) * (1 - 2*py)\n",
    "    crps += mu * p0**2\n",
    "    crps -= 2*sigma / xi * (\n",
    "        1 - py - gammainc(1-xi, -np.log(py))\n",
    "    )\n",
    "#     pdb.set_trace()\n",
    "\n",
    "    crps += sigma / xi * (\n",
    "        1 - p0**2 - 2**xi * gammainc(1-xi, -2 * np.log(p0))\n",
    "    )\n",
    "    return crps"
   ]
  },
  {
   "cell_type": "code",
   "execution_count": 46,
   "metadata": {
    "hidden": true
   },
   "outputs": [],
   "source": [
    "def crps_gev2(y, mu, sigma, xi):\n",
    "    py = gev_cdf(y, mu, sigma, xi)\n",
    "\n",
    "    crps = (mu - y - sigma/xi) * (1 - 2*py)\n",
    "    crps -= sigma / xi * gamma(1-xi)* (\n",
    "        2**xi  - 2*gammainc(1-xi, -np.log(py))\n",
    "    )\n",
    "\n",
    "    return crps"
   ]
  },
  {
   "cell_type": "code",
   "execution_count": 47,
   "metadata": {
    "hidden": true
   },
   "outputs": [],
   "source": [
    "def gev_cdf2(y, mu, sigma, xi):\n",
    "    y = (y-mu)/sigma\n",
    "    x = 1 + xi * y\n",
    "    x[x < 0] = 0\n",
    "    x = x**(-1/xi)\n",
    "    return np.where(np.isinf(np.exp(-x)), 0, np.exp(-x))"
   ]
  },
  {
   "cell_type": "code",
   "execution_count": 48,
   "metadata": {
    "hidden": true
   },
   "outputs": [],
   "source": [
    "def crps_gev3(y, mu, sigma, xi):\n",
    "    py = gev_cdf(y, mu, sigma, xi)\n",
    "#     print(py)\n",
    "    y = (y-mu)/sigma\n",
    "    x = 1 + xi * y\n",
    "    x[x < 0] = 0\n",
    "    x = x**(-1/xi)\n",
    "    py = np.exp(-x)\n",
    "#     print(py)\n",
    "    #     x = -np.log(gev_cdf(y, mu, sigma, xi))\n",
    "    c1 = 2 * py - 1\n",
    "    out = (y + 1/xi) * c1 + gamma(1 - xi) / xi * \\\n",
    "      (2 * gammainc(1 - xi, -np.log(py)) - 2**xi)\n",
    "\n",
    "    return sigma*out"
   ]
  },
  {
   "cell_type": "code",
   "execution_count": 49,
   "metadata": {
    "hidden": true
   },
   "outputs": [],
   "source": [
    "loc=2\n",
    "scale=2\n",
    "shape=0.9"
   ]
  },
  {
   "cell_type": "code",
   "execution_count": 50,
   "metadata": {
    "hidden": true
   },
   "outputs": [
    {
     "name": "stderr",
     "output_type": "stream",
     "text": [
      "/home/rasp/miniconda3/lib/python3.7/site-packages/ipykernel_launcher.py:5: RuntimeWarning: divide by zero encountered in power\n",
      "  \"\"\"\n",
      "/home/rasp/miniconda3/lib/python3.7/site-packages/ipykernel_launcher.py:9: RuntimeWarning: divide by zero encountered in log\n",
      "  if __name__ == '__main__':\n",
      "/home/rasp/miniconda3/lib/python3.7/site-packages/ipykernel_launcher.py:3: RuntimeWarning: divide by zero encountered in power\n",
      "  This is separate from the ipykernel package so we can avoid doing imports until\n",
      "/home/rasp/miniconda3/lib/python3.7/site-packages/ipykernel_launcher.py:3: RuntimeWarning: invalid value encountered in power\n",
      "  This is separate from the ipykernel package so we can avoid doing imports until\n",
      "/home/rasp/miniconda3/lib/python3.7/site-packages/ipykernel_launcher.py:6: RuntimeWarning: divide by zero encountered in log\n",
      "  \n",
      "/home/rasp/miniconda3/lib/python3.7/site-packages/ipykernel_launcher.py:7: RuntimeWarning: divide by zero encountered in power\n",
      "  import sys\n",
      "/home/rasp/miniconda3/lib/python3.7/site-packages/ipykernel_launcher.py:13: RuntimeWarning: divide by zero encountered in log\n",
      "  del sys.path[0]\n"
     ]
    },
    {
     "data": {
      "text/plain": [
       "(-0.6144794262147328, 1.1169302427714827)"
      ]
     },
     "execution_count": 50,
     "metadata": {},
     "output_type": "execute_result"
    }
   ],
   "source": [
    "x = np.linspace(-1, 10, 100)\n",
    "c = crps_gev(x, loc, scale, shape)\n",
    "c2 = crps_gev2(x, loc, scale, shape)\n",
    "c3 = crps_gev3(x, loc, scale, shape)\n",
    "min(c), min(c2)\n",
    "# c = gev_cdf(x, loc, scale, -0.5)"
   ]
  },
  {
   "cell_type": "code",
   "execution_count": 51,
   "metadata": {
    "hidden": true
   },
   "outputs": [
    {
     "data": {
      "text/plain": [
       "[<matplotlib.lines.Line2D at 0x7f0b2408a0d0>]"
      ]
     },
     "execution_count": 51,
     "metadata": {},
     "output_type": "execute_result"
    },
    {
     "data": {
      "image/png": "[encoded data removed]",
      "text/plain": [
       "<Figure size 432x288 with 1 Axes>"
      ]
     },
     "metadata": {
      "needs_background": "light"
     },
     "output_type": "display_data"
    }
   ],
   "source": [
    "plt.plot(x, c)\n",
    "plt.plot(x, c2)\n",
    "plt.plot(x, c3)\n",
    "# plt.axhline(0)"
   ]
  },
  {
   "cell_type": "code",
   "execution_count": 52,
   "metadata": {
    "hidden": true
   },
   "outputs": [],
   "source": [
    "def lcgev_cdf(x, mu, sigma, xi):\n",
    "    x = np.atleast_1d(x)\n",
    "    t = (1+xi*((x-mu)/sigma))**(-1/xi)\n",
    "    g = np.exp(-t)\n",
    "    support = mu - sigma/xi\n",
    "    if xi > 0:\n",
    "        g[x<support] = 0\n",
    "    if xi < 0:\n",
    "        g[x>support] = 1\n",
    "    g[x<0] = 0\n",
    "    return g"
   ]
  },
  {
   "cell_type": "code",
   "execution_count": 53,
   "metadata": {
    "hidden": true
   },
   "outputs": [
    {
     "data": {
      "text/plain": [
       "[<matplotlib.lines.Line2D at 0x7f0b644ce650>]"
      ]
     },
     "execution_count": 53,
     "metadata": {},
     "output_type": "execute_result"
    },
    {
     "data": {
      "image/png": "[encoded data removed]",
      "text/plain": [
       "<Figure size 432x288 with 1 Axes>"
      ]
     },
     "metadata": {
      "needs_background": "light"
     },
     "output_type": "display_data"
    }
   ],
   "source": [
    "mine = lcgev_cdf(x, 0, 1, 0.1)\n",
    "plt.plot(x, mine)"
   ]
  },
  {
   "cell_type": "code",
   "execution_count": 54,
   "metadata": {
    "hidden": true
   },
   "outputs": [],
   "source": [
    "def crps_lcgev(y, mu, sigma, xi):\n",
    "    py = gev_cdf(y, mu, sigma, xi)\n",
    "    p0 = gev_cdf(0, mu, sigma, xi)\n",
    "\n",
    "    crps = (mu - y) * (1 - 2*py)\n",
    "    crps += mu * p0**2\n",
    "    crps -= 2*sigma / xi * (\n",
    "        1 - py - gammainc(1-xi, -np.log(py))\n",
    "    )\n",
    "#     pdb.set_trace()\n",
    "\n",
    "    crps += sigma / xi * (\n",
    "        1 - p0**2 - 2**xi * gammainc(1-xi, -2 * np.log(p0))\n",
    "    )\n",
    "    return crps"
   ]
  },
  {
   "cell_type": "code",
   "execution_count": 55,
   "metadata": {
    "hidden": true
   },
   "outputs": [],
   "source": [
    "def crps_lcgev2(y, mu, sigma, xi):\n",
    "#     pdb.set_trace()\n",
    "    SCdSH = sigma/xi\n",
    "    Gam1mSH = gamma(1-xi)\n",
    "    \n",
    "    probY = gev_cdf(y, mu, sigma, xi)\n",
    "    prob0 = gev_cdf(0, mu, sigma, xi)\n",
    "    \n",
    "    T1 = (y-mu) * (2*probY-1) + mu * prob0**2\n",
    "    T2 = SCdSH * ( 1-prob0**2 - 2**xi*Gam1mSH*gammainc(1-xi, -2*np.log(prob0)) )\n",
    "    T3 = -2*SCdSH * ( 1-probY - Gam1mSH*gammainc(1-xi, -np.log(probY)) )\n",
    "    \n",
    "    return T1 + T2 + T3"
   ]
  },
  {
   "cell_type": "code",
   "execution_count": 56,
   "metadata": {
    "hidden": true
   },
   "outputs": [],
   "source": [
    "x = np.linspace(0, 10, 100)"
   ]
  },
  {
   "cell_type": "code",
   "execution_count": 57,
   "metadata": {
    "hidden": true
   },
   "outputs": [],
   "source": [
    "loc = 1\n",
    "scale = 2\n",
    "shape = 0.5\n",
    "c = crps_lcgev(x, loc, scale, shape)\n",
    "c2 = crps_lcgev2(x, loc, scale, shape)\n",
    "# c = gev_cdf(x, loc, scale, -0.5)"
   ]
  },
  {
   "cell_type": "code",
   "execution_count": 58,
   "metadata": {
    "hidden": true
   },
   "outputs": [
    {
     "data": {
      "text/plain": [
       "(-0.1745196620826457, 0.7548749621658022)"
      ]
     },
     "execution_count": 58,
     "metadata": {},
     "output_type": "execute_result"
    }
   ],
   "source": [
    "np.min(c), np.min(c2)"
   ]
  },
  {
   "cell_type": "code",
   "execution_count": 59,
   "metadata": {
    "hidden": true
   },
   "outputs": [
    {
     "data": {
      "text/plain": [
       "[<matplotlib.lines.Line2D at 0x7f0b046d3050>]"
      ]
     },
     "execution_count": 59,
     "metadata": {},
     "output_type": "execute_result"
    },
    {
     "data": {
      "image/png": "[encoded data removed]",
      "text/plain": [
       "<Figure size 432x288 with 1 Axes>"
      ]
     },
     "metadata": {
      "needs_background": "light"
     },
     "output_type": "display_data"
    }
   ],
   "source": [
    "mine = lcgev_cdf(x, loc, scale, shape)\n",
    "plt.plot(x, mine)"
   ]
  },
  {
   "cell_type": "code",
   "execution_count": 60,
   "metadata": {
    "hidden": true
   },
   "outputs": [
    {
     "data": {
      "text/plain": [
       "[<matplotlib.lines.Line2D at 0x7f0b8c0af450>]"
      ]
     },
     "execution_count": 60,
     "metadata": {},
     "output_type": "execute_result"
    },
    {
     "data": {
      "image/png": "[encoded data removed]",
      "text/plain": [
       "<Figure size 432x288 with 1 Axes>"
      ]
     },
     "metadata": {
      "needs_background": "light"
     },
     "output_type": "display_data"
    }
   ],
   "source": [
    "plt.plot(x, c)\n",
    "plt.plot(x, c2)"
   ]
  },
  {
   "cell_type": "markdown",
   "metadata": {
    "heading_collapsed": true
   },
   "source": [
    "## Loss function"
   ]
  },
  {
   "cell_type": "code",
   "execution_count": null,
   "metadata": {
    "hidden": true
   },
   "outputs": [],
   "source": [
    "def gev_cdf(x, mu, sigma, xi):\n",
    "    x = np.atleast_1d(x)\n",
    "    t = (1+xi*((x-mu)/sigma))**(-1/xi)\n",
    "    g = np.exp(-t)\n",
    "    support = mu - sigma/xi\n",
    "    if xi > 0:\n",
    "        g[x<support] = 0\n",
    "    if xi < 0:\n",
    "        g[x>support] = 1\n",
    "    return g"
   ]
  },
  {
   "cell_type": "code",
   "execution_count": null,
   "metadata": {
    "hidden": true
   },
   "outputs": [],
   "source": [
    "def gev_cdf2(y, mu, sigma, xi):\n",
    "    y = (y-mu)/sigma\n",
    "    x = 1 + xi * y\n",
    "    x[x < 0] = 0\n",
    "    x = x**(-1/xi)\n",
    "    return np.where(np.isinf(np.exp(-x)), 0, np.exp(-x))"
   ]
  },
  {
   "cell_type": "code",
   "execution_count": 130,
   "metadata": {
    "hidden": true
   },
   "outputs": [],
   "source": [
    "def crps_lcgev2(y, mu, sigma, xi):\n",
    "#     pdb.set_trace()\n",
    "    SCdSH = sigma/xi\n",
    "    Gam1mSH = gamma(1-xi)\n",
    "#     print(Gam1mSH)\n",
    "    \n",
    "    probY = gev_cdf2(y, mu, sigma, xi)\n",
    "    prob0 = gev_cdf2(0, mu, sigma, xi)\n",
    "    \n",
    "    T1 = (y-mu) * (2*probY-1) + mu * prob0**2\n",
    "    T2 = SCdSH * ( 1-prob0**2 - 2**xi*Gam1mSH*gammainc(1-xi, -2*np.log(prob0)) )\n",
    "    T3 = -2*SCdSH * ( 1-probY - Gam1mSH*gammainc(1-xi, -np.log(probY)) )\n",
    "#     print(T1, T2, T3)\n",
    "    return T1 + T2 + T3"
   ]
  },
  {
   "cell_type": "code",
   "execution_count": 93,
   "metadata": {
    "hidden": true
   },
   "outputs": [],
   "source": [
    "def gev_cdf_tf(y, mu, sigma, xi):\n",
    "    y = (y-mu)/sigma\n",
    "    x = 1 + xi * y\n",
    "#     x[x < 0] = 0\n",
    "    x = tf.where(x<0, 0., x)\n",
    "    x = x**(-1/xi)\n",
    "    return tf.where(tf.math.is_inf(tf.exp(-x)), 0, tf.exp(-x))"
   ]
  },
  {
   "cell_type": "code",
   "execution_count": 27,
   "metadata": {
    "hidden": true
   },
   "outputs": [],
   "source": [
    "def crps_lcgev_tf(y, mu, sigma, xi, dtype='float16'):\n",
    "    SCdSH = sigma/xi\n",
    "    Gam1mSH = tf.exp(tf.math.lgamma(1-xi))\n",
    "#     print(Gam1mSH)\n",
    "    \n",
    "    probY = gev_cdf_tf(y, mu, sigma, xi)\n",
    "    prob0 = gev_cdf_tf(0., mu, sigma, xi)\n",
    "    \n",
    "    igammaY = tf.cast(tf.math.igamma(1-tf.cast(xi, 'float64'), -tf.math.log(tf.cast(probY, 'float64'))), dtype)\n",
    "    igamma0 = tf.cast(tf.math.igamma(1-tf.cast(xi, 'float64'), -2 * tf.math.log(tf.cast(prob0, 'float64'))), dtype)\n",
    "    \n",
    "    T1 = (y-mu) * (2*probY-1) + mu * prob0**2\n",
    "    T2 = SCdSH * ( 1-prob0**2 - 2**xi*Gam1mSH*igamma0)\n",
    "    T3 = -2*SCdSH * ( 1-probY - Gam1mSH*igammaY)\n",
    "#     print(T1, T2, T3)\n",
    "    return T1 + T2 + T3"
   ]
  },
  {
   "cell_type": "code",
   "execution_count": 62,
   "metadata": {
    "hidden": true
   },
   "outputs": [],
   "source": [
    "def crps_lcgev_tf_old(y, mu, sigma, xi):\n",
    "    py = lcgev_cdf_tf(y, mu, sigma, xi)\n",
    "    p0 = lcgev_cdf_tf(0, mu, sigma, xi)\n",
    "\n",
    "    crps = (mu - y) * (1 - 2*py)\n",
    "    crps += mu * p0**2\n",
    "    crps -= 2*sigma / xi * (\n",
    "        1 - py - tf.cast(tf.math.igamma(1-tf.cast(xi, 'float64'), -tf.math.log(tf.cast(py, 'float64'))), 'float16')\n",
    "    )\n",
    "#     pdb.set_trace()\n",
    "\n",
    "    crps += sigma / xi * (\n",
    "        1 - p0**2 - 2**xi * tf.cast(tf.math.igamma(1-tf.cast(xi, 'float64'), -2 * tf.math.log(tf.cast(p0, 'float64'))), 'float16')\n",
    "    )\n",
    "    return crps"
   ]
  },
  {
   "cell_type": "code",
   "execution_count": 133,
   "metadata": {
    "hidden": true
   },
   "outputs": [
    {
     "data": {
      "text/plain": [
       "array([-0.5 , -0.49, -0.48, -0.47, -0.46, -0.45, -0.44, -0.43, -0.42,\n",
       "       -0.41, -0.4 , -0.39, -0.38, -0.37, -0.36, -0.35, -0.34, -0.33,\n",
       "       -0.32, -0.31, -0.3 , -0.29, -0.28, -0.27, -0.26, -0.25, -0.24,\n",
       "       -0.23, -0.22, -0.21, -0.2 , -0.19, -0.18, -0.17, -0.16, -0.15,\n",
       "       -0.14, -0.13, -0.12, -0.11, -0.1 , -0.09, -0.08, -0.07, -0.06,\n",
       "       -0.05, -0.04, -0.03, -0.02, -0.01,  0.  ,  0.01,  0.02,  0.03,\n",
       "        0.04,  0.05,  0.06,  0.07,  0.08,  0.09,  0.1 ,  0.11,  0.12,\n",
       "        0.13,  0.14,  0.15,  0.16,  0.17,  0.18,  0.19,  0.2 ,  0.21,\n",
       "        0.22,  0.23,  0.24,  0.25,  0.26,  0.27,  0.28,  0.29,  0.3 ,\n",
       "        0.31,  0.32,  0.33,  0.34,  0.35,  0.36,  0.37,  0.38,  0.39,\n",
       "        0.4 ,  0.41,  0.42,  0.43,  0.44,  0.45,  0.46,  0.47,  0.48,\n",
       "        0.49,  0.5 ])"
      ]
     },
     "execution_count": 133,
     "metadata": {},
     "output_type": "execute_result"
    }
   ],
   "source": [
    "np.linspace(-0.5, 0.5, 101)"
   ]
  },
  {
   "cell_type": "code",
   "execution_count": 140,
   "metadata": {
    "hidden": true
   },
   "outputs": [
    {
     "name": "stderr",
     "output_type": "stream",
     "text": [
      "/home/rasp/miniconda3/lib/python3.7/site-packages/ipykernel_launcher.py:3: RuntimeWarning: divide by zero encountered in true_divide\n",
      "  This is separate from the ipykernel package so we can avoid doing imports until\n",
      "/home/rasp/miniconda3/lib/python3.7/site-packages/ipykernel_launcher.py:5: RuntimeWarning: divide by zero encountered in true_divide\n",
      "  \"\"\"\n",
      "/home/rasp/miniconda3/lib/python3.7/site-packages/ipykernel_launcher.py:11: RuntimeWarning: invalid value encountered in multiply\n",
      "  # This is added back by InteractiveShellApp.init_path()\n",
      "/home/rasp/miniconda3/lib/python3.7/site-packages/ipykernel_launcher.py:12: RuntimeWarning: invalid value encountered in multiply\n",
      "  if sys.path[0] == '':\n"
     ]
    },
    {
     "data": {
      "text/plain": [
       "[<matplotlib.lines.Line2D at 0x7feac40a1490>]"
      ]
     },
     "execution_count": 140,
     "metadata": {},
     "output_type": "execute_result"
    },
    {
     "data": {
      "image/png": "[encoded data removed]",
      "text/plain": [
       "<Figure size 432x288 with 1 Axes>"
      ]
     },
     "metadata": {
      "needs_background": "light"
     },
     "output_type": "display_data"
    }
   ],
   "source": [
    "plt.plot(crps_lcgev2(np.array([0.5]), loc, scale, np.linspace(-0.005, 0.005, 101)))"
   ]
  },
  {
   "cell_type": "code",
   "execution_count": 115,
   "metadata": {
    "hidden": true
   },
   "outputs": [
    {
     "name": "stdout",
     "output_type": "stream",
     "text": [
      "tf.Tensor(0.8862269, shape=(), dtype=float32)\n",
      "tf.Tensor([0.62471414 0.261874  ], shape=(2,), dtype=float32) tf.Tensor(-1.5684395, shape=(), dtype=float32) tf.Tensor([1.8760314 1.9835544], shape=(2,), dtype=float32)\n"
     ]
    },
    {
     "data": {
      "text/plain": [
       "<tf.Tensor: shape=(2,), dtype=float32, numpy=array([0.93230605, 0.67698884], dtype=float32)>"
      ]
     },
     "execution_count": 115,
     "metadata": {},
     "output_type": "execute_result"
    }
   ],
   "source": [
    "crps_lcgev_tf(np.array([0, 0.5]), loc, scale, -shape, 'float32')"
   ]
  },
  {
   "cell_type": "code",
   "execution_count": 100,
   "metadata": {
    "hidden": true
   },
   "outputs": [],
   "source": [
    "mu = tf.Variable(np.array([0.1]))\n",
    "sigma = tf.Variable(np.array([1.]))\n",
    "xi = tf.Variable(np.array([-0.5]))\n",
    "y = np.array([0.5])"
   ]
  },
  {
   "cell_type": "code",
   "execution_count": 217,
   "metadata": {
    "hidden": true
   },
   "outputs": [
    {
     "data": {
      "text/plain": [
       "<tf.Tensor: shape=(), dtype=float32, numpy=0.0>"
      ]
     },
     "execution_count": 217,
     "metadata": {},
     "output_type": "execute_result"
    }
   ],
   "source": [
    "tf.constant(0.)"
   ]
  },
  {
   "cell_type": "code",
   "execution_count": 101,
   "metadata": {
    "hidden": true
   },
   "outputs": [
    {
     "name": "stdout",
     "output_type": "stream",
     "text": [
      "tf.Tensor([0.88622693], shape=(1,), dtype=float64)\n",
      "tf.Tensor([0.03285899], shape=(1,), dtype=float64) tf.Tensor([-0.80249038], shape=(1,), dtype=float64) tf.Tensor([0.94748664], shape=(1,), dtype=float64)\n"
     ]
    },
    {
     "data": {
      "text/plain": [
       "<tf.Tensor: shape=(1,), dtype=float64, numpy=array([0.17785525])>"
      ]
     },
     "execution_count": 101,
     "metadata": {},
     "output_type": "execute_result"
    }
   ],
   "source": [
    "crps_lcgev_tf(y, mu, sigma, xi)"
   ]
  },
  {
   "cell_type": "code",
   "execution_count": 33,
   "metadata": {
    "hidden": true
   },
   "outputs": [],
   "source": [
    "def crps_lcgev_loss(y_true, y_pred, dtype='float16'):\n",
    "    mu, sigma, xi = y_pred[:, 0], y_pred[:, 1], y_pred[:, 2]\n",
    "    sigma = tf.nn.relu(sigma)\n",
    "    # Make sure xi isn't 0\n",
    "#     eps = 1e-7\n",
    "#     xi = tf.where(tf.abs(xi)<eps, eps, xi)\n",
    "    # Keep xi in bounds\n",
    "    xi = tf.clip_by_value(xi, -0.278, 0.999)\n",
    "    return crps_lcgev_tf(y_true, mu, sigma, xi, dtype)"
   ]
  },
  {
   "cell_type": "markdown",
   "metadata": {
    "heading_collapsed": true
   },
   "source": [
    "## Synthetic data"
   ]
  },
  {
   "cell_type": "code",
   "execution_count": 205,
   "metadata": {
    "hidden": true
   },
   "outputs": [],
   "source": [
    "X = np.random.rand(1000).astype('float32')\n",
    "y = np.maximum(X + np.random.rand(1000)/10, 0).astype('float32')"
   ]
  },
  {
   "cell_type": "code",
   "execution_count": 206,
   "metadata": {
    "hidden": true
   },
   "outputs": [
    {
     "data": {
      "text/plain": [
       "((1000,), (1000,))"
      ]
     },
     "execution_count": 206,
     "metadata": {},
     "output_type": "execute_result"
    }
   ],
   "source": [
    "X.shape, y.shape"
   ]
  },
  {
   "cell_type": "code",
   "execution_count": 207,
   "metadata": {
    "hidden": true
   },
   "outputs": [],
   "source": [
    "model = tf.keras.models.Sequential([\n",
    "    Dense(3, input_shape=(1,))\n",
    "])"
   ]
  },
  {
   "cell_type": "code",
   "execution_count": 208,
   "metadata": {
    "hidden": true
   },
   "outputs": [],
   "source": [
    "model.compile('adam', crps_lcgev_loss, run_eagerly=True)"
   ]
  },
  {
   "cell_type": "code",
   "execution_count": 209,
   "metadata": {
    "hidden": true
   },
   "outputs": [
    {
     "name": "stdout",
     "output_type": "stream",
     "text": [
      "Epoch 1/20\n",
      "32/32 [==============================] - 1s 22ms/step - loss: 0.4845\n",
      "Epoch 2/20\n",
      "32/32 [==============================] - 1s 22ms/step - loss: 0.4831\n",
      "Epoch 3/20\n",
      "32/32 [==============================] - 1s 23ms/step - loss: 0.4833\n",
      "Epoch 4/20\n",
      "32/32 [==============================] - 1s 22ms/step - loss: 0.4820\n",
      "Epoch 5/20\n",
      "32/32 [==============================] - 1s 22ms/step - loss: 0.4821\n",
      "Epoch 6/20\n",
      "32/32 [==============================] - 1s 23ms/step - loss: 0.4823\n",
      "Epoch 7/20\n",
      "32/32 [==============================] - 1s 24ms/step - loss: 0.4818\n",
      "Epoch 8/20\n",
      "32/32 [==============================] - 1s 22ms/step - loss: 0.4820\n",
      "Epoch 9/20\n",
      "32/32 [==============================] - 1s 23ms/step - loss: 0.4822\n",
      "Epoch 10/20\n",
      "32/32 [==============================] - 1s 22ms/step - loss: 0.4807\n",
      "Epoch 11/20\n",
      "32/32 [==============================] - 1s 23ms/step - loss: 0.4808\n",
      "Epoch 12/20\n",
      "32/32 [==============================] - 1s 22ms/step - loss: 0.4812\n",
      "Epoch 13/20\n",
      "32/32 [==============================] - 1s 21ms/step - loss: 0.4809\n",
      "Epoch 14/20\n",
      "32/32 [==============================] - 1s 22ms/step - loss: 0.4811\n",
      "Epoch 15/20\n",
      "32/32 [==============================] - 1s 21ms/step - loss: 0.4794\n",
      "Epoch 16/20\n",
      "32/32 [==============================] - 1s 22ms/step - loss: 0.4795\n",
      "Epoch 17/20\n",
      "32/32 [==============================] - 1s 23ms/step - loss: 0.4797\n",
      "Epoch 18/20\n",
      "32/32 [==============================] - 1s 21ms/step - loss: 0.4794\n",
      "Epoch 19/20\n",
      "32/32 [==============================] - 1s 23ms/step - loss: 0.4799\n",
      "Epoch 20/20\n",
      "32/32 [==============================] - 1s 23ms/step - loss: 0.4795\n"
     ]
    },
    {
     "data": {
      "text/plain": [
       "<tensorflow.python.keras.callbacks.History at 0x7feac412a750>"
      ]
     },
     "execution_count": 209,
     "metadata": {},
     "output_type": "execute_result"
    }
   ],
   "source": [
    "model.fit(X, y, epochs=20)"
   ]
  },
  {
   "cell_type": "code",
   "execution_count": 210,
   "metadata": {
    "hidden": true
   },
   "outputs": [],
   "source": [
    "p = model.predict(X)"
   ]
  },
  {
   "cell_type": "code",
   "execution_count": 211,
   "metadata": {
    "hidden": true
   },
   "outputs": [
    {
     "data": {
      "text/plain": [
       "0.5796"
      ]
     },
     "execution_count": 211,
     "metadata": {},
     "output_type": "execute_result"
    }
   ],
   "source": [
    "p.max()"
   ]
  },
  {
   "cell_type": "code",
   "execution_count": 212,
   "metadata": {
    "hidden": true
   },
   "outputs": [
    {
     "data": {
      "text/plain": [
       "-1.186"
      ]
     },
     "execution_count": 212,
     "metadata": {},
     "output_type": "execute_result"
    }
   ],
   "source": [
    "p.min()"
   ]
  },
  {
   "cell_type": "code",
   "execution_count": 213,
   "metadata": {
    "hidden": true
   },
   "outputs": [
    {
     "data": {
      "text/plain": [
       "(1000, 3)"
      ]
     },
     "execution_count": 213,
     "metadata": {},
     "output_type": "execute_result"
    }
   ],
   "source": [
    "p.shape"
   ]
  },
  {
   "cell_type": "code",
   "execution_count": 214,
   "metadata": {
    "hidden": true
   },
   "outputs": [
    {
     "data": {
      "text/plain": [
       "array([-1.135 ,  0.555 ,  0.2113], dtype=float16)"
      ]
     },
     "execution_count": 214,
     "metadata": {},
     "output_type": "execute_result"
    }
   ],
   "source": [
    "p[5]"
   ]
  },
  {
   "cell_type": "code",
   "execution_count": 215,
   "metadata": {
    "hidden": true
   },
   "outputs": [
    {
     "data": {
      "text/plain": [
       "<tf.Tensor: shape=(1000,), dtype=float16, numpy=\n",
       "array([0.1493  , 0.7227  , 0.1381  , 0.2034  , 0.768   , 0.833   ,\n",
       "       0.4111  , 0.099   , 0.522   , 0.2605  , 0.2598  , 0.3787  ,\n",
       "       0.6704  , 0.661   , 0.3403  , 0.827   , 0.3633  , 0.7446  ,\n",
       "       0.3743  , 0.202   , 0.674   , 0.5146  , 0.1131  , 0.3074  ,\n",
       "       0.1989  , 0.5293  , 0.3867  , 0.547   , 0.5317  , 0.677   ,\n",
       "       0.347   , 0.341   , 0.7324  , 0.717   , 0.0783  , 0.4426  ,\n",
       "       0.2747  , 0.4924  , 0.7627  , 0.3198  , 0.11255 , 0.4111  ,\n",
       "       0.8066  , 0.6025  , 0.6416  , 0.2251  , 0.1057  , 0.656   ,\n",
       "       0.12274 , 0.3994  , 0.2423  , 0.498   , 0.517   , 0.1622  ,\n",
       "       0.748   , 0.3127  , 0.752   , 0.3337  , 0.7676  , 0.4048  ,\n",
       "       0.684   , 0.54    , 0.613   , 0.4814  , 0.5073  , 0.728   ,\n",
       "       0.2854  , 0.3254  , 0.8716  , 0.3975  , 0.4973  , 0.742   ,\n",
       "       0.835   , 0.12085 , 0.4634  , 0.02573 , 0.4917  , 0.3862  ,\n",
       "       0.1249  , 0.2786  , 0.611   , 0.142   , 0.562   , 0.2285  ,\n",
       "       0.1068  , 0.7285  , 0.4878  , 0.05597 , 0.251   , 0.2227  ,\n",
       "       0.502   , 0.498   , 0.5815  , 0.02441 , 0.637   , 0.5713  ,\n",
       "       0.1671  , 0.6953  , 0.5073  , 0.841   , 0.6313  , 0.1621  ,\n",
       "       0.4917  , 0.6343  , 0.1475  , 0.2563  , 0.1018  , 0.6523  ,\n",
       "       0.8667  , 0.499   , 0.289   , 0.692   , 0.0771  , 0.1226  ,\n",
       "       0.2302  , 0.752   , 0.11847 , 0.0777  , 0.3745  , 0.189   ,\n",
       "       0.7637  , 0.743   , 0.165   , 0.2015  , 0.4844  , 0.1183  ,\n",
       "       0.8037  , 0.537   , 0.1832  , 0.6553  , 0.516   , 0.6787  ,\n",
       "       0.426   , 0.6533  , 0.6997  , 0.3062  , 0.03326 , 0.1605  ,\n",
       "       0.7524  , 0.688   , 0.4766  , 0.367   , 0.714   , 0.5215  ,\n",
       "       0.2313  , 0.3584  , 0.1392  , 0.811   , 0.1685  , 0.4436  ,\n",
       "       0.2646  , 0.5605  , 0.245   , 0.5664  , 0.1775  , 0.3933  ,\n",
       "       0.1885  , 0.3882  , 0.3862  , 0.3364  , 0.3303  , 0.09644 ,\n",
       "       0.633   , 0.705   , 0.1748  , 0.5386  , 0.2479  , 0.09296 ,\n",
       "       0.1098  , 0.771   , 0.783   , 0.7354  , 0.038   , 0.6543  ,\n",
       "       0.7256  , 0.4023  , 0.3086  , 0.661   , 0.09076 , 0.3843  ,\n",
       "       0.716   , 0.6963  , 0.3223  , 0.1117  , 0.7207  , 0.706   ,\n",
       "       0.4778  , 0.729   , 0.667   , 0.5713  , 0.8633  , 0.6416  ,\n",
       "       0.449   , 0.5527  , 0.2255  , 0.3914  , 0.7744  , 0.0654  ,\n",
       "       0.2412  , 0.745   , 0.741   , 0.3965  , 0.632   , 0.1831  ,\n",
       "       0.0733  , 0.09436 , 0.637   , 0.5137  , 0.6123  , 0.0881  ,\n",
       "       0.802   , 0.1855  , 0.461   , 0.5605  , 0.4019  , 0.792   ,\n",
       "       0.524   , 0.799   , 0.4878  , 0.768   , 0.703   , 0.1997  ,\n",
       "       0.4414  , 0.6475  , 0.4966  , 0.7285  , 0.331   , 0.0279  ,\n",
       "       0.6787  , 0.4666  , 0.6123  , 0.677   , 0.708   , 0.8354  ,\n",
       "       0.267   , 0.2056  , 0.71    , 0.5093  , 0.2021  , 0.543   ,\n",
       "       0.6704  , 0.6963  , 0.5244  , 0.1904  , 0.03622 , 0.3506  ,\n",
       "       0.545   , 0.1393  , 0.5283  , 0.794   , 0.8716  , 0.6084  ,\n",
       "       0.351   , 0.71    , 0.346   , 0.5205  , 0.542   , 0.12427 ,\n",
       "       0.6396  , 0.1849  , 0.1853  , 0.4656  , 0.8105  , 0.4285  ,\n",
       "       0.4849  , 0.5103  , 0.418   , 0.422   , 0.1741  , 0.4553  ,\n",
       "       0.1465  , 0.0831  , 0.4214  , 0.367   , 0.02484 , 0.69    ,\n",
       "       0.798   , 0.724   , 0.2688  , 0.045   , 0.1791  , 0.495   ,\n",
       "       0.39    , 0.2954  , 0.2477  , 0.2026  , 0.7666  , 0.1632  ,\n",
       "       0.4717  , 0.0916  , 0.3323  , 0.3552  , 0.2673  , 0.47    ,\n",
       "       0.0942  , 0.7656  , 0.2092  , 0.2834  , 0.6377  , 0.4707  ,\n",
       "       0.349   , 0.4692  , 0.1677  , 0.75    , 0.7764  , 0.713   ,\n",
       "       0.002884, 0.861   , 0.6646  , 0.623   , 0.2932  , 0.803   ,\n",
       "       0.603   , 0.503   , 0.4248  , 0.798   , 0.2742  , 0.3303  ,\n",
       "       0.5703  , 0.8584  , 0.877   , 0.6455  , 0.759   , 0.293   ,\n",
       "       0.822   , 0.8115  , 0.6797  , 0.6826  , 0.442   , 0.55    ,\n",
       "       0.7026  , 0.6035  , 0.6426  , 0.566   , 0.633   , 0.6895  ,\n",
       "       0.7744  , 0.2715  , 0.308   , 0.377   , 0.4941  , 0.5254  ,\n",
       "       0.7812  , 0.522   , 0.794   , 0.3796  , 0.1975  , 0.1054  ,\n",
       "       0.761   , 0.4856  , 0.709   , 0.6465  , 0.5728  , 0.1454  ,\n",
       "       0.4292  , 0.8384  , 0.06995 , 0.1694  , 0.0598  , 0.6226  ,\n",
       "       0.3765  , 0.545   , 0.2198  , 0.5493  , 0.1902  , 0.2686  ,\n",
       "       0.4126  , 0.6343  , 0.2429  , 0.4866  , 0.4214  , 0.304   ,\n",
       "       0.1434  , 0.7295  , 0.737   , 0.8115  , 0.2986  , 0.088   ,\n",
       "       0.705   , 0.2142  , 0.6123  , 0.4202  , 0.1735  , 0.5225  ,\n",
       "       0.4187  , 0.264   , 0.689   , 0.848   , 0.7295  , 0.372   ,\n",
       "       0.7427  , 0.676   , 0.675   , 0.24    , 0.432   , 0.3816  ,\n",
       "       0.1225  , 0.507   , 0.545   , 0.4219  , 0.5503  , 0.1461  ,\n",
       "       0.7695  , 0.5796  , 0.6367  , 0.2744  , 0.816   , 0.12366 ,\n",
       "       0.4963  , 0.7617  , 0.6826  , 0.5537  , 0.2202  , 0.4805  ,\n",
       "       0.5063  , 0.09155 , 0.7515  , 0.1852  , 0.699   , 0.2598  ,\n",
       "       0.609   , 0.6     , 0.696   , 0.505   , 0.2654  , 0.4053  ,\n",
       "       0.4597  , 0.2208  , 0.4397  , 0.3406  , 0.771   , 0.433   ,\n",
       "       0.7754  , 0.6187  , 0.6245  , 0.8013  , 0.875   , 0.646   ,\n",
       "       0.6206  , 0.11676 , 0.10913 , 0.669   , 0.3628  , 0.8184  ,\n",
       "       0.8423  , 0.4116  , 0.703   , 0.711   , 0.701   , 0.832   ,\n",
       "       0.777   , 0.1626  , 0.07764 , 0.3103  , 0.5415  , 0.735   ,\n",
       "       0.497   , 0.7256  , 0.1925  , 0.515   , 0.706   , 0.783   ,\n",
       "       0.728   , 0.4114  , 0.7524  , 0.1348  , 0.2874  , 0.7627  ,\n",
       "       0.1913  , 0.8877  , 0.7803  , 0.07367 , 0.3323  , 0.3599  ,\n",
       "       0.1511  , 0.8037  , 0.794   , 0.2113  , 0.738   , 0.312   ,\n",
       "       0.4912  , 0.557   , 0.7974  , 0.6895  , 0.538   , 0.5684  ,\n",
       "       0.744   , 0.1615  , 0.615   , 0.8047  , 0.02449 , 0.67    ,\n",
       "       0.608   , 0.6846  , 0.2988  , 0.3005  , 0.587   , 0.7783  ,\n",
       "       0.3447  , 0.3567  , 0.3647  , 0.1212  , 0.7305  , 0.363   ,\n",
       "       0.109   , 0.1544  , 0.798   , 0.22    , 0.1644  , 0.0854  ,\n",
       "       0.2607  , 0.09424 , 0.3     , 0.795   , 0.0965  , 0.5947  ,\n",
       "       0.507   , 0.79    , 0.2225  , 0.7725  , 0.6885  , 0.7783  ,\n",
       "       0.4438  , 0.1775  , 0.3564  , 0.6816  , 0.349   , 0.757   ,\n",
       "       0.842   , 0.4978  , 0.56    , 0.6064  , 0.786   , 0.1782  ,\n",
       "       0.1661  , 0.246   , 0.55    , 0.573   , 0.608   , 0.6963  ,\n",
       "       0.8047  , 0.6743  , 0.1876  , 0.5967  , 0.492   , 0.1003  ,\n",
       "       0.5996  , 0.52    , 0.1201  , 0.8096  , 0.8154  , 0.3506  ,\n",
       "       0.4087  , 0.62    , 0.4949  , 0.179   , 0.1777  , 0.3743  ,\n",
       "       0.151   , 0.3928  , 0.4211  , 0.275   , 0.2081  , 0.7695  ,\n",
       "       0.5996  , 0.5474  , 0.619   , 0.78    , 0.3452  , 0.742   ,\n",
       "       0.2827  , 0.1346  , 0.2595  , 0.542   , 0.3096  , 0.1372  ,\n",
       "       0.286   , 0.147   , 0.572   , 0.6772  , 0.5405  , 0.6953  ,\n",
       "       0.4229  , 0.1724  , 0.368   , 0.7383  , 0.2764  , 0.1365  ,\n",
       "       0.6987  , 0.3618  , 0.652   , 0.5977  , 0.10126 , 0.3904  ,\n",
       "       0.312   , 0.5684  , 0.644   , 0.4646  , 0.4866  , 0.0811  ,\n",
       "       0.757   , 0.7197  , 0.655   , 0.3318  , 0.1296  , 0.1118  ,\n",
       "       0.486   , 0.752   , 0.4683  , 0.3936  , 0.5703  , 0.03436 ,\n",
       "       0.6484  , 0.1484  , 0.1566  , 0.7876  , 0.2277  , 0.6094  ,\n",
       "       0.789   , 0.599   , 0.4446  , 0.10693 , 0.8623  , 0.3833  ,\n",
       "       0.3755  , 0.2986  , 0.11584 , 0.3115  , 0.579   , 0.7695  ,\n",
       "       0.7295  , 0.2251  , 0.4631  , 0.7295  , 0.584   , 0.3162  ,\n",
       "       0.3428  , 0.7275  , 0.801   , 0.3162  , 0.1174  , 0.523   ,\n",
       "       0.5625  , 0.3489  , 0.1241  , 0.701   , 0.541   , 0.481   ,\n",
       "       0.7866  , 0.09827 , 0.6562  , 0.622   , 0.2217  , 0.551   ,\n",
       "       0.564   , 0.4001  , 0.7266  , 0.3271  , 0.3115  , 0.2659  ,\n",
       "       0.3347  , 0.8076  , 0.285   , 0.1627  , 0.783   , 0.8193  ,\n",
       "       0.3784  , 0.29    , 0.4429  , 0.5713  , 0.6675  , 0.4136  ,\n",
       "       0.5635  , 0.5664  , 0.462   , 0.1604  , 0.6807  , 0.6157  ,\n",
       "       0.749   , 0.406   , 0.7188  , 0.2788  , 0.6377  , 0.4028  ,\n",
       "       0.625   , 0.497   , 0.549   , 0.4902  , 0.8643  , 0.5415  ,\n",
       "       0.4749  , 0.2161  , 0.5625  , 0.5547  , 0.2993  , 0.0467  ,\n",
       "       0.2715  , 0.2568  , 0.718   , 0.222   , 0.5513  , 0.665   ,\n",
       "       0.312   , 0.865   , 0.2491  , 0.633   , 0.6655  , 0.8154  ,\n",
       "       0.409   , 0.699   , 0.182   , 0.6377  , 0.1818  , 0.689   ,\n",
       "       0.1759  , 0.366   , 0.3274  , 0.277   , 0.7246  , 0.502   ,\n",
       "       0.4092  , 0.5127  , 0.2783  , 0.659   , 0.3252  , 0.261   ,\n",
       "       0.5234  , 0.01364 , 0.8086  , 0.6865  , 0.7754  , 0.704   ,\n",
       "       0.423   , 0.0515  , 0.699   , 0.316   , 0.1417  , 0.1247  ,\n",
       "       0.5063  , 0.6147  , 0.698   , 0.3772  , 0.636   , 0.1307  ,\n",
       "       0.405   , 0.3792  , 0.3445  , 0.01152 , 0.7285  , 0.662   ,\n",
       "       0.7036  , 0.1343  , 0.1704  , 0.421   , 0.836   , 0.1752  ,\n",
       "       0.2964  , 0.623   , 0.6323  , 0.2428  , 0.6836  , 0.4658  ,\n",
       "       0.3025  , 0.585   , 0.538   , 0.2646  , 0.294   , 0.1802  ,\n",
       "       0.413   , 0.37    , 0.256   , 0.672   , 0.347   , 0.837   ,\n",
       "       0.296   , 0.03366 , 0.1206  , 0.4734  , 0.5137  , 0.4646  ,\n",
       "       0.59    , 0.1409  , 0.5337  , 0.4504  , 0.718   , 0.5767  ,\n",
       "       0.75    , 0.132   , 0.3516  , 0.5015  , 0.59    , 0.187   ,\n",
       "       0.573   , 0.08435 , 0.3005  , 0.02716 , 0.2268  , 0.6787  ,\n",
       "       0.6807  , 0.38    , 0.03363 , 0.5767  , 0.5547  , 0.2471  ,\n",
       "       0.1641  , 0.579   , 0.6113  , 0.5674  , 0.6753  , 0.347   ,\n",
       "       0.02057 , 0.8125  , 0.599   , 0.06    , 0.0897  , 0.3347  ,\n",
       "       0.461   , 0.1595  , 0.6035  , 0.294   , 0.3079  , 0.1242  ,\n",
       "       0.1682  , 0.6167  , 0.792   , 0.12195 , 0.227   , 0.2822  ,\n",
       "       0.2224  , 0.354   , 0.8135  , 0.51    , 0.05258 , 0.6777  ,\n",
       "       0.2286  , 0.1292  , 0.624   , 0.157   , 0.2783  , 0.3667  ,\n",
       "       0.2793  , 0.3845  , 0.7163  , 0.7036  , 0.7686  , 0.426   ,\n",
       "       0.514   , 0.827   , 0.1628  , 0.7773  , 0.1517  , 0.624   ,\n",
       "       0.225   , 0.705   , 0.739   , 0.4155  , 0.4998  , 0.459   ,\n",
       "       0.4324  , 0.4639  , 0.4224  , 0.8027  , 0.503   , 0.616   ,\n",
       "       0.8467  , 0.0731  , 0.2964  , 0.03586 , 0.4878  , 0.5776  ,\n",
       "       0.3105  , 0.573   , 0.7607  , 0.7188  , 0.0936  , 0.712   ,\n",
       "       0.6084  , 0.1743  , 0.59    , 0.527   , 0.8164  , 0.795   ,\n",
       "       0.1499  , 0.718   , 0.4314  , 0.676   , 0.3486  , 0.6436  ,\n",
       "       0.2805  , 0.7607  , 0.5005  , 0.334   , 0.3674  , 0.3003  ,\n",
       "       0.1813  , 0.5303  , 0.7617  , 0.1912  , 0.831   , 0.1592  ,\n",
       "       0.7754  , 0.4592  , 0.14    , 0.6826  , 0.791   , 0.5693  ,\n",
       "       0.4927  , 0.4307  , 0.711   , 0.781   , 0.713   , 0.6724  ,\n",
       "       0.1906  , 0.2014  , 0.5625  , 0.728   , 0.2432  , 0.01749 ,\n",
       "       0.6064  , 0.752   , 0.856   , 0.821   , 0.456   , 0.1655  ,\n",
       "       0.368   , 0.1387  , 0.3618  , 0.744   , 0.702   , 0.001629,\n",
       "       0.6465  , 0.576   , 0.3484  , 0.12054 , 0.2379  , 0.5215  ,\n",
       "       0.6577  , 0.2917  , 0.6797  , 0.7607  , 0.746   , 0.701   ,\n",
       "       0.8037  , 0.3555  , 0.0907  , 0.7397  , 0.275   , 0.775   ,\n",
       "       0.09216 , 0.04297 , 0.194   , 0.6147  , 0.2076  , 0.277   ,\n",
       "       0.451   , 0.4004  , 0.8486  , 0.167   , 0.1443  , 0.6064  ,\n",
       "       0.3303  , 0.2489  , 0.237   , 0.499   , 0.25    , 0.4463  ,\n",
       "       0.3462  , 0.625   , 0.6543  , 0.09534 , 0.1395  , 0.743   ,\n",
       "       0.811   , 0.1895  , 0.802   , 0.403   , 0.0951  , 0.3     ,\n",
       "       0.2227  , 0.2556  , 0.391   , 0.378   , 0.5415  , 0.2449  ,\n",
       "       0.3489  , 0.3604  , 0.3342  , 0.2659  , 0.5     , 0.541   ,\n",
       "       0.4595  , 0.5337  , 0.5977  , 0.4246  , 0.3696  , 0.5244  ,\n",
       "       0.7817  , 0.122   , 0.498   , 0.601   ], dtype=float16)>"
      ]
     },
     "execution_count": 215,
     "metadata": {},
     "output_type": "execute_result"
    }
   ],
   "source": [
    "crps_lcgev_loss(y, p)"
   ]
  },
  {
   "cell_type": "markdown",
   "metadata": {},
   "source": [
    "## Real data"
   ]
  },
  {
   "cell_type": "code",
   "execution_count": 5,
   "metadata": {},
   "outputs": [],
   "source": [
    "args = load_args('../nn_configs/P/023-resnet_d3_tp_3d_param.yml')"
   ]
  },
  {
   "cell_type": "code",
   "execution_count": 6,
   "metadata": {},
   "outputs": [],
   "source": [
    "args['train_tfr_files'] = None\n",
    "args['valid_tfr_files'] = None\n",
    "args['test_tfr_files'] = None\n",
    "args['no_mean'] = True"
   ]
  },
  {
   "cell_type": "code",
   "execution_count": 7,
   "metadata": {},
   "outputs": [],
   "source": [
    "dg_train = load_data(**args, only_test=True)"
   ]
  },
  {
   "cell_type": "code",
   "execution_count": 8,
   "metadata": {},
   "outputs": [],
   "source": [
    "model = build_resnet(\n",
    "    args['filters'], args['kernels'], input_shape=dg_train.shape,\n",
    "    bn_position=args['bn_position'], use_bias=args['use_bias'], l2=args['l2'], skip=args['skip'],\n",
    "    dropout=args['dropout'], activation=args['activation'], long_skip=args['long_skip'],\n",
    "    relu_idxs=args['relu_idxs'], categorical=args['is_categorical'], nvars=len(dg_train.output_idxs)\n",
    ")"
   ]
  },
  {
   "cell_type": "code",
   "execution_count": 9,
   "metadata": {},
   "outputs": [],
   "source": [
    "loss = create_lat_crps_lcgev(dg_train.data.lat, len(dg_train.output_idxs))"
   ]
  },
  {
   "cell_type": "code",
   "execution_count": 10,
   "metadata": {},
   "outputs": [],
   "source": [
    "opt = keras.optimizers.Adam(args['lr'])"
   ]
  },
  {
   "cell_type": "code",
   "execution_count": 11,
   "metadata": {},
   "outputs": [],
   "source": [
    "model.compile(opt, loss, run_eagerly=True)"
   ]
  },
  {
   "cell_type": "code",
   "execution_count": 12,
   "metadata": {},
   "outputs": [
    {
     "name": "stdout",
     "output_type": "stream",
     "text": [
      "Model: \"model\"\n",
      "__________________________________________________________________________________________________\n",
      "Layer (type)                    Output Shape         Param #     Connected to                     \n",
      "==================================================================================================\n",
      "input_1 (InputLayer)            [(None, 32, 64, 117) 0                                            \n",
      "__________________________________________________________________________________________________\n",
      "periodic_conv2d (PeriodicConv2D (None, 32, 64, 128)  733952      input_1[0][0]                    \n",
      "__________________________________________________________________________________________________\n",
      "leaky_re_lu (LeakyReLU)         (None, 32, 64, 128)  0           periodic_conv2d[0][0]            \n",
      "__________________________________________________________________________________________________\n",
      "batch_normalization (BatchNorma (None, 32, 64, 128)  512         leaky_re_lu[0][0]                \n",
      "__________________________________________________________________________________________________\n",
      "dropout (Dropout)               (None, 32, 64, 128)  0           batch_normalization[0][0]        \n",
      "__________________________________________________________________________________________________\n",
      "periodic_conv2d_1 (PeriodicConv (None, 32, 64, 128)  147584      dropout[0][0]                    \n",
      "__________________________________________________________________________________________________\n",
      "leaky_re_lu_1 (LeakyReLU)       (None, 32, 64, 128)  0           periodic_conv2d_1[0][0]          \n",
      "__________________________________________________________________________________________________\n",
      "batch_normalization_1 (BatchNor (None, 32, 64, 128)  512         leaky_re_lu_1[0][0]              \n",
      "__________________________________________________________________________________________________\n",
      "dropout_1 (Dropout)             (None, 32, 64, 128)  0           batch_normalization_1[0][0]      \n",
      "__________________________________________________________________________________________________\n",
      "periodic_conv2d_2 (PeriodicConv (None, 32, 64, 128)  147584      dropout_1[0][0]                  \n",
      "__________________________________________________________________________________________________\n",
      "leaky_re_lu_2 (LeakyReLU)       (None, 32, 64, 128)  0           periodic_conv2d_2[0][0]          \n",
      "__________________________________________________________________________________________________\n",
      "batch_normalization_2 (BatchNor (None, 32, 64, 128)  512         leaky_re_lu_2[0][0]              \n",
      "__________________________________________________________________________________________________\n",
      "dropout_2 (Dropout)             (None, 32, 64, 128)  0           batch_normalization_2[0][0]      \n",
      "__________________________________________________________________________________________________\n",
      "add (Add)                       (None, 32, 64, 128)  0           dropout[0][0]                    \n",
      "                                                                 dropout_2[0][0]                  \n",
      "__________________________________________________________________________________________________\n",
      "periodic_conv2d_3 (PeriodicConv (None, 32, 64, 128)  147584      add[0][0]                        \n",
      "__________________________________________________________________________________________________\n",
      "leaky_re_lu_3 (LeakyReLU)       (None, 32, 64, 128)  0           periodic_conv2d_3[0][0]          \n",
      "__________________________________________________________________________________________________\n",
      "batch_normalization_3 (BatchNor (None, 32, 64, 128)  512         leaky_re_lu_3[0][0]              \n",
      "__________________________________________________________________________________________________\n",
      "dropout_3 (Dropout)             (None, 32, 64, 128)  0           batch_normalization_3[0][0]      \n",
      "__________________________________________________________________________________________________\n",
      "periodic_conv2d_4 (PeriodicConv (None, 32, 64, 128)  147584      dropout_3[0][0]                  \n",
      "__________________________________________________________________________________________________\n",
      "leaky_re_lu_4 (LeakyReLU)       (None, 32, 64, 128)  0           periodic_conv2d_4[0][0]          \n",
      "__________________________________________________________________________________________________\n",
      "batch_normalization_4 (BatchNor (None, 32, 64, 128)  512         leaky_re_lu_4[0][0]              \n",
      "__________________________________________________________________________________________________\n",
      "dropout_4 (Dropout)             (None, 32, 64, 128)  0           batch_normalization_4[0][0]      \n",
      "__________________________________________________________________________________________________\n",
      "add_1 (Add)                     (None, 32, 64, 128)  0           add[0][0]                        \n",
      "                                                                 dropout_4[0][0]                  \n",
      "__________________________________________________________________________________________________\n",
      "periodic_conv2d_5 (PeriodicConv (None, 32, 64, 128)  147584      add_1[0][0]                      \n",
      "__________________________________________________________________________________________________\n",
      "leaky_re_lu_5 (LeakyReLU)       (None, 32, 64, 128)  0           periodic_conv2d_5[0][0]          \n",
      "__________________________________________________________________________________________________\n",
      "batch_normalization_5 (BatchNor (None, 32, 64, 128)  512         leaky_re_lu_5[0][0]              \n",
      "__________________________________________________________________________________________________\n",
      "dropout_5 (Dropout)             (None, 32, 64, 128)  0           batch_normalization_5[0][0]      \n",
      "__________________________________________________________________________________________________\n",
      "periodic_conv2d_6 (PeriodicConv (None, 32, 64, 128)  147584      dropout_5[0][0]                  \n",
      "__________________________________________________________________________________________________\n",
      "leaky_re_lu_6 (LeakyReLU)       (None, 32, 64, 128)  0           periodic_conv2d_6[0][0]          \n",
      "__________________________________________________________________________________________________\n",
      "batch_normalization_6 (BatchNor (None, 32, 64, 128)  512         leaky_re_lu_6[0][0]              \n",
      "__________________________________________________________________________________________________\n",
      "dropout_6 (Dropout)             (None, 32, 64, 128)  0           batch_normalization_6[0][0]      \n",
      "__________________________________________________________________________________________________\n",
      "add_2 (Add)                     (None, 32, 64, 128)  0           add_1[0][0]                      \n",
      "                                                                 dropout_6[0][0]                  \n",
      "__________________________________________________________________________________________________\n",
      "periodic_conv2d_7 (PeriodicConv (None, 32, 64, 128)  147584      add_2[0][0]                      \n",
      "__________________________________________________________________________________________________\n",
      "leaky_re_lu_7 (LeakyReLU)       (None, 32, 64, 128)  0           periodic_conv2d_7[0][0]          \n",
      "__________________________________________________________________________________________________\n",
      "batch_normalization_7 (BatchNor (None, 32, 64, 128)  512         leaky_re_lu_7[0][0]              \n",
      "__________________________________________________________________________________________________\n",
      "dropout_7 (Dropout)             (None, 32, 64, 128)  0           batch_normalization_7[0][0]      \n",
      "__________________________________________________________________________________________________\n",
      "periodic_conv2d_8 (PeriodicConv (None, 32, 64, 128)  147584      dropout_7[0][0]                  \n",
      "__________________________________________________________________________________________________\n",
      "leaky_re_lu_8 (LeakyReLU)       (None, 32, 64, 128)  0           periodic_conv2d_8[0][0]          \n",
      "__________________________________________________________________________________________________\n",
      "batch_normalization_8 (BatchNor (None, 32, 64, 128)  512         leaky_re_lu_8[0][0]              \n",
      "__________________________________________________________________________________________________\n",
      "dropout_8 (Dropout)             (None, 32, 64, 128)  0           batch_normalization_8[0][0]      \n",
      "__________________________________________________________________________________________________\n",
      "add_3 (Add)                     (None, 32, 64, 128)  0           add_2[0][0]                      \n",
      "                                                                 dropout_8[0][0]                  \n",
      "__________________________________________________________________________________________________\n",
      "periodic_conv2d_9 (PeriodicConv (None, 32, 64, 128)  147584      add_3[0][0]                      \n",
      "__________________________________________________________________________________________________\n",
      "leaky_re_lu_9 (LeakyReLU)       (None, 32, 64, 128)  0           periodic_conv2d_9[0][0]          \n",
      "__________________________________________________________________________________________________\n",
      "batch_normalization_9 (BatchNor (None, 32, 64, 128)  512         leaky_re_lu_9[0][0]              \n",
      "__________________________________________________________________________________________________\n",
      "dropout_9 (Dropout)             (None, 32, 64, 128)  0           batch_normalization_9[0][0]      \n",
      "__________________________________________________________________________________________________\n",
      "periodic_conv2d_10 (PeriodicCon (None, 32, 64, 128)  147584      dropout_9[0][0]                  \n",
      "__________________________________________________________________________________________________\n",
      "leaky_re_lu_10 (LeakyReLU)      (None, 32, 64, 128)  0           periodic_conv2d_10[0][0]         \n",
      "__________________________________________________________________________________________________\n",
      "batch_normalization_10 (BatchNo (None, 32, 64, 128)  512         leaky_re_lu_10[0][0]             \n",
      "__________________________________________________________________________________________________\n",
      "dropout_10 (Dropout)            (None, 32, 64, 128)  0           batch_normalization_10[0][0]     \n",
      "__________________________________________________________________________________________________\n",
      "add_4 (Add)                     (None, 32, 64, 128)  0           add_3[0][0]                      \n",
      "                                                                 dropout_10[0][0]                 \n",
      "__________________________________________________________________________________________________\n",
      "periodic_conv2d_11 (PeriodicCon (None, 32, 64, 128)  147584      add_4[0][0]                      \n",
      "__________________________________________________________________________________________________\n",
      "leaky_re_lu_11 (LeakyReLU)      (None, 32, 64, 128)  0           periodic_conv2d_11[0][0]         \n",
      "__________________________________________________________________________________________________\n",
      "batch_normalization_11 (BatchNo (None, 32, 64, 128)  512         leaky_re_lu_11[0][0]             \n",
      "__________________________________________________________________________________________________\n",
      "dropout_11 (Dropout)            (None, 32, 64, 128)  0           batch_normalization_11[0][0]     \n",
      "__________________________________________________________________________________________________\n",
      "periodic_conv2d_12 (PeriodicCon (None, 32, 64, 128)  147584      dropout_11[0][0]                 \n",
      "__________________________________________________________________________________________________\n",
      "leaky_re_lu_12 (LeakyReLU)      (None, 32, 64, 128)  0           periodic_conv2d_12[0][0]         \n",
      "__________________________________________________________________________________________________\n",
      "batch_normalization_12 (BatchNo (None, 32, 64, 128)  512         leaky_re_lu_12[0][0]             \n",
      "__________________________________________________________________________________________________\n",
      "dropout_12 (Dropout)            (None, 32, 64, 128)  0           batch_normalization_12[0][0]     \n",
      "__________________________________________________________________________________________________\n",
      "add_5 (Add)                     (None, 32, 64, 128)  0           add_4[0][0]                      \n",
      "                                                                 dropout_12[0][0]                 \n",
      "__________________________________________________________________________________________________\n",
      "periodic_conv2d_13 (PeriodicCon (None, 32, 64, 128)  147584      add_5[0][0]                      \n",
      "__________________________________________________________________________________________________\n",
      "leaky_re_lu_13 (LeakyReLU)      (None, 32, 64, 128)  0           periodic_conv2d_13[0][0]         \n",
      "__________________________________________________________________________________________________\n",
      "batch_normalization_13 (BatchNo (None, 32, 64, 128)  512         leaky_re_lu_13[0][0]             \n",
      "__________________________________________________________________________________________________\n",
      "dropout_13 (Dropout)            (None, 32, 64, 128)  0           batch_normalization_13[0][0]     \n",
      "__________________________________________________________________________________________________\n",
      "periodic_conv2d_14 (PeriodicCon (None, 32, 64, 128)  147584      dropout_13[0][0]                 \n",
      "__________________________________________________________________________________________________\n",
      "leaky_re_lu_14 (LeakyReLU)      (None, 32, 64, 128)  0           periodic_conv2d_14[0][0]         \n",
      "__________________________________________________________________________________________________\n",
      "batch_normalization_14 (BatchNo (None, 32, 64, 128)  512         leaky_re_lu_14[0][0]             \n",
      "__________________________________________________________________________________________________\n",
      "dropout_14 (Dropout)            (None, 32, 64, 128)  0           batch_normalization_14[0][0]     \n",
      "__________________________________________________________________________________________________\n",
      "add_6 (Add)                     (None, 32, 64, 128)  0           add_5[0][0]                      \n",
      "                                                                 dropout_14[0][0]                 \n",
      "__________________________________________________________________________________________________\n",
      "periodic_conv2d_15 (PeriodicCon (None, 32, 64, 128)  147584      add_6[0][0]                      \n",
      "__________________________________________________________________________________________________\n",
      "leaky_re_lu_15 (LeakyReLU)      (None, 32, 64, 128)  0           periodic_conv2d_15[0][0]         \n",
      "__________________________________________________________________________________________________\n",
      "batch_normalization_15 (BatchNo (None, 32, 64, 128)  512         leaky_re_lu_15[0][0]             \n",
      "__________________________________________________________________________________________________\n",
      "dropout_15 (Dropout)            (None, 32, 64, 128)  0           batch_normalization_15[0][0]     \n",
      "__________________________________________________________________________________________________\n",
      "periodic_conv2d_16 (PeriodicCon (None, 32, 64, 128)  147584      dropout_15[0][0]                 \n",
      "__________________________________________________________________________________________________\n",
      "leaky_re_lu_16 (LeakyReLU)      (None, 32, 64, 128)  0           periodic_conv2d_16[0][0]         \n",
      "__________________________________________________________________________________________________\n",
      "batch_normalization_16 (BatchNo (None, 32, 64, 128)  512         leaky_re_lu_16[0][0]             \n",
      "__________________________________________________________________________________________________\n",
      "dropout_16 (Dropout)            (None, 32, 64, 128)  0           batch_normalization_16[0][0]     \n",
      "__________________________________________________________________________________________________\n",
      "add_7 (Add)                     (None, 32, 64, 128)  0           add_6[0][0]                      \n",
      "                                                                 dropout_16[0][0]                 \n",
      "__________________________________________________________________________________________________\n",
      "periodic_conv2d_17 (PeriodicCon (None, 32, 64, 128)  147584      add_7[0][0]                      \n",
      "__________________________________________________________________________________________________\n",
      "leaky_re_lu_17 (LeakyReLU)      (None, 32, 64, 128)  0           periodic_conv2d_17[0][0]         \n",
      "__________________________________________________________________________________________________\n",
      "batch_normalization_17 (BatchNo (None, 32, 64, 128)  512         leaky_re_lu_17[0][0]             \n",
      "__________________________________________________________________________________________________\n",
      "dropout_17 (Dropout)            (None, 32, 64, 128)  0           batch_normalization_17[0][0]     \n",
      "__________________________________________________________________________________________________\n",
      "periodic_conv2d_18 (PeriodicCon (None, 32, 64, 128)  147584      dropout_17[0][0]                 \n",
      "__________________________________________________________________________________________________\n",
      "leaky_re_lu_18 (LeakyReLU)      (None, 32, 64, 128)  0           periodic_conv2d_18[0][0]         \n",
      "__________________________________________________________________________________________________\n",
      "batch_normalization_18 (BatchNo (None, 32, 64, 128)  512         leaky_re_lu_18[0][0]             \n",
      "__________________________________________________________________________________________________\n",
      "dropout_18 (Dropout)            (None, 32, 64, 128)  0           batch_normalization_18[0][0]     \n",
      "__________________________________________________________________________________________________\n",
      "add_8 (Add)                     (None, 32, 64, 128)  0           add_7[0][0]                      \n",
      "                                                                 dropout_18[0][0]                 \n",
      "__________________________________________________________________________________________________\n",
      "periodic_conv2d_19 (PeriodicCon (None, 32, 64, 128)  147584      add_8[0][0]                      \n",
      "__________________________________________________________________________________________________\n",
      "leaky_re_lu_19 (LeakyReLU)      (None, 32, 64, 128)  0           periodic_conv2d_19[0][0]         \n",
      "__________________________________________________________________________________________________\n",
      "batch_normalization_19 (BatchNo (None, 32, 64, 128)  512         leaky_re_lu_19[0][0]             \n",
      "__________________________________________________________________________________________________\n",
      "dropout_19 (Dropout)            (None, 32, 64, 128)  0           batch_normalization_19[0][0]     \n",
      "__________________________________________________________________________________________________\n",
      "periodic_conv2d_20 (PeriodicCon (None, 32, 64, 128)  147584      dropout_19[0][0]                 \n",
      "__________________________________________________________________________________________________\n",
      "leaky_re_lu_20 (LeakyReLU)      (None, 32, 64, 128)  0           periodic_conv2d_20[0][0]         \n",
      "__________________________________________________________________________________________________\n",
      "batch_normalization_20 (BatchNo (None, 32, 64, 128)  512         leaky_re_lu_20[0][0]             \n",
      "__________________________________________________________________________________________________\n",
      "dropout_20 (Dropout)            (None, 32, 64, 128)  0           batch_normalization_20[0][0]     \n",
      "__________________________________________________________________________________________________\n",
      "add_9 (Add)                     (None, 32, 64, 128)  0           add_8[0][0]                      \n",
      "                                                                 dropout_20[0][0]                 \n",
      "__________________________________________________________________________________________________\n",
      "periodic_conv2d_21 (PeriodicCon (None, 32, 64, 128)  147584      add_9[0][0]                      \n",
      "__________________________________________________________________________________________________\n",
      "leaky_re_lu_21 (LeakyReLU)      (None, 32, 64, 128)  0           periodic_conv2d_21[0][0]         \n",
      "__________________________________________________________________________________________________\n",
      "batch_normalization_21 (BatchNo (None, 32, 64, 128)  512         leaky_re_lu_21[0][0]             \n",
      "__________________________________________________________________________________________________\n",
      "dropout_21 (Dropout)            (None, 32, 64, 128)  0           batch_normalization_21[0][0]     \n",
      "__________________________________________________________________________________________________\n",
      "periodic_conv2d_22 (PeriodicCon (None, 32, 64, 128)  147584      dropout_21[0][0]                 \n",
      "__________________________________________________________________________________________________\n",
      "leaky_re_lu_22 (LeakyReLU)      (None, 32, 64, 128)  0           periodic_conv2d_22[0][0]         \n",
      "__________________________________________________________________________________________________\n",
      "batch_normalization_22 (BatchNo (None, 32, 64, 128)  512         leaky_re_lu_22[0][0]             \n",
      "__________________________________________________________________________________________________\n",
      "dropout_22 (Dropout)            (None, 32, 64, 128)  0           batch_normalization_22[0][0]     \n",
      "__________________________________________________________________________________________________\n",
      "add_10 (Add)                    (None, 32, 64, 128)  0           add_9[0][0]                      \n",
      "                                                                 dropout_22[0][0]                 \n",
      "__________________________________________________________________________________________________\n",
      "periodic_conv2d_23 (PeriodicCon (None, 32, 64, 128)  147584      add_10[0][0]                     \n",
      "__________________________________________________________________________________________________\n",
      "leaky_re_lu_23 (LeakyReLU)      (None, 32, 64, 128)  0           periodic_conv2d_23[0][0]         \n",
      "__________________________________________________________________________________________________\n",
      "batch_normalization_23 (BatchNo (None, 32, 64, 128)  512         leaky_re_lu_23[0][0]             \n",
      "__________________________________________________________________________________________________\n",
      "dropout_23 (Dropout)            (None, 32, 64, 128)  0           batch_normalization_23[0][0]     \n",
      "__________________________________________________________________________________________________\n",
      "periodic_conv2d_24 (PeriodicCon (None, 32, 64, 128)  147584      dropout_23[0][0]                 \n",
      "__________________________________________________________________________________________________\n",
      "leaky_re_lu_24 (LeakyReLU)      (None, 32, 64, 128)  0           periodic_conv2d_24[0][0]         \n",
      "__________________________________________________________________________________________________\n",
      "batch_normalization_24 (BatchNo (None, 32, 64, 128)  512         leaky_re_lu_24[0][0]             \n",
      "__________________________________________________________________________________________________\n",
      "dropout_24 (Dropout)            (None, 32, 64, 128)  0           batch_normalization_24[0][0]     \n",
      "__________________________________________________________________________________________________\n",
      "add_11 (Add)                    (None, 32, 64, 128)  0           add_10[0][0]                     \n",
      "                                                                 dropout_24[0][0]                 \n",
      "__________________________________________________________________________________________________\n",
      "periodic_conv2d_25 (PeriodicCon (None, 32, 64, 128)  147584      add_11[0][0]                     \n",
      "__________________________________________________________________________________________________\n",
      "leaky_re_lu_25 (LeakyReLU)      (None, 32, 64, 128)  0           periodic_conv2d_25[0][0]         \n",
      "__________________________________________________________________________________________________\n",
      "batch_normalization_25 (BatchNo (None, 32, 64, 128)  512         leaky_re_lu_25[0][0]             \n",
      "__________________________________________________________________________________________________\n",
      "dropout_25 (Dropout)            (None, 32, 64, 128)  0           batch_normalization_25[0][0]     \n",
      "__________________________________________________________________________________________________\n",
      "periodic_conv2d_26 (PeriodicCon (None, 32, 64, 128)  147584      dropout_25[0][0]                 \n",
      "__________________________________________________________________________________________________\n",
      "leaky_re_lu_26 (LeakyReLU)      (None, 32, 64, 128)  0           periodic_conv2d_26[0][0]         \n",
      "__________________________________________________________________________________________________\n",
      "batch_normalization_26 (BatchNo (None, 32, 64, 128)  512         leaky_re_lu_26[0][0]             \n",
      "__________________________________________________________________________________________________\n",
      "dropout_26 (Dropout)            (None, 32, 64, 128)  0           batch_normalization_26[0][0]     \n",
      "__________________________________________________________________________________________________\n",
      "add_12 (Add)                    (None, 32, 64, 128)  0           add_11[0][0]                     \n",
      "                                                                 dropout_26[0][0]                 \n",
      "__________________________________________________________________________________________________\n",
      "periodic_conv2d_27 (PeriodicCon (None, 32, 64, 128)  147584      add_12[0][0]                     \n",
      "__________________________________________________________________________________________________\n",
      "leaky_re_lu_27 (LeakyReLU)      (None, 32, 64, 128)  0           periodic_conv2d_27[0][0]         \n",
      "__________________________________________________________________________________________________\n",
      "batch_normalization_27 (BatchNo (None, 32, 64, 128)  512         leaky_re_lu_27[0][0]             \n",
      "__________________________________________________________________________________________________\n",
      "dropout_27 (Dropout)            (None, 32, 64, 128)  0           batch_normalization_27[0][0]     \n",
      "__________________________________________________________________________________________________\n",
      "periodic_conv2d_28 (PeriodicCon (None, 32, 64, 128)  147584      dropout_27[0][0]                 \n",
      "__________________________________________________________________________________________________\n",
      "leaky_re_lu_28 (LeakyReLU)      (None, 32, 64, 128)  0           periodic_conv2d_28[0][0]         \n",
      "__________________________________________________________________________________________________\n",
      "batch_normalization_28 (BatchNo (None, 32, 64, 128)  512         leaky_re_lu_28[0][0]             \n",
      "__________________________________________________________________________________________________\n",
      "dropout_28 (Dropout)            (None, 32, 64, 128)  0           batch_normalization_28[0][0]     \n",
      "__________________________________________________________________________________________________\n",
      "add_13 (Add)                    (None, 32, 64, 128)  0           add_12[0][0]                     \n",
      "                                                                 dropout_28[0][0]                 \n",
      "__________________________________________________________________________________________________\n",
      "periodic_conv2d_29 (PeriodicCon (None, 32, 64, 128)  147584      add_13[0][0]                     \n",
      "__________________________________________________________________________________________________\n",
      "leaky_re_lu_29 (LeakyReLU)      (None, 32, 64, 128)  0           periodic_conv2d_29[0][0]         \n",
      "__________________________________________________________________________________________________\n",
      "batch_normalization_29 (BatchNo (None, 32, 64, 128)  512         leaky_re_lu_29[0][0]             \n",
      "__________________________________________________________________________________________________\n",
      "dropout_29 (Dropout)            (None, 32, 64, 128)  0           batch_normalization_29[0][0]     \n",
      "__________________________________________________________________________________________________\n",
      "periodic_conv2d_30 (PeriodicCon (None, 32, 64, 128)  147584      dropout_29[0][0]                 \n",
      "__________________________________________________________________________________________________\n",
      "leaky_re_lu_30 (LeakyReLU)      (None, 32, 64, 128)  0           periodic_conv2d_30[0][0]         \n",
      "__________________________________________________________________________________________________\n",
      "batch_normalization_30 (BatchNo (None, 32, 64, 128)  512         leaky_re_lu_30[0][0]             \n",
      "__________________________________________________________________________________________________\n",
      "dropout_30 (Dropout)            (None, 32, 64, 128)  0           batch_normalization_30[0][0]     \n",
      "__________________________________________________________________________________________________\n",
      "add_14 (Add)                    (None, 32, 64, 128)  0           add_13[0][0]                     \n",
      "                                                                 dropout_30[0][0]                 \n",
      "__________________________________________________________________________________________________\n",
      "periodic_conv2d_31 (PeriodicCon (None, 32, 64, 128)  147584      add_14[0][0]                     \n",
      "__________________________________________________________________________________________________\n",
      "leaky_re_lu_31 (LeakyReLU)      (None, 32, 64, 128)  0           periodic_conv2d_31[0][0]         \n",
      "__________________________________________________________________________________________________\n",
      "batch_normalization_31 (BatchNo (None, 32, 64, 128)  512         leaky_re_lu_31[0][0]             \n",
      "__________________________________________________________________________________________________\n",
      "dropout_31 (Dropout)            (None, 32, 64, 128)  0           batch_normalization_31[0][0]     \n",
      "__________________________________________________________________________________________________\n",
      "periodic_conv2d_32 (PeriodicCon (None, 32, 64, 128)  147584      dropout_31[0][0]                 \n",
      "__________________________________________________________________________________________________\n",
      "leaky_re_lu_32 (LeakyReLU)      (None, 32, 64, 128)  0           periodic_conv2d_32[0][0]         \n",
      "__________________________________________________________________________________________________\n",
      "batch_normalization_32 (BatchNo (None, 32, 64, 128)  512         leaky_re_lu_32[0][0]             \n",
      "__________________________________________________________________________________________________\n",
      "dropout_32 (Dropout)            (None, 32, 64, 128)  0           batch_normalization_32[0][0]     \n",
      "__________________________________________________________________________________________________\n",
      "add_15 (Add)                    (None, 32, 64, 128)  0           add_14[0][0]                     \n",
      "                                                                 dropout_32[0][0]                 \n",
      "__________________________________________________________________________________________________\n",
      "periodic_conv2d_33 (PeriodicCon (None, 32, 64, 128)  147584      add_15[0][0]                     \n",
      "__________________________________________________________________________________________________\n",
      "leaky_re_lu_33 (LeakyReLU)      (None, 32, 64, 128)  0           periodic_conv2d_33[0][0]         \n",
      "__________________________________________________________________________________________________\n",
      "batch_normalization_33 (BatchNo (None, 32, 64, 128)  512         leaky_re_lu_33[0][0]             \n",
      "__________________________________________________________________________________________________\n",
      "dropout_33 (Dropout)            (None, 32, 64, 128)  0           batch_normalization_33[0][0]     \n",
      "__________________________________________________________________________________________________\n",
      "periodic_conv2d_34 (PeriodicCon (None, 32, 64, 128)  147584      dropout_33[0][0]                 \n",
      "__________________________________________________________________________________________________\n",
      "leaky_re_lu_34 (LeakyReLU)      (None, 32, 64, 128)  0           periodic_conv2d_34[0][0]         \n",
      "__________________________________________________________________________________________________\n",
      "batch_normalization_34 (BatchNo (None, 32, 64, 128)  512         leaky_re_lu_34[0][0]             \n",
      "__________________________________________________________________________________________________\n",
      "dropout_34 (Dropout)            (None, 32, 64, 128)  0           batch_normalization_34[0][0]     \n",
      "__________________________________________________________________________________________________\n",
      "add_16 (Add)                    (None, 32, 64, 128)  0           add_15[0][0]                     \n",
      "                                                                 dropout_34[0][0]                 \n",
      "__________________________________________________________________________________________________\n",
      "periodic_conv2d_35 (PeriodicCon (None, 32, 64, 128)  147584      add_16[0][0]                     \n",
      "__________________________________________________________________________________________________\n",
      "leaky_re_lu_35 (LeakyReLU)      (None, 32, 64, 128)  0           periodic_conv2d_35[0][0]         \n",
      "__________________________________________________________________________________________________\n",
      "batch_normalization_35 (BatchNo (None, 32, 64, 128)  512         leaky_re_lu_35[0][0]             \n",
      "__________________________________________________________________________________________________\n",
      "dropout_35 (Dropout)            (None, 32, 64, 128)  0           batch_normalization_35[0][0]     \n",
      "__________________________________________________________________________________________________\n",
      "periodic_conv2d_36 (PeriodicCon (None, 32, 64, 128)  147584      dropout_35[0][0]                 \n",
      "__________________________________________________________________________________________________\n",
      "leaky_re_lu_36 (LeakyReLU)      (None, 32, 64, 128)  0           periodic_conv2d_36[0][0]         \n",
      "__________________________________________________________________________________________________\n",
      "batch_normalization_36 (BatchNo (None, 32, 64, 128)  512         leaky_re_lu_36[0][0]             \n",
      "__________________________________________________________________________________________________\n",
      "dropout_36 (Dropout)            (None, 32, 64, 128)  0           batch_normalization_36[0][0]     \n",
      "__________________________________________________________________________________________________\n",
      "add_17 (Add)                    (None, 32, 64, 128)  0           add_16[0][0]                     \n",
      "                                                                 dropout_36[0][0]                 \n",
      "__________________________________________________________________________________________________\n",
      "periodic_conv2d_37 (PeriodicCon (None, 32, 64, 128)  147584      add_17[0][0]                     \n",
      "__________________________________________________________________________________________________\n",
      "leaky_re_lu_37 (LeakyReLU)      (None, 32, 64, 128)  0           periodic_conv2d_37[0][0]         \n",
      "__________________________________________________________________________________________________\n",
      "batch_normalization_37 (BatchNo (None, 32, 64, 128)  512         leaky_re_lu_37[0][0]             \n",
      "__________________________________________________________________________________________________\n",
      "dropout_37 (Dropout)            (None, 32, 64, 128)  0           batch_normalization_37[0][0]     \n",
      "__________________________________________________________________________________________________\n",
      "periodic_conv2d_38 (PeriodicCon (None, 32, 64, 128)  147584      dropout_37[0][0]                 \n",
      "__________________________________________________________________________________________________\n",
      "leaky_re_lu_38 (LeakyReLU)      (None, 32, 64, 128)  0           periodic_conv2d_38[0][0]         \n",
      "__________________________________________________________________________________________________\n",
      "batch_normalization_38 (BatchNo (None, 32, 64, 128)  512         leaky_re_lu_38[0][0]             \n",
      "__________________________________________________________________________________________________\n",
      "dropout_38 (Dropout)            (None, 32, 64, 128)  0           batch_normalization_38[0][0]     \n",
      "__________________________________________________________________________________________________\n",
      "add_18 (Add)                    (None, 32, 64, 128)  0           add_17[0][0]                     \n",
      "                                                                 dropout_38[0][0]                 \n",
      "__________________________________________________________________________________________________\n",
      "periodic_conv2d_39 (PeriodicCon (None, 32, 64, 3)    3459        add_18[0][0]                     \n",
      "__________________________________________________________________________________________________\n",
      "activation (Activation)         (None, 32, 64, 3)    0           periodic_conv2d_39[0][0]         \n",
      "==================================================================================================\n",
      "Total params: 6,365,571\n",
      "Trainable params: 6,355,587\n",
      "Non-trainable params: 9,984\n",
      "__________________________________________________________________________________________________\n"
     ]
    }
   ],
   "source": [
    "model.summary()"
   ]
  },
  {
   "cell_type": "code",
   "execution_count": 14,
   "metadata": {
    "scrolled": false
   },
   "outputs": [
    {
     "name": "stdout",
     "output_type": "stream",
     "text": [
      " 94/545 [====>.........................] - ETA: 2:24 - loss: 3.4646"
     ]
    },
    {
     "ename": "KeyboardInterrupt",
     "evalue": "",
     "output_type": "error",
     "traceback": [
      "\u001b[0;31m---------------------------------------------------------------------------\u001b[0m",
      "\u001b[0;31mKeyboardInterrupt\u001b[0m                         Traceback (most recent call last)",
      "\u001b[0;32m<ipython-input-14-75c903cec202>\u001b[0m in \u001b[0;36m<module>\u001b[0;34m\u001b[0m\n\u001b[1;32m      1\u001b[0m model.fit(\n\u001b[1;32m      2\u001b[0m     \u001b[0mdg_train\u001b[0m\u001b[0;34m.\u001b[0m\u001b[0mtfr_dataset\u001b[0m \u001b[0;32mor\u001b[0m \u001b[0mdg_train\u001b[0m\u001b[0;34m,\u001b[0m\u001b[0;34m\u001b[0m\u001b[0;34m\u001b[0m\u001b[0m\n\u001b[0;32m----> 3\u001b[0;31m     \u001b[0mepochs\u001b[0m\u001b[0;34m=\u001b[0m\u001b[0;36m1\u001b[0m\u001b[0;34m,\u001b[0m\u001b[0;34m\u001b[0m\u001b[0;34m\u001b[0m\u001b[0m\n\u001b[0m\u001b[1;32m      4\u001b[0m )\n",
      "\u001b[0;32m~/miniconda3/lib/python3.7/site-packages/tensorflow/python/keras/engine/training.py\u001b[0m in \u001b[0;36m_method_wrapper\u001b[0;34m(self, *args, **kwargs)\u001b[0m\n\u001b[1;32m     64\u001b[0m   \u001b[0;32mdef\u001b[0m \u001b[0m_method_wrapper\u001b[0m\u001b[0;34m(\u001b[0m\u001b[0mself\u001b[0m\u001b[0;34m,\u001b[0m \u001b[0;34m*\u001b[0m\u001b[0margs\u001b[0m\u001b[0;34m,\u001b[0m \u001b[0;34m**\u001b[0m\u001b[0mkwargs\u001b[0m\u001b[0;34m)\u001b[0m\u001b[0;34m:\u001b[0m\u001b[0;34m\u001b[0m\u001b[0;34m\u001b[0m\u001b[0m\n\u001b[1;32m     65\u001b[0m     \u001b[0;32mif\u001b[0m \u001b[0;32mnot\u001b[0m \u001b[0mself\u001b[0m\u001b[0;34m.\u001b[0m\u001b[0m_in_multi_worker_mode\u001b[0m\u001b[0;34m(\u001b[0m\u001b[0;34m)\u001b[0m\u001b[0;34m:\u001b[0m  \u001b[0;31m# pylint: disable=protected-access\u001b[0m\u001b[0;34m\u001b[0m\u001b[0;34m\u001b[0m\u001b[0m\n\u001b[0;32m---> 66\u001b[0;31m       \u001b[0;32mreturn\u001b[0m \u001b[0mmethod\u001b[0m\u001b[0;34m(\u001b[0m\u001b[0mself\u001b[0m\u001b[0;34m,\u001b[0m \u001b[0;34m*\u001b[0m\u001b[0margs\u001b[0m\u001b[0;34m,\u001b[0m \u001b[0;34m**\u001b[0m\u001b[0mkwargs\u001b[0m\u001b[0;34m)\u001b[0m\u001b[0;34m\u001b[0m\u001b[0;34m\u001b[0m\u001b[0m\n\u001b[0m\u001b[1;32m     67\u001b[0m \u001b[0;34m\u001b[0m\u001b[0m\n\u001b[1;32m     68\u001b[0m     \u001b[0;31m# Running inside `run_distribute_coordinator` already.\u001b[0m\u001b[0;34m\u001b[0m\u001b[0;34m\u001b[0m\u001b[0;34m\u001b[0m\u001b[0m\n",
      "\u001b[0;32m~/miniconda3/lib/python3.7/site-packages/tensorflow/python/keras/engine/training.py\u001b[0m in \u001b[0;36mfit\u001b[0;34m(self, x, y, batch_size, epochs, verbose, callbacks, validation_split, validation_data, shuffle, class_weight, sample_weight, initial_epoch, steps_per_epoch, validation_steps, validation_batch_size, validation_freq, max_queue_size, workers, use_multiprocessing)\u001b[0m\n\u001b[1;32m    846\u001b[0m                 batch_size=batch_size):\n\u001b[1;32m    847\u001b[0m               \u001b[0mcallbacks\u001b[0m\u001b[0;34m.\u001b[0m\u001b[0mon_train_batch_begin\u001b[0m\u001b[0;34m(\u001b[0m\u001b[0mstep\u001b[0m\u001b[0;34m)\u001b[0m\u001b[0;34m\u001b[0m\u001b[0;34m\u001b[0m\u001b[0m\n\u001b[0;32m--> 848\u001b[0;31m               \u001b[0mtmp_logs\u001b[0m \u001b[0;34m=\u001b[0m \u001b[0mtrain_function\u001b[0m\u001b[0;34m(\u001b[0m\u001b[0miterator\u001b[0m\u001b[0;34m)\u001b[0m\u001b[0;34m\u001b[0m\u001b[0;34m\u001b[0m\u001b[0m\n\u001b[0m\u001b[1;32m    849\u001b[0m               \u001b[0;31m# Catch OutOfRangeError for Datasets of unknown size.\u001b[0m\u001b[0;34m\u001b[0m\u001b[0;34m\u001b[0m\u001b[0;34m\u001b[0m\u001b[0m\n\u001b[1;32m    850\u001b[0m               \u001b[0;31m# This blocks until the batch has finished executing.\u001b[0m\u001b[0;34m\u001b[0m\u001b[0;34m\u001b[0m\u001b[0;34m\u001b[0m\u001b[0m\n",
      "\u001b[0;32m~/miniconda3/lib/python3.7/site-packages/tensorflow/python/keras/engine/training.py\u001b[0m in \u001b[0;36mtrain_function\u001b[0;34m(iterator)\u001b[0m\n\u001b[1;32m    570\u001b[0m       \u001b[0mdata\u001b[0m \u001b[0;34m=\u001b[0m \u001b[0mnext\u001b[0m\u001b[0;34m(\u001b[0m\u001b[0miterator\u001b[0m\u001b[0;34m)\u001b[0m\u001b[0;34m\u001b[0m\u001b[0;34m\u001b[0m\u001b[0m\n\u001b[1;32m    571\u001b[0m       outputs = self.distribute_strategy.run(\n\u001b[0;32m--> 572\u001b[0;31m           self.train_step, args=(data,))\n\u001b[0m\u001b[1;32m    573\u001b[0m       outputs = reduce_per_replica(\n\u001b[1;32m    574\u001b[0m           outputs, self.distribute_strategy, reduction='first')\n",
      "\u001b[0;32m~/miniconda3/lib/python3.7/site-packages/tensorflow/python/distribute/distribute_lib.py\u001b[0m in \u001b[0;36mrun\u001b[0;34m(***failed resolving arguments***)\u001b[0m\n\u001b[1;32m    949\u001b[0m       fn = autograph.tf_convert(\n\u001b[1;32m    950\u001b[0m           fn, autograph_ctx.control_status_ctx(), convert_by_default=False)\n\u001b[0;32m--> 951\u001b[0;31m       \u001b[0;32mreturn\u001b[0m \u001b[0mself\u001b[0m\u001b[0;34m.\u001b[0m\u001b[0m_extended\u001b[0m\u001b[0;34m.\u001b[0m\u001b[0mcall_for_each_replica\u001b[0m\u001b[0;34m(\u001b[0m\u001b[0mfn\u001b[0m\u001b[0;34m,\u001b[0m \u001b[0margs\u001b[0m\u001b[0;34m=\u001b[0m\u001b[0margs\u001b[0m\u001b[0;34m,\u001b[0m \u001b[0mkwargs\u001b[0m\u001b[0;34m=\u001b[0m\u001b[0mkwargs\u001b[0m\u001b[0;34m)\u001b[0m\u001b[0;34m\u001b[0m\u001b[0;34m\u001b[0m\u001b[0m\n\u001b[0m\u001b[1;32m    952\u001b[0m \u001b[0;34m\u001b[0m\u001b[0m\n\u001b[1;32m    953\u001b[0m   \u001b[0;31m# TODO(b/151224785): Remove deprecated alias.\u001b[0m\u001b[0;34m\u001b[0m\u001b[0;34m\u001b[0m\u001b[0;34m\u001b[0m\u001b[0m\n",
      "\u001b[0;32m~/miniconda3/lib/python3.7/site-packages/tensorflow/python/distribute/distribute_lib.py\u001b[0m in \u001b[0;36mcall_for_each_replica\u001b[0;34m(self, fn, args, kwargs)\u001b[0m\n\u001b[1;32m   2288\u001b[0m       \u001b[0mkwargs\u001b[0m \u001b[0;34m=\u001b[0m \u001b[0;34m{\u001b[0m\u001b[0;34m}\u001b[0m\u001b[0;34m\u001b[0m\u001b[0;34m\u001b[0m\u001b[0m\n\u001b[1;32m   2289\u001b[0m     \u001b[0;32mwith\u001b[0m \u001b[0mself\u001b[0m\u001b[0;34m.\u001b[0m\u001b[0m_container_strategy\u001b[0m\u001b[0;34m(\u001b[0m\u001b[0;34m)\u001b[0m\u001b[0;34m.\u001b[0m\u001b[0mscope\u001b[0m\u001b[0;34m(\u001b[0m\u001b[0;34m)\u001b[0m\u001b[0;34m:\u001b[0m\u001b[0;34m\u001b[0m\u001b[0;34m\u001b[0m\u001b[0m\n\u001b[0;32m-> 2290\u001b[0;31m       \u001b[0;32mreturn\u001b[0m \u001b[0mself\u001b[0m\u001b[0;34m.\u001b[0m\u001b[0m_call_for_each_replica\u001b[0m\u001b[0;34m(\u001b[0m\u001b[0mfn\u001b[0m\u001b[0;34m,\u001b[0m \u001b[0margs\u001b[0m\u001b[0;34m,\u001b[0m \u001b[0mkwargs\u001b[0m\u001b[0;34m)\u001b[0m\u001b[0;34m\u001b[0m\u001b[0;34m\u001b[0m\u001b[0m\n\u001b[0m\u001b[1;32m   2291\u001b[0m \u001b[0;34m\u001b[0m\u001b[0m\n\u001b[1;32m   2292\u001b[0m   \u001b[0;32mdef\u001b[0m \u001b[0m_call_for_each_replica\u001b[0m\u001b[0;34m(\u001b[0m\u001b[0mself\u001b[0m\u001b[0;34m,\u001b[0m \u001b[0mfn\u001b[0m\u001b[0;34m,\u001b[0m \u001b[0margs\u001b[0m\u001b[0;34m,\u001b[0m \u001b[0mkwargs\u001b[0m\u001b[0;34m)\u001b[0m\u001b[0;34m:\u001b[0m\u001b[0;34m\u001b[0m\u001b[0;34m\u001b[0m\u001b[0m\n",
      "\u001b[0;32m~/miniconda3/lib/python3.7/site-packages/tensorflow/python/distribute/distribute_lib.py\u001b[0m in \u001b[0;36m_call_for_each_replica\u001b[0;34m(self, fn, args, kwargs)\u001b[0m\n\u001b[1;32m   2647\u001b[0m         \u001b[0mself\u001b[0m\u001b[0;34m.\u001b[0m\u001b[0m_container_strategy\u001b[0m\u001b[0;34m(\u001b[0m\u001b[0;34m)\u001b[0m\u001b[0;34m,\u001b[0m\u001b[0;34m\u001b[0m\u001b[0;34m\u001b[0m\u001b[0m\n\u001b[1;32m   2648\u001b[0m         replica_id_in_sync_group=constant_op.constant(0, dtypes.int32)):\n\u001b[0;32m-> 2649\u001b[0;31m       \u001b[0;32mreturn\u001b[0m \u001b[0mfn\u001b[0m\u001b[0;34m(\u001b[0m\u001b[0;34m*\u001b[0m\u001b[0margs\u001b[0m\u001b[0;34m,\u001b[0m \u001b[0;34m**\u001b[0m\u001b[0mkwargs\u001b[0m\u001b[0;34m)\u001b[0m\u001b[0;34m\u001b[0m\u001b[0;34m\u001b[0m\u001b[0m\n\u001b[0m\u001b[1;32m   2650\u001b[0m \u001b[0;34m\u001b[0m\u001b[0m\n\u001b[1;32m   2651\u001b[0m   \u001b[0;32mdef\u001b[0m \u001b[0m_reduce_to\u001b[0m\u001b[0;34m(\u001b[0m\u001b[0mself\u001b[0m\u001b[0;34m,\u001b[0m \u001b[0mreduce_op\u001b[0m\u001b[0;34m,\u001b[0m \u001b[0mvalue\u001b[0m\u001b[0;34m,\u001b[0m \u001b[0mdestinations\u001b[0m\u001b[0;34m,\u001b[0m \u001b[0mexperimental_hints\u001b[0m\u001b[0;34m)\u001b[0m\u001b[0;34m:\u001b[0m\u001b[0;34m\u001b[0m\u001b[0;34m\u001b[0m\u001b[0m\n",
      "\u001b[0;32m~/miniconda3/lib/python3.7/site-packages/tensorflow/python/autograph/impl/api.py\u001b[0m in \u001b[0;36mwrapper\u001b[0;34m(*args, **kwargs)\u001b[0m\n\u001b[1;32m    280\u001b[0m   \u001b[0;32mdef\u001b[0m \u001b[0mwrapper\u001b[0m\u001b[0;34m(\u001b[0m\u001b[0;34m*\u001b[0m\u001b[0margs\u001b[0m\u001b[0;34m,\u001b[0m \u001b[0;34m**\u001b[0m\u001b[0mkwargs\u001b[0m\u001b[0;34m)\u001b[0m\u001b[0;34m:\u001b[0m\u001b[0;34m\u001b[0m\u001b[0;34m\u001b[0m\u001b[0m\n\u001b[1;32m    281\u001b[0m     \u001b[0;32mwith\u001b[0m \u001b[0mag_ctx\u001b[0m\u001b[0;34m.\u001b[0m\u001b[0mControlStatusCtx\u001b[0m\u001b[0;34m(\u001b[0m\u001b[0mstatus\u001b[0m\u001b[0;34m=\u001b[0m\u001b[0mag_ctx\u001b[0m\u001b[0;34m.\u001b[0m\u001b[0mStatus\u001b[0m\u001b[0;34m.\u001b[0m\u001b[0mUNSPECIFIED\u001b[0m\u001b[0;34m)\u001b[0m\u001b[0;34m:\u001b[0m\u001b[0;34m\u001b[0m\u001b[0;34m\u001b[0m\u001b[0m\n\u001b[0;32m--> 282\u001b[0;31m       \u001b[0;32mreturn\u001b[0m \u001b[0mfunc\u001b[0m\u001b[0;34m(\u001b[0m\u001b[0;34m*\u001b[0m\u001b[0margs\u001b[0m\u001b[0;34m,\u001b[0m \u001b[0;34m**\u001b[0m\u001b[0mkwargs\u001b[0m\u001b[0;34m)\u001b[0m\u001b[0;34m\u001b[0m\u001b[0;34m\u001b[0m\u001b[0m\n\u001b[0m\u001b[1;32m    283\u001b[0m \u001b[0;34m\u001b[0m\u001b[0m\n\u001b[1;32m    284\u001b[0m   \u001b[0;32mif\u001b[0m \u001b[0minspect\u001b[0m\u001b[0;34m.\u001b[0m\u001b[0misfunction\u001b[0m\u001b[0;34m(\u001b[0m\u001b[0mfunc\u001b[0m\u001b[0;34m)\u001b[0m \u001b[0;32mor\u001b[0m \u001b[0minspect\u001b[0m\u001b[0;34m.\u001b[0m\u001b[0mismethod\u001b[0m\u001b[0;34m(\u001b[0m\u001b[0mfunc\u001b[0m\u001b[0;34m)\u001b[0m\u001b[0;34m:\u001b[0m\u001b[0;34m\u001b[0m\u001b[0;34m\u001b[0m\u001b[0m\n",
      "\u001b[0;32m~/miniconda3/lib/python3.7/site-packages/tensorflow/python/keras/engine/training.py\u001b[0m in \u001b[0;36mtrain_step\u001b[0;34m(self, data)\u001b[0m\n\u001b[1;32m    539\u001b[0m     \u001b[0;31m# such as loss scaling and gradient clipping.\u001b[0m\u001b[0;34m\u001b[0m\u001b[0;34m\u001b[0m\u001b[0;34m\u001b[0m\u001b[0m\n\u001b[1;32m    540\u001b[0m     _minimize(self.distribute_strategy, tape, self.optimizer, loss,\n\u001b[0;32m--> 541\u001b[0;31m               self.trainable_variables)\n\u001b[0m\u001b[1;32m    542\u001b[0m \u001b[0;34m\u001b[0m\u001b[0m\n\u001b[1;32m    543\u001b[0m     \u001b[0mself\u001b[0m\u001b[0;34m.\u001b[0m\u001b[0mcompiled_metrics\u001b[0m\u001b[0;34m.\u001b[0m\u001b[0mupdate_state\u001b[0m\u001b[0;34m(\u001b[0m\u001b[0my\u001b[0m\u001b[0;34m,\u001b[0m \u001b[0my_pred\u001b[0m\u001b[0;34m,\u001b[0m \u001b[0msample_weight\u001b[0m\u001b[0;34m)\u001b[0m\u001b[0;34m\u001b[0m\u001b[0;34m\u001b[0m\u001b[0m\n",
      "\u001b[0;32m~/miniconda3/lib/python3.7/site-packages/tensorflow/python/keras/engine/base_layer.py\u001b[0m in \u001b[0;36mtrainable_variables\u001b[0;34m(self)\u001b[0m\n\u001b[1;32m   1970\u001b[0m   \u001b[0;34m@\u001b[0m\u001b[0mdoc_controls\u001b[0m\u001b[0;34m.\u001b[0m\u001b[0mdo_not_generate_docs\u001b[0m\u001b[0;34m\u001b[0m\u001b[0;34m\u001b[0m\u001b[0m\n\u001b[1;32m   1971\u001b[0m   \u001b[0;32mdef\u001b[0m \u001b[0mtrainable_variables\u001b[0m\u001b[0;34m(\u001b[0m\u001b[0mself\u001b[0m\u001b[0;34m)\u001b[0m\u001b[0;34m:\u001b[0m\u001b[0;34m\u001b[0m\u001b[0;34m\u001b[0m\u001b[0m\n\u001b[0;32m-> 1972\u001b[0;31m     \u001b[0;32mreturn\u001b[0m \u001b[0mself\u001b[0m\u001b[0;34m.\u001b[0m\u001b[0mtrainable_weights\u001b[0m\u001b[0;34m\u001b[0m\u001b[0;34m\u001b[0m\u001b[0m\n\u001b[0m\u001b[1;32m   1973\u001b[0m \u001b[0;34m\u001b[0m\u001b[0m\n\u001b[1;32m   1974\u001b[0m   \u001b[0;34m@\u001b[0m\u001b[0mproperty\u001b[0m\u001b[0;34m\u001b[0m\u001b[0;34m\u001b[0m\u001b[0m\n",
      "\u001b[0;32m~/miniconda3/lib/python3.7/site-packages/tensorflow/python/keras/engine/network.py\u001b[0m in \u001b[0;36mtrainable_weights\u001b[0;34m(self)\u001b[0m\n\u001b[1;32m    570\u001b[0m             \u001b[0mtrainable\u001b[0m\u001b[0;34m=\u001b[0m\u001b[0mself\u001b[0m\u001b[0;34m.\u001b[0m\u001b[0mtrainable\u001b[0m\u001b[0;34m,\u001b[0m\u001b[0;34m\u001b[0m\u001b[0;34m\u001b[0m\u001b[0m\n\u001b[1;32m    571\u001b[0m             \u001b[0msub_layers\u001b[0m\u001b[0;34m=\u001b[0m\u001b[0mself\u001b[0m\u001b[0;34m.\u001b[0m\u001b[0m_layers\u001b[0m\u001b[0;34m,\u001b[0m\u001b[0;34m\u001b[0m\u001b[0;34m\u001b[0m\u001b[0m\n\u001b[0;32m--> 572\u001b[0;31m             extra_variables=self._trainable_weights))\n\u001b[0m\u001b[1;32m    573\u001b[0m \u001b[0;34m\u001b[0m\u001b[0m\n\u001b[1;32m    574\u001b[0m   \u001b[0;34m@\u001b[0m\u001b[0mproperty\u001b[0m\u001b[0;34m\u001b[0m\u001b[0;34m\u001b[0m\u001b[0m\n",
      "\u001b[0;32m~/miniconda3/lib/python3.7/site-packages/tensorflow/python/training/tracking/layer_utils.py\u001b[0m in \u001b[0;36mgather_trainable_weights\u001b[0;34m(trainable, sub_layers, extra_variables)\u001b[0m\n\u001b[1;32m    269\u001b[0m   \u001b[0mweights\u001b[0m \u001b[0;34m=\u001b[0m \u001b[0;34m[\u001b[0m\u001b[0;34m]\u001b[0m\u001b[0;34m\u001b[0m\u001b[0;34m\u001b[0m\u001b[0m\n\u001b[1;32m    270\u001b[0m   \u001b[0;32mfor\u001b[0m \u001b[0mlayer\u001b[0m \u001b[0;32min\u001b[0m \u001b[0msub_layers\u001b[0m\u001b[0;34m:\u001b[0m\u001b[0;34m\u001b[0m\u001b[0;34m\u001b[0m\u001b[0m\n\u001b[0;32m--> 271\u001b[0;31m     \u001b[0mweights\u001b[0m \u001b[0;34m+=\u001b[0m \u001b[0mlayer\u001b[0m\u001b[0;34m.\u001b[0m\u001b[0mtrainable_weights\u001b[0m\u001b[0;34m\u001b[0m\u001b[0;34m\u001b[0m\u001b[0m\n\u001b[0m\u001b[1;32m    272\u001b[0m   trainable_extra_variables = [\n\u001b[1;32m    273\u001b[0m       v for v in extra_variables if v.trainable]\n",
      "\u001b[0;32m~/miniconda3/lib/python3.7/site-packages/tensorflow/python/keras/engine/base_layer.py\u001b[0m in \u001b[0;36mtrainable_weights\u001b[0;34m(self)\u001b[0m\n\u001b[1;32m   1079\u001b[0m     \"\"\"\n\u001b[1;32m   1080\u001b[0m     \u001b[0;32mif\u001b[0m \u001b[0mself\u001b[0m\u001b[0;34m.\u001b[0m\u001b[0mtrainable\u001b[0m\u001b[0;34m:\u001b[0m\u001b[0;34m\u001b[0m\u001b[0;34m\u001b[0m\u001b[0m\n\u001b[0;32m-> 1081\u001b[0;31m       \u001b[0mchildren_weights\u001b[0m \u001b[0;34m=\u001b[0m \u001b[0mself\u001b[0m\u001b[0;34m.\u001b[0m\u001b[0m_gather_children_attribute\u001b[0m\u001b[0;34m(\u001b[0m\u001b[0;34m'trainable_weights'\u001b[0m\u001b[0;34m)\u001b[0m\u001b[0;34m\u001b[0m\u001b[0;34m\u001b[0m\u001b[0m\n\u001b[0m\u001b[1;32m   1082\u001b[0m       \u001b[0;32mreturn\u001b[0m \u001b[0mself\u001b[0m\u001b[0;34m.\u001b[0m\u001b[0m_dedup_weights\u001b[0m\u001b[0;34m(\u001b[0m\u001b[0mself\u001b[0m\u001b[0;34m.\u001b[0m\u001b[0m_trainable_weights\u001b[0m \u001b[0;34m+\u001b[0m \u001b[0mchildren_weights\u001b[0m\u001b[0;34m)\u001b[0m\u001b[0;34m\u001b[0m\u001b[0;34m\u001b[0m\u001b[0m\n\u001b[1;32m   1083\u001b[0m     \u001b[0;32melse\u001b[0m\u001b[0;34m:\u001b[0m\u001b[0;34m\u001b[0m\u001b[0;34m\u001b[0m\u001b[0m\n",
      "\u001b[0;32m~/miniconda3/lib/python3.7/site-packages/tensorflow/python/keras/engine/base_layer.py\u001b[0m in \u001b[0;36m_gather_children_attribute\u001b[0;34m(self, attribute)\u001b[0m\n\u001b[1;32m   2625\u001b[0m       return list(\n\u001b[1;32m   2626\u001b[0m           itertools.chain.from_iterable(\n\u001b[0;32m-> 2627\u001b[0;31m               getattr(layer, attribute) for layer in nested_layers))\n\u001b[0m\u001b[1;32m   2628\u001b[0m     \u001b[0;32mreturn\u001b[0m \u001b[0;34m[\u001b[0m\u001b[0;34m]\u001b[0m\u001b[0;34m\u001b[0m\u001b[0;34m\u001b[0m\u001b[0m\n\u001b[1;32m   2629\u001b[0m \u001b[0;34m\u001b[0m\u001b[0m\n",
      "\u001b[0;32m~/miniconda3/lib/python3.7/site-packages/tensorflow/python/keras/engine/base_layer.py\u001b[0m in \u001b[0;36m<genexpr>\u001b[0;34m(.0)\u001b[0m\n\u001b[1;32m   2625\u001b[0m       return list(\n\u001b[1;32m   2626\u001b[0m           itertools.chain.from_iterable(\n\u001b[0;32m-> 2627\u001b[0;31m               getattr(layer, attribute) for layer in nested_layers))\n\u001b[0m\u001b[1;32m   2628\u001b[0m     \u001b[0;32mreturn\u001b[0m \u001b[0;34m[\u001b[0m\u001b[0;34m]\u001b[0m\u001b[0;34m\u001b[0m\u001b[0;34m\u001b[0m\u001b[0m\n\u001b[1;32m   2629\u001b[0m \u001b[0;34m\u001b[0m\u001b[0m\n",
      "\u001b[0;32m~/miniconda3/lib/python3.7/site-packages/tensorflow/python/training/tracking/layer_utils.py\u001b[0m in \u001b[0;36mfilter_empty_layer_containers\u001b[0;34m(layer_list)\u001b[0m\n\u001b[1;32m    235\u001b[0m   \u001b[0;34m\"\"\"Filter out empty Layer-like containers and uniquify.\"\"\"\u001b[0m\u001b[0;34m\u001b[0m\u001b[0;34m\u001b[0m\u001b[0m\n\u001b[1;32m    236\u001b[0m   \u001b[0;31m# TODO(b/130381733): Make this an attribute in base_layer.Layer.\u001b[0m\u001b[0;34m\u001b[0m\u001b[0;34m\u001b[0m\u001b[0;34m\u001b[0m\u001b[0m\n\u001b[0;32m--> 237\u001b[0;31m   \u001b[0mexisting\u001b[0m \u001b[0;34m=\u001b[0m \u001b[0mobject_identity\u001b[0m\u001b[0;34m.\u001b[0m\u001b[0mObjectIdentitySet\u001b[0m\u001b[0;34m(\u001b[0m\u001b[0;34m)\u001b[0m\u001b[0;34m\u001b[0m\u001b[0;34m\u001b[0m\u001b[0m\n\u001b[0m\u001b[1;32m    238\u001b[0m   \u001b[0mto_visit\u001b[0m \u001b[0;34m=\u001b[0m \u001b[0mlayer_list\u001b[0m\u001b[0;34m[\u001b[0m\u001b[0;34m:\u001b[0m\u001b[0;34m:\u001b[0m\u001b[0;34m-\u001b[0m\u001b[0;36m1\u001b[0m\u001b[0;34m]\u001b[0m\u001b[0;34m\u001b[0m\u001b[0;34m\u001b[0m\u001b[0m\n\u001b[1;32m    239\u001b[0m   \u001b[0;32mwhile\u001b[0m \u001b[0mto_visit\u001b[0m\u001b[0;34m:\u001b[0m\u001b[0;34m\u001b[0m\u001b[0;34m\u001b[0m\u001b[0m\n",
      "\u001b[0;32m~/miniconda3/lib/python3.7/site-packages/tensorflow/python/util/object_identity.py\u001b[0m in \u001b[0;36m__init__\u001b[0;34m(self, *args)\u001b[0m\n\u001b[1;32m    173\u001b[0m \u001b[0;34m\u001b[0m\u001b[0m\n\u001b[1;32m    174\u001b[0m   \u001b[0;32mdef\u001b[0m \u001b[0m__init__\u001b[0m\u001b[0;34m(\u001b[0m\u001b[0mself\u001b[0m\u001b[0;34m,\u001b[0m \u001b[0;34m*\u001b[0m\u001b[0margs\u001b[0m\u001b[0;34m)\u001b[0m\u001b[0;34m:\u001b[0m\u001b[0;34m\u001b[0m\u001b[0;34m\u001b[0m\u001b[0m\n\u001b[0;32m--> 175\u001b[0;31m     \u001b[0mself\u001b[0m\u001b[0;34m.\u001b[0m\u001b[0m_storage\u001b[0m \u001b[0;34m=\u001b[0m \u001b[0mset\u001b[0m\u001b[0;34m(\u001b[0m\u001b[0mself\u001b[0m\u001b[0;34m.\u001b[0m\u001b[0m_wrap_key\u001b[0m\u001b[0;34m(\u001b[0m\u001b[0mobj\u001b[0m\u001b[0;34m)\u001b[0m \u001b[0;32mfor\u001b[0m \u001b[0mobj\u001b[0m \u001b[0;32min\u001b[0m \u001b[0mlist\u001b[0m\u001b[0;34m(\u001b[0m\u001b[0;34m*\u001b[0m\u001b[0margs\u001b[0m\u001b[0;34m)\u001b[0m\u001b[0;34m)\u001b[0m\u001b[0;34m\u001b[0m\u001b[0;34m\u001b[0m\u001b[0m\n\u001b[0m\u001b[1;32m    176\u001b[0m \u001b[0;34m\u001b[0m\u001b[0m\n\u001b[1;32m    177\u001b[0m   \u001b[0;34m@\u001b[0m\u001b[0mstaticmethod\u001b[0m\u001b[0;34m\u001b[0m\u001b[0;34m\u001b[0m\u001b[0m\n",
      "\u001b[0;31mKeyboardInterrupt\u001b[0m: "
     ]
    }
   ],
   "source": [
    "model.fit(\n",
    "    dg_train.tfr_dataset or dg_train,\n",
    "    epochs=1,\n",
    ")"
   ]
  },
  {
   "cell_type": "code",
   "execution_count": 104,
   "metadata": {},
   "outputs": [
    {
     "name": "stdout",
     "output_type": "stream",
     "text": [
      "> \u001b[0;32m<string>\u001b[0m(3)\u001b[0;36mraise_from\u001b[0;34m()\u001b[0m\n",
      "\n",
      "ipdb> u\n",
      "> \u001b[0;32m/home/rasp/miniconda3/lib/python3.7/site-packages/tensorflow/python/framework/ops.py\u001b[0m(6653)\u001b[0;36mraise_from_not_ok_status\u001b[0;34m()\u001b[0m\n",
      "\u001b[0;32m   6651 \u001b[0;31m  \u001b[0mmessage\u001b[0m \u001b[0;34m=\u001b[0m \u001b[0me\u001b[0m\u001b[0;34m.\u001b[0m\u001b[0mmessage\u001b[0m \u001b[0;34m+\u001b[0m \u001b[0;34m(\u001b[0m\u001b[0;34m\" name: \"\u001b[0m \u001b[0;34m+\u001b[0m \u001b[0mname\u001b[0m \u001b[0;32mif\u001b[0m \u001b[0mname\u001b[0m \u001b[0;32mis\u001b[0m \u001b[0;32mnot\u001b[0m \u001b[0;32mNone\u001b[0m \u001b[0;32melse\u001b[0m \u001b[0;34m\"\"\u001b[0m\u001b[0;34m)\u001b[0m\u001b[0;34m\u001b[0m\u001b[0;34m\u001b[0m\u001b[0m\n",
      "\u001b[0m\u001b[0;32m   6652 \u001b[0;31m  \u001b[0;31m# pylint: disable=protected-access\u001b[0m\u001b[0;34m\u001b[0m\u001b[0;34m\u001b[0m\u001b[0;34m\u001b[0m\u001b[0m\n",
      "\u001b[0m\u001b[0;32m-> 6653 \u001b[0;31m  \u001b[0msix\u001b[0m\u001b[0;34m.\u001b[0m\u001b[0mraise_from\u001b[0m\u001b[0;34m(\u001b[0m\u001b[0mcore\u001b[0m\u001b[0;34m.\u001b[0m\u001b[0m_status_to_exception\u001b[0m\u001b[0;34m(\u001b[0m\u001b[0me\u001b[0m\u001b[0;34m.\u001b[0m\u001b[0mcode\u001b[0m\u001b[0;34m,\u001b[0m \u001b[0mmessage\u001b[0m\u001b[0;34m)\u001b[0m\u001b[0;34m,\u001b[0m \u001b[0;32mNone\u001b[0m\u001b[0;34m)\u001b[0m\u001b[0;34m\u001b[0m\u001b[0;34m\u001b[0m\u001b[0m\n",
      "\u001b[0m\u001b[0;32m   6654 \u001b[0;31m  \u001b[0;31m# pylint: enable=protected-access\u001b[0m\u001b[0;34m\u001b[0m\u001b[0;34m\u001b[0m\u001b[0;34m\u001b[0m\u001b[0m\n",
      "\u001b[0m\u001b[0;32m   6655 \u001b[0;31m\u001b[0;34m\u001b[0m\u001b[0m\n",
      "\u001b[0m\n",
      "ipdb> u\n",
      "> \u001b[0;32m/home/rasp/miniconda3/lib/python3.7/site-packages/tensorflow/python/ops/gen_math_ops.py\u001b[0m(10100)\u001b[0;36msub\u001b[0;34m()\u001b[0m\n",
      "\u001b[0;32m  10098 \u001b[0;31m        \u001b[0;32mpass\u001b[0m  \u001b[0;31m# Add nodes to the TensorFlow graph.\u001b[0m\u001b[0;34m\u001b[0m\u001b[0;34m\u001b[0m\u001b[0m\n",
      "\u001b[0m\u001b[0;32m  10099 \u001b[0;31m    \u001b[0;32mexcept\u001b[0m \u001b[0m_core\u001b[0m\u001b[0;34m.\u001b[0m\u001b[0m_NotOkStatusException\u001b[0m \u001b[0;32mas\u001b[0m \u001b[0me\u001b[0m\u001b[0;34m:\u001b[0m\u001b[0;34m\u001b[0m\u001b[0;34m\u001b[0m\u001b[0m\n",
      "\u001b[0m\u001b[0;32m> 10100 \u001b[0;31m      \u001b[0m_ops\u001b[0m\u001b[0;34m.\u001b[0m\u001b[0mraise_from_not_ok_status\u001b[0m\u001b[0;34m(\u001b[0m\u001b[0me\u001b[0m\u001b[0;34m,\u001b[0m \u001b[0mname\u001b[0m\u001b[0;34m)\u001b[0m\u001b[0;34m\u001b[0m\u001b[0;34m\u001b[0m\u001b[0m\n",
      "\u001b[0m\u001b[0;32m  10101 \u001b[0;31m  \u001b[0;31m# Add nodes to the TensorFlow graph.\u001b[0m\u001b[0;34m\u001b[0m\u001b[0;34m\u001b[0m\u001b[0;34m\u001b[0m\u001b[0m\n",
      "\u001b[0m\u001b[0;32m  10102 \u001b[0;31m  _, _, _op, _outputs = _op_def_library._apply_op_helper(\n",
      "\u001b[0m\n",
      "ipdb> u\n",
      "> \u001b[0;32m/home/rasp/miniconda3/lib/python3.7/site-packages/tensorflow/python/ops/math_ops.py\u001b[0m(984)\u001b[0;36mbinary_op_wrapper\u001b[0;34m()\u001b[0m\n",
      "\u001b[0;32m    982 \u001b[0;31m    \u001b[0;32mwith\u001b[0m \u001b[0mops\u001b[0m\u001b[0;34m.\u001b[0m\u001b[0mname_scope\u001b[0m\u001b[0;34m(\u001b[0m\u001b[0;32mNone\u001b[0m\u001b[0;34m,\u001b[0m \u001b[0mop_name\u001b[0m\u001b[0;34m,\u001b[0m \u001b[0;34m[\u001b[0m\u001b[0mx\u001b[0m\u001b[0;34m,\u001b[0m \u001b[0my\u001b[0m\u001b[0;34m]\u001b[0m\u001b[0;34m)\u001b[0m \u001b[0;32mas\u001b[0m \u001b[0mname\u001b[0m\u001b[0;34m:\u001b[0m\u001b[0;34m\u001b[0m\u001b[0;34m\u001b[0m\u001b[0m\n",
      "\u001b[0m\u001b[0;32m    983 \u001b[0;31m      \u001b[0;32mif\u001b[0m \u001b[0misinstance\u001b[0m\u001b[0;34m(\u001b[0m\u001b[0mx\u001b[0m\u001b[0;34m,\u001b[0m \u001b[0mops\u001b[0m\u001b[0;34m.\u001b[0m\u001b[0mTensor\u001b[0m\u001b[0;34m)\u001b[0m \u001b[0;32mand\u001b[0m \u001b[0misinstance\u001b[0m\u001b[0;34m(\u001b[0m\u001b[0my\u001b[0m\u001b[0;34m,\u001b[0m \u001b[0mops\u001b[0m\u001b[0;34m.\u001b[0m\u001b[0mTensor\u001b[0m\u001b[0;34m)\u001b[0m\u001b[0;34m:\u001b[0m\u001b[0;34m\u001b[0m\u001b[0;34m\u001b[0m\u001b[0m\n",
      "\u001b[0m\u001b[0;32m--> 984 \u001b[0;31m        \u001b[0;32mreturn\u001b[0m \u001b[0mfunc\u001b[0m\u001b[0;34m(\u001b[0m\u001b[0mx\u001b[0m\u001b[0;34m,\u001b[0m \u001b[0my\u001b[0m\u001b[0;34m,\u001b[0m \u001b[0mname\u001b[0m\u001b[0;34m=\u001b[0m\u001b[0mname\u001b[0m\u001b[0;34m)\u001b[0m\u001b[0;34m\u001b[0m\u001b[0;34m\u001b[0m\u001b[0m\n",
      "\u001b[0m\u001b[0;32m    985 \u001b[0;31m      \u001b[0;32melif\u001b[0m \u001b[0;32mnot\u001b[0m \u001b[0misinstance\u001b[0m\u001b[0;34m(\u001b[0m\u001b[0my\u001b[0m\u001b[0;34m,\u001b[0m \u001b[0msparse_tensor\u001b[0m\u001b[0;34m.\u001b[0m\u001b[0mSparseTensor\u001b[0m\u001b[0;34m)\u001b[0m\u001b[0;34m:\u001b[0m\u001b[0;34m\u001b[0m\u001b[0;34m\u001b[0m\u001b[0m\n",
      "\u001b[0m\u001b[0;32m    986 \u001b[0;31m        \u001b[0;32mtry\u001b[0m\u001b[0;34m:\u001b[0m\u001b[0;34m\u001b[0m\u001b[0;34m\u001b[0m\u001b[0m\n",
      "\u001b[0m\n",
      "ipdb> u\n",
      "> \u001b[0;32m/home/rasp/repositories/myWeatherBench/devlog/src/networks.py\u001b[0m(323)\u001b[0;36mgev_cdf_tf\u001b[0;34m()\u001b[0m\n",
      "\u001b[0;32m    321 \u001b[0;31m\u001b[0;34m\u001b[0m\u001b[0m\n",
      "\u001b[0m\u001b[0;32m    322 \u001b[0;31m\u001b[0;32mdef\u001b[0m \u001b[0mgev_cdf_tf\u001b[0m\u001b[0;34m(\u001b[0m\u001b[0my\u001b[0m\u001b[0;34m,\u001b[0m \u001b[0mmu\u001b[0m\u001b[0;34m,\u001b[0m \u001b[0msigma\u001b[0m\u001b[0;34m,\u001b[0m \u001b[0mxi\u001b[0m\u001b[0;34m)\u001b[0m\u001b[0;34m:\u001b[0m\u001b[0;34m\u001b[0m\u001b[0;34m\u001b[0m\u001b[0m\n",
      "\u001b[0m\u001b[0;32m--> 323 \u001b[0;31m    \u001b[0my\u001b[0m \u001b[0;34m=\u001b[0m \u001b[0;34m(\u001b[0m\u001b[0my\u001b[0m\u001b[0;34m-\u001b[0m\u001b[0mmu\u001b[0m\u001b[0;34m)\u001b[0m\u001b[0;34m/\u001b[0m\u001b[0msigma\u001b[0m\u001b[0;34m\u001b[0m\u001b[0;34m\u001b[0m\u001b[0m\n",
      "\u001b[0m\u001b[0;32m    324 \u001b[0;31m    \u001b[0mx\u001b[0m \u001b[0;34m=\u001b[0m \u001b[0;36m1\u001b[0m \u001b[0;34m+\u001b[0m \u001b[0mxi\u001b[0m \u001b[0;34m*\u001b[0m \u001b[0my\u001b[0m\u001b[0;34m\u001b[0m\u001b[0;34m\u001b[0m\u001b[0m\n",
      "\u001b[0m\u001b[0;32m    325 \u001b[0;31m\u001b[0;31m#     x[x < 0] = 0\u001b[0m\u001b[0;34m\u001b[0m\u001b[0;34m\u001b[0m\u001b[0;34m\u001b[0m\u001b[0m\n",
      "\u001b[0m\n",
      "ipdb> p y.shape\n",
      "TensorShape([32, 32, 64, 1])\n",
      "ipdb> q\n"
     ]
    }
   ],
   "source": [
    "%debug"
   ]
  },
  {
   "cell_type": "code",
   "execution_count": 74,
   "metadata": {},
   "outputs": [],
   "source": [
    "X, y = dg_train[0]"
   ]
  },
  {
   "cell_type": "code",
   "execution_count": 24,
   "metadata": {},
   "outputs": [],
   "source": [
    "p = model(X)"
   ]
  },
  {
   "cell_type": "code",
   "execution_count": 28,
   "metadata": {},
   "outputs": [
    {
     "data": {
      "text/plain": [
       "TensorShape([32, 32, 64, 3])"
      ]
     },
     "execution_count": 28,
     "metadata": {},
     "output_type": "execute_result"
    }
   ],
   "source": [
    "p.shape"
   ]
  },
  {
   "cell_type": "code",
   "execution_count": 62,
   "metadata": {},
   "outputs": [],
   "source": [
    "mu, sigma, xi = p[0, 0, 0].numpy()"
   ]
  },
  {
   "cell_type": "code",
   "execution_count": 76,
   "metadata": {},
   "outputs": [
    {
     "data": {
      "text/html": [
       "<div><svg style=\"position: absolute; width: 0; height: 0; overflow: hidden\">\n",
       "<defs>\n",
       "<symbol id=\"icon-database\" viewBox=\"0 0 32 32\">\n",
       "<path d=\"M16 0c-8.837 0-16 2.239-16 5v4c0 2.761 7.163 5 16 5s16-2.239 16-5v-4c0-2.761-7.163-5-16-5z\"></path>\n",
       "<path d=\"M16 17c-8.837 0-16-2.239-16-5v6c0 2.761 7.163 5 16 5s16-2.239 16-5v-6c0 2.761-7.163 5-16 5z\"></path>\n",
       "<path d=\"M16 26c-8.837 0-16-2.239-16-5v6c0 2.761 7.163 5 16 5s16-2.239 16-5v-6c0 2.761-7.163 5-16 5z\"></path>\n",
       "</symbol>\n",
       "<symbol id=\"icon-file-text2\" viewBox=\"0 0 32 32\">\n",
       "<path d=\"M28.681 7.159c-0.694-0.947-1.662-2.053-2.724-3.116s-2.169-2.030-3.116-2.724c-1.612-1.182-2.393-1.319-2.841-1.319h-15.5c-1.378 0-2.5 1.121-2.5 2.5v27c0 1.378 1.122 2.5 2.5 2.5h23c1.378 0 2.5-1.122 2.5-2.5v-19.5c0-0.448-0.137-1.23-1.319-2.841zM24.543 5.457c0.959 0.959 1.712 1.825 2.268 2.543h-4.811v-4.811c0.718 0.556 1.584 1.309 2.543 2.268zM28 29.5c0 0.271-0.229 0.5-0.5 0.5h-23c-0.271 0-0.5-0.229-0.5-0.5v-27c0-0.271 0.229-0.5 0.5-0.5 0 0 15.499-0 15.5 0v7c0 0.552 0.448 1 1 1h7v19.5z\"></path>\n",
       "<path d=\"M23 26h-14c-0.552 0-1-0.448-1-1s0.448-1 1-1h14c0.552 0 1 0.448 1 1s-0.448 1-1 1z\"></path>\n",
       "<path d=\"M23 22h-14c-0.552 0-1-0.448-1-1s0.448-1 1-1h14c0.552 0 1 0.448 1 1s-0.448 1-1 1z\"></path>\n",
       "<path d=\"M23 18h-14c-0.552 0-1-0.448-1-1s0.448-1 1-1h14c0.552 0 1 0.448 1 1s-0.448 1-1 1z\"></path>\n",
       "</symbol>\n",
       "</defs>\n",
       "</svg>\n",
       "<style>/* CSS stylesheet for displaying xarray objects in jupyterlab.\n",
       " *\n",
       " */\n",
       "\n",
       ":root {\n",
       "  --xr-font-color0: var(--jp-content-font-color0, rgba(0, 0, 0, 1));\n",
       "  --xr-font-color2: var(--jp-content-font-color2, rgba(0, 0, 0, 0.54));\n",
       "  --xr-font-color3: var(--jp-content-font-color3, rgba(0, 0, 0, 0.38));\n",
       "  --xr-border-color: var(--jp-border-color2, #e0e0e0);\n",
       "  --xr-disabled-color: var(--jp-layout-color3, #bdbdbd);\n",
       "  --xr-background-color: var(--jp-layout-color0, white);\n",
       "  --xr-background-color-row-even: var(--jp-layout-color1, white);\n",
       "  --xr-background-color-row-odd: var(--jp-layout-color2, #eeeeee);\n",
       "}\n",
       "\n",
       "html[theme=dark],\n",
       "body.vscode-dark {\n",
       "  --xr-font-color0: rgba(255, 255, 255, 1);\n",
       "  --xr-font-color2: rgba(255, 255, 255, 0.54);\n",
       "  --xr-font-color3: rgba(255, 255, 255, 0.38);\n",
       "  --xr-border-color: #1F1F1F;\n",
       "  --xr-disabled-color: #515151;\n",
       "  --xr-background-color: #111111;\n",
       "  --xr-background-color-row-even: #111111;\n",
       "  --xr-background-color-row-odd: #313131;\n",
       "}\n",
       "\n",
       ".xr-wrap {\n",
       "  display: block;\n",
       "  min-width: 300px;\n",
       "  max-width: 700px;\n",
       "}\n",
       "\n",
       ".xr-text-repr-fallback {\n",
       "  /* fallback to plain text repr when CSS is not injected (untrusted notebook) */\n",
       "  display: none;\n",
       "}\n",
       "\n",
       ".xr-header {\n",
       "  padding-top: 6px;\n",
       "  padding-bottom: 6px;\n",
       "  margin-bottom: 4px;\n",
       "  border-bottom: solid 1px var(--xr-border-color);\n",
       "}\n",
       "\n",
       ".xr-header > div,\n",
       ".xr-header > ul {\n",
       "  display: inline;\n",
       "  margin-top: 0;\n",
       "  margin-bottom: 0;\n",
       "}\n",
       "\n",
       ".xr-obj-type,\n",
       ".xr-array-name {\n",
       "  margin-left: 2px;\n",
       "  margin-right: 10px;\n",
       "}\n",
       "\n",
       ".xr-obj-type {\n",
       "  color: var(--xr-font-color2);\n",
       "}\n",
       "\n",
       ".xr-sections {\n",
       "  padding-left: 0 !important;\n",
       "  display: grid;\n",
       "  grid-template-columns: 150px auto auto 1fr 20px 20px;\n",
       "}\n",
       "\n",
       ".xr-section-item {\n",
       "  display: contents;\n",
       "}\n",
       "\n",
       ".xr-section-item input {\n",
       "  display: none;\n",
       "}\n",
       "\n",
       ".xr-section-item input + label {\n",
       "  color: var(--xr-disabled-color);\n",
       "}\n",
       "\n",
       ".xr-section-item input:enabled + label {\n",
       "  cursor: pointer;\n",
       "  color: var(--xr-font-color2);\n",
       "}\n",
       "\n",
       ".xr-section-item input:enabled + label:hover {\n",
       "  color: var(--xr-font-color0);\n",
       "}\n",
       "\n",
       ".xr-section-summary {\n",
       "  grid-column: 1;\n",
       "  color: var(--xr-font-color2);\n",
       "  font-weight: 500;\n",
       "}\n",
       "\n",
       ".xr-section-summary > span {\n",
       "  display: inline-block;\n",
       "  padding-left: 0.5em;\n",
       "}\n",
       "\n",
       ".xr-section-summary-in:disabled + label {\n",
       "  color: var(--xr-font-color2);\n",
       "}\n",
       "\n",
       ".xr-section-summary-in + label:before {\n",
       "  display: inline-block;\n",
       "  content: '►';\n",
       "  font-size: 11px;\n",
       "  width: 15px;\n",
       "  text-align: center;\n",
       "}\n",
       "\n",
       ".xr-section-summary-in:disabled + label:before {\n",
       "  color: var(--xr-disabled-color);\n",
       "}\n",
       "\n",
       ".xr-section-summary-in:checked + label:before {\n",
       "  content: '▼';\n",
       "}\n",
       "\n",
       ".xr-section-summary-in:checked + label > span {\n",
       "  display: none;\n",
       "}\n",
       "\n",
       ".xr-section-summary,\n",
       ".xr-section-inline-details {\n",
       "  padding-top: 4px;\n",
       "  padding-bottom: 4px;\n",
       "}\n",
       "\n",
       ".xr-section-inline-details {\n",
       "  grid-column: 2 / -1;\n",
       "}\n",
       "\n",
       ".xr-section-details {\n",
       "  display: none;\n",
       "  grid-column: 1 / -1;\n",
       "  margin-bottom: 5px;\n",
       "}\n",
       "\n",
       ".xr-section-summary-in:checked ~ .xr-section-details {\n",
       "  display: contents;\n",
       "}\n",
       "\n",
       ".xr-array-wrap {\n",
       "  grid-column: 1 / -1;\n",
       "  display: grid;\n",
       "  grid-template-columns: 20px auto;\n",
       "}\n",
       "\n",
       ".xr-array-wrap > label {\n",
       "  grid-column: 1;\n",
       "  vertical-align: top;\n",
       "}\n",
       "\n",
       ".xr-preview {\n",
       "  color: var(--xr-font-color3);\n",
       "}\n",
       "\n",
       ".xr-array-preview,\n",
       ".xr-array-data {\n",
       "  padding: 0 5px !important;\n",
       "  grid-column: 2;\n",
       "}\n",
       "\n",
       ".xr-array-data,\n",
       ".xr-array-in:checked ~ .xr-array-preview {\n",
       "  display: none;\n",
       "}\n",
       "\n",
       ".xr-array-in:checked ~ .xr-array-data,\n",
       ".xr-array-preview {\n",
       "  display: inline-block;\n",
       "}\n",
       "\n",
       ".xr-dim-list {\n",
       "  display: inline-block !important;\n",
       "  list-style: none;\n",
       "  padding: 0 !important;\n",
       "  margin: 0;\n",
       "}\n",
       "\n",
       ".xr-dim-list li {\n",
       "  display: inline-block;\n",
       "  padding: 0;\n",
       "  margin: 0;\n",
       "}\n",
       "\n",
       ".xr-dim-list:before {\n",
       "  content: '(';\n",
       "}\n",
       "\n",
       ".xr-dim-list:after {\n",
       "  content: ')';\n",
       "}\n",
       "\n",
       ".xr-dim-list li:not(:last-child):after {\n",
       "  content: ',';\n",
       "  padding-right: 5px;\n",
       "}\n",
       "\n",
       ".xr-has-index {\n",
       "  font-weight: bold;\n",
       "}\n",
       "\n",
       ".xr-var-list,\n",
       ".xr-var-item {\n",
       "  display: contents;\n",
       "}\n",
       "\n",
       ".xr-var-item > div,\n",
       ".xr-var-item label,\n",
       ".xr-var-item > .xr-var-name span {\n",
       "  background-color: var(--xr-background-color-row-even);\n",
       "  margin-bottom: 0;\n",
       "}\n",
       "\n",
       ".xr-var-item > .xr-var-name:hover span {\n",
       "  padding-right: 5px;\n",
       "}\n",
       "\n",
       ".xr-var-list > li:nth-child(odd) > div,\n",
       ".xr-var-list > li:nth-child(odd) > label,\n",
       ".xr-var-list > li:nth-child(odd) > .xr-var-name span {\n",
       "  background-color: var(--xr-background-color-row-odd);\n",
       "}\n",
       "\n",
       ".xr-var-name {\n",
       "  grid-column: 1;\n",
       "}\n",
       "\n",
       ".xr-var-dims {\n",
       "  grid-column: 2;\n",
       "}\n",
       "\n",
       ".xr-var-dtype {\n",
       "  grid-column: 3;\n",
       "  text-align: right;\n",
       "  color: var(--xr-font-color2);\n",
       "}\n",
       "\n",
       ".xr-var-preview {\n",
       "  grid-column: 4;\n",
       "}\n",
       "\n",
       ".xr-var-name,\n",
       ".xr-var-dims,\n",
       ".xr-var-dtype,\n",
       ".xr-preview,\n",
       ".xr-attrs dt {\n",
       "  white-space: nowrap;\n",
       "  overflow: hidden;\n",
       "  text-overflow: ellipsis;\n",
       "  padding-right: 10px;\n",
       "}\n",
       "\n",
       ".xr-var-name:hover,\n",
       ".xr-var-dims:hover,\n",
       ".xr-var-dtype:hover,\n",
       ".xr-attrs dt:hover {\n",
       "  overflow: visible;\n",
       "  width: auto;\n",
       "  z-index: 1;\n",
       "}\n",
       "\n",
       ".xr-var-attrs,\n",
       ".xr-var-data {\n",
       "  display: none;\n",
       "  background-color: var(--xr-background-color) !important;\n",
       "  padding-bottom: 5px !important;\n",
       "}\n",
       "\n",
       ".xr-var-attrs-in:checked ~ .xr-var-attrs,\n",
       ".xr-var-data-in:checked ~ .xr-var-data {\n",
       "  display: block;\n",
       "}\n",
       "\n",
       ".xr-var-data > table {\n",
       "  float: right;\n",
       "}\n",
       "\n",
       ".xr-var-name span,\n",
       ".xr-var-data,\n",
       ".xr-attrs {\n",
       "  padding-left: 25px !important;\n",
       "}\n",
       "\n",
       ".xr-attrs,\n",
       ".xr-var-attrs,\n",
       ".xr-var-data {\n",
       "  grid-column: 1 / -1;\n",
       "}\n",
       "\n",
       "dl.xr-attrs {\n",
       "  padding: 0;\n",
       "  margin: 0;\n",
       "  display: grid;\n",
       "  grid-template-columns: 125px auto;\n",
       "}\n",
       "\n",
       ".xr-attrs dt, dd {\n",
       "  padding: 0;\n",
       "  margin: 0;\n",
       "  float: left;\n",
       "  padding-right: 10px;\n",
       "  width: auto;\n",
       "}\n",
       "\n",
       ".xr-attrs dt {\n",
       "  font-weight: normal;\n",
       "  grid-column: 1;\n",
       "}\n",
       "\n",
       ".xr-attrs dt:hover span {\n",
       "  display: inline-block;\n",
       "  background: var(--xr-background-color);\n",
       "  padding-right: 10px;\n",
       "}\n",
       "\n",
       ".xr-attrs dd {\n",
       "  grid-column: 2;\n",
       "  white-space: pre-wrap;\n",
       "  word-break: break-all;\n",
       "}\n",
       "\n",
       ".xr-icon-database,\n",
       ".xr-icon-file-text2 {\n",
       "  display: inline-block;\n",
       "  vertical-align: middle;\n",
       "  width: 1em;\n",
       "  height: 1.5em !important;\n",
       "  stroke-width: 0;\n",
       "  stroke: currentColor;\n",
       "  fill: currentColor;\n",
       "}\n",
       "</style><pre class='xr-text-repr-fallback'>&lt;xarray.DataArray &#x27;z&#x27; (level: 41)&gt;\n",
       "array([ 1.992378e+05,  1.010679e+05,  5.404291e+04,  4.060082e+04,\n",
       "        2.890236e+04,  1.374821e+04,  7.024899e+03,  2.125645e+02,\n",
       "        2.226092e+02,  2.524727e+02,  2.606488e+02,  2.669372e+02,\n",
       "        2.741602e+02,  2.768541e+02,  5.829371e+00,  1.364833e+01,\n",
       "        6.709670e+00,  4.908774e+00,  3.348938e+00,  1.364577e+00,\n",
       "        5.319130e-01, -1.221293e-03,  1.757553e-02, -2.439905e-02,\n",
       "       -3.297793e-02,  5.697536e-02,  1.478774e-01,  1.889071e-01,\n",
       "        2.697075e-06,  5.553829e-05,  8.289706e-04,  1.502295e-03,\n",
       "        2.364581e-03,  4.423556e-03,  5.914101e-03,  1.078743e+06,\n",
       "        2.778698e+02,  0.000000e+00,  3.370783e-01,  3.794976e+02,\n",
       "        0.000000e+00])\n",
       "Coordinates:\n",
       "  * level        (level) int64 50 250 500 600 700 850 925 50 ... 925 1 1 1 1 1 1\n",
       "    level_names  (level) object &#x27;z_50&#x27; &#x27;z_250&#x27; &#x27;z_500&#x27; ... &#x27;orography&#x27; &#x27;lat2d&#x27;\n",
       "Attributes:\n",
       "    tp_log:   0.001</pre><div class='xr-wrap' hidden><div class='xr-header'><div class='xr-obj-type'>xarray.DataArray</div><div class='xr-array-name'>'z'</div><ul class='xr-dim-list'><li><span class='xr-has-index'>level</span>: 41</li></ul></div><ul class='xr-sections'><li class='xr-section-item'><div class='xr-array-wrap'><input id='section-cf4109a4-7d1b-40c3-9916-6b2c43b94800' class='xr-array-in' type='checkbox' checked><label for='section-cf4109a4-7d1b-40c3-9916-6b2c43b94800' title='Show/hide data repr'><svg class='icon xr-icon-database'><use xlink:href='#icon-database'></use></svg></label><div class='xr-array-preview xr-preview'><span>1.992e+05 1.011e+05 5.404e+04 4.06e+04 ... 0.0 0.3371 379.5 0.0</span></div><div class='xr-array-data'><pre>array([ 1.992378e+05,  1.010679e+05,  5.404291e+04,  4.060082e+04,\n",
       "        2.890236e+04,  1.374821e+04,  7.024899e+03,  2.125645e+02,\n",
       "        2.226092e+02,  2.524727e+02,  2.606488e+02,  2.669372e+02,\n",
       "        2.741602e+02,  2.768541e+02,  5.829371e+00,  1.364833e+01,\n",
       "        6.709670e+00,  4.908774e+00,  3.348938e+00,  1.364577e+00,\n",
       "        5.319130e-01, -1.221293e-03,  1.757553e-02, -2.439905e-02,\n",
       "       -3.297793e-02,  5.697536e-02,  1.478774e-01,  1.889071e-01,\n",
       "        2.697075e-06,  5.553829e-05,  8.289706e-04,  1.502295e-03,\n",
       "        2.364581e-03,  4.423556e-03,  5.914101e-03,  1.078743e+06,\n",
       "        2.778698e+02,  0.000000e+00,  3.370783e-01,  3.794976e+02,\n",
       "        0.000000e+00])</pre></div></div></li><li class='xr-section-item'><input id='section-0c1dbcc8-bfa3-4b56-bfd7-7ee86a6fe9bf' class='xr-section-summary-in' type='checkbox'  checked><label for='section-0c1dbcc8-bfa3-4b56-bfd7-7ee86a6fe9bf' class='xr-section-summary' >Coordinates: <span>(2)</span></label><div class='xr-section-inline-details'></div><div class='xr-section-details'><ul class='xr-var-list'><li class='xr-var-item'><div class='xr-var-name'><span class='xr-has-index'>level</span></div><div class='xr-var-dims'>(level)</div><div class='xr-var-dtype'>int64</div><div class='xr-var-preview xr-preview'>50 250 500 600 700 ... 1 1 1 1 1</div><input id='attrs-a9371ec7-964a-4ed2-9b59-d9fe1f0b87d0' class='xr-var-attrs-in' type='checkbox' disabled><label for='attrs-a9371ec7-964a-4ed2-9b59-d9fe1f0b87d0' title='Show/Hide attributes'><svg class='icon xr-icon-file-text2'><use xlink:href='#icon-file-text2'></use></svg></label><input id='data-1fbd6df8-7b05-435a-befa-5087ad8f5058' class='xr-var-data-in' type='checkbox'><label for='data-1fbd6df8-7b05-435a-befa-5087ad8f5058' title='Show/Hide data repr'><svg class='icon xr-icon-database'><use xlink:href='#icon-database'></use></svg></label><div class='xr-var-attrs'><dl class='xr-attrs'></dl></div><div class='xr-var-data'><pre>array([ 50, 250, 500, 600, 700, 850, 925,  50, 250, 500, 600, 700, 850, 925,\n",
       "        50, 250, 500, 600, 700, 850, 925,  50, 250, 500, 600, 700, 850, 925,\n",
       "        50, 250, 500, 600, 700, 850, 925,   1,   1,   1,   1,   1,   1])</pre></div></li><li class='xr-var-item'><div class='xr-var-name'><span>level_names</span></div><div class='xr-var-dims'>(level)</div><div class='xr-var-dtype'>object</div><div class='xr-var-preview xr-preview'>...</div><input id='attrs-d0723f7d-dcfd-4795-a70b-2e6380550abc' class='xr-var-attrs-in' type='checkbox' disabled><label for='attrs-d0723f7d-dcfd-4795-a70b-2e6380550abc' title='Show/Hide attributes'><svg class='icon xr-icon-file-text2'><use xlink:href='#icon-file-text2'></use></svg></label><input id='data-33b67fe4-a271-4387-8722-19954044c1e1' class='xr-var-data-in' type='checkbox'><label for='data-33b67fe4-a271-4387-8722-19954044c1e1' title='Show/Hide data repr'><svg class='icon xr-icon-database'><use xlink:href='#icon-database'></use></svg></label><div class='xr-var-attrs'><dl class='xr-attrs'></dl></div><div class='xr-var-data'><pre>array([&#x27;z_50&#x27;, &#x27;z_250&#x27;, &#x27;z_500&#x27;, &#x27;z_600&#x27;, &#x27;z_700&#x27;, &#x27;z_850&#x27;, &#x27;z_925&#x27;, &#x27;t_50&#x27;,\n",
       "       &#x27;t_250&#x27;, &#x27;t_500&#x27;, &#x27;t_600&#x27;, &#x27;t_700&#x27;, &#x27;t_850&#x27;, &#x27;t_925&#x27;, &#x27;u_50&#x27;, &#x27;u_250&#x27;,\n",
       "       &#x27;u_500&#x27;, &#x27;u_600&#x27;, &#x27;u_700&#x27;, &#x27;u_850&#x27;, &#x27;u_925&#x27;, &#x27;v_50&#x27;, &#x27;v_250&#x27;, &#x27;v_500&#x27;,\n",
       "       &#x27;v_600&#x27;, &#x27;v_700&#x27;, &#x27;v_850&#x27;, &#x27;v_925&#x27;, &#x27;q_50&#x27;, &#x27;q_250&#x27;, &#x27;q_500&#x27;, &#x27;q_600&#x27;,\n",
       "       &#x27;q_700&#x27;, &#x27;q_850&#x27;, &#x27;q_925&#x27;, &#x27;tisr&#x27;, &#x27;t2m&#x27;, &#x27;tp&#x27;, &#x27;lsm&#x27;, &#x27;orography&#x27;,\n",
       "       &#x27;lat2d&#x27;], dtype=object)</pre></div></li></ul></div></li><li class='xr-section-item'><input id='section-0ddf100f-8815-4854-8aa8-68edb8fcbd7c' class='xr-section-summary-in' type='checkbox'  checked><label for='section-0ddf100f-8815-4854-8aa8-68edb8fcbd7c' class='xr-section-summary' >Attributes: <span>(1)</span></label><div class='xr-section-inline-details'></div><div class='xr-section-details'><dl class='xr-attrs'><dt><span>tp_log :</span></dt><dd>0.001</dd></dl></div></li></ul></div></div>"
      ],
      "text/plain": [
       "<xarray.DataArray 'z' (level: 41)>\n",
       "array([ 1.992378e+05,  1.010679e+05,  5.404291e+04,  4.060082e+04,\n",
       "        2.890236e+04,  1.374821e+04,  7.024899e+03,  2.125645e+02,\n",
       "        2.226092e+02,  2.524727e+02,  2.606488e+02,  2.669372e+02,\n",
       "        2.741602e+02,  2.768541e+02,  5.829371e+00,  1.364833e+01,\n",
       "        6.709670e+00,  4.908774e+00,  3.348938e+00,  1.364577e+00,\n",
       "        5.319130e-01, -1.221293e-03,  1.757553e-02, -2.439905e-02,\n",
       "       -3.297793e-02,  5.697536e-02,  1.478774e-01,  1.889071e-01,\n",
       "        2.697075e-06,  5.553829e-05,  8.289706e-04,  1.502295e-03,\n",
       "        2.364581e-03,  4.423556e-03,  5.914101e-03,  1.078743e+06,\n",
       "        2.778698e+02,  0.000000e+00,  3.370783e-01,  3.794976e+02,\n",
       "        0.000000e+00])\n",
       "Coordinates:\n",
       "  * level        (level) int64 50 250 500 600 700 850 925 50 ... 925 1 1 1 1 1 1\n",
       "    level_names  (level) object ...\n",
       "Attributes:\n",
       "    tp_log:   0.001"
      ]
     },
     "execution_count": 76,
     "metadata": {},
     "output_type": "execute_result"
    }
   ],
   "source": [
    "dg_train.mean"
   ]
  },
  {
   "cell_type": "code",
   "execution_count": 63,
   "metadata": {},
   "outputs": [
    {
     "data": {
      "text/plain": [
       "array([-2.2341916e-05], dtype=float32)"
      ]
     },
     "execution_count": 63,
     "metadata": {},
     "output_type": "execute_result"
    }
   ],
   "source": [
    "y[0, 0, 0]"
   ]
  },
  {
   "cell_type": "code",
   "execution_count": 80,
   "metadata": {},
   "outputs": [
    {
     "data": {
      "text/plain": [
       "(2.1679688, 3.1933594, 5.4648438)"
      ]
     },
     "execution_count": 80,
     "metadata": {},
     "output_type": "execute_result"
    }
   ],
   "source": [
    "mu, sigma, xi"
   ]
  },
  {
   "cell_type": "code",
   "execution_count": 89,
   "metadata": {},
   "outputs": [
    {
     "data": {
      "text/plain": [
       "array([3.39307965])"
      ]
     },
     "execution_count": 89,
     "metadata": {},
     "output_type": "execute_result"
    }
   ],
   "source": [
    "crps_lcgev2(y[0, 0, 0], mu, sigma, 0.99)"
   ]
  },
  {
   "cell_type": "code",
   "execution_count": 77,
   "metadata": {},
   "outputs": [
    {
     "data": {
      "text/plain": [
       "<tf.Tensor: shape=(32, 64, 3), dtype=float32, numpy=\n",
       "array([[[nan, nan, nan],\n",
       "        [nan, nan, nan],\n",
       "        [nan, nan, nan],\n",
       "        ...,\n",
       "        [nan, nan, nan],\n",
       "        [nan, nan, nan],\n",
       "        [nan, nan, nan]],\n",
       "\n",
       "       [[nan, nan, nan],\n",
       "        [nan, nan, nan],\n",
       "        [nan, nan, nan],\n",
       "        ...,\n",
       "        [nan, nan, nan],\n",
       "        [nan, nan, nan],\n",
       "        [nan, nan, nan]],\n",
       "\n",
       "       [[nan, nan, nan],\n",
       "        [nan, nan, nan],\n",
       "        [nan, nan, nan],\n",
       "        ...,\n",
       "        [nan, nan, nan],\n",
       "        [nan, nan, nan],\n",
       "        [nan, nan, nan]],\n",
       "\n",
       "       ...,\n",
       "\n",
       "       [[nan, nan, nan],\n",
       "        [nan, nan, nan],\n",
       "        [nan, nan, nan],\n",
       "        ...,\n",
       "        [nan, nan, nan],\n",
       "        [nan, nan, nan],\n",
       "        [nan, nan, nan]],\n",
       "\n",
       "       [[nan, nan, nan],\n",
       "        [nan, nan, nan],\n",
       "        [nan, nan, nan],\n",
       "        ...,\n",
       "        [nan, nan, nan],\n",
       "        [nan, nan, nan],\n",
       "        [nan, nan, nan]],\n",
       "\n",
       "       [[nan, nan, nan],\n",
       "        [nan, nan, nan],\n",
       "        [nan, nan, nan],\n",
       "        ...,\n",
       "        [nan, nan, nan],\n",
       "        [nan, nan, nan],\n",
       "        [nan, nan, nan]]], dtype=float32)>"
      ]
     },
     "execution_count": 77,
     "metadata": {},
     "output_type": "execute_result"
    }
   ],
   "source": [
    "crps_lcgev_loss(0, p, 'float32')"
   ]
  },
  {
   "cell_type": "code",
   "execution_count": null,
   "metadata": {},
   "outputs": [],
   "source": []
  }
 ],
 "metadata": {
  "kernelspec": {
   "display_name": "Python 3",
   "language": "python",
   "name": "python3"
  },
  "language_info": {
   "codemirror_mode": {
    "name": "ipython",
    "version": 3
   },
   "file_extension": ".py",
   "mimetype": "text/x-python",
   "name": "python",
   "nbconvert_exporter": "python",
   "pygments_lexer": "ipython3",
   "version": "3.7.4"
  },
  "toc": {
   "base_numbering": 1,
   "nav_menu": {},
   "number_sections": true,
   "sideBar": false,
   "skip_h1_title": true,
   "title_cell": "Table of Contents",
   "title_sidebar": "Contents",
   "toc_cell": false,
   "toc_position": {},
   "toc_section_display": true,
   "toc_window_display": false
  }
 },
 "nbformat": 4,
 "nbformat_minor": 4
}
