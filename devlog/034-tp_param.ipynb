{
 "cells": [
  {
   "cell_type": "code",
   "execution_count": 1,
   "metadata": {},
   "outputs": [],
   "source": [
    "%load_ext autoreload\n",
    "%autoreload 2"
   ]
  },
  {
   "cell_type": "code",
   "execution_count": 100,
   "metadata": {},
   "outputs": [],
   "source": [
    "import ast\n",
    "import xarray as xr\n",
    "import matplotlib.pyplot as plt\n",
    "from src.data_generator import *\n",
    "from src.train import *\n",
    "from src.utils import *\n",
    "from src.clr import *\n",
    "from scipy.stats import genextreme\n",
    "from scipy.special import gamma, gammainc"
   ]
  },
  {
   "cell_type": "code",
   "execution_count": 3,
   "metadata": {},
   "outputs": [],
   "source": [
    "os.environ[\"CUDA_VISIBLE_DEVICES\"]=str(1)"
   ]
  },
  {
   "cell_type": "code",
   "execution_count": 4,
   "metadata": {},
   "outputs": [],
   "source": [
    "policy = mixed_precision.Policy('mixed_float16')\n",
    "mixed_precision.set_policy(policy)"
   ]
  },
  {
   "cell_type": "markdown",
   "metadata": {},
   "source": [
    "## GEV"
   ]
  },
  {
   "cell_type": "code",
   "execution_count": 445,
   "metadata": {},
   "outputs": [],
   "source": [
    "x = np.linspace(-4, 4, 100)"
   ]
  },
  {
   "cell_type": "code",
   "execution_count": 135,
   "metadata": {},
   "outputs": [],
   "source": [
    "loc = 0\n",
    "scale = 1\n",
    "shape = -0.5"
   ]
  },
  {
   "cell_type": "code",
   "execution_count": 136,
   "metadata": {},
   "outputs": [],
   "source": [
    "rv = genextreme(shape, loc=loc, scale=scale)"
   ]
  },
  {
   "cell_type": "code",
   "execution_count": 340,
   "metadata": {},
   "outputs": [],
   "source": [
    "def gev_cdf(x, mu, sigma, xi):\n",
    "    x = np.atleast_1d(x)\n",
    "    t = (1+xi*((x-mu)/sigma))**(-1/xi)\n",
    "    g = np.exp(-t)\n",
    "    support = mu - sigma/xi\n",
    "    if xi > 0:\n",
    "        g[x<support] = 0\n",
    "    if xi < 0:\n",
    "        g[x>support] = 1\n",
    "    return g"
   ]
  },
  {
   "cell_type": "code",
   "execution_count": 341,
   "metadata": {},
   "outputs": [],
   "source": [
    "a = 5"
   ]
  },
  {
   "cell_type": "code",
   "execution_count": 342,
   "metadata": {},
   "outputs": [
    {
     "data": {
      "text/plain": [
       "array(5)"
      ]
     },
     "execution_count": 342,
     "metadata": {},
     "output_type": "execute_result"
    }
   ],
   "source": [
    "np.array(a)"
   ]
  },
  {
   "cell_type": "code",
   "execution_count": 362,
   "metadata": {},
   "outputs": [],
   "source": [
    "shape=0.1\n",
    "loc=-2"
   ]
  },
  {
   "cell_type": "code",
   "execution_count": 363,
   "metadata": {},
   "outputs": [
    {
     "data": {
      "text/plain": [
       "[<matplotlib.lines.Line2D at 0x7fa310479950>]"
      ]
     },
     "execution_count": 363,
     "metadata": {},
     "output_type": "execute_result"
    },
    {
     "data": {
      "image/png": "[encoded data removed]",
      "text/plain": [
       "<Figure size 432x288 with 1 Axes>"
      ]
     },
     "metadata": {
      "needs_background": "light"
     },
     "output_type": "display_data"
    }
   ],
   "source": [
    "rv = genextreme(-shape, loc=loc, scale=scale)\n",
    "truth = rv.cdf(x)\n",
    "mine = gev_cdf(x, loc, scale, shape)\n",
    "plt.plot(x, truth)\n",
    "plt.plot(x, mine)"
   ]
  },
  {
   "cell_type": "code",
   "execution_count": 357,
   "metadata": {},
   "outputs": [
    {
     "data": {
      "text/plain": [
       "array([0.36787944])"
      ]
     },
     "execution_count": 357,
     "metadata": {},
     "output_type": "execute_result"
    }
   ],
   "source": [
    "gev_cdf(0, loc, scale, shape)"
   ]
  },
  {
   "cell_type": "code",
   "execution_count": 561,
   "metadata": {},
   "outputs": [],
   "source": [
    "def crps_gev(y, mu, sigma, xi):\n",
    "#     pdb.set_trace()\n",
    "    py = gev_cdf2(y, mu, sigma, xi)\n",
    "    p0 = gev_cdf2(np.array([0.]), mu, sigma, xi)\n",
    "\n",
    "    crps = (mu - y) * (1 - 2*py)\n",
    "    crps += mu * p0**2\n",
    "    crps -= 2*sigma / xi * (\n",
    "        1 - py - gammainc(1-xi, -np.log(py))\n",
    "    )\n",
    "#     pdb.set_trace()\n",
    "\n",
    "    crps += sigma / xi * (\n",
    "        1 - p0**2 - 2**xi * gammainc(1-xi, -2 * np.log(p0))\n",
    "    )\n",
    "    return crps"
   ]
  },
  {
   "cell_type": "code",
   "execution_count": 491,
   "metadata": {},
   "outputs": [],
   "source": [
    "def crps_gev2(y, mu, sigma, xi):\n",
    "    py = gev_cdf(y, mu, sigma, xi)\n",
    "\n",
    "    crps = (mu - y - sigma/xi) * (1 - 2*py)\n",
    "    crps -= sigma / xi * gamma(1-xi)* (\n",
    "        2**xi  - 2*gammainc(1-xi, -np.log(py))\n",
    "    )\n",
    "\n",
    "    return crps"
   ]
  },
  {
   "cell_type": "code",
   "execution_count": 542,
   "metadata": {},
   "outputs": [],
   "source": [
    "def gev_cdf2(y, mu, sigma, xi):\n",
    "    y = (y-mu)/sigma\n",
    "    x = 1 + xi * y\n",
    "    x[x < 0] = 0\n",
    "    x = x**(-1/xi)\n",
    "    return np.where(np.isinf(np.exp(-x)), 0, np.exp(-x))"
   ]
  },
  {
   "cell_type": "code",
   "execution_count": 493,
   "metadata": {},
   "outputs": [],
   "source": [
    "def crps_gev3(y, mu, sigma, xi):\n",
    "    py = gev_cdf(y, mu, sigma, xi)\n",
    "#     print(py)\n",
    "    y = (y-mu)/sigma\n",
    "    x = 1 + xi * y\n",
    "    x[x < 0] = 0\n",
    "    x = x**(-1/xi)\n",
    "    py = np.exp(-x)\n",
    "#     print(py)\n",
    "    #     x = -np.log(gev_cdf(y, mu, sigma, xi))\n",
    "    c1 = 2 * py - 1\n",
    "    out = (y + 1/xi) * c1 + gamma(1 - xi) / xi * \\\n",
    "      (2 * gammainc(1 - xi, -np.log(py)) - 2**xi)\n",
    "\n",
    "    return sigma*out"
   ]
  },
  {
   "cell_type": "code",
   "execution_count": 558,
   "metadata": {},
   "outputs": [],
   "source": [
    "loc=2\n",
    "scale=2\n",
    "shape=0.9"
   ]
  },
  {
   "cell_type": "code",
   "execution_count": 562,
   "metadata": {},
   "outputs": [
    {
     "name": "stderr",
     "output_type": "stream",
     "text": [
      "/home/rasp/miniconda3/lib/python3.7/site-packages/ipykernel_launcher.py:5: RuntimeWarning: divide by zero encountered in power\n",
      "  \"\"\"\n",
      "/home/rasp/miniconda3/lib/python3.7/site-packages/ipykernel_launcher.py:9: RuntimeWarning: divide by zero encountered in log\n",
      "  if __name__ == '__main__':\n",
      "/home/rasp/miniconda3/lib/python3.7/site-packages/ipykernel_launcher.py:3: RuntimeWarning: divide by zero encountered in power\n",
      "  This is separate from the ipykernel package so we can avoid doing imports until\n",
      "/home/rasp/miniconda3/lib/python3.7/site-packages/ipykernel_launcher.py:3: RuntimeWarning: invalid value encountered in power\n",
      "  This is separate from the ipykernel package so we can avoid doing imports until\n",
      "/home/rasp/miniconda3/lib/python3.7/site-packages/ipykernel_launcher.py:6: RuntimeWarning: divide by zero encountered in log\n",
      "  \n",
      "/home/rasp/miniconda3/lib/python3.7/site-packages/ipykernel_launcher.py:7: RuntimeWarning: divide by zero encountered in power\n",
      "  import sys\n",
      "/home/rasp/miniconda3/lib/python3.7/site-packages/ipykernel_launcher.py:13: RuntimeWarning: divide by zero encountered in log\n",
      "  del sys.path[0]\n"
     ]
    },
    {
     "data": {
      "text/plain": [
       "(-0.6144794262147328, 1.1169302427714827)"
      ]
     },
     "execution_count": 562,
     "metadata": {},
     "output_type": "execute_result"
    }
   ],
   "source": [
    "x = np.linspace(-1, 10, 100)\n",
    "c = crps_gev(x, loc, scale, shape)\n",
    "c2 = crps_gev2(x, loc, scale, shape)\n",
    "c3 = crps_gev3(x, loc, scale, shape)\n",
    "min(c), min(c2)\n",
    "# c = gev_cdf(x, loc, scale, -0.5)"
   ]
  },
  {
   "cell_type": "code",
   "execution_count": 563,
   "metadata": {},
   "outputs": [
    {
     "data": {
      "text/plain": [
       "[<matplotlib.lines.Line2D at 0x7fa2900b6090>]"
      ]
     },
     "execution_count": 563,
     "metadata": {},
     "output_type": "execute_result"
    },
    {
     "data": {
      "image/png": "[encoded data removed]",
      "text/plain": [
       "<Figure size 432x288 with 1 Axes>"
      ]
     },
     "metadata": {
      "needs_background": "light"
     },
     "output_type": "display_data"
    }
   ],
   "source": [
    "plt.plot(x, c)\n",
    "plt.plot(x, c2)\n",
    "plt.plot(x, c3)\n",
    "# plt.axhline(0)"
   ]
  },
  {
   "cell_type": "code",
   "execution_count": 506,
   "metadata": {},
   "outputs": [],
   "source": [
    "def lcgev_cdf(x, mu, sigma, xi):\n",
    "    x = np.atleast_1d(x)\n",
    "    t = (1+xi*((x-mu)/sigma))**(-1/xi)\n",
    "    g = np.exp(-t)\n",
    "    support = mu - sigma/xi\n",
    "    if xi > 0:\n",
    "        g[x<support] = 0\n",
    "    if xi < 0:\n",
    "        g[x>support] = 1\n",
    "    g[x<0] = 0\n",
    "    return g"
   ]
  },
  {
   "cell_type": "code",
   "execution_count": 508,
   "metadata": {},
   "outputs": [
    {
     "name": "stderr",
     "output_type": "stream",
     "text": [
      "/home/rasp/miniconda3/lib/python3.7/site-packages/ipykernel_launcher.py:4: RuntimeWarning: overflow encountered in exp\n",
      "  after removing the cwd from sys.path.\n"
     ]
    },
    {
     "data": {
      "text/plain": [
       "[<matplotlib.lines.Line2D at 0x7fa29072d5d0>]"
      ]
     },
     "execution_count": 508,
     "metadata": {},
     "output_type": "execute_result"
    },
    {
     "data": {
      "image/png": "[encoded data removed]",
      "text/plain": [
       "<Figure size 432x288 with 1 Axes>"
      ]
     },
     "metadata": {
      "needs_background": "light"
     },
     "output_type": "display_data"
    }
   ],
   "source": [
    "mine = lcgev_cdf(x, loc, 0.001, shape)\n",
    "plt.plot(x, mine)"
   ]
  },
  {
   "cell_type": "code",
   "execution_count": 471,
   "metadata": {},
   "outputs": [],
   "source": [
    "def crps_lcgev(y, mu, sigma, xi):\n",
    "    py = gev_cdf(y, mu, sigma, xi)\n",
    "    p0 = gev_cdf(0, mu, sigma, xi)\n",
    "\n",
    "    crps = (mu - y) * (1 - 2*py)\n",
    "    crps += mu * p0**2\n",
    "    crps -= 2*sigma / xi * (\n",
    "        1 - py - gammainc(1-xi, -np.log(py))\n",
    "    )\n",
    "#     pdb.set_trace()\n",
    "\n",
    "    crps += sigma / xi * (\n",
    "        1 - p0**2 - 2**xi * gammainc(1-xi, -2 * np.log(p0))\n",
    "    )\n",
    "    return crps"
   ]
  },
  {
   "cell_type": "code",
   "execution_count": 477,
   "metadata": {},
   "outputs": [],
   "source": [
    "x = np.linspace(0, 10, 100)"
   ]
  },
  {
   "cell_type": "code",
   "execution_count": 484,
   "metadata": {},
   "outputs": [
    {
     "name": "stderr",
     "output_type": "stream",
     "text": [
      "/home/rasp/miniconda3/lib/python3.7/site-packages/ipykernel_launcher.py:8: RuntimeWarning: divide by zero encountered in log\n",
      "  \n",
      "/home/rasp/miniconda3/lib/python3.7/site-packages/ipykernel_launcher.py:13: RuntimeWarning: divide by zero encountered in log\n",
      "  del sys.path[0]\n"
     ]
    }
   ],
   "source": [
    "c = crps_lcgev(x, 5, scale, 1)\n",
    "# c = gev_cdf(x, loc, scale, -0.5)"
   ]
  },
  {
   "cell_type": "code",
   "execution_count": 485,
   "metadata": {},
   "outputs": [
    {
     "data": {
      "text/plain": [
       "-0.371184114821942"
      ]
     },
     "execution_count": 485,
     "metadata": {},
     "output_type": "execute_result"
    }
   ],
   "source": [
    "np.min(c)"
   ]
  },
  {
   "cell_type": "code",
   "execution_count": 486,
   "metadata": {},
   "outputs": [
    {
     "data": {
      "text/plain": [
       "[<matplotlib.lines.Line2D at 0x7fa29826fa50>]"
      ]
     },
     "execution_count": 486,
     "metadata": {},
     "output_type": "execute_result"
    },
    {
     "data": {
      "image/png": "[encoded data removed]",
      "text/plain": [
       "<Figure size 432x288 with 1 Axes>"
      ]
     },
     "metadata": {
      "needs_background": "light"
     },
     "output_type": "display_data"
    }
   ],
   "source": [
    "plt.plot(x, c)"
   ]
  },
  {
   "cell_type": "code",
   "execution_count": 297,
   "metadata": {},
   "outputs": [
    {
     "name": "stderr",
     "output_type": "stream",
     "text": [
      "/home/rasp/miniconda3/lib/python3.7/site-packages/ipykernel_launcher.py:7: RuntimeWarning: divide by zero encountered in log\n",
      "  import sys\n"
     ]
    },
    {
     "data": {
      "text/plain": [
       "[<matplotlib.lines.Line2D at 0x7fa310498350>]"
      ]
     },
     "execution_count": 297,
     "metadata": {},
     "output_type": "execute_result"
    },
    {
     "data": {
      "image/png": "[encoded data removed]",
      "text/plain": [
       "<Figure size 432x288 with 1 Axes>"
      ]
     },
     "metadata": {
      "needs_background": "light"
     },
     "output_type": "display_data"
    }
   ],
   "source": [
    "plt.plot(x, crps_gev(x, 0.7256, 1.024 , 1))"
   ]
  },
  {
   "cell_type": "markdown",
   "metadata": {},
   "source": [
    "## Loss function"
   ]
  },
  {
   "cell_type": "code",
   "execution_count": 186,
   "metadata": {},
   "outputs": [],
   "source": [
    "def lcgev_cdf_tf(x, mu, sigma, xi):\n",
    "    t = (1+xi*((x-mu)/sigma))**(-1/xi)\n",
    "    g = tf.exp(-t)\n",
    "    support = mu - sigma/xi\n",
    "    if xi > 0:\n",
    "        g = tf.where(x<support, 0, g)\n",
    "#         g[x<support] = 0\n",
    "    if xi < 0:\n",
    "        g = tf.where(x>support, 1, g)\n",
    "#         g[x>support] = 1\n",
    "#     g[x<0] = 0\n",
    "    g = tf.where(x<0, 0, g)\n",
    "    return g"
   ]
  },
  {
   "cell_type": "code",
   "execution_count": 262,
   "metadata": {},
   "outputs": [],
   "source": [
    "def crps_lcgev_tf(y, mu, sigma, xi):\n",
    "    py = lcgev_cdf_tf(y, mu, sigma, xi)\n",
    "    p0 = lcgev_cdf_tf(0, mu, sigma, xi)\n",
    "\n",
    "    crps = (mu - y) * (1 - 2*py)\n",
    "    crps += mu * p0**2\n",
    "    crps -= 2*sigma / xi * (\n",
    "        1 - py - tf.cast(tf.math.igamma(1-tf.cast(xi, 'float64'), -tf.math.log(tf.cast(py, 'float64'))), 'float16')\n",
    "    )\n",
    "#     pdb.set_trace()\n",
    "\n",
    "    crps += sigma / xi * (\n",
    "        1 - p0**2 - 2**xi * tf.cast(tf.math.igamma(1-tf.cast(xi, 'float64'), -2 * tf.math.log(tf.cast(p0, 'float64'))), 'float16')\n",
    "    )\n",
    "    return crps"
   ]
  },
  {
   "cell_type": "code",
   "execution_count": 263,
   "metadata": {},
   "outputs": [],
   "source": [
    "mu = tf.Variable(np.array([0.1]))\n",
    "sigma = tf.Variable(np.array([1.]))\n",
    "xi = tf.Variable(np.array([-0.5]))\n",
    "y = np.array([0.5])"
   ]
  },
  {
   "cell_type": "code",
   "execution_count": 264,
   "metadata": {},
   "outputs": [
    {
     "ename": "InvalidArgumentError",
     "evalue": "cannot compute Sub as input #1(zero-based) was expected to be a double tensor but is a half tensor [Op:Sub]",
     "output_type": "error",
     "traceback": [
      "\u001b[0;31m---------------------------------------------------------------------------\u001b[0m",
      "\u001b[0;31mInvalidArgumentError\u001b[0m                      Traceback (most recent call last)",
      "\u001b[0;32m<ipython-input-264-6b070630b05a>\u001b[0m in \u001b[0;36m<module>\u001b[0;34m\u001b[0m\n\u001b[0;32m----> 1\u001b[0;31m \u001b[0mcrps_lcgev_tf\u001b[0m\u001b[0;34m(\u001b[0m\u001b[0my\u001b[0m\u001b[0;34m,\u001b[0m \u001b[0mmu\u001b[0m\u001b[0;34m,\u001b[0m \u001b[0msigma\u001b[0m\u001b[0;34m,\u001b[0m \u001b[0mxi\u001b[0m\u001b[0;34m)\u001b[0m\u001b[0;34m\u001b[0m\u001b[0;34m\u001b[0m\u001b[0m\n\u001b[0m",
      "\u001b[0;32m<ipython-input-262-8727cfa4f014>\u001b[0m in \u001b[0;36mcrps_lcgev_tf\u001b[0;34m(y, mu, sigma, xi)\u001b[0m\n\u001b[1;32m      6\u001b[0m     \u001b[0mcrps\u001b[0m \u001b[0;34m+=\u001b[0m \u001b[0mmu\u001b[0m \u001b[0;34m*\u001b[0m \u001b[0mp0\u001b[0m\u001b[0;34m**\u001b[0m\u001b[0;36m2\u001b[0m\u001b[0;34m\u001b[0m\u001b[0;34m\u001b[0m\u001b[0m\n\u001b[1;32m      7\u001b[0m     crps -= 2*sigma / xi * (\n\u001b[0;32m----> 8\u001b[0;31m         \u001b[0;36m1\u001b[0m \u001b[0;34m-\u001b[0m \u001b[0mpy\u001b[0m \u001b[0;34m-\u001b[0m \u001b[0mtf\u001b[0m\u001b[0;34m.\u001b[0m\u001b[0mcast\u001b[0m\u001b[0;34m(\u001b[0m\u001b[0mtf\u001b[0m\u001b[0;34m.\u001b[0m\u001b[0mmath\u001b[0m\u001b[0;34m.\u001b[0m\u001b[0migamma\u001b[0m\u001b[0;34m(\u001b[0m\u001b[0;36m1\u001b[0m\u001b[0;34m-\u001b[0m\u001b[0mtf\u001b[0m\u001b[0;34m.\u001b[0m\u001b[0mcast\u001b[0m\u001b[0;34m(\u001b[0m\u001b[0mxi\u001b[0m\u001b[0;34m,\u001b[0m \u001b[0;34m'float64'\u001b[0m\u001b[0;34m)\u001b[0m\u001b[0;34m,\u001b[0m \u001b[0;34m-\u001b[0m\u001b[0mtf\u001b[0m\u001b[0;34m.\u001b[0m\u001b[0mmath\u001b[0m\u001b[0;34m.\u001b[0m\u001b[0mlog\u001b[0m\u001b[0;34m(\u001b[0m\u001b[0mtf\u001b[0m\u001b[0;34m.\u001b[0m\u001b[0mcast\u001b[0m\u001b[0;34m(\u001b[0m\u001b[0mpy\u001b[0m\u001b[0;34m,\u001b[0m \u001b[0;34m'float64'\u001b[0m\u001b[0;34m)\u001b[0m\u001b[0;34m)\u001b[0m\u001b[0;34m)\u001b[0m\u001b[0;34m,\u001b[0m \u001b[0;34m'float16'\u001b[0m\u001b[0;34m)\u001b[0m\u001b[0;34m\u001b[0m\u001b[0;34m\u001b[0m\u001b[0m\n\u001b[0m\u001b[1;32m      9\u001b[0m     )\n\u001b[1;32m     10\u001b[0m \u001b[0;31m#     pdb.set_trace()\u001b[0m\u001b[0;34m\u001b[0m\u001b[0;34m\u001b[0m\u001b[0;34m\u001b[0m\u001b[0m\n",
      "\u001b[0;32m~/miniconda3/lib/python3.7/site-packages/tensorflow/python/ops/math_ops.py\u001b[0m in \u001b[0;36mbinary_op_wrapper\u001b[0;34m(x, y)\u001b[0m\n\u001b[1;32m    982\u001b[0m     \u001b[0;32mwith\u001b[0m \u001b[0mops\u001b[0m\u001b[0;34m.\u001b[0m\u001b[0mname_scope\u001b[0m\u001b[0;34m(\u001b[0m\u001b[0;32mNone\u001b[0m\u001b[0;34m,\u001b[0m \u001b[0mop_name\u001b[0m\u001b[0;34m,\u001b[0m \u001b[0;34m[\u001b[0m\u001b[0mx\u001b[0m\u001b[0;34m,\u001b[0m \u001b[0my\u001b[0m\u001b[0;34m]\u001b[0m\u001b[0;34m)\u001b[0m \u001b[0;32mas\u001b[0m \u001b[0mname\u001b[0m\u001b[0;34m:\u001b[0m\u001b[0;34m\u001b[0m\u001b[0;34m\u001b[0m\u001b[0m\n\u001b[1;32m    983\u001b[0m       \u001b[0;32mif\u001b[0m \u001b[0misinstance\u001b[0m\u001b[0;34m(\u001b[0m\u001b[0mx\u001b[0m\u001b[0;34m,\u001b[0m \u001b[0mops\u001b[0m\u001b[0;34m.\u001b[0m\u001b[0mTensor\u001b[0m\u001b[0;34m)\u001b[0m \u001b[0;32mand\u001b[0m \u001b[0misinstance\u001b[0m\u001b[0;34m(\u001b[0m\u001b[0my\u001b[0m\u001b[0;34m,\u001b[0m \u001b[0mops\u001b[0m\u001b[0;34m.\u001b[0m\u001b[0mTensor\u001b[0m\u001b[0;34m)\u001b[0m\u001b[0;34m:\u001b[0m\u001b[0;34m\u001b[0m\u001b[0;34m\u001b[0m\u001b[0m\n\u001b[0;32m--> 984\u001b[0;31m         \u001b[0;32mreturn\u001b[0m \u001b[0mfunc\u001b[0m\u001b[0;34m(\u001b[0m\u001b[0mx\u001b[0m\u001b[0;34m,\u001b[0m \u001b[0my\u001b[0m\u001b[0;34m,\u001b[0m \u001b[0mname\u001b[0m\u001b[0;34m=\u001b[0m\u001b[0mname\u001b[0m\u001b[0;34m)\u001b[0m\u001b[0;34m\u001b[0m\u001b[0;34m\u001b[0m\u001b[0m\n\u001b[0m\u001b[1;32m    985\u001b[0m       \u001b[0;32melif\u001b[0m \u001b[0;32mnot\u001b[0m \u001b[0misinstance\u001b[0m\u001b[0;34m(\u001b[0m\u001b[0my\u001b[0m\u001b[0;34m,\u001b[0m \u001b[0msparse_tensor\u001b[0m\u001b[0;34m.\u001b[0m\u001b[0mSparseTensor\u001b[0m\u001b[0;34m)\u001b[0m\u001b[0;34m:\u001b[0m\u001b[0;34m\u001b[0m\u001b[0;34m\u001b[0m\u001b[0m\n\u001b[1;32m    986\u001b[0m         \u001b[0;32mtry\u001b[0m\u001b[0;34m:\u001b[0m\u001b[0;34m\u001b[0m\u001b[0;34m\u001b[0m\u001b[0m\n",
      "\u001b[0;32m~/miniconda3/lib/python3.7/site-packages/tensorflow/python/ops/gen_math_ops.py\u001b[0m in \u001b[0;36msub\u001b[0;34m(x, y, name)\u001b[0m\n\u001b[1;32m  10098\u001b[0m         \u001b[0;32mpass\u001b[0m  \u001b[0;31m# Add nodes to the TensorFlow graph.\u001b[0m\u001b[0;34m\u001b[0m\u001b[0;34m\u001b[0m\u001b[0m\n\u001b[1;32m  10099\u001b[0m     \u001b[0;32mexcept\u001b[0m \u001b[0m_core\u001b[0m\u001b[0;34m.\u001b[0m\u001b[0m_NotOkStatusException\u001b[0m \u001b[0;32mas\u001b[0m \u001b[0me\u001b[0m\u001b[0;34m:\u001b[0m\u001b[0;34m\u001b[0m\u001b[0;34m\u001b[0m\u001b[0m\n\u001b[0;32m> 10100\u001b[0;31m       \u001b[0m_ops\u001b[0m\u001b[0;34m.\u001b[0m\u001b[0mraise_from_not_ok_status\u001b[0m\u001b[0;34m(\u001b[0m\u001b[0me\u001b[0m\u001b[0;34m,\u001b[0m \u001b[0mname\u001b[0m\u001b[0;34m)\u001b[0m\u001b[0;34m\u001b[0m\u001b[0;34m\u001b[0m\u001b[0m\n\u001b[0m\u001b[1;32m  10101\u001b[0m   \u001b[0;31m# Add nodes to the TensorFlow graph.\u001b[0m\u001b[0;34m\u001b[0m\u001b[0;34m\u001b[0m\u001b[0;34m\u001b[0m\u001b[0m\n\u001b[1;32m  10102\u001b[0m   _, _, _op, _outputs = _op_def_library._apply_op_helper(\n",
      "\u001b[0;32m~/miniconda3/lib/python3.7/site-packages/tensorflow/python/framework/ops.py\u001b[0m in \u001b[0;36mraise_from_not_ok_status\u001b[0;34m(e, name)\u001b[0m\n\u001b[1;32m   6651\u001b[0m   \u001b[0mmessage\u001b[0m \u001b[0;34m=\u001b[0m \u001b[0me\u001b[0m\u001b[0;34m.\u001b[0m\u001b[0mmessage\u001b[0m \u001b[0;34m+\u001b[0m \u001b[0;34m(\u001b[0m\u001b[0;34m\" name: \"\u001b[0m \u001b[0;34m+\u001b[0m \u001b[0mname\u001b[0m \u001b[0;32mif\u001b[0m \u001b[0mname\u001b[0m \u001b[0;32mis\u001b[0m \u001b[0;32mnot\u001b[0m \u001b[0;32mNone\u001b[0m \u001b[0;32melse\u001b[0m \u001b[0;34m\"\"\u001b[0m\u001b[0;34m)\u001b[0m\u001b[0;34m\u001b[0m\u001b[0;34m\u001b[0m\u001b[0m\n\u001b[1;32m   6652\u001b[0m   \u001b[0;31m# pylint: disable=protected-access\u001b[0m\u001b[0;34m\u001b[0m\u001b[0;34m\u001b[0m\u001b[0;34m\u001b[0m\u001b[0m\n\u001b[0;32m-> 6653\u001b[0;31m   \u001b[0msix\u001b[0m\u001b[0;34m.\u001b[0m\u001b[0mraise_from\u001b[0m\u001b[0;34m(\u001b[0m\u001b[0mcore\u001b[0m\u001b[0;34m.\u001b[0m\u001b[0m_status_to_exception\u001b[0m\u001b[0;34m(\u001b[0m\u001b[0me\u001b[0m\u001b[0;34m.\u001b[0m\u001b[0mcode\u001b[0m\u001b[0;34m,\u001b[0m \u001b[0mmessage\u001b[0m\u001b[0;34m)\u001b[0m\u001b[0;34m,\u001b[0m \u001b[0;32mNone\u001b[0m\u001b[0;34m)\u001b[0m\u001b[0;34m\u001b[0m\u001b[0;34m\u001b[0m\u001b[0m\n\u001b[0m\u001b[1;32m   6654\u001b[0m   \u001b[0;31m# pylint: enable=protected-access\u001b[0m\u001b[0;34m\u001b[0m\u001b[0;34m\u001b[0m\u001b[0;34m\u001b[0m\u001b[0m\n\u001b[1;32m   6655\u001b[0m \u001b[0;34m\u001b[0m\u001b[0m\n",
      "\u001b[0;32m~/miniconda3/lib/python3.7/site-packages/six.py\u001b[0m in \u001b[0;36mraise_from\u001b[0;34m(value, from_value)\u001b[0m\n",
      "\u001b[0;31mInvalidArgumentError\u001b[0m: cannot compute Sub as input #1(zero-based) was expected to be a double tensor but is a half tensor [Op:Sub]"
     ]
    }
   ],
   "source": [
    "crps_lcgev_tf(y, mu, sigma, xi)"
   ]
  },
  {
   "cell_type": "code",
   "execution_count": 240,
   "metadata": {},
   "outputs": [
    {
     "data": {
      "text/plain": [
       "<tf.Tensor: shape=(1,), dtype=float64, numpy=array([5.])>"
      ]
     },
     "execution_count": 240,
     "metadata": {},
     "output_type": "execute_result"
    }
   ],
   "source": [
    "tf.constant(np.array([5.]))"
   ]
  },
  {
   "cell_type": "code",
   "execution_count": 239,
   "metadata": {},
   "outputs": [
    {
     "data": {
      "text/plain": [
       "<tf.Tensor: shape=(1,), dtype=float64, numpy=array([0.00365985])>"
      ]
     },
     "execution_count": 239,
     "metadata": {},
     "output_type": "execute_result"
    }
   ],
   "source": [
    "tf.math.igamma(tf.constant(np.array([5.])), 1.)"
   ]
  },
  {
   "cell_type": "code",
   "execution_count": 225,
   "metadata": {},
   "outputs": [
    {
     "name": "stdout",
     "output_type": "stream",
     "text": [
      "> \u001b[0;32m<string>\u001b[0m(3)\u001b[0;36mraise_from\u001b[0;34m()\u001b[0m\n",
      "\n",
      "ipdb> u\n",
      "> \u001b[0;32m/home/rasp/miniconda3/lib/python3.7/site-packages/tensorflow/python/framework/ops.py\u001b[0m(6653)\u001b[0;36mraise_from_not_ok_status\u001b[0;34m()\u001b[0m\n",
      "\u001b[0;32m   6651 \u001b[0;31m  \u001b[0mmessage\u001b[0m \u001b[0;34m=\u001b[0m \u001b[0me\u001b[0m\u001b[0;34m.\u001b[0m\u001b[0mmessage\u001b[0m \u001b[0;34m+\u001b[0m \u001b[0;34m(\u001b[0m\u001b[0;34m\" name: \"\u001b[0m \u001b[0;34m+\u001b[0m \u001b[0mname\u001b[0m \u001b[0;32mif\u001b[0m \u001b[0mname\u001b[0m \u001b[0;32mis\u001b[0m \u001b[0;32mnot\u001b[0m \u001b[0;32mNone\u001b[0m \u001b[0;32melse\u001b[0m \u001b[0;34m\"\"\u001b[0m\u001b[0;34m)\u001b[0m\u001b[0;34m\u001b[0m\u001b[0;34m\u001b[0m\u001b[0m\n",
      "\u001b[0m\u001b[0;32m   6652 \u001b[0;31m  \u001b[0;31m# pylint: disable=protected-access\u001b[0m\u001b[0;34m\u001b[0m\u001b[0;34m\u001b[0m\u001b[0;34m\u001b[0m\u001b[0m\n",
      "\u001b[0m\u001b[0;32m-> 6653 \u001b[0;31m  \u001b[0msix\u001b[0m\u001b[0;34m.\u001b[0m\u001b[0mraise_from\u001b[0m\u001b[0;34m(\u001b[0m\u001b[0mcore\u001b[0m\u001b[0;34m.\u001b[0m\u001b[0m_status_to_exception\u001b[0m\u001b[0;34m(\u001b[0m\u001b[0me\u001b[0m\u001b[0;34m.\u001b[0m\u001b[0mcode\u001b[0m\u001b[0;34m,\u001b[0m \u001b[0mmessage\u001b[0m\u001b[0;34m)\u001b[0m\u001b[0;34m,\u001b[0m \u001b[0;32mNone\u001b[0m\u001b[0;34m)\u001b[0m\u001b[0;34m\u001b[0m\u001b[0;34m\u001b[0m\u001b[0m\n",
      "\u001b[0m\u001b[0;32m   6654 \u001b[0;31m  \u001b[0;31m# pylint: enable=protected-access\u001b[0m\u001b[0;34m\u001b[0m\u001b[0;34m\u001b[0m\u001b[0;34m\u001b[0m\u001b[0m\n",
      "\u001b[0m\u001b[0;32m   6655 \u001b[0;31m\u001b[0;34m\u001b[0m\u001b[0m\n",
      "\u001b[0m\n",
      "ipdb> u\n",
      "> \u001b[0;32m/home/rasp/miniconda3/lib/python3.7/site-packages/tensorflow/python/ops/gen_math_ops.py\u001b[0m(4220)\u001b[0;36migamma\u001b[0;34m()\u001b[0m\n",
      "\u001b[0;32m   4218 \u001b[0;31m        \u001b[0;32mraise\u001b[0m\u001b[0;34m\u001b[0m\u001b[0;34m\u001b[0m\u001b[0m\n",
      "\u001b[0m\u001b[0;32m   4219 \u001b[0;31m    \u001b[0;32mexcept\u001b[0m \u001b[0m_core\u001b[0m\u001b[0;34m.\u001b[0m\u001b[0m_NotOkStatusException\u001b[0m \u001b[0;32mas\u001b[0m \u001b[0me\u001b[0m\u001b[0;34m:\u001b[0m\u001b[0;34m\u001b[0m\u001b[0;34m\u001b[0m\u001b[0m\n",
      "\u001b[0m\u001b[0;32m-> 4220 \u001b[0;31m      \u001b[0m_ops\u001b[0m\u001b[0;34m.\u001b[0m\u001b[0mraise_from_not_ok_status\u001b[0m\u001b[0;34m(\u001b[0m\u001b[0me\u001b[0m\u001b[0;34m,\u001b[0m \u001b[0mname\u001b[0m\u001b[0;34m)\u001b[0m\u001b[0;34m\u001b[0m\u001b[0;34m\u001b[0m\u001b[0m\n",
      "\u001b[0m\u001b[0;32m   4221 \u001b[0;31m  \u001b[0;31m# Add nodes to the TensorFlow graph.\u001b[0m\u001b[0;34m\u001b[0m\u001b[0;34m\u001b[0m\u001b[0;34m\u001b[0m\u001b[0m\n",
      "\u001b[0m\u001b[0;32m   4222 \u001b[0;31m  \u001b[0;32mtry\u001b[0m\u001b[0;34m:\u001b[0m\u001b[0;34m\u001b[0m\u001b[0;34m\u001b[0m\u001b[0m\n",
      "\u001b[0m\n",
      "ipdb> u\n",
      "> \u001b[0;32m<ipython-input-220-9adfed58c1db>\u001b[0m(8)\u001b[0;36mcrps_lcgev_tf\u001b[0;34m()\u001b[0m\n",
      "\u001b[0;32m      6 \u001b[0;31m    \u001b[0mcrps\u001b[0m \u001b[0;34m+=\u001b[0m \u001b[0mmu\u001b[0m \u001b[0;34m*\u001b[0m \u001b[0mp0\u001b[0m\u001b[0;34m**\u001b[0m\u001b[0;36m2\u001b[0m\u001b[0;34m\u001b[0m\u001b[0;34m\u001b[0m\u001b[0m\n",
      "\u001b[0m\u001b[0;32m      7 \u001b[0;31m    crps -= 2*sigma / xi * (\n",
      "\u001b[0m\u001b[0;32m----> 8 \u001b[0;31m        \u001b[0;36m1\u001b[0m \u001b[0;34m-\u001b[0m \u001b[0mpy\u001b[0m \u001b[0;34m-\u001b[0m \u001b[0mtf\u001b[0m\u001b[0;34m.\u001b[0m\u001b[0mmath\u001b[0m\u001b[0;34m.\u001b[0m\u001b[0migamma\u001b[0m\u001b[0;34m(\u001b[0m\u001b[0;36m1\u001b[0m\u001b[0;34m-\u001b[0m\u001b[0mtf\u001b[0m\u001b[0;34m.\u001b[0m\u001b[0mcast\u001b[0m\u001b[0;34m(\u001b[0m\u001b[0mxi\u001b[0m\u001b[0;34m,\u001b[0m \u001b[0mtf\u001b[0m\u001b[0;34m.\u001b[0m\u001b[0mfloat32\u001b[0m\u001b[0;34m)\u001b[0m\u001b[0;34m,\u001b[0m \u001b[0;34m-\u001b[0m\u001b[0mtf\u001b[0m\u001b[0;34m.\u001b[0m\u001b[0mmath\u001b[0m\u001b[0;34m.\u001b[0m\u001b[0mlog\u001b[0m\u001b[0;34m(\u001b[0m\u001b[0mpy\u001b[0m\u001b[0;34m)\u001b[0m\u001b[0;34m)\u001b[0m\u001b[0;34m\u001b[0m\u001b[0;34m\u001b[0m\u001b[0m\n",
      "\u001b[0m\u001b[0;32m      9 \u001b[0;31m    )\n",
      "\u001b[0m\u001b[0;32m     10 \u001b[0;31m\u001b[0;31m#     pdb.set_trace()\u001b[0m\u001b[0;34m\u001b[0m\u001b[0;34m\u001b[0m\u001b[0;34m\u001b[0m\u001b[0m\n",
      "\u001b[0m\n",
      "ipdb> 1-tf.cast(xi, tf.float32)\n",
      "<tf.Tensor: shape=(1,), dtype=float32, numpy=array([1.5], dtype=float32)>\n",
      "ipdb> xi\n",
      "<tf.Variable 'Variable:0' shape=(1,) dtype=float64, numpy=array([-0.5])>\n",
      "ipdb> tf.cast(xi, tf.float32)\n",
      "<tf.Tensor: shape=(1,), dtype=float32, numpy=array([-0.5], dtype=float32)>\n",
      "ipdb> q\n"
     ]
    }
   ],
   "source": [
    "tf.cast()"
   ]
  },
  {
   "cell_type": "code",
   "execution_count": 194,
   "metadata": {},
   "outputs": [
    {
     "data": {
      "text/plain": [
       "array([0.18217712])"
      ]
     },
     "execution_count": 194,
     "metadata": {},
     "output_type": "execute_result"
    }
   ],
   "source": [
    "crps_lcgev(0.5, 0.1, 1, -0.5)"
   ]
  },
  {
   "cell_type": "code",
   "execution_count": 204,
   "metadata": {},
   "outputs": [],
   "source": [
    "def crps_lcgev_loss(y_true, y_pred):\n",
    "    mu, sigma, xi = y_pred[:, 0], y_pred[:, 1], y_pred[:, 2]\n",
    "    sigma = tf.nn.relu(sigma)\n",
    "    return crps_lcgev_tf(y_true, mu, sigma, xi)"
   ]
  },
  {
   "cell_type": "markdown",
   "metadata": {},
   "source": [
    "## Synthetic data"
   ]
  },
  {
   "cell_type": "code",
   "execution_count": 265,
   "metadata": {},
   "outputs": [],
   "source": [
    "X = np.random.rand(1000).astype('float32')\n",
    "y = np.maximum(X + np.random.rand(1000)/10, 0).astype('float32')"
   ]
  },
  {
   "cell_type": "code",
   "execution_count": 266,
   "metadata": {},
   "outputs": [
    {
     "data": {
      "text/plain": [
       "((1000,), (1000,))"
      ]
     },
     "execution_count": 266,
     "metadata": {},
     "output_type": "execute_result"
    }
   ],
   "source": [
    "X.shape, y.shape"
   ]
  },
  {
   "cell_type": "code",
   "execution_count": 267,
   "metadata": {},
   "outputs": [],
   "source": [
    "model = tf.keras.models.Sequential([\n",
    "    Dense(3, input_shape=(1,))\n",
    "])"
   ]
  },
  {
   "cell_type": "code",
   "execution_count": 268,
   "metadata": {},
   "outputs": [],
   "source": [
    "model.compile('adam', crps_lcgev_loss, run_eagerly=True)"
   ]
  },
  {
   "cell_type": "code",
   "execution_count": 271,
   "metadata": {},
   "outputs": [
    {
     "name": "stdout",
     "output_type": "stream",
     "text": [
      "Epoch 1/20\n",
      "32/32 [==============================] - 1s 20ms/step - loss: 0.1237\n",
      "Epoch 2/20\n",
      "32/32 [==============================] - 1s 17ms/step - loss: 0.0845\n",
      "Epoch 3/20\n",
      "32/32 [==============================] - 1s 17ms/step - loss: nan\n",
      "Epoch 4/20\n",
      "32/32 [==============================] - 1s 17ms/step - loss: nan\n",
      "Epoch 5/20\n",
      "32/32 [==============================] - 1s 17ms/step - loss: nan\n",
      "Epoch 6/20\n",
      "32/32 [==============================] - 1s 17ms/step - loss: nan\n",
      "Epoch 7/20\n",
      "32/32 [==============================] - 1s 17ms/step - loss: nan\n",
      "Epoch 8/20\n",
      "32/32 [==============================] - 1s 16ms/step - loss: nan\n",
      "Epoch 9/20\n",
      "32/32 [==============================] - 1s 16ms/step - loss: nan\n",
      "Epoch 10/20\n",
      "32/32 [==============================] - 1s 17ms/step - loss: nan\n",
      "Epoch 11/20\n",
      "32/32 [==============================] - 1s 16ms/step - loss: nan\n",
      "Epoch 12/20\n",
      "32/32 [==============================] - 1s 16ms/step - loss: nan\n",
      "Epoch 13/20\n",
      "32/32 [==============================] - 1s 16ms/step - loss: nan\n",
      "Epoch 14/20\n",
      "32/32 [==============================] - 1s 16ms/step - loss: nan\n",
      "Epoch 15/20\n",
      "32/32 [==============================] - 1s 16ms/step - loss: nan\n",
      "Epoch 16/20\n",
      "32/32 [==============================] - 1s 16ms/step - loss: nan\n",
      "Epoch 17/20\n",
      "32/32 [==============================] - 1s 16ms/step - loss: nan\n",
      "Epoch 18/20\n",
      "32/32 [==============================] - 1s 16ms/step - loss: nan\n",
      "Epoch 19/20\n",
      "32/32 [==============================] - 1s 16ms/step - loss: nan\n",
      "Epoch 20/20\n",
      "32/32 [==============================] - 1s 16ms/step - loss: nan\n"
     ]
    },
    {
     "data": {
      "text/plain": [
       "<tensorflow.python.keras.callbacks.History at 0x7fa3687919d0>"
      ]
     },
     "execution_count": 271,
     "metadata": {},
     "output_type": "execute_result"
    }
   ],
   "source": [
    "model.fit(X, y, epochs=20)"
   ]
  },
  {
   "cell_type": "code",
   "execution_count": 274,
   "metadata": {},
   "outputs": [],
   "source": [
    "p = model.predict(X)"
   ]
  },
  {
   "cell_type": "code",
   "execution_count": 275,
   "metadata": {},
   "outputs": [
    {
     "data": {
      "text/plain": [
       "1.171"
      ]
     },
     "execution_count": 275,
     "metadata": {},
     "output_type": "execute_result"
    }
   ],
   "source": [
    "p.max()"
   ]
  },
  {
   "cell_type": "code",
   "execution_count": 276,
   "metadata": {},
   "outputs": [
    {
     "data": {
      "text/plain": [
       "0.1531"
      ]
     },
     "execution_count": 276,
     "metadata": {},
     "output_type": "execute_result"
    }
   ],
   "source": [
    "p.min()"
   ]
  },
  {
   "cell_type": "code",
   "execution_count": 277,
   "metadata": {},
   "outputs": [
    {
     "data": {
      "text/plain": [
       "(1000, 3)"
      ]
     },
     "execution_count": 277,
     "metadata": {},
     "output_type": "execute_result"
    }
   ],
   "source": [
    "p.shape"
   ]
  },
  {
   "cell_type": "code",
   "execution_count": 280,
   "metadata": {},
   "outputs": [
    {
     "data": {
      "text/plain": [
       "array([0.7256, 1.024 , 0.975 ], dtype=float16)"
      ]
     },
     "execution_count": 280,
     "metadata": {},
     "output_type": "execute_result"
    }
   ],
   "source": [
    "p[5]"
   ]
  },
  {
   "cell_type": "code",
   "execution_count": 279,
   "metadata": {},
   "outputs": [
    {
     "data": {
      "text/plain": [
       "<tf.Tensor: shape=(1000,), dtype=float16, numpy=\n",
       "array([-0.188    ,  0.01294  , -0.06104  ,  0.004395 ,        nan,\n",
       "       -0.169    ,  0.02222  ,        nan, -0.04834  ,  0.01172  ,\n",
       "       -0.00293  ,  0.001465 , -0.0698   , -0.004883 ,  0.01294  ,\n",
       "       -0.06104  ,  0.006836 , -0.09326  ,        nan,  0.0166   ,\n",
       "       -0.1201   ,  0.01111  ,  0.004883 ,  0.01538  , -0.1475   ,\n",
       "        0.02185  , -0.02734  ,  0.01465  , -0.0415   , -0.1348   ,\n",
       "        0.02051  ,  0.02051  ,  0.       , -0.0371   , -0.1343   ,\n",
       "        0.       , -0.02246  , -0.00464  ,  0.004883 ,  0.0094   ,\n",
       "       -0.0918   ,        nan,        nan,        nan, -0.03174  ,\n",
       "        0.02124  , -0.0332   ,  0.00806  , -0.01318  ,  0.01672  ,\n",
       "              nan, -0.05957  , -0.10596  , -0.1406   ,  0.000977 ,\n",
       "              nan,  0.001465 , -0.04102  , -0.03955  ,        nan,\n",
       "              nan,  0.01465  ,  0.01062  ,  0.007446 , -0.1426   ,\n",
       "              nan, -0.04932  , -0.1201   ,        nan,  0.01587  ,\n",
       "        0.003906 , -0.02686  ,  0.01428  ,  0.01563  , -0.02588  ,\n",
       "       -0.1577   ,  0.01196  , -0.11865  ,        nan,  0.01196  ,\n",
       "       -0.02734  , -0.1045   , -0.00293  , -0.02002  ,  0.00293  ,\n",
       "        0.00708  ,  0.0155   , -0.0664   ,  0.0188   ,  0.010254 ,\n",
       "        0.011475 , -0.1646   , -0.001953 , -0.021    , -0.02539  ,\n",
       "        0.006104 ,  0.01978  , -0.01953  ,  0.01538  ,  0.013916 ,\n",
       "        0.04016  ,  0.01111  ,  0.00952  ,        nan,  0.01135  ,\n",
       "              nan, -0.0713   ,  0.01343  ,  0.01001  , -0.02539  ,\n",
       "       -0.08936  ,  0.01685  , -0.1221   ,        nan,  0.01709  ,\n",
       "       -0.01709  , -0.0083   , -0.0703   ,  0.01587  , -0.0249   ,\n",
       "       -0.03516  ,        nan, -0.11816  ,  0.007812 , -0.1006   ,\n",
       "       -0.04443  , -0.1216   ,  0.02905  ,        nan,  0.0083   ,\n",
       "        0.01001  , -0.02441  ,  0.007202 , -0.1514   ,  0.01563  ,\n",
       "       -0.1558   , -0.1396   , -0.001953 , -0.1401   , -0.1279   ,\n",
       "              nan,  0.01575  ,  0.01819  , -0.0376   , -0.09863  ,\n",
       "        0.00708  , -0.0381   ,  0.02136  ,  0.012695 ,  0.01135  ,\n",
       "       -0.00806  ,  0.003174 ,  0.010864 , -0.0884   , -0.0659   ,\n",
       "        0.02173  , -0.1299   , -0.01465  , -0.1494   ,        nan,\n",
       "        0.007324 ,        nan, -0.01489  ,  0.01196  ,  0.00806  ,\n",
       "              nan,  0.02417  ,  0.00952  ,  0.003906 , -0.10547  ,\n",
       "              nan,  0.02734  ,  0.01709  ,  0.02612  ,  0.01599  ,\n",
       "        0.007812 ,  0.02637  , -0.0879   ,  0.01001  ,  0.008545 ,\n",
       "        0.005615 ,  0.000977 , -0.0825   , -0.11475  , -0.0002441,\n",
       "       -0.007324 ,  0.01563  ,  0.01318  , -0.004395 ,  0.02783  ,\n",
       "        0.0249   ,  0.02197  , -0.11426  ,  0.01196  ,  0.01099  ,\n",
       "        0.02686  ,        nan,        nan,  0.00928  ,  0.0004883,\n",
       "       -0.01538  ,  0.0004883, -0.02344  , -0.02295  , -0.10254  ,\n",
       "       -0.187    , -0.1216   ,  0.006104 ,  0.00928  ,  0.009766 ,\n",
       "              nan, -0.1284   ,        nan, -0.1392   ,  0.0166   ,\n",
       "       -0.01221  ,  0.007324 ,  0.02759  , -0.03662  ,  0.01563  ,\n",
       "       -0.1172   , -0.0337   ,  0.00757  , -0.1167   , -0.11816  ,\n",
       "        0.002441 ,  0.0083   , -0.0967   , -0.001953 ,  0.004395 ,\n",
       "        0.013916 , -0.063    , -0.0952   ,  0.00586  , -0.2012   ,\n",
       "       -0.1006   , -0.11084  , -0.002441 , -0.04395  , -0.1621   ,\n",
       "       -0.09863  ,  0.013916 ,  0.01001  , -0.006836 ,  0.00708  ,\n",
       "              nan,  0.014404 , -0.0674   , -0.1079   , -0.0547   ,\n",
       "        0.006348 , -0.11865  , -0.1323   , -0.01855  , -0.0635   ,\n",
       "       -0.1646   ,  0.007812 ,        nan, -0.09863  , -0.03613  ,\n",
       "        0.001709 ,  0.01294  , -0.1606   ,        nan,  0.0004883,\n",
       "              nan,  0.00928  , -0.01855  , -0.02734  ,  0.013794 ,\n",
       "       -0.04248  , -0.0801   ,        nan,        nan, -0.11865  ,\n",
       "        0.007324 , -0.1831   ,        nan,  0.0232   ,        nan,\n",
       "        0.0002441, -0.03564  , -0.03516  ,  0.       ,  0.01514  ,\n",
       "       -0.04932  ,  0.003906 ,  0.01611  , -0.0547   ,        nan,\n",
       "       -0.03662  ,  0.01172  , -0.0962   ,  0.02612  ,  0.0216   ,\n",
       "       -0.02637  ,  0.01843  ,  0.01343  ,  0.01184  ,  0.01172  ,\n",
       "       -0.02539  ,        nan,        nan,  0.01355  , -0.00659  ,\n",
       "       -0.021    ,  0.0166   , -0.01074  ,        nan, -0.001953 ,\n",
       "        0.01257  ,  0.01184  ,  0.0105   , -0.00928  , -0.01221  ,\n",
       "       -0.02393  ,  0.0166   ,  0.01758  ,  0.02612  , -0.001221 ,\n",
       "       -0.04248  ,        nan,        nan,        nan, -0.04834  ,\n",
       "        0.00464  ,  0.01587  ,  0.02466  ,  0.01233  , -0.04346  ,\n",
       "        0.02734  ,        nan,  0.01001  ,  0.002686 ,  0.01099  ,\n",
       "       -0.1094   , -0.167    , -0.01465  ,  0.01587  , -0.02734  ,\n",
       "       -0.1289   ,  0.009766 ,  0.01721  ,  0.01318  ,  0.01465  ,\n",
       "        0.01794  ,  0.01465  , -0.05225  ,  0.02124  ,        nan,\n",
       "        0.007324 , -0.0742   ,  0.01294  , -0.005615 , -0.0332   ,\n",
       "        0.02002  ,  0.01563  , -0.1606   , -0.0542   , -0.02637  ,\n",
       "              nan,        nan,  0.01855  ,  0.003418 ,        nan,\n",
       "        0.01855  ,  0.02515  ,        nan,        nan,  0.01782  ,\n",
       "       -0.0703   ,  0.02148  ,  0.       ,  0.01257  , -0.007324 ,\n",
       "       -0.0293   ,  0.01807  , -0.0371   ,  0.006836 , -0.1118   ,\n",
       "        0.01062  , -0.167    , -0.02197  ,  0.02246  , -0.1309   ,\n",
       "        0.01221  ,  0.02148  ,        nan,  0.014404 , -0.004883 ,\n",
       "       -0.05078  , -0.1406   ,  0.003906 ,  0.01306  ,  0.00952  ,\n",
       "        0.011475 ,  0.02307  , -0.03613  ,        nan,  0.01685  ,\n",
       "        0.004395 , -0.1426   , -0.0801   ,  0.01807  ,  0.01709  ,\n",
       "        0.02856  ,  0.014404 ,  0.003662 , -0.0801   , -0.002441 ,\n",
       "       -0.0337   ,  0.01306  ,  0.01526  ,        nan, -0.05664  ,\n",
       "              nan, -0.1172   ,  0.0105   , -0.04736  , -0.003662 ,\n",
       "       -0.03174  ,  0.007324 ,        nan,  0.00952  ,  0.0094   ,\n",
       "        0.01782  ,  0.005127 ,  0.013794 , -0.0249   , -0.03564  ,\n",
       "       -0.04834  ,  0.00903  ,  0.01123  , -0.0864   ,  0.01343  ,\n",
       "        0.01819  ,  0.01172  ,        nan, -0.08984  , -0.04785  ,\n",
       "       -0.1133   ,        nan,  0.01965  , -0.02246  ,  0.02075  ,\n",
       "        0.01953  , -0.1948   , -0.01855  , -0.006348 ,  0.00476  ,\n",
       "              nan, -0.01318  ,        nan,  0.003906 ,  0.0083   ,\n",
       "              nan,  0.011475 , -0.03223  ,  0.013306 , -0.05957  ,\n",
       "       -0.002686 , -0.0962   ,  0.01782  ,  0.01184  , -0.1294   ,\n",
       "       -0.07275  , -0.1758   , -0.1421   , -0.04395  ,  0.00903  ,\n",
       "        0.01123  ,  0.02625  , -0.0659   , -0.144    ,  0.0002441,\n",
       "              nan, -0.00293  , -0.006104 ,  0.0155   ,  0.02197  ,\n",
       "       -0.001953 ,  0.004883 ,  0.001953 , -0.02783  ,  0.01526  ,\n",
       "        0.002686 ,  0.0105   ,  0.012085 ,  0.01184  ,  0.01074  ,\n",
       "        0.013794 , -0.01782  ,  0.01794  , -0.03564  ,  0.02222  ,\n",
       "        0.00464  , -0.1221   , -0.02295  , -0.01001  , -0.06152  ,\n",
       "       -0.02148  ,  0.0083   , -0.001953 ,  0.0105   ,  0.01428  ,\n",
       "        0.02551  ,        nan, -0.02246  , -0.1558   ,  0.00586  ,\n",
       "        0.00708  ,        nan,  0.003174 , -0.04688  , -0.0581   ,\n",
       "       -0.0664   , -0.0454   , -0.1162   ,        nan, -0.01416  ,\n",
       "        0.01282  , -0.03076  , -0.1772   ,  0.02197  ,        nan,\n",
       "       -0.03027  ,  0.01074  , -0.083    , -0.05615  ,  0.0004883,\n",
       "       -0.006104 ,  0.02441  , -0.166    ,        nan, -0.0786   ,\n",
       "        0.01697  ,        nan, -0.03613  ,  0.009766 , -0.04834  ,\n",
       "       -0.0796   ,        nan, -0.1113   ,  0.003418 ,        nan,\n",
       "       -0.002441 ,  0.02002  , -0.0835   , -0.0708   ,        nan,\n",
       "       -0.0083   , -0.01221  , -0.1167   , -0.010254 , -0.00293  ,\n",
       "        0.00952  , -0.006836 ,  0.013306 ,  0.008545 ,        nan,\n",
       "        0.0004883,  0.01367  , -0.03223  ,  0.003418 , -0.1665   ,\n",
       "        0.01416  ,  0.01758  , -0.11523  ,  0.       ,  0.01611  ,\n",
       "        0.01831  ,  0.01196  , -0.0625   ,  0.02686  , -0.03418  ,\n",
       "        0.01306  , -0.0884   ,        nan, -0.002686 , -0.006836 ,\n",
       "       -0.1895   , -0.1528   , -0.1416   ,  0.0004883, -0.09424  ,\n",
       "        0.02393  , -0.03174  ,  0.01489  ,        nan,  0.01636  ,\n",
       "              nan, -0.1436   , -0.1606   ,  0.00586  ,  0.01453  ,\n",
       "        0.0002441,  0.00659  , -0.0635   , -0.02344  , -0.05713  ,\n",
       "       -0.004395 , -0.0928   ,        nan, -0.003906 ,  0.00903  ,\n",
       "              nan,        nan, -0.1626   , -0.003906 , -0.0327   ,\n",
       "       -0.01953  , -0.002441 ,  0.01831  ,  0.004395 ,  0.002441 ,\n",
       "              nan,  0.01196  , -0.1416   , -0.08203  ,  0.00293  ,\n",
       "        0.01318  ,  0.0188   , -0.08154  ,  0.0083   ,  0.02197  ,\n",
       "       -0.1196   ,        nan, -0.1113   , -0.08154  ,  0.0105   ,\n",
       "       -0.1816   , -0.05664  ,  0.012695 ,  0.02954  , -0.003174 ,\n",
       "        0.003174 , -0.08057  , -0.169    ,        nan, -0.0864   ,\n",
       "              nan,  0.01636  , -0.012695 ,        nan,  0.01099  ,\n",
       "       -0.1509   ,  0.01721  , -0.04004  ,        nan,  0.0188   ,\n",
       "        0.010864 ,  0.01111  , -0.1309   ,  0.00537  , -0.1821   ,\n",
       "       -0.003906 , -0.02588  ,  0.01636  ,        nan, -0.05713  ,\n",
       "        0.009766 , -0.0464   ,  0.01245  , -0.00757  ,        nan,\n",
       "        0.012085 ,  0.00879  , -0.014404 , -0.06494  ,  0.01294  ,\n",
       "       -0.002441 ,        nan,  0.00586  ,  0.01831  , -0.09766  ,\n",
       "        0.01453  , -0.0752   ,  0.01563  ,        nan,  0.005127 ,\n",
       "       -0.021    ,  0.00806  ,  0.004395 , -0.1362   ,  0.0166   ,\n",
       "        0.0177   ,  0.003906 ,  0.01001  ,  0.003418 ,  0.001221 ,\n",
       "              nan,  0.007812 ,  0.02026  ,        nan, -0.1089   ,\n",
       "       -0.05762  , -0.0371   ,  0.013916 , -0.01367  ,  0.0105   ,\n",
       "       -0.1289   , -0.10645  , -0.187    , -0.006836 , -0.07275  ,\n",
       "              nan,  0.0105   ,  0.01465  ,        nan,  0.007324 ,\n",
       "        0.01062  ,        nan,  0.007324 , -0.042    ,  0.0227   ,\n",
       "       -0.0166   , -0.002441 ,  0.003174 ,  0.001221 ,  0.011475 ,\n",
       "              nan,        nan, -0.02344  ,  0.003418 , -0.1597   ,\n",
       "       -0.01855  , -0.0007324,  0.01416  , -0.09814  ,  0.00537  ,\n",
       "              nan, -0.01099  ,  0.01904  ,  0.01636  ,        nan,\n",
       "       -0.01318  ,  0.01624  ,  0.01563  ,  0.02832  ,  0.01172  ,\n",
       "       -0.0004883, -0.1675   , -0.0679   , -0.0747   , -0.0864   ,\n",
       "       -0.0376   , -0.06055  , -0.05127  ,  0.02051  , -0.0884   ,\n",
       "        0.01416  , -0.1221   , -0.03906  ,  0.00293  , -0.001953 ,\n",
       "       -0.12305  , -0.001465 , -0.0952   ,  0.001221 , -0.11865  ,\n",
       "       -0.1162   , -0.03857  , -0.02002  ,        nan,  0.013306 ,\n",
       "       -0.03125  ,  0.01758  , -0.01221  ,        nan, -0.1001   ,\n",
       "        0.01685  ,  0.01831  , -0.0337   , -0.05078  ,  0.01538  ,\n",
       "        0.010376 ,  0.013916 ,  0.013916 ,        nan,  0.013306 ,\n",
       "       -0.10547  ,        nan,  0.001465 ,  0.00293  ,  0.001465 ,\n",
       "        0.003174 ,        nan,  0.02466  , -0.0337   ,  0.02234  ,\n",
       "        0.01807  , -0.0835   , -0.1338   ,        nan,  0.014404 ,\n",
       "              nan, -0.1685   ,  0.01343  , -0.03662  ,  0.01074  ,\n",
       "        0.012695 , -0.004883 , -0.03467  ,  0.01416  , -0.02686  ,\n",
       "        0.014404 ,        nan,        nan, -0.001953 , -0.1982   ,\n",
       "        0.006104 ,  0.01416  , -0.02734  ,        nan, -0.08496  ,\n",
       "        0.01489  ,  0.0105   , -0.0747   , -0.00928  ,  0.01343  ,\n",
       "       -0.01123  ,  0.02563  , -0.0928   , -0.0459   , -0.11084  ,\n",
       "       -0.03027  ,  0.01367  , -0.06006  , -0.0669   ,  0.01074  ,\n",
       "        0.012695 , -0.0957   , -0.01685  , -0.01123  , -0.04346  ,\n",
       "        0.00586  , -0.002441 ,  0.01318  ,  0.012695 , -0.0004883,\n",
       "       -0.09766  ,        nan, -0.0781   ,  0.0155   ,  0.007812 ,\n",
       "       -0.1118   , -0.0879   , -0.0415   , -0.1313   ,  0.01465  ,\n",
       "       -0.1768   ,        nan, -0.04443  , -0.1514   ,  0.01489  ,\n",
       "       -0.05078  ,  0.02051  , -0.00537  , -0.03857  , -0.10254  ,\n",
       "        0.03607  , -0.0996   , -0.12256  ,  0.01489  , -0.062    ,\n",
       "        0.003662 , -0.00879  ,  0.000977 , -0.003906 , -0.04297  ,\n",
       "              nan, -0.1172   ,  0.012695 , -0.1128   , -0.0718   ,\n",
       "        0.01434  ,  0.02417  , -0.004395 ,        nan,  0.006348 ,\n",
       "       -0.0869   ,  0.013306 ,  0.010254 ,  0.01355  ,  0.01294  ,\n",
       "       -0.07275  ,  0.02502  ,        nan, -0.021    ,        nan,\n",
       "       -0.006348 ,  0.0083   , -0.1621   ,  0.01074  ,  0.004883 ,\n",
       "       -0.01807  , -0.0654   ,        nan,        nan,        nan,\n",
       "       -0.010254 ,  0.02637  , -0.0923   , -0.02734  ,        nan,\n",
       "        0.03735  , -0.012695 ,        nan, -0.0864   , -0.0415   ,\n",
       "        0.00867  , -0.05664  ,  0.009766 , -0.1211   ,  0.02344  ,\n",
       "       -0.03906  ,        nan, -0.02441  ,        nan,        nan,\n",
       "       -0.10986  ,  0.00647  , -0.01978  ,        nan,  0.02759  ,\n",
       "       -0.0586   ,        nan, -0.1011   , -0.0825   ,        nan,\n",
       "        0.01196  ,        nan,  0.01904  ,        nan, -0.0957   ,\n",
       "        0.01404  , -0.1543   , -0.1504   ,  0.01318  , -0.03418  ,\n",
       "        0.02197  ,  0.01953  ,  0.01953  ,  0.01367  ,  0.002441 ,\n",
       "       -0.0967   , -0.0547   , -0.03027  ,        nan, -0.1177   ,\n",
       "              nan, -0.006836 ,  0.01196  ,  0.01221  ,  0.0227   ,\n",
       "        0.004883 , -0.01758  ,        nan,  0.00891  , -0.0105   ,\n",
       "       -0.0713   ,  0.01794  , -0.0752   ,        nan, -0.08057  ,\n",
       "        0.0155   ,  0.0105   , -0.104    ,  0.01245  , -0.03076  ,\n",
       "        0.01514  , -0.0415   ,  0.00293  ,  0.002197 , -0.04736  ,\n",
       "       -0.01123  ,  0.01367  , -0.1489   , -0.02051  , -0.03223  ,\n",
       "       -0.01978  ,        nan, -0.0166   , -0.02881  ,  0.002441 ,\n",
       "        0.01099  ,        nan, -0.0991   ,  0.002197 ,  0.01367  ,\n",
       "       -0.1455   , -0.1001   ,  0.01172  ,  0.02344  , -0.0757   ,\n",
       "        0.01196  ,  0.00952  , -0.0327   , -0.009766 , -0.05566  ],\n",
       "      dtype=float16)>"
      ]
     },
     "execution_count": 279,
     "metadata": {},
     "output_type": "execute_result"
    }
   ],
   "source": [
    "crps_lcgev_loss(y, p)"
   ]
  },
  {
   "cell_type": "code",
   "execution_count": null,
   "metadata": {},
   "outputs": [],
   "source": []
  }
 ],
 "metadata": {
  "kernelspec": {
   "display_name": "Python 3",
   "language": "python",
   "name": "python3"
  },
  "language_info": {
   "codemirror_mode": {
    "name": "ipython",
    "version": 3
   },
   "file_extension": ".py",
   "mimetype": "text/x-python",
   "name": "python",
   "nbconvert_exporter": "python",
   "pygments_lexer": "ipython3",
   "version": "3.7.4"
  },
  "toc": {
   "base_numbering": 1,
   "nav_menu": {},
   "number_sections": true,
   "sideBar": false,
   "skip_h1_title": true,
   "title_cell": "Table of Contents",
   "title_sidebar": "Contents",
   "toc_cell": false,
   "toc_position": {},
   "toc_section_display": true,
   "toc_window_display": false
  }
 },
 "nbformat": 4,
 "nbformat_minor": 4
}
